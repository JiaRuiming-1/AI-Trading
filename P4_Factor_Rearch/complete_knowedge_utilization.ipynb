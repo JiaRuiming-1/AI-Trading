{
 "cells": [
  {
   "cell_type": "markdown",
   "metadata": {
    "pycharm": {
     "name": "#%% md\n"
    }
   },
   "source": [
    "# Load Data From Tushare\n",
    "We load data from 2018-2021. Due to some constraint of platform, we download thses data year by year and save seperately. After that we process these data."
   ]
  },
  {
   "cell_type": "code",
   "execution_count": null,
   "metadata": {
    "pycharm": {
     "name": "#%%\n"
    }
   },
   "outputs": [],
   "source": [
    "import tushare as ts\n",
    "import pandas as pd\n",
    "import numpy as np\n",
    "\n",
    "print(ts.__version__)"
   ]
  },
  {
   "cell_type": "code",
   "execution_count": null,
   "metadata": {
    "pycharm": {
     "name": "#%%\n"
    }
   },
   "outputs": [],
   "source": [
    "# register token\n",
    "token = '' # your token\n",
    "ts.set_token(token)\n",
    "pro = ts.pro_api()"
   ]
  },
  {
   "cell_type": "code",
   "execution_count": null,
   "metadata": {
    "pycharm": {
     "name": "#%%\n"
    }
   },
   "outputs": [],
   "source": [
    "# got calendar from date range\n",
    "start_date = '20180101'\n",
    "end_date = '20210101'\n",
    "calendar = pro.trade_cal(exchange='SSE', is_open='1', \n",
    "                            start_date=start_date, \n",
    "                            end_date=end_date, \n",
    "                            fields='cal_date')\n",
    "# check all stocks exist in market today\n",
    "stocks = pro.query('stock_basic', exchange='', list_status='L', market = '主板') # 主板/创业板/科创板/CDR/北交所\n",
    "ts_code_list = ','.join(stocks.ts_code.values)\n",
    "print(calendar.shape, stocks.shape)\n",
    "calendar.tail()"
   ]
  },
  {
   "cell_type": "code",
   "execution_count": null,
   "metadata": {
    "pycharm": {
     "name": "#%%\n"
    }
   },
   "outputs": [],
   "source": [
    "# get fundamental data\n",
    "# pick up market cap [5,30] billion\n",
    "base_universe = pro.bak_daily(trade_date='20180102', \n",
    "                   fields='trade_date, ts_code, name, float_mv, total_mv, pe, turn_over, industry')\n",
    "filte_stock = base_universe.loc[(base_universe.total_mv>=50) & (base_universe.total_mv<=300)]\n",
    "filte_stock"
   ]
  },
  {
   "cell_type": "code",
   "execution_count": null,
   "metadata": {
    "pycharm": {
     "name": "#%%\n"
    }
   },
   "outputs": [],
   "source": [
    "from helper import download_helper"
   ]
  },
  {
   "cell_type": "code",
   "execution_count": null,
   "metadata": {
    "pycharm": {
     "name": "#%%\n"
    }
   },
   "outputs": [],
   "source": [
    "# load total stock daily date for one year\n",
    "ts_code_list = filte_stock.ts_code.values\n",
    "all_stocks = download_helper.get_Daily_All(ts, ts_code_list, start_date, end_date)\n",
    "print(all_stocks.shape)\n",
    "all_stocks"
   ]
  },
  {
   "cell_type": "code",
   "execution_count": null,
   "metadata": {
    "pycharm": {
     "name": "#%%\n"
    }
   },
   "outputs": [],
   "source": [
    "# save data\n",
    "universe = all_stocks.drop_duplicates()\n",
    "universe.to_csv(start_date +'-'+ end_date + '.csv')\n",
    "filte_stock.drop_duplicates().to_csv('fundamental_' + start_date +'.csv')"
   ]
  },
  {
   "cell_type": "markdown",
   "metadata": {
    "pycharm": {
     "name": "#%% md\n"
    }
   },
   "source": [
    "# Load Data by File\n",
    "if we load data from saved file. "
   ]
  },
  {
   "cell_type": "code",
   "execution_count": null,
   "metadata": {
    "pycharm": {
     "name": "#%%\n"
    }
   },
   "outputs": [],
   "source": [
    "# load data from csv\n",
    "universe = pd.read_csv('20180101-20210101.csv').iloc[:,1:]\n",
    "fundamental = pd.read_csv('fundamental_20180101.csv').iloc[:,1:]"
   ]
  },
  {
   "cell_type": "markdown",
   "metadata": {
    "pycharm": {
     "name": "#%% md\n"
    }
   },
   "source": [
    "# Process Data\n",
    "1. filter ma_v_120 top 500 stocks\n",
    "2. add 'date' column as datetime type, and deascanding time\n",
    "3. add industry infomation and boll indicator to stock "
   ]
  },
  {
   "cell_type": "code",
   "execution_count": null,
   "metadata": {
    "pycharm": {
     "name": "#%%\n"
    }
   },
   "outputs": [],
   "source": [
    "from helper.factor_helper import IndicatorHelper, AverageByWindow\n",
    "# pick average amount 120 days top 500\n",
    "universe = AverageByWindow(universe).top(500, index='trade_date', ticker_column='ts_code', value_column='ma_v_120')\n",
    "\n",
    "# add bollinger as indicator which will be used as a custom factor later\n",
    "ind_helper = IndicatorHelper(universe)\n",
    "tech_indicator_list = ['boll_ub','boll_lb']\n",
    "universe = ind_helper.add_technical_indicator(tech_indicator_list)\n",
    "# add industry and stock name\n",
    "universe = ind_helper.add_by_basetable('ts_code', fundamental, ['industry', 'name'])"
   ]
  },
  {
   "cell_type": "code",
   "execution_count": null,
   "metadata": {
    "pycharm": {
     "name": "#%%\n"
    }
   },
   "outputs": [],
   "source": [
    "universe"
   ]
  },
  {
   "cell_type": "code",
   "execution_count": null,
   "metadata": {
    "pycharm": {
     "name": "#%%\n"
    }
   },
   "outputs": [],
   "source": [
    "# tmp save\n",
    "save_data = universe.loc[universe.date > pd.to_datetime('2020-01-01')]\n",
    "save_data.\n",
    "#universe.to_csv('tmp_result.csv')"
   ]
  },
  {
   "cell_type": "code",
   "execution_count": null,
   "metadata": {
    "pycharm": {
     "name": "#%%\n"
    }
   },
   "outputs": [],
   "source": [
    "# tmp load\n",
    "import pandas as pd\n",
    "import numpy as np\n",
    "universe = pd.read_csv('tmp_result.csv',keep_date_col=True).iloc[:,1:]\n",
    "universe.date = pd.to_datetime(universe.date)"
   ]
  },
  {
   "cell_type": "code",
   "execution_count": 4,
   "metadata": {},
   "outputs": [
    {
     "data": {
      "text/html": [
       "<div>\n",
       "<style scoped>\n",
       "    .dataframe tbody tr th:only-of-type {\n",
       "        vertical-align: middle;\n",
       "    }\n",
       "\n",
       "    .dataframe tbody tr th {\n",
       "        vertical-align: top;\n",
       "    }\n",
       "\n",
       "    .dataframe thead th {\n",
       "        text-align: right;\n",
       "    }\n",
       "</style>\n",
       "<table border=\"1\" class=\"dataframe\">\n",
       "  <thead>\n",
       "    <tr style=\"text-align: right;\">\n",
       "      <th></th>\n",
       "      <th>ts_code</th>\n",
       "      <th>trade_date</th>\n",
       "      <th>name</th>\n",
       "      <th>turn_over</th>\n",
       "      <th>pe</th>\n",
       "      <th>industry</th>\n",
       "      <th>float_mv</th>\n",
       "      <th>total_mv</th>\n",
       "    </tr>\n",
       "  </thead>\n",
       "  <tbody>\n",
       "    <tr>\n",
       "      <th>3</th>\n",
       "      <td>600903.SH</td>\n",
       "      <td>20180102</td>\n",
       "      <td>贵州燃气</td>\n",
       "      <td>35.95</td>\n",
       "      <td>110.50</td>\n",
       "      <td>供气供热</td>\n",
       "      <td>22.62</td>\n",
       "      <td>150.81</td>\n",
       "    </tr>\n",
       "    <tr>\n",
       "      <th>9</th>\n",
       "      <td>000885.SZ</td>\n",
       "      <td>20180102</td>\n",
       "      <td>同力水泥</td>\n",
       "      <td>4.98</td>\n",
       "      <td>10.71</td>\n",
       "      <td>水泥</td>\n",
       "      <td>72.68</td>\n",
       "      <td>84.53</td>\n",
       "    </tr>\n",
       "    <tr>\n",
       "      <th>12</th>\n",
       "      <td>002372.SZ</td>\n",
       "      <td>20180102</td>\n",
       "      <td>伟星新材</td>\n",
       "      <td>1.75</td>\n",
       "      <td>27.46</td>\n",
       "      <td>其他建材</td>\n",
       "      <td>176.55</td>\n",
       "      <td>199.46</td>\n",
       "    </tr>\n",
       "    <tr>\n",
       "      <th>13</th>\n",
       "      <td>600507.SH</td>\n",
       "      <td>20180102</td>\n",
       "      <td>方大特钢</td>\n",
       "      <td>4.05</td>\n",
       "      <td>9.02</td>\n",
       "      <td>特种钢</td>\n",
       "      <td>185.12</td>\n",
       "      <td>185.12</td>\n",
       "    </tr>\n",
       "    <tr>\n",
       "      <th>14</th>\n",
       "      <td>300735.SZ</td>\n",
       "      <td>20180102</td>\n",
       "      <td>光弘科技</td>\n",
       "      <td>0.02</td>\n",
       "      <td>29.91</td>\n",
       "      <td>通信设备</td>\n",
       "      <td>14.04</td>\n",
       "      <td>56.15</td>\n",
       "    </tr>\n",
       "    <tr>\n",
       "      <th>...</th>\n",
       "      <td>...</td>\n",
       "      <td>...</td>\n",
       "      <td>...</td>\n",
       "      <td>...</td>\n",
       "      <td>...</td>\n",
       "      <td>...</td>\n",
       "      <td>...</td>\n",
       "      <td>...</td>\n",
       "    </tr>\n",
       "    <tr>\n",
       "      <th>3454</th>\n",
       "      <td>600074.SH</td>\n",
       "      <td>20180102</td>\n",
       "      <td>ST保千里</td>\n",
       "      <td>0.00</td>\n",
       "      <td>42.50</td>\n",
       "      <td>电脑设备</td>\n",
       "      <td>95.52</td>\n",
       "      <td>228.67</td>\n",
       "    </tr>\n",
       "    <tr>\n",
       "      <th>3455</th>\n",
       "      <td>600289.SH</td>\n",
       "      <td>20180102</td>\n",
       "      <td>ST信通</td>\n",
       "      <td>0.00</td>\n",
       "      <td>0.00</td>\n",
       "      <td>软件服务</td>\n",
       "      <td>53.42</td>\n",
       "      <td>59.57</td>\n",
       "    </tr>\n",
       "    <tr>\n",
       "      <th>3456</th>\n",
       "      <td>300630.SZ</td>\n",
       "      <td>20180102</td>\n",
       "      <td>普利制药</td>\n",
       "      <td>5.14</td>\n",
       "      <td>109.15</td>\n",
       "      <td>化学制药</td>\n",
       "      <td>22.02</td>\n",
       "      <td>88.08</td>\n",
       "    </tr>\n",
       "    <tr>\n",
       "      <th>3457</th>\n",
       "      <td>002127.SZ</td>\n",
       "      <td>20180102</td>\n",
       "      <td>南极电商</td>\n",
       "      <td>3.07</td>\n",
       "      <td>57.60</td>\n",
       "      <td>互联网</td>\n",
       "      <td>110.37</td>\n",
       "      <td>186.57</td>\n",
       "    </tr>\n",
       "    <tr>\n",
       "      <th>3460</th>\n",
       "      <td>300639.SZ</td>\n",
       "      <td>20180102</td>\n",
       "      <td>凯普生物</td>\n",
       "      <td>6.76</td>\n",
       "      <td>75.02</td>\n",
       "      <td>医疗保健</td>\n",
       "      <td>16.08</td>\n",
       "      <td>65.20</td>\n",
       "    </tr>\n",
       "  </tbody>\n",
       "</table>\n",
       "<p>1857 rows × 8 columns</p>\n",
       "</div>"
      ],
      "text/plain": [
       "        ts_code trade_date   name  turn_over      pe industry  float_mv  \\\n",
       "3     600903.SH   20180102   贵州燃气      35.95  110.50     供气供热     22.62   \n",
       "9     000885.SZ   20180102   同力水泥       4.98   10.71       水泥     72.68   \n",
       "12    002372.SZ   20180102   伟星新材       1.75   27.46     其他建材    176.55   \n",
       "13    600507.SH   20180102   方大特钢       4.05    9.02      特种钢    185.12   \n",
       "14    300735.SZ   20180102   光弘科技       0.02   29.91     通信设备     14.04   \n",
       "...         ...        ...    ...        ...     ...      ...       ...   \n",
       "3454  600074.SH   20180102  ST保千里       0.00   42.50     电脑设备     95.52   \n",
       "3455  600289.SH   20180102   ST信通       0.00    0.00     软件服务     53.42   \n",
       "3456  300630.SZ   20180102   普利制药       5.14  109.15     化学制药     22.02   \n",
       "3457  002127.SZ   20180102   南极电商       3.07   57.60      互联网    110.37   \n",
       "3460  300639.SZ   20180102   凯普生物       6.76   75.02     医疗保健     16.08   \n",
       "\n",
       "      total_mv  \n",
       "3       150.81  \n",
       "9        84.53  \n",
       "12      199.46  \n",
       "13      185.12  \n",
       "14       56.15  \n",
       "...        ...  \n",
       "3454    228.67  \n",
       "3455     59.57  \n",
       "3456     88.08  \n",
       "3457    186.57  \n",
       "3460     65.20  \n",
       "\n",
       "[1857 rows x 8 columns]"
      ]
     },
     "execution_count": 4,
     "metadata": {},
     "output_type": "execute_result"
    }
   ],
   "source": [
    "# get fundamental data\n",
    "# pick up market cap [5,30] billion\n",
    "base_universe = pro.bak_daily(trade_date='20180102', \n",
    "                   fields='trade_date, ts_code, name, float_mv, total_mv, pe, turn_over, industry')\n",
    "filte_stock = base_universe.loc[(base_universe.total_mv>=50) & (base_universe.total_mv<=300)]\n",
    "filte_stock"
   ]
  },
  {
   "cell_type": "code",
   "execution_count": 5,
   "metadata": {},
   "outputs": [],
   "source": [
    "from helper import download_helper"
   ]
  },
  {
   "cell_type": "code",
   "execution_count": 8,
   "metadata": {},
   "outputs": [
    {
     "name": "stderr",
     "output_type": "stream",
     "text": [
      "ticker/tickers: 100%|███████████████████████| 1857/1857 [17:19<00:00,  1.79it/s]"
     ]
    },
    {
     "name": "stdout",
     "output_type": "stream",
     "text": [
      "(1319793, 17)\n"
     ]
    },
    {
     "name": "stderr",
     "output_type": "stream",
     "text": [
      "\n"
     ]
    },
    {
     "data": {
      "text/html": [
       "<div>\n",
       "<style scoped>\n",
       "    .dataframe tbody tr th:only-of-type {\n",
       "        vertical-align: middle;\n",
       "    }\n",
       "\n",
       "    .dataframe tbody tr th {\n",
       "        vertical-align: top;\n",
       "    }\n",
       "\n",
       "    .dataframe thead th {\n",
       "        text-align: right;\n",
       "    }\n",
       "</style>\n",
       "<table border=\"1\" class=\"dataframe\">\n",
       "  <thead>\n",
       "    <tr style=\"text-align: right;\">\n",
       "      <th></th>\n",
       "      <th>ts_code</th>\n",
       "      <th>trade_date</th>\n",
       "      <th>open</th>\n",
       "      <th>high</th>\n",
       "      <th>low</th>\n",
       "      <th>close</th>\n",
       "      <th>pre_close</th>\n",
       "      <th>change</th>\n",
       "      <th>pct_chg</th>\n",
       "      <th>vol</th>\n",
       "      <th>amount</th>\n",
       "      <th>ma10</th>\n",
       "      <th>ma_v_10</th>\n",
       "      <th>ma60</th>\n",
       "      <th>ma_v_60</th>\n",
       "      <th>ma120</th>\n",
       "      <th>ma_v_120</th>\n",
       "    </tr>\n",
       "  </thead>\n",
       "  <tbody>\n",
       "    <tr>\n",
       "      <th>0</th>\n",
       "      <td>600903.SH</td>\n",
       "      <td>20201231</td>\n",
       "      <td>12.8300</td>\n",
       "      <td>13.0500</td>\n",
       "      <td>12.6500</td>\n",
       "      <td>12.7000</td>\n",
       "      <td>13.0000</td>\n",
       "      <td>-0.3000</td>\n",
       "      <td>-2.3077</td>\n",
       "      <td>298018.48</td>\n",
       "      <td>380610.620</td>\n",
       "      <td>13.026</td>\n",
       "      <td>428080.779</td>\n",
       "      <td>12.1060</td>\n",
       "      <td>199368.8255</td>\n",
       "      <td>11.7891</td>\n",
       "      <td>148799.6242</td>\n",
       "    </tr>\n",
       "    <tr>\n",
       "      <th>1</th>\n",
       "      <td>600903.SH</td>\n",
       "      <td>20201230</td>\n",
       "      <td>12.9100</td>\n",
       "      <td>13.3500</td>\n",
       "      <td>12.9100</td>\n",
       "      <td>13.0000</td>\n",
       "      <td>13.2200</td>\n",
       "      <td>-0.2200</td>\n",
       "      <td>-1.6641</td>\n",
       "      <td>335380.15</td>\n",
       "      <td>439698.264</td>\n",
       "      <td>12.913</td>\n",
       "      <td>408187.524</td>\n",
       "      <td>12.0788</td>\n",
       "      <td>195089.4188</td>\n",
       "      <td>11.7739</td>\n",
       "      <td>147809.3177</td>\n",
       "    </tr>\n",
       "    <tr>\n",
       "      <th>2</th>\n",
       "      <td>600903.SH</td>\n",
       "      <td>20201229</td>\n",
       "      <td>13.5500</td>\n",
       "      <td>13.7000</td>\n",
       "      <td>13.0100</td>\n",
       "      <td>13.2200</td>\n",
       "      <td>13.7700</td>\n",
       "      <td>-0.5500</td>\n",
       "      <td>-3.9942</td>\n",
       "      <td>403904.90</td>\n",
       "      <td>539356.202</td>\n",
       "      <td>12.748</td>\n",
       "      <td>387981.164</td>\n",
       "      <td>12.0478</td>\n",
       "      <td>190053.8642</td>\n",
       "      <td>11.7531</td>\n",
       "      <td>146556.4926</td>\n",
       "    </tr>\n",
       "    <tr>\n",
       "      <th>3</th>\n",
       "      <td>600903.SH</td>\n",
       "      <td>20201228</td>\n",
       "      <td>13.9300</td>\n",
       "      <td>14.2100</td>\n",
       "      <td>13.3900</td>\n",
       "      <td>13.7700</td>\n",
       "      <td>13.6500</td>\n",
       "      <td>0.1200</td>\n",
       "      <td>0.8791</td>\n",
       "      <td>518263.18</td>\n",
       "      <td>713652.186</td>\n",
       "      <td>12.607</td>\n",
       "      <td>361548.627</td>\n",
       "      <td>12.0128</td>\n",
       "      <td>184151.5455</td>\n",
       "      <td>11.7313</td>\n",
       "      <td>144766.4967</td>\n",
       "    </tr>\n",
       "    <tr>\n",
       "      <th>4</th>\n",
       "      <td>600903.SH</td>\n",
       "      <td>20201225</td>\n",
       "      <td>13.1800</td>\n",
       "      <td>14.4800</td>\n",
       "      <td>13.0700</td>\n",
       "      <td>13.6500</td>\n",
       "      <td>13.3500</td>\n",
       "      <td>0.3000</td>\n",
       "      <td>2.2472</td>\n",
       "      <td>584433.16</td>\n",
       "      <td>807266.469</td>\n",
       "      <td>12.450</td>\n",
       "      <td>321017.163</td>\n",
       "      <td>11.9723</td>\n",
       "      <td>176815.1513</td>\n",
       "      <td>11.7012</td>\n",
       "      <td>141314.9518</td>\n",
       "    </tr>\n",
       "    <tr>\n",
       "      <th>...</th>\n",
       "      <td>...</td>\n",
       "      <td>...</td>\n",
       "      <td>...</td>\n",
       "      <td>...</td>\n",
       "      <td>...</td>\n",
       "      <td>...</td>\n",
       "      <td>...</td>\n",
       "      <td>...</td>\n",
       "      <td>...</td>\n",
       "      <td>...</td>\n",
       "      <td>...</td>\n",
       "      <td>...</td>\n",
       "      <td>...</td>\n",
       "      <td>...</td>\n",
       "      <td>...</td>\n",
       "      <td>...</td>\n",
       "      <td>...</td>\n",
       "    </tr>\n",
       "    <tr>\n",
       "      <th>725</th>\n",
       "      <td>300639.SZ</td>\n",
       "      <td>20180108</td>\n",
       "      <td>27.0020</td>\n",
       "      <td>27.0020</td>\n",
       "      <td>25.2016</td>\n",
       "      <td>25.5438</td>\n",
       "      <td>27.0183</td>\n",
       "      <td>-1.4745</td>\n",
       "      <td>-5.4574</td>\n",
       "      <td>44458.13</td>\n",
       "      <td>279841.559</td>\n",
       "      <td>NaN</td>\n",
       "      <td>NaN</td>\n",
       "      <td>NaN</td>\n",
       "      <td>NaN</td>\n",
       "      <td>NaN</td>\n",
       "      <td>NaN</td>\n",
       "    </tr>\n",
       "    <tr>\n",
       "      <th>726</th>\n",
       "      <td>300639.SZ</td>\n",
       "      <td>20180105</td>\n",
       "      <td>27.2342</td>\n",
       "      <td>27.4705</td>\n",
       "      <td>26.6069</td>\n",
       "      <td>27.0183</td>\n",
       "      <td>26.9654</td>\n",
       "      <td>0.0529</td>\n",
       "      <td>0.1962</td>\n",
       "      <td>34242.50</td>\n",
       "      <td>227133.793</td>\n",
       "      <td>NaN</td>\n",
       "      <td>NaN</td>\n",
       "      <td>NaN</td>\n",
       "      <td>NaN</td>\n",
       "      <td>NaN</td>\n",
       "      <td>NaN</td>\n",
       "    </tr>\n",
       "    <tr>\n",
       "      <th>727</th>\n",
       "      <td>300639.SZ</td>\n",
       "      <td>20180104</td>\n",
       "      <td>27.3157</td>\n",
       "      <td>27.6415</td>\n",
       "      <td>26.5092</td>\n",
       "      <td>26.9654</td>\n",
       "      <td>28.3462</td>\n",
       "      <td>-1.3808</td>\n",
       "      <td>-4.8712</td>\n",
       "      <td>52177.37</td>\n",
       "      <td>346749.657</td>\n",
       "      <td>NaN</td>\n",
       "      <td>NaN</td>\n",
       "      <td>NaN</td>\n",
       "      <td>NaN</td>\n",
       "      <td>NaN</td>\n",
       "      <td>NaN</td>\n",
       "    </tr>\n",
       "    <tr>\n",
       "      <th>728</th>\n",
       "      <td>300639.SZ</td>\n",
       "      <td>20180103</td>\n",
       "      <td>27.6130</td>\n",
       "      <td>28.5866</td>\n",
       "      <td>27.2098</td>\n",
       "      <td>28.3462</td>\n",
       "      <td>29.1772</td>\n",
       "      <td>-0.8310</td>\n",
       "      <td>-2.8481</td>\n",
       "      <td>66187.57</td>\n",
       "      <td>450061.438</td>\n",
       "      <td>NaN</td>\n",
       "      <td>NaN</td>\n",
       "      <td>NaN</td>\n",
       "      <td>NaN</td>\n",
       "      <td>NaN</td>\n",
       "      <td>NaN</td>\n",
       "    </tr>\n",
       "    <tr>\n",
       "      <th>729</th>\n",
       "      <td>300639.SZ</td>\n",
       "      <td>20180102</td>\n",
       "      <td>29.2057</td>\n",
       "      <td>30.0896</td>\n",
       "      <td>29.1772</td>\n",
       "      <td>29.1772</td>\n",
       "      <td>32.4196</td>\n",
       "      <td>-3.2424</td>\n",
       "      <td>-10.0014</td>\n",
       "      <td>15175.00</td>\n",
       "      <td>109098.851</td>\n",
       "      <td>NaN</td>\n",
       "      <td>NaN</td>\n",
       "      <td>NaN</td>\n",
       "      <td>NaN</td>\n",
       "      <td>NaN</td>\n",
       "      <td>NaN</td>\n",
       "    </tr>\n",
       "  </tbody>\n",
       "</table>\n",
       "<p>1319793 rows × 17 columns</p>\n",
       "</div>"
      ],
      "text/plain": [
       "       ts_code trade_date     open     high      low    close  pre_close  \\\n",
       "0    600903.SH   20201231  12.8300  13.0500  12.6500  12.7000    13.0000   \n",
       "1    600903.SH   20201230  12.9100  13.3500  12.9100  13.0000    13.2200   \n",
       "2    600903.SH   20201229  13.5500  13.7000  13.0100  13.2200    13.7700   \n",
       "3    600903.SH   20201228  13.9300  14.2100  13.3900  13.7700    13.6500   \n",
       "4    600903.SH   20201225  13.1800  14.4800  13.0700  13.6500    13.3500   \n",
       "..         ...        ...      ...      ...      ...      ...        ...   \n",
       "725  300639.SZ   20180108  27.0020  27.0020  25.2016  25.5438    27.0183   \n",
       "726  300639.SZ   20180105  27.2342  27.4705  26.6069  27.0183    26.9654   \n",
       "727  300639.SZ   20180104  27.3157  27.6415  26.5092  26.9654    28.3462   \n",
       "728  300639.SZ   20180103  27.6130  28.5866  27.2098  28.3462    29.1772   \n",
       "729  300639.SZ   20180102  29.2057  30.0896  29.1772  29.1772    32.4196   \n",
       "\n",
       "     change  pct_chg        vol      amount    ma10     ma_v_10     ma60  \\\n",
       "0   -0.3000  -2.3077  298018.48  380610.620  13.026  428080.779  12.1060   \n",
       "1   -0.2200  -1.6641  335380.15  439698.264  12.913  408187.524  12.0788   \n",
       "2   -0.5500  -3.9942  403904.90  539356.202  12.748  387981.164  12.0478   \n",
       "3    0.1200   0.8791  518263.18  713652.186  12.607  361548.627  12.0128   \n",
       "4    0.3000   2.2472  584433.16  807266.469  12.450  321017.163  11.9723   \n",
       "..      ...      ...        ...         ...     ...         ...      ...   \n",
       "725 -1.4745  -5.4574   44458.13  279841.559     NaN         NaN      NaN   \n",
       "726  0.0529   0.1962   34242.50  227133.793     NaN         NaN      NaN   \n",
       "727 -1.3808  -4.8712   52177.37  346749.657     NaN         NaN      NaN   \n",
       "728 -0.8310  -2.8481   66187.57  450061.438     NaN         NaN      NaN   \n",
       "729 -3.2424 -10.0014   15175.00  109098.851     NaN         NaN      NaN   \n",
       "\n",
       "         ma_v_60    ma120     ma_v_120  \n",
       "0    199368.8255  11.7891  148799.6242  \n",
       "1    195089.4188  11.7739  147809.3177  \n",
       "2    190053.8642  11.7531  146556.4926  \n",
       "3    184151.5455  11.7313  144766.4967  \n",
       "4    176815.1513  11.7012  141314.9518  \n",
       "..           ...      ...          ...  \n",
       "725          NaN      NaN          NaN  \n",
       "726          NaN      NaN          NaN  \n",
       "727          NaN      NaN          NaN  \n",
       "728          NaN      NaN          NaN  \n",
       "729          NaN      NaN          NaN  \n",
       "\n",
       "[1319793 rows x 17 columns]"
      ]
     },
     "execution_count": 8,
     "metadata": {},
     "output_type": "execute_result"
    }
   ],
   "source": [
    "# load total stock daily date for one year\n",
    "ts_code_list = filte_stock.ts_code.values\n",
    "all_stocks = download_helper.get_Daily_All(ts, ts_code_list, start_date, end_date)\n",
    "print(all_stocks.shape)\n",
    "all_stocks"
   ]
  },
  {
   "cell_type": "code",
   "execution_count": 10,
   "metadata": {},
   "outputs": [],
   "source": [
    "# save data\n",
    "universe = all_stocks.drop_duplicates()\n",
    "universe.to_csv(start_date +'-'+ end_date + '.csv')\n",
    "filte_stock.drop_duplicates().to_csv('fundamental_' + start_date +'.csv')"
   ]
  },
  {
   "cell_type": "markdown",
   "metadata": {},
   "source": [
    "# Load Data by File\n",
    "if we load data from saved file. "
   ]
  },
  {
   "cell_type": "code",
   "execution_count": 2,
   "metadata": {},
   "outputs": [],
   "source": [
    "# load data from csv\n",
    "universe = pd.read_csv('20180101-20210101.csv').iloc[:,1:]\n",
    "fundamental = pd.read_csv('fundamental_20180101.csv').iloc[:,1:]"
   ]
  },
  {
   "cell_type": "markdown",
   "metadata": {},
   "source": [
    "# Process Data\n",
    "1. filter average dollar volumn 120 days top 500 stocks\n",
    "2. add 'date' column as datetime type, and deascanding time\n",
    "3. add industry infomation and boll indicator to stock "
   ]
  },
  {
   "cell_type": "code",
   "execution_count": 3,
   "metadata": {},
   "outputs": [
    {
     "name": "stderr",
     "output_type": "stream",
     "text": [
      "/Users/jiaruiming/PycharmProjects/altifical_for_trading/project4_Alpha_Research_and_Factor_Modeling/helper/factor_helper.py:20: UserWarning: Pandas doesn't allow columns to be created via a new attribute name - see https://pandas.pydata.org/pandas-docs/stable/indexing.html#attribute-access\n",
      "  self.use_column = self.columns\n",
      "/Users/jiaruiming/PycharmProjects/altifical_for_trading/project4_Alpha_Research_and_Factor_Modeling/helper/factor_helper.py:63: UserWarning: Pandas doesn't allow columns to be created via a new attribute name - see https://pandas.pydata.org/pandas-docs/stable/indexing.html#attribute-access\n",
      "  self.stocks = stockstats.StockDataFrame.retype(self.copy())\n",
      "/Users/jiaruiming/PycharmProjects/altifical_for_trading/project4_Alpha_Research_and_Factor_Modeling/helper/factor_helper.py:64: UserWarning: Pandas doesn't allow columns to be created via a new attribute name - see https://pandas.pydata.org/pandas-docs/stable/indexing.html#attribute-access\n",
      "  self.df = self.copy()\n",
      "add tech indicators: 100%|████████████████████| 500/500 [00:24<00:00, 20.71it/s]\n",
      "add fundamental info:   0%|                             | 0/500 [00:00<?, ?it/s]/Users/jiaruiming/anaconda/envs/py37/lib/python3.7/site-packages/pandas/core/frame.py:3678: SettingWithCopyWarning: \n",
      "A value is trying to be set on a copy of a slice from a DataFrame.\n",
      "Try using .loc[row_indexer,col_indexer] = value instead\n",
      "\n",
      "See the caveats in the documentation: https://pandas.pydata.org/pandas-docs/stable/user_guide/indexing.html#returning-a-view-versus-a-copy\n",
      "  self[col] = igetitem(value, i)\n",
      "add fundamental info: 100%|███████████████████| 500/500 [00:20<00:00, 23.97it/s]\n"
     ]
    }
   ],
   "source": [
    "from helper.factor_helper import IndicatorHelper\n",
    "\n",
    "ind_helper = IndicatorHelper(universe)\n",
    "# pick average amount 120 days top 500\n",
    "universe = ind_helper.top(500, index='trade_date', ticker_column='ts_code', value_column='ma_v_120')\n",
    "\n",
    "# add bollinger as indicator which will be used as a custom factor later\n",
    "tech_indicator_list = ['boll_ub','boll_lb']\n",
    "universe = ind_helper.add_technical_indicator(tech_indicator_list)\n",
    "\n",
    "# add industry and stock name\n",
    "universe = ind_helper.add_by_basetable('ts_code', fundamental, ['industry', 'name'])"
   ]
  },
  {
   "cell_type": "markdown",
   "metadata": {},
   "source": [
    "# Construct Factors\n",
    "### Overnight Returns and Firm-Specific Investor Sentiment\n",
    "the overnight return calculate by rturn=$\\frac{open_t - close_{t-1}}{close_{t-1}}$\n",
    " \n",
    " paper calculate price by sum average 5 days as long factor, we just average 5 days\n",
    " \n",
    " use average 20 days of overnight return as a short factor"
   ]
  },
  {
   "cell_type": "code",
   "execution_count": 2,
   "metadata": {},
   "outputs": [
    {
     "name": "stderr",
     "output_type": "stream",
     "text": [
      "close_to_open: 100%|██████████| 499/499 [00:03<00:00, 143.76it/s]\n",
      "add tech indicators: 100%|██████████| 499/499 [00:09<00:00, 52.41it/s]\n"
     ]
    }
   ],
   "source": [
    "from helper.factor_helper import CloseToOpen\n",
    "\n",
    "# cal close to open average 5day as long facor and 20day as short factor\n",
    "cto = CloseToOpen(universe).calculate()\n",
    "universe = cto.get_factors()\n",
    "universe['close_to_open_25_sma'] = - universe['close_to_open_25_sma']"
   ]
  },
  {
   "cell_type": "markdown",
   "metadata": {},
   "source": [
    "###  Winners and Losers in Momentum Investing\n",
    " The stock price tragectories can be expressed by $p=\\mu*time + \\beta*time^2$ \n",
    " \n",
    " We convert time as linner values and get $\\mu$ and $\\beta$ by regression between price and constant values. \n",
    " \n",
    " Final facotor expressed $\\beta * \\mu$\n",
    " \n",
    " This factor can express each stock tragectories relative convex. The $\\mu$ be viewed as return direction and $\\beta$ be viwed as return velocity"
   ]
  },
  {
   "cell_type": "code",
   "execution_count": 3,
   "metadata": {},
   "outputs": [
    {
     "name": "stdout",
     "output_type": "stream",
     "text": [
      " processing factors step/total 119361/119361"
     ]
    }
   ],
   "source": [
    "from helper.factor_helper import WinerAndLoser\n",
    "wl = WinerAndLoser(universe).calculate()\n",
    "universe = wl.get_factor()"
   ]
  },
  {
   "cell_type": "markdown",
   "metadata": {},
   "source": [
    "###  Expected Skewness and Momentum\n",
    "The skewness of returns distribution and media in a period time(20 trade day) can combine to be a factor.\n",
    " \n",
    "factor = $skew * median$"
   ]
  },
  {
   "cell_type": "code",
   "execution_count": 3,
   "metadata": {},
   "outputs": [
    {
     "name": "stderr",
     "output_type": "stream",
     "text": [
      "skew and momentum: 100%|██████████| 499/499 [00:03<00:00, 139.03it/s]\n"
     ]
    }
   ],
   "source": [
    "from helper.factor_helper import SkewandMomentum\n",
    "sm = SkewandMomentum(universe).calculate()\n",
    "universe = sm.get_factor()"
   ]
  },
  {
   "cell_type": "code",
   "execution_count": null,
   "metadata": {},
   "outputs": [],
   "source": []
  }
 ],
 "metadata": {
  "kernelspec": {
   "display_name": "py37",
   "language": "python",
   "name": "py37"
  },
  "language_info": {
   "codemirror_mode": {
    "name": "ipython",
    "version": 3
   },
   "file_extension": ".py",
   "mimetype": "text/x-python",
   "name": "python",
   "nbconvert_exporter": "python",
   "pygments_lexer": "ipython3",
   "version": "3.7.12"
  }
 },
 "nbformat": 4,
 "nbformat_minor": 5
}
