{
 "cells": [
  {
   "cell_type": "markdown",
   "metadata": {},
   "source": [
    "# Portfolio Variance\n",
    "Let's make up two stocks portfolio and calculate variance"
   ]
  },
  {
   "cell_type": "code",
   "execution_count": 1,
   "metadata": {},
   "outputs": [],
   "source": [
    "import numpy as np\n",
    "import pandas as pd\n",
    "import time\n",
    "import os\n",
    "import matplotlib.pyplot as plt"
   ]
  },
  {
   "cell_type": "code",
   "execution_count": 2,
   "metadata": {},
   "outputs": [],
   "source": [
    "%matplotlib inline\n",
    "plt.style.use('ggplot')\n",
    "plt.rcParams['figure.figsize'] = (14, 8)"
   ]
  },
  {
   "cell_type": "markdown",
   "metadata": {},
   "source": [
    "### load data"
   ]
  },
  {
   "cell_type": "code",
   "execution_count": 3,
   "metadata": {},
   "outputs": [],
   "source": [
    "# load data from csv\n",
    "all_stocks = pd.read_csv('20200101-20210101.csv').iloc[:,1:]\n",
    "universe = all_stocks.sort_index(axis=0, ascending=False)\n",
    "# convert date to standard string format, easy to filter\n",
    "universe[\"date\"] = pd.to_datetime(universe[\"trade_date\"], format='%Y%m%d')\n",
    "universe[\"date\"] = universe.date.apply(lambda x: x.strftime(\"%Y-%m-%d\"))\n",
    "# drop missing data\n",
    "universe = universe.dropna()\n",
    "universe = universe.sort_values(by=[\"date\", \"ts_code\"]).reset_index(drop=True)"
   ]
  },
  {
   "cell_type": "code",
   "execution_count": 9,
   "metadata": {},
   "outputs": [
    {
     "data": {
      "text/html": [
       "<div>\n",
       "<style scoped>\n",
       "    .dataframe tbody tr th:only-of-type {\n",
       "        vertical-align: middle;\n",
       "    }\n",
       "\n",
       "    .dataframe tbody tr th {\n",
       "        vertical-align: top;\n",
       "    }\n",
       "\n",
       "    .dataframe thead th {\n",
       "        text-align: right;\n",
       "    }\n",
       "</style>\n",
       "<table border=\"1\" class=\"dataframe\">\n",
       "  <thead>\n",
       "    <tr style=\"text-align: right;\">\n",
       "      <th>ts_code</th>\n",
       "      <th>000001.SZ</th>\n",
       "      <th>000002.SZ</th>\n",
       "      <th>000004.SZ</th>\n",
       "      <th>000005.SZ</th>\n",
       "      <th>000006.SZ</th>\n",
       "      <th>000007.SZ</th>\n",
       "      <th>000008.SZ</th>\n",
       "      <th>000009.SZ</th>\n",
       "      <th>000010.SZ</th>\n",
       "      <th>000011.SZ</th>\n",
       "      <th>...</th>\n",
       "      <th>688668.SH</th>\n",
       "      <th>688678.SH</th>\n",
       "      <th>688679.SH</th>\n",
       "      <th>688686.SH</th>\n",
       "      <th>688698.SH</th>\n",
       "      <th>688699.SH</th>\n",
       "      <th>688777.SH</th>\n",
       "      <th>688788.SH</th>\n",
       "      <th>688981.SH</th>\n",
       "      <th>689009.SH</th>\n",
       "    </tr>\n",
       "    <tr>\n",
       "      <th>date</th>\n",
       "      <th></th>\n",
       "      <th></th>\n",
       "      <th></th>\n",
       "      <th></th>\n",
       "      <th></th>\n",
       "      <th></th>\n",
       "      <th></th>\n",
       "      <th></th>\n",
       "      <th></th>\n",
       "      <th></th>\n",
       "      <th></th>\n",
       "      <th></th>\n",
       "      <th></th>\n",
       "      <th></th>\n",
       "      <th></th>\n",
       "      <th></th>\n",
       "      <th></th>\n",
       "      <th></th>\n",
       "      <th></th>\n",
       "      <th></th>\n",
       "      <th></th>\n",
       "    </tr>\n",
       "  </thead>\n",
       "  <tbody>\n",
       "    <tr>\n",
       "      <th>2020-01-03</th>\n",
       "      <td>0.018376</td>\n",
       "      <td>-0.015663</td>\n",
       "      <td>0.000896</td>\n",
       "      <td>0.003185</td>\n",
       "      <td>0.014815</td>\n",
       "      <td>-0.004188</td>\n",
       "      <td>0.010782</td>\n",
       "      <td>-0.039039</td>\n",
       "      <td>0.000000</td>\n",
       "      <td>-0.002103</td>\n",
       "      <td>...</td>\n",
       "      <td>0.000000</td>\n",
       "      <td>0.000000</td>\n",
       "      <td>0.000000</td>\n",
       "      <td>0.0</td>\n",
       "      <td>0.000000</td>\n",
       "      <td>0.000000</td>\n",
       "      <td>0.000000</td>\n",
       "      <td>0.000000</td>\n",
       "      <td>0.000000</td>\n",
       "      <td>0.000000</td>\n",
       "    </tr>\n",
       "    <tr>\n",
       "      <th>2020-01-06</th>\n",
       "      <td>-0.006403</td>\n",
       "      <td>-0.016849</td>\n",
       "      <td>-0.026846</td>\n",
       "      <td>0.000000</td>\n",
       "      <td>-0.003650</td>\n",
       "      <td>-0.003155</td>\n",
       "      <td>-0.005333</td>\n",
       "      <td>0.100000</td>\n",
       "      <td>0.005865</td>\n",
       "      <td>-0.010537</td>\n",
       "      <td>...</td>\n",
       "      <td>0.000000</td>\n",
       "      <td>0.000000</td>\n",
       "      <td>0.000000</td>\n",
       "      <td>0.0</td>\n",
       "      <td>0.000000</td>\n",
       "      <td>0.000000</td>\n",
       "      <td>0.000000</td>\n",
       "      <td>0.000000</td>\n",
       "      <td>0.000000</td>\n",
       "      <td>0.000000</td>\n",
       "    </tr>\n",
       "    <tr>\n",
       "      <th>2020-01-07</th>\n",
       "      <td>0.004687</td>\n",
       "      <td>0.007934</td>\n",
       "      <td>0.016092</td>\n",
       "      <td>0.015873</td>\n",
       "      <td>0.005495</td>\n",
       "      <td>0.003165</td>\n",
       "      <td>0.016086</td>\n",
       "      <td>0.017045</td>\n",
       "      <td>0.032070</td>\n",
       "      <td>0.017039</td>\n",
       "      <td>...</td>\n",
       "      <td>0.000000</td>\n",
       "      <td>0.000000</td>\n",
       "      <td>0.000000</td>\n",
       "      <td>0.0</td>\n",
       "      <td>0.000000</td>\n",
       "      <td>0.000000</td>\n",
       "      <td>0.000000</td>\n",
       "      <td>0.000000</td>\n",
       "      <td>0.000000</td>\n",
       "      <td>0.000000</td>\n",
       "    </tr>\n",
       "    <tr>\n",
       "      <th>2020-01-08</th>\n",
       "      <td>-0.028571</td>\n",
       "      <td>-0.002519</td>\n",
       "      <td>-0.014480</td>\n",
       "      <td>-0.015625</td>\n",
       "      <td>-0.018215</td>\n",
       "      <td>-0.011567</td>\n",
       "      <td>-0.018470</td>\n",
       "      <td>-0.006983</td>\n",
       "      <td>-0.008475</td>\n",
       "      <td>-0.027225</td>\n",
       "      <td>...</td>\n",
       "      <td>0.000000</td>\n",
       "      <td>0.000000</td>\n",
       "      <td>0.000000</td>\n",
       "      <td>0.0</td>\n",
       "      <td>0.000000</td>\n",
       "      <td>0.000000</td>\n",
       "      <td>0.000000</td>\n",
       "      <td>0.000000</td>\n",
       "      <td>0.000000</td>\n",
       "      <td>0.000000</td>\n",
       "    </tr>\n",
       "    <tr>\n",
       "      <th>2020-01-09</th>\n",
       "      <td>0.007803</td>\n",
       "      <td>0.016414</td>\n",
       "      <td>0.024793</td>\n",
       "      <td>0.019048</td>\n",
       "      <td>0.014842</td>\n",
       "      <td>0.004255</td>\n",
       "      <td>0.013441</td>\n",
       "      <td>-0.012658</td>\n",
       "      <td>0.051282</td>\n",
       "      <td>0.011841</td>\n",
       "      <td>...</td>\n",
       "      <td>0.000000</td>\n",
       "      <td>0.000000</td>\n",
       "      <td>0.000000</td>\n",
       "      <td>0.0</td>\n",
       "      <td>0.000000</td>\n",
       "      <td>0.000000</td>\n",
       "      <td>0.000000</td>\n",
       "      <td>0.000000</td>\n",
       "      <td>0.000000</td>\n",
       "      <td>0.000000</td>\n",
       "    </tr>\n",
       "    <tr>\n",
       "      <th>...</th>\n",
       "      <td>...</td>\n",
       "      <td>...</td>\n",
       "      <td>...</td>\n",
       "      <td>...</td>\n",
       "      <td>...</td>\n",
       "      <td>...</td>\n",
       "      <td>...</td>\n",
       "      <td>...</td>\n",
       "      <td>...</td>\n",
       "      <td>...</td>\n",
       "      <td>...</td>\n",
       "      <td>...</td>\n",
       "      <td>...</td>\n",
       "      <td>...</td>\n",
       "      <td>...</td>\n",
       "      <td>...</td>\n",
       "      <td>...</td>\n",
       "      <td>...</td>\n",
       "      <td>...</td>\n",
       "      <td>...</td>\n",
       "      <td>...</td>\n",
       "    </tr>\n",
       "    <tr>\n",
       "      <th>2020-12-25</th>\n",
       "      <td>-0.012048</td>\n",
       "      <td>0.005727</td>\n",
       "      <td>-0.000460</td>\n",
       "      <td>0.003984</td>\n",
       "      <td>-0.012238</td>\n",
       "      <td>-0.006993</td>\n",
       "      <td>0.000000</td>\n",
       "      <td>0.017426</td>\n",
       "      <td>0.056757</td>\n",
       "      <td>0.001693</td>\n",
       "      <td>...</td>\n",
       "      <td>-0.042585</td>\n",
       "      <td>-0.014220</td>\n",
       "      <td>0.000000</td>\n",
       "      <td>0.0</td>\n",
       "      <td>0.000000</td>\n",
       "      <td>0.000845</td>\n",
       "      <td>-0.018178</td>\n",
       "      <td>-0.039874</td>\n",
       "      <td>-0.010739</td>\n",
       "      <td>0.027360</td>\n",
       "    </tr>\n",
       "    <tr>\n",
       "      <th>2020-12-28</th>\n",
       "      <td>0.044900</td>\n",
       "      <td>0.011388</td>\n",
       "      <td>-0.058038</td>\n",
       "      <td>-0.011905</td>\n",
       "      <td>-0.026549</td>\n",
       "      <td>-0.002347</td>\n",
       "      <td>-0.019531</td>\n",
       "      <td>-0.031621</td>\n",
       "      <td>-0.081841</td>\n",
       "      <td>-0.029586</td>\n",
       "      <td>...</td>\n",
       "      <td>-0.063722</td>\n",
       "      <td>-0.107212</td>\n",
       "      <td>-0.155100</td>\n",
       "      <td>0.0</td>\n",
       "      <td>0.000000</td>\n",
       "      <td>-0.055743</td>\n",
       "      <td>0.041200</td>\n",
       "      <td>-0.200000</td>\n",
       "      <td>-0.026203</td>\n",
       "      <td>0.066578</td>\n",
       "    </tr>\n",
       "    <tr>\n",
       "      <th>2020-12-29</th>\n",
       "      <td>0.016976</td>\n",
       "      <td>0.003519</td>\n",
       "      <td>0.010269</td>\n",
       "      <td>0.004016</td>\n",
       "      <td>0.005455</td>\n",
       "      <td>0.011765</td>\n",
       "      <td>0.000000</td>\n",
       "      <td>-0.002721</td>\n",
       "      <td>0.100279</td>\n",
       "      <td>0.032230</td>\n",
       "      <td>...</td>\n",
       "      <td>0.007075</td>\n",
       "      <td>-0.019214</td>\n",
       "      <td>-0.032358</td>\n",
       "      <td>0.0</td>\n",
       "      <td>0.000000</td>\n",
       "      <td>-0.033810</td>\n",
       "      <td>-0.038495</td>\n",
       "      <td>-0.124932</td>\n",
       "      <td>0.009610</td>\n",
       "      <td>-0.032959</td>\n",
       "    </tr>\n",
       "    <tr>\n",
       "      <th>2020-12-30</th>\n",
       "      <td>0.001565</td>\n",
       "      <td>-0.004909</td>\n",
       "      <td>-0.009197</td>\n",
       "      <td>-0.004000</td>\n",
       "      <td>0.001808</td>\n",
       "      <td>-0.100000</td>\n",
       "      <td>0.003984</td>\n",
       "      <td>0.034106</td>\n",
       "      <td>0.005063</td>\n",
       "      <td>0.026160</td>\n",
       "      <td>...</td>\n",
       "      <td>0.000669</td>\n",
       "      <td>-0.009795</td>\n",
       "      <td>0.012219</td>\n",
       "      <td>0.0</td>\n",
       "      <td>-0.033467</td>\n",
       "      <td>0.003518</td>\n",
       "      <td>0.015954</td>\n",
       "      <td>0.038170</td>\n",
       "      <td>0.075005</td>\n",
       "      <td>0.044539</td>\n",
       "    </tr>\n",
       "    <tr>\n",
       "      <th>2020-12-31</th>\n",
       "      <td>0.007292</td>\n",
       "      <td>0.011276</td>\n",
       "      <td>0.011236</td>\n",
       "      <td>0.016064</td>\n",
       "      <td>0.012635</td>\n",
       "      <td>-0.099483</td>\n",
       "      <td>0.007937</td>\n",
       "      <td>-0.006596</td>\n",
       "      <td>-0.015113</td>\n",
       "      <td>0.000822</td>\n",
       "      <td>...</td>\n",
       "      <td>0.003009</td>\n",
       "      <td>-0.019784</td>\n",
       "      <td>-0.031131</td>\n",
       "      <td>0.0</td>\n",
       "      <td>-0.075452</td>\n",
       "      <td>0.017897</td>\n",
       "      <td>0.002200</td>\n",
       "      <td>0.002256</td>\n",
       "      <td>0.022667</td>\n",
       "      <td>0.060685</td>\n",
       "    </tr>\n",
       "  </tbody>\n",
       "</table>\n",
       "<p>242 rows × 4154 columns</p>\n",
       "</div>"
      ],
      "text/plain": [
       "ts_code     000001.SZ  000002.SZ  000004.SZ  000005.SZ  000006.SZ  000007.SZ  \\\n",
       "date                                                                           \n",
       "2020-01-03   0.018376  -0.015663   0.000896   0.003185   0.014815  -0.004188   \n",
       "2020-01-06  -0.006403  -0.016849  -0.026846   0.000000  -0.003650  -0.003155   \n",
       "2020-01-07   0.004687   0.007934   0.016092   0.015873   0.005495   0.003165   \n",
       "2020-01-08  -0.028571  -0.002519  -0.014480  -0.015625  -0.018215  -0.011567   \n",
       "2020-01-09   0.007803   0.016414   0.024793   0.019048   0.014842   0.004255   \n",
       "...               ...        ...        ...        ...        ...        ...   \n",
       "2020-12-25  -0.012048   0.005727  -0.000460   0.003984  -0.012238  -0.006993   \n",
       "2020-12-28   0.044900   0.011388  -0.058038  -0.011905  -0.026549  -0.002347   \n",
       "2020-12-29   0.016976   0.003519   0.010269   0.004016   0.005455   0.011765   \n",
       "2020-12-30   0.001565  -0.004909  -0.009197  -0.004000   0.001808  -0.100000   \n",
       "2020-12-31   0.007292   0.011276   0.011236   0.016064   0.012635  -0.099483   \n",
       "\n",
       "ts_code     000008.SZ  000009.SZ  000010.SZ  000011.SZ  ...  688668.SH  \\\n",
       "date                                                    ...              \n",
       "2020-01-03   0.010782  -0.039039   0.000000  -0.002103  ...   0.000000   \n",
       "2020-01-06  -0.005333   0.100000   0.005865  -0.010537  ...   0.000000   \n",
       "2020-01-07   0.016086   0.017045   0.032070   0.017039  ...   0.000000   \n",
       "2020-01-08  -0.018470  -0.006983  -0.008475  -0.027225  ...   0.000000   \n",
       "2020-01-09   0.013441  -0.012658   0.051282   0.011841  ...   0.000000   \n",
       "...               ...        ...        ...        ...  ...        ...   \n",
       "2020-12-25   0.000000   0.017426   0.056757   0.001693  ...  -0.042585   \n",
       "2020-12-28  -0.019531  -0.031621  -0.081841  -0.029586  ...  -0.063722   \n",
       "2020-12-29   0.000000  -0.002721   0.100279   0.032230  ...   0.007075   \n",
       "2020-12-30   0.003984   0.034106   0.005063   0.026160  ...   0.000669   \n",
       "2020-12-31   0.007937  -0.006596  -0.015113   0.000822  ...   0.003009   \n",
       "\n",
       "ts_code     688678.SH  688679.SH  688686.SH  688698.SH  688699.SH  688777.SH  \\\n",
       "date                                                                           \n",
       "2020-01-03   0.000000   0.000000        0.0   0.000000   0.000000   0.000000   \n",
       "2020-01-06   0.000000   0.000000        0.0   0.000000   0.000000   0.000000   \n",
       "2020-01-07   0.000000   0.000000        0.0   0.000000   0.000000   0.000000   \n",
       "2020-01-08   0.000000   0.000000        0.0   0.000000   0.000000   0.000000   \n",
       "2020-01-09   0.000000   0.000000        0.0   0.000000   0.000000   0.000000   \n",
       "...               ...        ...        ...        ...        ...        ...   \n",
       "2020-12-25  -0.014220   0.000000        0.0   0.000000   0.000845  -0.018178   \n",
       "2020-12-28  -0.107212  -0.155100        0.0   0.000000  -0.055743   0.041200   \n",
       "2020-12-29  -0.019214  -0.032358        0.0   0.000000  -0.033810  -0.038495   \n",
       "2020-12-30  -0.009795   0.012219        0.0  -0.033467   0.003518   0.015954   \n",
       "2020-12-31  -0.019784  -0.031131        0.0  -0.075452   0.017897   0.002200   \n",
       "\n",
       "ts_code     688788.SH  688981.SH  689009.SH  \n",
       "date                                         \n",
       "2020-01-03   0.000000   0.000000   0.000000  \n",
       "2020-01-06   0.000000   0.000000   0.000000  \n",
       "2020-01-07   0.000000   0.000000   0.000000  \n",
       "2020-01-08   0.000000   0.000000   0.000000  \n",
       "2020-01-09   0.000000   0.000000   0.000000  \n",
       "...               ...        ...        ...  \n",
       "2020-12-25  -0.039874  -0.010739   0.027360  \n",
       "2020-12-28  -0.200000  -0.026203   0.066578  \n",
       "2020-12-29  -0.124932   0.009610  -0.032959  \n",
       "2020-12-30   0.038170   0.075005   0.044539  \n",
       "2020-12-31   0.002256   0.022667   0.060685  \n",
       "\n",
       "[242 rows x 4154 columns]"
      ]
     },
     "execution_count": 9,
     "metadata": {},
     "output_type": "execute_result"
    }
   ],
   "source": [
    "# process data\n",
    "returns_df = universe.pivot(index='date', columns='ts_code', values='close')\n",
    "returns_df = returns_df.pct_change()[1:].fillna(0)\n",
    "returns_df"
   ]
  },
  {
   "cell_type": "markdown",
   "metadata": {},
   "source": [
    "## Let's look at a two stock portfolio\n",
    "\n",
    "Let's pretend we have a portfolio of two stocks.  We'll pick PingAn and WanKe in this example."
   ]
  },
  {
   "cell_type": "code",
   "execution_count": 10,
   "metadata": {},
   "outputs": [
    {
     "data": {
      "text/html": [
       "<div>\n",
       "<style scoped>\n",
       "    .dataframe tbody tr th:only-of-type {\n",
       "        vertical-align: middle;\n",
       "    }\n",
       "\n",
       "    .dataframe tbody tr th {\n",
       "        vertical-align: top;\n",
       "    }\n",
       "\n",
       "    .dataframe thead th {\n",
       "        text-align: right;\n",
       "    }\n",
       "</style>\n",
       "<table border=\"1\" class=\"dataframe\">\n",
       "  <thead>\n",
       "    <tr style=\"text-align: right;\">\n",
       "      <th></th>\n",
       "      <th>asset_return_pa</th>\n",
       "      <th>asset_return_wk</th>\n",
       "    </tr>\n",
       "    <tr>\n",
       "      <th>date</th>\n",
       "      <th></th>\n",
       "      <th></th>\n",
       "    </tr>\n",
       "  </thead>\n",
       "  <tbody>\n",
       "    <tr>\n",
       "      <th>2020-01-03</th>\n",
       "      <td>0.018376</td>\n",
       "      <td>-0.015663</td>\n",
       "    </tr>\n",
       "    <tr>\n",
       "      <th>2020-01-06</th>\n",
       "      <td>-0.006403</td>\n",
       "      <td>-0.016849</td>\n",
       "    </tr>\n",
       "  </tbody>\n",
       "</table>\n",
       "</div>"
      ],
      "text/plain": [
       "            asset_return_pa  asset_return_wk\n",
       "date                                        \n",
       "2020-01-03         0.018376        -0.015663\n",
       "2020-01-06        -0.006403        -0.016849"
      ]
     },
     "execution_count": 10,
     "metadata": {},
     "output_type": "execute_result"
    }
   ],
   "source": [
    "pa_col = returns_df.columns[0]\n",
    "wk_col = returns_df.columns[1]\n",
    "asset_return_1 = returns_df[pa_col].rename('asset_return_pa')\n",
    "asset_return_2 = returns_df[wk_col].rename('asset_return_wk')\n",
    "asset_return_df = pd.concat([asset_return_1,asset_return_2],axis=1)\n",
    "asset_return_df.head(2)"
   ]
  },
  {
   "cell_type": "markdown",
   "metadata": {},
   "source": [
    "## Factor returns\n",
    "Let's make up a \"factor\" by taking an average of all stocks in our list.  You can think of this as an equal weighted index of the 490 stocks, kind of like a measure of the \"market\".  We'll also make another factor by calculating the median of all the stocks.  These are mainly intended to help us generate some data to work with.  We'll go into how some common risk factors are generated later in the lessons.\n",
    "\n",
    "Also note that we're setting axis=1 so that we calculate a value for each time period (row) instead of one value for each column (assets)."
   ]
  },
  {
   "cell_type": "code",
   "execution_count": 11,
   "metadata": {},
   "outputs": [],
   "source": [
    "factor_return_1 = returns_df.mean(axis=1)\n",
    "factor_return_2 = returns_df.median(axis=1)\n",
    "factor_return_l = [factor_return_1, factor_return_2]"
   ]
  },
  {
   "cell_type": "markdown",
   "metadata": {},
   "source": [
    "## Factor exposures\n",
    "\n",
    "Factor exposures refer to how \"exposed\" a stock is to each factor.  We'll get into this more later.  For now, just think of this as one number for each stock, for each of the factors."
   ]
  },
  {
   "cell_type": "code",
   "execution_count": 12,
   "metadata": {},
   "outputs": [],
   "source": [
    "from sklearn.linear_model import LinearRegression"
   ]
  },
  {
   "cell_type": "code",
   "execution_count": 13,
   "metadata": {},
   "outputs": [],
   "source": [
    "\"\"\"\n",
    "For now, just assume that we're calculating a number for each \n",
    "stock, for each factor, which represents how \"exposed\" each stock is\n",
    "to each factor. \n",
    "We'll discuss how factor exposure is calculated later in the lessons.\n",
    "\"\"\"\n",
    "def get_factor_exposures(factor_return_l, asset_return):\n",
    "    lr = LinearRegression()\n",
    "    X = np.array(factor_return_l).T\n",
    "    y = np.array(asset_return.values)\n",
    "    lr.fit(X,y)\n",
    "    print(lr.intercept_)\n",
    "    return lr.coef_"
   ]
  },
  {
   "cell_type": "code",
   "execution_count": 14,
   "metadata": {},
   "outputs": [
    {
     "name": "stdout",
     "output_type": "stream",
     "text": [
      "0.00614415940460716\n",
      "0.005453302613336214\n"
     ]
    }
   ],
   "source": [
    "factor_exposure_l = []\n",
    "for i in range(len(asset_return_df.columns)):\n",
    "    factor_exposure_l.append(\n",
    "        get_factor_exposures(factor_return_l,\n",
    "                             asset_return_df[asset_return_df.columns[i]]\n",
    "                            ))\n",
    "    \n",
    "factor_exposure_a = np.array(factor_exposure_l)"
   ]
  },
  {
   "cell_type": "code",
   "execution_count": 15,
   "metadata": {},
   "outputs": [
    {
     "name": "stdout",
     "output_type": "stream",
     "text": [
      "factor_exposures for asset 1 [-1.56542126  2.39046995]\n",
      "factor_exposures for asset 2 [-1.88919287  2.5323888 ]\n"
     ]
    }
   ],
   "source": [
    "print(f\"factor_exposures for asset 1 {factor_exposure_a[0]}\")\n",
    "print(f\"factor_exposures for asset 2 {factor_exposure_a[1]}\")"
   ]
  },
  {
   "cell_type": "markdown",
   "metadata": {},
   "source": [
    "# Portfolio Variance\n",
    "We calculate variance by variable first and do it agin by matrix.\n",
    "\n",
    "## Variance of stock 1\n",
    "\n",
    "Calculate the variance of stock 1.  \n",
    "$\\textrm{Var}(r_{1}) = \\beta_{1,1}^2 \\textrm{Var}(f_{1}) + \\beta_{1,2}^2 \\textrm{Var}(f_{2}) + 2\\beta_{1,1}\\beta_{1,2}\\textrm{Cov}(f_{1},f_{2}) + \\textrm{Var}(s_{1})$"
   ]
  },
  {
   "cell_type": "code",
   "execution_count": 35,
   "metadata": {},
   "outputs": [],
   "source": [
    "factor_exposure_1_1 = factor_exposure_a[0][0]\n",
    "factor_exposure_1_2 = factor_exposure_a[0][1]\n",
    "common_return_1 = factor_exposure_1_1 * factor_return_1 + factor_exposure_1_2 * factor_return_2\n",
    "specific_return_1 = asset_return_1 - common_return_1"
   ]
  },
  {
   "cell_type": "markdown",
   "metadata": {},
   "source": [
    "## Variance of stock 2\n",
    "Calculate the variance of stock 2.  \n",
    "$\\textrm{Var}(r_{2}) = \\beta_{2,1}^2 \\textrm{Var}(f_{1}) + \\beta_{2,2}^2 \\textrm{Var}(f_{2}) + 2\\beta_{2,1}\\beta_{2,2}\\textrm{Cov}(f_{1},f_{2}) + \\textrm{Var}(s_{2})$"
   ]
  },
  {
   "cell_type": "code",
   "execution_count": 18,
   "metadata": {},
   "outputs": [],
   "source": [
    "factor_exposure_2_1 = factor_exposure_a[1][0]\n",
    "factor_exposure_2_2 = factor_exposure_a[1][1]\n",
    "common_return_2 = factor_exposure_2_1 * factor_return_1 + factor_exposure_2_2 * factor_return_2\n",
    "specific_return_2 = asset_return_2 - common_return_2"
   ]
  },
  {
   "cell_type": "markdown",
   "metadata": {},
   "source": [
    "## Specific return\n",
    "Calculate specific return.\n",
    "$ \\textrm{Var}(s_{2}) = \\textrm{Var}(r_{2}) - \\beta_{2,1}^2 \\textrm{Var}(f_{1}) + \\beta_{2,2}^2 \\textrm{Var}(f_{2}) + 2\\beta_{2,1}\\beta_{2,2}\\textrm{Cov}(f_{1},f_{2}) $"
   ]
  },
  {
   "cell_type": "code",
   "execution_count": 40,
   "metadata": {},
   "outputs": [
    {
     "data": {
      "text/plain": [
       "[0.0003200165850523789, 0.0002851129202584598]"
      ]
     },
     "execution_count": 40,
     "metadata": {},
     "output_type": "execute_result"
    }
   ],
   "source": [
    "common_return = factor_exposure_a.dot(factor_return_l)\n",
    "specific_return = asset_return_df.values - common_return.T\n",
    "specific_return = [np.var(specific_return[:,0],ddof=1), np.var(specific_return[:,1],ddof=1)]\n",
    "specific_return"
   ]
  },
  {
   "cell_type": "markdown",
   "metadata": {},
   "source": [
    "## Quiz 2: Do it with Matrices!\n",
    "\n",
    "Create matrices $\\mathbf{F}$, $\\mathbf{B}$ and $\\mathbf{S}$, where  \n",
    "$\\mathbf{F}= \\begin{pmatrix}\n",
    "\\textrm{Var}(f_1) & \\textrm{Cov}(f_1,f_2) \\\\ \n",
    "\\textrm{Cov}(f_2,f_1) & \\textrm{Var}(f_2) \n",
    "\\end{pmatrix}$\n",
    "is the covariance matrix of factors,  \n",
    "\n",
    "$\\mathbf{B} = \\begin{pmatrix}\n",
    "\\beta_{1,1}, \\beta_{1,2}\\\\ \n",
    "\\beta_{2,1}, \\beta_{2,2}\n",
    "\\end{pmatrix}$ \n",
    "is the matrix of factor exposures, and  \n",
    "\n",
    "$\\mathbf{S} = \\begin{pmatrix}\n",
    "\\textrm{Var}(s_i) & 0\\\\ \n",
    "0 & \\textrm{Var}(s_j)\n",
    "\\end{pmatrix}$\n",
    "is the matrix of specific variances.  \n",
    "\n",
    "$\\mathbf{X} = \\begin{pmatrix}\n",
    "x_{1} \\\\\n",
    "x_{2}\n",
    "\\end{pmatrix}$\n",
    "\n",
    "we can calculate variance of portfolio blow:\n",
    "\n",
    "$\\textrm{Var}(r_p)$ = $\\mathbf{X}^T(\\mathbf{BFB}^T + \\mathbf{S})\\mathbf{X}$ "
   ]
  },
  {
   "cell_type": "markdown",
   "metadata": {},
   "source": [
    "## Quiz 3: Calculate portfolio variance using matrices"
   ]
  },
  {
   "cell_type": "code",
   "execution_count": 32,
   "metadata": {},
   "outputs": [
    {
     "data": {
      "text/plain": [
       "array([[0.00021041, 0.00020202],\n",
       "       [0.00020202, 0.00020049]])"
      ]
     },
     "execution_count": 32,
     "metadata": {},
     "output_type": "execute_result"
    }
   ],
   "source": [
    "# TODO: covariance matrix of factors\n",
    "F = covm_f1_f2\n",
    "F"
   ]
  },
  {
   "cell_type": "code",
   "execution_count": 33,
   "metadata": {},
   "outputs": [
    {
     "data": {
      "text/plain": [
       "array([[-1.56542126,  2.39046995],\n",
       "       [-1.88919287,  2.5323888 ]])"
      ]
     },
     "execution_count": 33,
     "metadata": {},
     "output_type": "execute_result"
    }
   ],
   "source": [
    "# TODO: matrix of factor exposures\n",
    "B = factor_exposure_a\n",
    "B"
   ]
  },
  {
   "cell_type": "code",
   "execution_count": 41,
   "metadata": {},
   "outputs": [
    {
     "data": {
      "text/plain": [
       "array([[0.00032002, 0.        ],\n",
       "       [0.        , 0.00028511]])"
      ]
     },
     "execution_count": 41,
     "metadata": {},
     "output_type": "execute_result"
    }
   ],
   "source": [
    "# TODO: matrix of specific variances\n",
    "S = np.diag(specific_return)\n",
    "S"
   ]
  },
  {
   "cell_type": "markdown",
   "metadata": {},
   "source": [
    "#### Hint for column vectors\n",
    "Try using [reshape](https://docs.scipy.org/doc/numpy-1.15.1/reference/generated/numpy.reshape.html)"
   ]
  },
  {
   "cell_type": "code",
   "execution_count": 42,
   "metadata": {},
   "outputs": [
    {
     "data": {
      "text/plain": [
       "array([[0.6],\n",
       "       [0.4]])"
      ]
     },
     "execution_count": 42,
     "metadata": {},
     "output_type": "execute_result"
    }
   ],
   "source": [
    "# TODO: make a column vector for stock weights matrix X\n",
    "weight_1 = 0.60\n",
    "weight_2 = 0.40\n",
    "X = np.array([weight_1,weight_2]).reshape(2,1)\n",
    "X"
   ]
  },
  {
   "cell_type": "code",
   "execution_count": 43,
   "metadata": {},
   "outputs": [
    {
     "name": "stdout",
     "output_type": "stream",
     "text": [
      "portfolio variance is \n",
      "0.00029006\n"
     ]
    }
   ],
   "source": [
    "# TODO: covariance matrix of assets\n",
    "var_portfolio = (X.T).dot(B.dot(F).dot(B.T)+S).dot(X)\n",
    "print(f\"portfolio variance is \\n{var_portfolio[0][0]:.8f}\")"
   ]
  },
  {
   "cell_type": "markdown",
   "metadata": {},
   "source": [
    "## Solution\n",
    "[Solution notebook is here](portfolio_variance_solution.ipynb)"
   ]
  },
  {
   "cell_type": "code",
   "execution_count": null,
   "metadata": {},
   "outputs": [],
   "source": []
  }
 ],
 "metadata": {
  "kernelspec": {
   "display_name": "py37",
   "language": "python",
   "name": "py37"
  },
  "language_info": {
   "codemirror_mode": {
    "name": "ipython",
    "version": 3
   },
   "file_extension": ".py",
   "mimetype": "text/x-python",
   "name": "python",
   "nbconvert_exporter": "python",
   "pygments_lexer": "ipython3",
   "version": "3.7.12"
  }
 },
 "nbformat": 4,
 "nbformat_minor": 2
}
