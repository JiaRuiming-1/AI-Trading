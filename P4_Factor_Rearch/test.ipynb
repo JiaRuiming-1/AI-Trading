{
 "cells": [
  {
   "cell_type": "code",
   "execution_count": null,
   "metadata": {},
   "outputs": [],
   "source": [
    "import pandas as pd\n",
    "import numpy as np\n",
    "import stockstats"
   ]
  },
  {
   "cell_type": "code",
   "execution_count": null,
   "metadata": {},
   "outputs": [],
   "source": [
    "df = pd.read_csv('test.csv')\n",
    "df"
   ]
  },
  {
   "cell_type": "code",
   "execution_count": null,
   "metadata": {},
   "outputs": [],
   "source": [
    "# dataset['PeriodEnd'] = pd.to_datetime(dataset['PeriodEnd'])\n",
    "# dataset.set_index('PeriodEnd', drop = False, inplace = True)\n",
    "# Mt_Gambier= timezone('Australia/Adelaide')\n",
    "# dataset.index = dataset.index.tz_localize('UTC').tz_convert(Mt_Gambier)\n",
    "# dataset.head()\n",
    "import pytz\n",
    "from pytz import timezone\n",
    "\n",
    "df['date'] = pd.to_datetime(df.iloc[:,0])\n",
    "df = df.set_index('date')\n",
    "df = df.iloc[:,1:]\n",
    "df"
   ]
  },
  {
   "cell_type": "code",
   "execution_count": null,
   "metadata": {},
   "outputs": [],
   "source": [
    "common_factors = pd.concat([df.mean(axis=1), df.median(axis=1)], axis=1)\n",
    "common_factors.columns = ['mean', 'median']\n",
    "factor_stats = stockstats.StockDataFrame.retype(common_factors)\n",
    "common_factors['mean_60_ema'] =  factor_stats['mean_60_ema']\n",
    "common_factors['median_60_ema'] =  factor_stats['median_60_ema']\n",
    "common_factors"
   ]
  },
  {
   "cell_type": "code",
   "execution_count": null,
   "metadata": {},
   "outputs": [],
   "source": [
    "import random\n",
    "prices_df = pd.DataFrame()\n",
    "for col in df.columns:\n",
    "    base_price = random.randint(10,100)\n",
    "    accumulate_return = (df[col].cumsum())+1\n",
    "    accumulate_return = accumulate_return * base_price\n",
    "    prices_df = pd.concat([prices_df, accumulate_return], axis=1)\n",
    "prices_df.index.set_names(['date'], inplace=True)\n",
    "prices_df.index = pd.to_datetime(prices_df.index)\n",
    "prices_df = prices_df.shift(-1).dropna()\n",
    "prices_df"
   ]
  },
  {
   "cell_type": "code",
   "execution_count": null,
   "metadata": {},
   "outputs": [],
   "source": [
    "multiIndexFactors = pd.DataFrame()\n",
    "\n",
    "returns_df = df.transpose()\n",
    "returns_df.index.set_names(['code'], inplace=True)\n",
    "\n",
    "for col in returns_df.columns:\n",
    "    # 因子值\n",
    "    factor_mean = (returns_df[col]-common_factors.loc[col,'mean'])/common_factors.loc[col,'mean_60_ema']\n",
    "    factor_median = (returns_df[col]-common_factors.loc[col,'median'])/common_factors.loc[col,'median_60_ema']\n",
    "    factor_stock = pd.concat([factor_mean, factor_median], axis=1)\n",
    "    factor_stock.columns = ['mean_diff', 'median_diff']\n",
    "    factor_stock['date']= col\n",
    "    factor_stock.reset_index(inplace=True)\n",
    "    multiIndexFactors = multiIndexFactors.append(factor_stock)\n",
    "\n",
    "multiIndexFactors = multiIndexFactors.set_index(['date','code'])\n",
    "from scipy.stats import zscore",
    "multiIndexFactors = multiIndexFactors.apply(zscore)",
     "multiIndexFactors  "
   ]
  },
  {
   "cell_type": "code",
   "execution_count": null,
   "metadata": {},
   "outputs": [],
   "source": [
    "import alphalens\n",
    "\n",
    "factor_results = {}\n",
    "for col in multiIndexFactors.columns:\n",
    "    data = alphalens.utils.get_clean_factor_and_forward_returns(multiIndexFactors[col], prices_df, quantiles=5, periods=(1,5,20))\n",
    "    factor_results[col] = data"
   ]
  },
  {
   "cell_type": "code",
   "execution_count": null,
   "metadata": {},
   "outputs": [],
   "source": [
    "factor_results['mean_diff']"
   ]
  },
  {
   "cell_type": "code",
   "execution_count": null,
   "metadata": {
    "scrolled": false
   },
   "outputs": [],
   "source": [
    "alphalens.tears.create_full_tear_sheet(factor_results['median_diff'])"
   ]
  },
  {
   "cell_type": "code",
   "execution_count": null,
   "metadata": {},
   "outputs": [],
   "source": []
  }
 ],
 "metadata": {
  "kernelspec": {
   "display_name": "py37",
   "language": "python",
   "name": "py37"
  },
  "language_info": {
   "codemirror_mode": {
    "name": "ipython",
    "version": 3
   },
   "file_extension": ".py",
   "mimetype": "text/x-python",
   "name": "python",
   "nbconvert_exporter": "python",
   "pygments_lexer": "ipython3",
   "version": "3.7.12"
  }
 },
 "nbformat": 4,
 "nbformat_minor": 4
}
