{
 "cells": [
  {
   "cell_type": "markdown",
   "id": "bf9374e7",
   "metadata": {},
   "source": [
    "## Sentiment Classification based on PaddleNLP\n",
    "[PaddleNLP](https://github.com/PaddlePaddle/PaddleNLP) is a big NLP lib involve pretrained models and kinds of datasets. We can use it to process NLP tasks such as statistic stock sentiment by a large collection of comments.\n",
    "\n",
    "As a quik implements of some features we can check [this link](https://github.com/PaddlePaddle/PaddleNLP/blob/develop/docs/model_zoo/taskflow.md)\n",
    "\n",
    "In order to make up a model both fast and accurate. We can also use some pre-trained models to fit on transfrom trainning task. Check [API Document](https://paddlenlp.readthedocs.io/zh/latest/)\n",
    "\n",
    "In this page I record an example of how to analysis sentiment by stock comments."
   ]
  },
  {
   "cell_type": "markdown",
   "id": "2795a2b7",
   "metadata": {},
   "source": [
    "## Install\n",
    "As version update you can check and update below:\n",
    "\n",
    "git clone https://github.com/PaddlePaddle/PaddleNLP.git\n",
    "\n",
    "cd PaddleNLP\n",
    "\n",
    "git checkout develop"
   ]
  },
  {
   "cell_type": "code",
   "execution_count": 1,
   "id": "76ccd0f8",
   "metadata": {},
   "outputs": [],
   "source": [
    "## requirments\n",
    "# paddlepaddle>=2.4.1\n",
    "# paddleocr\n",
    "# pre-commit\n",
    "# pytest\n",
    "# parameterized\n",
    "# pytest-cov\n",
    "# regex\n",
    "# pytest-xdist\n",
    "# fast_tokenizer_python\n",
    "# emoji\n",
    "# ftfy\n",
    "# unidecode\n",
    "\n",
    "# ! pip install --upgrade paddlenlp -i https://pypi.tuna.tsinghua.edu.cn/simple"
   ]
  },
  {
   "cell_type": "markdown",
   "id": "08c7e23e",
   "metadata": {},
   "source": [
    "## Demo1\n",
    "We can use any word as extract dimension such as ‘情绪词’，‘观点词’，‘量词’"
   ]
  },
  {
   "cell_type": "code",
   "execution_count": 12,
   "id": "5adef10f",
   "metadata": {},
   "outputs": [
    {
     "name": "stderr",
     "output_type": "stream",
     "text": [
      "E0310 21:58:43.314036 239740416 analysis_config.cc:579] Please compile with MKLDNN first to use MKLDNN\n",
      "\u001b[32m[2023-03-10 21:58:44,330] [    INFO]\u001b[0m - We are using <class 'paddlenlp.transformers.ernie.tokenizer.ErnieTokenizer'> to load '/Users/jiaruiming/.paddlenlp/taskflow/sentiment_analysis/uie-senta-base'.\u001b[0m\n"
     ]
    }
   ],
   "source": [
    "from paddlenlp import Taskflow\n",
    "schema =  [{\"评价维度\":[\"情绪词\", \"情感倾向[正向,负向,未提及]\"]}]\n",
    "senta = Taskflow(\"sentiment_analysis\", model=\"uie-senta-base\", schema=schema)"
   ]
  },
  {
   "cell_type": "code",
   "execution_count": 13,
   "id": "280ebf2b",
   "metadata": {},
   "outputs": [
    {
     "data": {
      "text/plain": [
       "[{'评价维度': [{'text': '企业',\n",
       "    'start': 4,\n",
       "    'end': 6,\n",
       "    'probability': 0.8930553177697718,\n",
       "    'relations': {'情绪词': [{'text': '在意',\n",
       "       'start': 8,\n",
       "       'end': 10,\n",
       "       'probability': 0.5746942925425458}],\n",
       "     '情感倾向[正向,负向,未提及]': [{'text': '负向',\n",
       "       'probability': 0.9995962784110795}]}}]}]"
      ]
     },
     "execution_count": 13,
     "metadata": {},
     "output_type": "execute_result"
    }
   ],
   "source": [
    "senta('人家自己企业都不在意我们瞎操什么心。大不了一起没咯。')"
   ]
  },
  {
   "cell_type": "markdown",
   "id": "81edc756",
   "metadata": {},
   "source": [
    "## Demo 2\n",
    "This is just a fast sentiment model"
   ]
  },
  {
   "cell_type": "code",
   "execution_count": 23,
   "id": "38f90344",
   "metadata": {},
   "outputs": [
    {
     "name": "stderr",
     "output_type": "stream",
     "text": [
      "E0310 23:12:36.725665 239740416 analysis_config.cc:579] Please compile with MKLDNN first to use MKLDNN\n"
     ]
    },
    {
     "data": {
      "text/plain": [
       "[{'text': '跌得好，顶哌哌。', 'label': 'negative', 'score': 0.624422550201416}]"
      ]
     },
     "execution_count": 23,
     "metadata": {},
     "output_type": "execute_result"
    }
   ],
   "source": [
    "senta_fast = Taskflow(\"sentiment_analysis\")\n",
    "senta_fast(\"跌得好，顶哌哌。\")"
   ]
  },
  {
   "cell_type": "markdown",
   "id": "c6fa554d",
   "metadata": {},
   "source": [
    "## Demo 3\n",
    "Identify the batch_size, we can got input batch data"
   ]
  },
  {
   "cell_type": "code",
   "execution_count": 17,
   "id": "fc758716",
   "metadata": {},
   "outputs": [
    {
     "name": "stderr",
     "output_type": "stream",
     "text": [
      "E0310 22:10:48.471343 239740416 analysis_config.cc:579] Please compile with MKLDNN first to use MKLDNN\n",
      "\u001b[32m[2023-03-10 22:10:49,855] [    INFO]\u001b[0m - We are using <class 'paddlenlp.transformers.ernie.tokenizer.ErnieTokenizer'> to load '/Users/jiaruiming/.paddlenlp/taskflow/sentiment_analysis/uie-senta-base'.\u001b[0m\n"
     ]
    }
   ],
   "source": [
    "sentiment_list = [\n",
    "    \"总有那些人制造恐慌，小美到‖块，我把头给板登\",\n",
    "    \"春江未暖鸭先知，即将一反常态轰轰烈烈涨起来\",\n",
    "    \"接下来，需要调整日线的ADX指标了，跌幅会更大，或者需要更长时间的盘整。要扭转颓势的另一种方式是放量。没办法的事\",\n",
    "    \"板块表现看特一药业，周K承进攻态势\\n美诺华本周收小十字星，下周应跟随板块有所表现，图形指标都支持等待周kdj金叉，只待放量。\"\n",
    "]\n",
    "schema =  [\"情感倾向[正向,负向,未提及]\"]\n",
    "senta_fast = Taskflow(\"sentiment_analysis\", model = 'uie-senta-base', batch_size=50, schema=schema)"
   ]
  },
  {
   "cell_type": "code",
   "execution_count": 18,
   "id": "ca4a48e8",
   "metadata": {},
   "outputs": [
    {
     "data": {
      "text/plain": [
       "[{'情感倾向[正向,负向,未提及]': [{'text': '正向', 'probability': 0.9968331835140134}]},\n",
       " {'情感倾向[正向,负向,未提及]': [{'text': '正向', 'probability': 0.9824898061436187}]},\n",
       " {'情感倾向[正向,负向,未提及]': [{'text': '负向', 'probability': 0.5023584285346772}]},\n",
       " {'情感倾向[正向,负向,未提及]': [{'text': '正向', 'probability': 0.9941705345460861}]}]"
      ]
     },
     "execution_count": 18,
     "metadata": {},
     "output_type": "execute_result"
    }
   ],
   "source": [
    "senta_fast(sentiment_list)"
   ]
  },
  {
   "cell_type": "code",
   "execution_count": 21,
   "id": "dc2f95a3",
   "metadata": {},
   "outputs": [
    {
     "name": "stderr",
     "output_type": "stream",
     "text": [
      "\u001b[32m[2023-03-10 22:23:05,868] [    INFO]\u001b[0m - Downloading https://bj.bcebos.com/paddlenlp/models/transformers/ernie_3.0/ernie_3.0_base_zh_vocab.txt and saved to /Users/jiaruiming/.paddlenlp/models/uie-senta-base\u001b[0m\n",
      "\u001b[32m[2023-03-10 22:23:06,320] [    INFO]\u001b[0m - Downloading ernie_3.0_base_zh_vocab.txt from https://bj.bcebos.com/paddlenlp/models/transformers/ernie_3.0/ernie_3.0_base_zh_vocab.txt\u001b[0m\n",
      "100%|████████████████████████████████████████| 182k/182k [00:00<00:00, 1.71MB/s]\n",
      "\u001b[32m[2023-03-10 22:23:06,768] [    INFO]\u001b[0m - tokenizer config file saved in /Users/jiaruiming/.paddlenlp/models/uie-senta-base/tokenizer_config.json\u001b[0m\n",
      "\u001b[32m[2023-03-10 22:23:06,772] [    INFO]\u001b[0m - Special tokens file saved in /Users/jiaruiming/.paddlenlp/models/uie-senta-base/special_tokens_map.json\u001b[0m\n"
     ]
    }
   ],
   "source": [
    "# import paddlenlp\n",
    "# tokenizer = paddlenlp.transformers.ErnieTokenizer.from_pretrained('uie-senta-base')\n",
    "# encoded_text =tokenizer(text=\"板块表现看特一药业，周K承进攻态势\\n美诺华本周收小十字星，\\\n",
    "#                         下周应跟随板块有所表现，图形指标都支持等待周kdj金叉，只待放量。\")"
   ]
  },
  {
   "cell_type": "code",
   "execution_count": null,
   "id": "ae962ade",
   "metadata": {},
   "outputs": [],
   "source": []
  }
 ],
 "metadata": {
  "kernelspec": {
   "display_name": "py37",
   "language": "python",
   "name": "py37"
  },
  "language_info": {
   "codemirror_mode": {
    "name": "ipython",
    "version": 3
   },
   "file_extension": ".py",
   "mimetype": "text/x-python",
   "name": "python",
   "nbconvert_exporter": "python",
   "pygments_lexer": "ipython3",
   "version": "3.7.12"
  }
 },
 "nbformat": 4,
 "nbformat_minor": 5
}
