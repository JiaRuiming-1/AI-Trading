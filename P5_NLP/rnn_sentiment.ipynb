{
 "cells": [
  {
   "cell_type": "markdown",
   "metadata": {},
   "source": [
    "# Project 6: Analyzing Stock Sentiment from Twits\n",
    "## Instructions\n",
    "Each problem consists of a function to implement and instructions on how to implement the function.  The parts of the function that need to be implemented are marked with a `# TODO` comment.\n",
    "\n",
    "## Packages\n",
    "When you implement the functions, you'll only need to you use the packages you've used in the classroom, like [Pandas](https://pandas.pydata.org/) and [Numpy](http://www.numpy.org/). These packages will be imported for you. We recommend you don't add any import statements, otherwise the grader might not be able to run your code.\n",
    "\n",
    "### Load Packages"
   ]
  },
  {
   "cell_type": "code",
   "execution_count": 30,
   "metadata": {},
   "outputs": [],
   "source": [
    "import json\n",
    "import nltk\n",
    "import os\n",
    "import random\n",
    "import re\n",
    "import torch\n",
    "\n",
    "from torch import nn, optim\n",
    "import torch.nn.functional as F"
   ]
  },
  {
   "cell_type": "markdown",
   "metadata": {},
   "source": [
    "## Introduction\n",
    "When deciding the value of a company, it's important to follow the news. For example, a product recall or natural disaster in a company's product chain. You want to be able to turn this information into a signal. Currently, the best tool for the job is a Neural Network. \n",
    "\n",
    "For this project, you'll use posts from the social media site [StockTwits](https://en.wikipedia.org/wiki/StockTwits). The community on StockTwits is full of investors, traders, and entrepreneurs. Each message posted is called a Twit. This is similar to Twitter's version of a post, called a Tweet. You'll build a model around these twits that generate a sentiment score.\n",
    "\n",
    "We've collected a bunch of twits, then hand labeled the sentiment of each. To capture the degree of sentiment, we'll use a five-point scale: very negative, negative, neutral, positive, very positive. Each twit is labeled -2 to 2 in steps of 1, from very negative to very positive respectively. You'll build a sentiment analysis model that will learn to assign sentiment to twits on its own, using this labeled data.\n",
    "\n",
    "The first thing we should to do, is load the data.\n",
    "\n",
    "## Import Twits \n",
    "### Load Twits Data \n",
    "This JSON file contains a list of objects for each twit in the `'data'` field:\n",
    "\n",
    "```\n",
    "{'data':\n",
    "  {'message_body': 'Neutral twit body text here',\n",
    "   'sentiment': 0},\n",
    "  {'message_body': 'Happy twit body text here',\n",
    "   'sentiment': 1},\n",
    "   ...\n",
    "}\n",
    "```\n",
    "\n",
    "The fields represent the following:\n",
    "\n",
    "* `'message_body'`: The text of the twit.\n",
    "* `'sentiment'`: Sentiment score for the twit, ranges from -2 to 2 in steps of 1, with 0 being neutral.\n",
    "\n",
    "\n",
    "To see what the data look like by printing the first 10 twits from the list. "
   ]
  },
  {
   "cell_type": "code",
   "execution_count": 31,
   "metadata": {},
   "outputs": [
    {
     "name": "stdout",
     "output_type": "stream",
     "text": [
      "[{'message_body': '$FITB great buy at 26.00...ill wait', 'sentiment': 2, 'timestamp': '2018-07-01T00:00:09Z'}, {'message_body': '@StockTwits $MSFT', 'sentiment': 1, 'timestamp': '2018-07-01T00:00:42Z'}, {'message_body': '#STAAnalystAlert for $TDG : Jefferies Maintains with a rating of Hold setting target price at USD 350.00. Our own verdict is Buy  http://www.stocktargetadvisor.com/toprating', 'sentiment': 2, 'timestamp': '2018-07-01T00:01:24Z'}, {'message_body': '$AMD I heard there’s a guy who knows someone who thinks somebody knows something - on StockTwits.', 'sentiment': 1, 'timestamp': '2018-07-01T00:01:47Z'}, {'message_body': '$AMD reveal yourself!', 'sentiment': 0, 'timestamp': '2018-07-01T00:02:13Z'}, {'message_body': '$AAPL Why the drop? I warren Buffet taking out his position?', 'sentiment': 1, 'timestamp': '2018-07-01T00:03:10Z'}, {'message_body': '$BA bears have 1 reason on 06-29 to pay more attention https://dividendbot.com?s=BA', 'sentiment': -2, 'timestamp': '2018-07-01T00:04:09Z'}, {'message_body': '$BAC ok good we&#39;re not dropping in price over the weekend, lol', 'sentiment': 1, 'timestamp': '2018-07-01T00:04:17Z'}, {'message_body': '$AMAT - Daily Chart, we need to get back to above 50.', 'sentiment': 2, 'timestamp': '2018-07-01T00:08:01Z'}, {'message_body': '$GME 3% drop per week after spike... if no news in 3 months, back to 12s... if BO, then bingo... what is the odds?', 'sentiment': -2, 'timestamp': '2018-07-01T00:09:03Z'}]\n"
     ]
    }
   ],
   "source": [
    "# from shutil import copyfile\n",
    "# copyfile(os.path.join('..', '..', 'data', 'project_6_stocktwits', 'twits.json'), 'twits.json')\n",
    "with open(os.path.join('..', '..', 'data', 'project_6_stocktwits', 'twits.json'), 'r') as f:\n",
    "    twits = json.load(f)\n",
    "\n",
    "print(twits['data'][:10])"
   ]
  },
  {
   "cell_type": "markdown",
   "metadata": {},
   "source": [
    "### Length of Data\n",
    "Now let's look at the number of twits in dataset. Print the number of twits below."
   ]
  },
  {
   "cell_type": "code",
   "execution_count": 32,
   "metadata": {},
   "outputs": [
    {
     "name": "stdout",
     "output_type": "stream",
     "text": [
      "1548010\n"
     ]
    }
   ],
   "source": [
    "\"\"\"print out the number of twits\"\"\"\n",
    "\n",
    "# TODO Implement \n",
    "print(len(twits['data']))"
   ]
  },
  {
   "cell_type": "markdown",
   "metadata": {},
   "source": [
    "### Split Message Body and Sentiment Score"
   ]
  },
  {
   "cell_type": "code",
   "execution_count": 33,
   "metadata": {},
   "outputs": [],
   "source": [
    "messages = [twit['message_body'] for twit in twits['data']]\n",
    "# Since the sentiment scores are discrete, we'll scale the sentiments to 0 to 4 for use in our network\n",
    "sentiments = [twit['sentiment'] + 2 for twit in twits['data']]"
   ]
  },
  {
   "cell_type": "markdown",
   "metadata": {},
   "source": [
    "## Preprocessing the Data\n",
    "With our data in hand we need to preprocess our text. These twits are collected by filtering on ticker symbols where these are denoted with a leader $ symbol in the twit itself. For example,\n",
    "\n",
    "`{'message_body': 'RT @google Our annual look at the year in Google blogging (and beyond) http://t.co/sptHOAh8 $GOOG',\n",
    " 'sentiment': 0}`\n",
    "\n",
    "The ticker symbols don't provide information on the sentiment, and they are in every twit, so we should remove them. This twit also has the `@google` username, again not providing sentiment information, so we should also remove it. We also see a URL `http://t.co/sptHOAh8`. Let's remove these too.\n",
    "\n",
    "The easiest way to remove specific words or phrases is with regex using the `re` module. You can sub out specific patterns with a space:\n",
    "\n",
    "```python\n",
    "re.sub(pattern, ' ', text)\n",
    "```\n",
    "This will substitute a space with anywhere the pattern matches in the text. Later when we tokenize the text, we'll split appropriately on those spaces."
   ]
  },
  {
   "cell_type": "markdown",
   "metadata": {},
   "source": [
    "### Pre-Processing"
   ]
  },
  {
   "cell_type": "code",
   "execution_count": 34,
   "metadata": {},
   "outputs": [
    {
     "name": "stdout",
     "output_type": "stream",
     "text": [
      "[nltk_data] Downloading package wordnet to /root/nltk_data...\n",
      "[nltk_data]   Package wordnet is already up-to-date!\n"
     ]
    }
   ],
   "source": [
    "nltk.download('wordnet')\n",
    "\n",
    "def preprocess(message):\n",
    "    \"\"\"\n",
    "    This function takes a string as input, then performs these operations: \n",
    "        - lowercase\n",
    "        - remove URLs\n",
    "        - remove ticker symbols \n",
    "        - removes punctuation\n",
    "        - tokenize by splitting the string on whitespace \n",
    "        - removes any single character tokens\n",
    "    \n",
    "    Parameters\n",
    "    ----------\n",
    "        message : The text message to be preprocessed.\n",
    "        \n",
    "    Returns\n",
    "    -------\n",
    "        tokens: The preprocessed text into tokens.\n",
    "    \"\"\" \n",
    "    #TODO: Implement \n",
    "    \n",
    "    # Lowercase the twit message\n",
    "    text = message.lower()\n",
    "    \n",
    "    # Replace URLs with a space in the message\n",
    "    #text = re.sub(r' http://.+ ', ' ', message)\n",
    "    text = re.sub(r'https?://.*[\\r\\n]*', ' ', text)\n",
    "    \n",
    "    # Replace ticker symbols with a space. The ticker symbols are any stock symbol that starts with $.\n",
    "    regex = re.compile(r'\\$\\w+')\n",
    "    text = regex.sub(' ', text)\n",
    "    \n",
    "    # Replace StockTwits usernames with a space. The usernames are any word that starts with @.\n",
    "    regex = re.compile(r'@\\w+')\n",
    "    text = regex.sub(' ', text)\n",
    "\n",
    "    # Replace everything not a letter with a space\n",
    "    regex = re.compile(r'(\\W|\\d)')\n",
    "    text = regex.sub(' ', text)\n",
    "    \n",
    "    # Tokenize by splitting the string on whitespace into a list of words\n",
    "    tokens = text.split()\n",
    "\n",
    "    # Lemmatize words using the WordNetLemmatizer. You can ignore any word that is not longer than one character.\n",
    "    wnl = nltk.stem.WordNetLemmatizer()\n",
    "    tokens = [wnl.lemmatize(_, pos='v') for _ in tokens if len(_)>1 ]\n",
    "    tokens = [wnl.lemmatize(_) for _ in tokens]\n",
    "    \n",
    "    assert type(tokens) == list, 'Tokens should be list'\n",
    "    return tokens\n",
    "\n",
    "#test_text = 'RT @google Our annual look at the year in Google blogging (and beyond) 100.25 http://t.co/sptHOAh8 $GOOG'\n",
    "#print(preprocess(test_text))"
   ]
  },
  {
   "cell_type": "markdown",
   "metadata": {},
   "source": [
    ">Note: You must ensure that after preprocessing the text should NOT include:\n",
    "- Numbers\n",
    "- URLs\n",
    "- Single character tokens\n",
    "- Ticker symbols (these should be removed even if they don't appear at the beginning)"
   ]
  },
  {
   "cell_type": "markdown",
   "metadata": {},
   "source": [
    "### Preprocess All the Twits \n",
    "Now we can preprocess each of the twits in our dataset. Apply the function `preprocess` to all the twit messages."
   ]
  },
  {
   "cell_type": "code",
   "execution_count": 35,
   "metadata": {},
   "outputs": [
    {
     "name": "stdout",
     "output_type": "stream",
     "text": [
      "[['great', 'buy', 'at', 'ill', 'wait'], [], ['staanalystalert', 'for', 'jefferies', 'maintain', 'with', 'rat', 'of', 'hold', 'set', 'target', 'price', 'at', 'usd', 'our', 'own', 'verdict', 'be', 'buy'], ['hear', 'there', 'guy', 'who', 'know', 'someone', 'who', 'think', 'somebody', 'know', 'something', 'on', 'stocktwits'], ['reveal', 'yourself']]\n"
     ]
    }
   ],
   "source": [
    "# TODO Implement\n",
    "tokenized = []\n",
    "for message in messages[:800000]:\n",
    "    tocken = preprocess(message)\n",
    "    tokenized.append(tocken)\n",
    "print(tokenized[:5])"
   ]
  },
  {
   "cell_type": "markdown",
   "metadata": {},
   "source": [
    "### Bag of Words\n",
    "Now with all of our messages tokenized, we want to create a vocabulary and count up how often each word appears in our entire corpus. Use the [`Counter`](https://docs.python.org/3.1/library/collections.html#collections.Counter) function to count up all the tokens."
   ]
  },
  {
   "cell_type": "code",
   "execution_count": 36,
   "metadata": {},
   "outputs": [],
   "source": [
    "from collections import Counter\n",
    "\n",
    "\"\"\"\n",
    "Create a vocabulary by using Bag of words\n",
    "\"\"\"\n",
    "bow = Counter()\n",
    "for tokens in tokenized:\n",
    "    bow.update(tokens)\n",
    "vocab = sorted(bow, key=bow.get, reverse=True)\n",
    "vocab_to_int = {word: ii for ii, word in enumerate(vocab, 1)}\n",
    "int_to_vocab = {ii: word for word, ii in vocab_to_int.items()}\n",
    "# print(vocab_to_int)\n",
    "# print(int_to_vocab)"
   ]
  },
  {
   "cell_type": "markdown",
   "metadata": {},
   "source": [
    "### Frequency of Words Appearing in Message\n",
    "With our vocabulary, now we'll remove some of the most common words such as 'the', 'and', 'it', etc. These words don't contribute to identifying sentiment and are really common, resulting in a lot of noise in our input. If we can filter these out, then our network should have an easier time learning.\n",
    "\n",
    "We also want to remove really rare words that show up in a only a few twits. Here you'll want to divide the count of each word by the **number of messages** calculated in the code block above (i.e. `len(messages))`. Then remove words that only appear in some small fraction of the messages.\n",
    "\n",
    ">Note: There is not an exact number for low and high-frequency cut-offs, however there is a correct optimal range.\n",
    "You should ideally set up low-frequency cut-off from 0.0000002 to 0.000007 (inclusive) and high-frequency from 5 to 20 (inclusive). If the number is too big, we lose lots of important words that we can use in our data."
   ]
  },
  {
   "cell_type": "code",
   "execution_count": 37,
   "metadata": {},
   "outputs": [
    {
     "name": "stdout",
     "output_type": "stream",
     "text": [
      "[('be', 295107), ('the', 200754), ('to', 199473), ('for', 143127), ('on', 127635), ('of', 108026), ('and', 105843), ('in', 105548), ('this', 102037), ('it', 97532), ('at', 76037), ('will', 66082), ('up', 61542), ('report', 61148), ('buy', 60158), ('have', 54218), ('go', 54191), ('you', 47456)]\n",
      "62280 62262\n"
     ]
    }
   ],
   "source": [
    "import numpy as np\n",
    "\n",
    "# Dictionart that contains the Frequency of words appearing in messages.\n",
    "# The key is the token and the value is the frequency of that word in the corpus.\n",
    "total_word_count = sum(bow.values())\n",
    "freqs = {word: count/total_word_count for word, count in vocab_to_int.items()}\n",
    "\n",
    "# Float that is the frequency cutoff. Drop words with a frequency that is lower or equal to this number.\n",
    "low_cutoff = 0.0000002\n",
    "\n",
    "# Integer that is the cut off for most common words. Drop words that are the `high_cutoff` most common words.\n",
    "high_cutoff = 18\n",
    "\n",
    "# The k most common words in the corpus. Use `high_cutoff` as the k.\n",
    "K_most_common = [entry[0] for entry in bow.most_common(high_cutoff) ]\n",
    "\n",
    "filtered_words = [word for word in freqs.keys() if (freqs[word] > low_cutoff and word not in K_most_common)]\n",
    "\n",
    "print(bow.most_common(high_cutoff))\n",
    "print(len(vocab_to_int),len(filtered_words))"
   ]
  },
  {
   "cell_type": "markdown",
   "metadata": {},
   "source": [
    "### Updating Vocabulary by Removing Filtered Words\n",
    "Let's creat three variables that will help with our vocabulary."
   ]
  },
  {
   "cell_type": "code",
   "execution_count": 38,
   "metadata": {},
   "outputs": [],
   "source": [
    "\"\"\"\n",
    "Set the following variables:\n",
    "    vocab\n",
    "    id2vocab\n",
    "    filtered\n",
    "\"\"\"\n",
    "\n",
    "# A dictionary for the `filtered_words`. The key is the word and value is an id that represents the word.\n",
    "vocab = {word: word_id for word_id, word in enumerate(filtered_words, 1)}\n",
    "# Reverse of the `vocab` dictionary. The key is word id and value is the word.\n",
    "id2vocab = {val: key for key, val in vocab.items()}\n",
    "# tokenized with the words not in `filtered_words` removed.\n",
    "filtered = [[token for token in message if token in vocab] for message in tokenized]\n",
    "assert set(vocab.keys()) == set(id2vocab.values()), 'Check vocab and id2vocab dictionaries'"
   ]
  },
  {
   "cell_type": "markdown",
   "metadata": {},
   "source": [
    "### Balancing the classes\n",
    "Let's do a few last pre-processing steps. If we look at how our twits are labeled, we'll find that 50% of them are neutral. This means that our network will be 50% accurate just by guessing 0 every single time. To help our network learn appropriately, we'll want to balance our classes.\n",
    "That is, make sure each of our different sentiment scores show up roughly as frequently in the data.\n",
    "\n",
    "What we can do here is go through each of our examples and randomly drop twits with neutral sentiment. What should be the probability we drop these twits if we want to get around 20% neutral twits starting at 50% neutral? We should also take this opportunity to remove messages with length 0."
   ]
  },
  {
   "cell_type": "code",
   "execution_count": 39,
   "metadata": {},
   "outputs": [],
   "source": [
    "balanced = {'messages': [], 'sentiments':[]}\n",
    "n_neutral = sum(1 for each in sentiments if each == 2)\n",
    "N_examples = len(sentiments)\n",
    "keep_prob = (N_examples - n_neutral)/4/n_neutral\n",
    "\n",
    "for idx, sentiment in enumerate(sentiments[:len(tokenized)]):\n",
    "    message = filtered[idx]\n",
    "    if len(message) == 0:\n",
    "        # skip this message because it has length zero\n",
    "        continue\n",
    "    elif sentiment != 2 or random.random() < keep_prob:\n",
    "        balanced['messages'].append(message)\n",
    "        balanced['sentiments'].append(sentiment)\n",
    "\n",
    "# print(balanced['messages'][8:10] )\n",
    "# print(balanced['sentiments'][8:10])\n",
    "# print(len(balanced['messages'])==len(balanced['sentiments']))"
   ]
  },
  {
   "cell_type": "markdown",
   "metadata": {},
   "source": [
    "If you did it correctly, you should see the following result "
   ]
  },
  {
   "cell_type": "code",
   "execution_count": 40,
   "metadata": {},
   "outputs": [
    {
     "name": "stdout",
     "output_type": "stream",
     "text": [
      "0.19778779776740532\n",
      "[['great', 'ill', 'wait'], ['staanalystalert', 'jefferies', 'maintain', 'with', 'rat', 'hold', 'set', 'target', 'price', 'usd', 'our', 'own', 'verdict'], ['hear', 'there', 'guy', 'who', 'know', 'someone', 'who', 'think', 'somebody', 'know', 'something', 'stocktwits'], ['why', 'drop', 'warren', 'buffet', 'take', 'out', 'his', 'position'], ['bear', 'reason', 'pay', 'more', 'attention'], ['ok', 'good', 'we', 're', 'not', 'drop', 'price', 'over', 'weekend', 'lol'], ['daily', 'chart', 'we', 'need', 'get', 'back', 'above'], ['drop', 'per', 'week', 'after', 'spike', 'if', 'no', 'news', 'month', 'back', 'if', 'bo', 'then', 'bingo', 'what', 'odds'], ['strong'], ['short', 'ratio', 'short', 'float']]\n",
      "[4, 4, 3, 3, 0, 3, 4, 0, 4, 0]\n"
     ]
    }
   ],
   "source": [
    "n_neutral = sum(1 for each in balanced['sentiments'] if each == 2)\n",
    "N_examples = len(balanced['sentiments'])\n",
    "print(n_neutral/N_examples)\n",
    "\n",
    "print(balanced['messages'][:10])\n",
    "print(balanced['sentiments'][:10])"
   ]
  },
  {
   "cell_type": "markdown",
   "metadata": {},
   "source": [
    "Finally let's convert our tokens into integer ids which we can pass to the network."
   ]
  },
  {
   "cell_type": "code",
   "execution_count": 41,
   "metadata": {},
   "outputs": [],
   "source": [
    "token_ids = [[vocab[word] for word in message] for message in balanced['messages']]\n",
    "# token_freqs = [[vocab[word]/words_count for word in message] for message in balanced['messages']]\n",
    "sentiments = balanced['sentiments']"
   ]
  },
  {
   "cell_type": "markdown",
   "metadata": {},
   "source": [
    "## Neural Network\n",
    "Now we have our vocabulary which means we can transform our tokens into ids, which are then passed to our network. So, let's define the network now!\n",
    "\n",
    "Here is a nice diagram showing the network we'd like to build: \n",
    "\n",
    "#### Embed -> RNN -> Dense -> Softmax\n",
    "### Implement the text classifier\n",
    "Before we build text classifier, if you remember from the other network that you built in  \"Sentiment Analysis with an RNN\"  exercise  - which there, the network called \" SentimentRNN\", here we named it \"TextClassifer\" - consists of three main parts: 1) init function `__init__` 2) forward pass `forward`  3) hidden state `init_hidden`. \n",
    "\n",
    "This network is pretty similar to the network you built expect in the  `forward` pass, we use softmax instead of sigmoid. The reason we are not using sigmoid is that the output of NN is not a binary. In our network, sentiment scores have 5 possible outcomes. We are looking for an outcome with the highest probability thus softmax is a better choice."
   ]
  },
  {
   "cell_type": "code",
   "execution_count": 42,
   "metadata": {},
   "outputs": [],
   "source": [
    "class TextClassifier(nn.Module):\n",
    "    def __init__(self, vocab_size, embed_size, lstm_size, output_size, lstm_layers=1, dropout=0.1):\n",
    "        \"\"\"\n",
    "        Initialize the model by setting up the layers.\n",
    "\n",
    "        Parameters\n",
    "        ----------\n",
    "            vocab_size : The vocabulary size.\n",
    "            embed_size : The embedding layer size.\n",
    "            lstm_size : The LSTM layer size.\n",
    "            output_size : The output size.\n",
    "            lstm_layers : The number of LSTM layers.\n",
    "            dropout : The dropout probability.\n",
    "        \"\"\"\n",
    "        super().__init__()\n",
    "        self.vocab_size = vocab_size\n",
    "        self.embed_size = embed_size\n",
    "        self.lstm_size = lstm_size\n",
    "        self.output_size = output_size\n",
    "        self.lstm_layers = lstm_layers\n",
    "        self.dropout = dropout\n",
    "\n",
    "        self.embedding = nn.Embedding(vocab_size, embed_size)\n",
    "        self.lstm = nn.LSTM(embed_size, lstm_size, lstm_layers,\n",
    "                            dropout=dropout, batch_first=False)\n",
    "\n",
    "        self.dropout = nn.Dropout(0.2)\n",
    "\n",
    "        self.fc = nn.Linear(lstm_size, output_size)\n",
    "        self.logsoftmax = nn.LogSoftmax(dim=1)\n",
    "\n",
    "    def init_hidden(self, batch_size):\n",
    "        \"\"\"\n",
    "        Initializes hidden state\n",
    "\n",
    "        Parameters\n",
    "        ----------\n",
    "            batch_size : The size of batches.\n",
    "\n",
    "        Returns\n",
    "        -------\n",
    "            hidden_state\n",
    "\n",
    "        \"\"\"\n",
    "        # Create two new tensors with sizes n_layers x batch_size x hidden_dim,\n",
    "        # initialized to zero, for hidden state and cell state of LSTM\n",
    "        weight = next(self.parameters()).data\n",
    "        hidden = (weight.new(self.lstm_layers, batch_size, self.lstm_size).zero_(),\n",
    "                  weight.new(self.lstm_layers, batch_size, self.lstm_size).zero_())\n",
    "        return hidden\n",
    "\n",
    "    def forward(self, nn_input, hidden_state):\n",
    "        \"\"\"\n",
    "        Perform a forward pass of our model on nn_input.\n",
    "\n",
    "        Parameters\n",
    "        ----------\n",
    "            nn_input : The batch of input to the NN.\n",
    "            hidden_state : The LSTM hidden state.\n",
    "\n",
    "        Returns\n",
    "        -------\n",
    "            logps: log softmax output\n",
    "            hidden_state: The new hidden state.\n",
    "\n",
    "        \"\"\"\n",
    "        batch_size = nn_input.size(0)\n",
    "        embed_output = self.embedding(nn_input)\n",
    "        \n",
    "        lstm_output, hidden_state = self.lstm(embed_output, hidden_state)\n",
    "        lstm_output = lstm_output[-1, :, :]\n",
    "        \n",
    "        drop_output = self.dropout(lstm_output)\n",
    "        # drop_output = drop_output.contiguous().view(-1, self.lstm_size)\n",
    "        \n",
    "        liner_output = self.fc(drop_output)\n",
    "        log_output = self.logsoftmax(liner_output)\n",
    "        \n",
    "        return log_output, hidden_state"
   ]
  },
  {
   "cell_type": "markdown",
   "metadata": {},
   "source": [
    "### View Model"
   ]
  },
  {
   "cell_type": "code",
   "execution_count": 43,
   "metadata": {},
   "outputs": [
    {
     "name": "stdout",
     "output_type": "stream",
     "text": [
      "tensor([[-1.4230, -1.6054, -1.4891, -1.6034, -2.0294],\n",
      "        [-1.3391, -1.6787, -1.4412, -1.6563, -2.0889],\n",
      "        [-1.3338, -1.5636, -1.5158, -1.7188, -2.0540],\n",
      "        [-1.5040, -1.5092, -1.5465, -1.6173, -1.9294]])\n"
     ]
    }
   ],
   "source": [
    "model = TextClassifier(len(vocab), 10, 6, 5, dropout=0.1, lstm_layers=2)\n",
    "model.embedding.weight.data.uniform_(-1, 1)\n",
    "input = torch.randint(0, 1000, (5, 4), dtype=torch.int64)\n",
    "hidden = model.init_hidden(4)\n",
    "logps, _ = model.forward(input, hidden)\n",
    "print(np.exp(logps)"
   ]
  },
  {
   "cell_type": "markdown",
   "metadata": {},
   "source": [
    "## Training\n",
    "### DataLoaders and Batching\n",
    "Now we should build a generator that we can use to loop through our data. It'll be more efficient if we can pass our sequences in as batches. Our input tensors should look like `(sequence_length, batch_size)`. So if our sequences are 40 tokens long and we pass in 25 sequences, then we'd have an input size of `(40, 25)`.\n",
    "\n",
    "If we set our sequence length to 40, what do we do with messages that are more or less than 40 tokens? For messages with fewer than 40 tokens, we will pad the empty spots with zeros. We should be sure to **left** pad so that the RNN starts from nothing before going through the data. If the message has 20 tokens, then the first 20 spots of our 40 long sequence will be 0. If a message has more than 40 tokens, we'll just keep the first 40 tokens."
   ]
  },
  {
   "cell_type": "code",
   "execution_count": 44,
   "metadata": {},
   "outputs": [],
   "source": [
    "def dataloader(messages, labels, sequence_length=30, batch_size=32, shuffle=False):\n",
    "    \"\"\"\n",
    "    Build a dataloader.\n",
    "    \"\"\"\n",
    "    if shuffle:\n",
    "        indices = list(range(len(messages)))\n",
    "        random.shuffle(indices)\n",
    "        messages = [messages[idx] for idx in indices]\n",
    "        labels = [labels[idx] for idx in indices]\n",
    "\n",
    "    total_sequences = len(messages)\n",
    "    odd_lenth = total_sequences % (sequence_length * batch_size)\n",
    "    total_sequences = total_sequences - odd_lenth\n",
    "\n",
    "    for ii in range(0, total_sequences, batch_size):\n",
    "        batch_messages = messages[ii: ii + batch_size]\n",
    "\n",
    "        # First initialize a tensor of all zeros\n",
    "        batch = torch.zeros((sequence_length, len(batch_messages)), dtype=torch.int64)\n",
    "        for batch_num, tokens in enumerate(batch_messages):\n",
    "            token_tensor = torch.tensor(tokens)\n",
    "            # Left pad!\n",
    "            start_idx = max(sequence_length - len(token_tensor), 0)\n",
    "            batch[start_idx:, batch_num] = token_tensor[:sequence_length]\n",
    "\n",
    "        label_tensor = torch.tensor(labels[ii: ii + len(batch_messages)])\n",
    "\n",
    "        yield batch, label_tensor"
   ]
  },
  {
   "cell_type": "markdown",
   "metadata": {},
   "source": [
    "### Training and  Validation\n",
    "With our data in nice shape, we'll split it into training and validation sets."
   ]
  },
  {
   "cell_type": "code",
   "execution_count": 45,
   "metadata": {},
   "outputs": [],
   "source": [
    "\"\"\"\n",
    "Split data into training and validation datasets. Use an appropriate split size.\n",
    "The features are the `token_ids` and the labels are the `sentiments`.\n",
    "\"\"\"   \n",
    "\n",
    "valid_split = int(len(token_ids)*0.9)\n",
    "train_features = token_ids[:valid_split]  \n",
    "valid_features = token_ids[valid_split:]\n",
    "train_labels = sentiments[:valid_split] \n",
    "valid_labels = sentiments[valid_split:]"
   ]
  },
  {
   "cell_type": "code",
   "execution_count": 46,
   "metadata": {},
   "outputs": [
    {
     "name": "stdout",
     "output_type": "stream",
     "text": [
      "tensor([[    0,     0,     0,     0,     0],\n",
      "        [    0,     0,     0,     0,     0],\n",
      "        [    0,     0,     0,     0,     0],\n",
      "        [    0,     0,     0,     0,     0],\n",
      "        [    0,     0,     0,     0,     0],\n",
      "        [    0,     0,     0,     0,     0],\n",
      "        [    0,     0,     0,     0,     0],\n",
      "        [    0,   543,     0,     0,     0],\n",
      "        [    0,  1238,   562,     0,     0],\n",
      "        [    0,   939,   101,     0,     0],\n",
      "        [    0,    13,   186,     0,     0],\n",
      "        [    0,   143,   149,     0,     0],\n",
      "        [    0,    49,   120,   122,     0],\n",
      "        [    0,   241,   445,   118,     0],\n",
      "        [    0,   154,   149,  1324,     0],\n",
      "        [    0,    47,    72,  1057,    71],\n",
      "        [    0,   647,  1338,    74,   301],\n",
      "        [  139,   211,   120,    24,   214],\n",
      "        [ 1509,   225,   387,   373,    25],\n",
      "        [  134,   579,  1096,   121,   550]]) tensor([ 4,  4,  3,  3,  0])\n",
      "[[139, 1509, 134], [543, 1238, 939, 13, 143, 49, 241, 154, 47, 647, 211, 225, 579], [562, 101, 186, 149, 120, 445, 149, 72, 1338, 120, 387, 1096], [122, 118, 1324, 1057, 74, 24, 373, 121], [71, 301, 214, 25, 550]] [4, 4, 3, 3, 0]\n"
     ]
    }
   ],
   "source": [
    "text_batch, labels = next(iter(dataloader(train_features, train_labels, sequence_length=20, batch_size=64)))\n",
    "model = TextClassifier(len(vocab)+1, 200, 128, 5, dropout=0.)\n",
    "hidden = model.init_hidden(64)\n",
    "logps, hidden = model.forward(text_batch, hidden)\n",
    "top_p, top_class = logps.topk(1, dim=1)\n",
    "# print(top_class.view(labels.shape))\n",
    "# print(labels)\n",
    "# print(top_class==labels)\n",
    "print(text_batch[:,:5], labels[:5])\n",
    "print(train_features[:5], train_labels[:5])\n",
    "#mean_message = [[id2vocab[idx] for idx in idxs] for idxs in train_features[:5]]\n",
    "#print(mean_message)"
   ]
  },
  {
   "cell_type": "markdown",
   "metadata": {},
   "source": [
    "### Training\n",
    "It's time to train the neural network!"
   ]
  },
  {
   "cell_type": "code",
   "execution_count": 79,
   "metadata": {},
   "outputs": [
    {
     "data": {
      "text/plain": [
       "TextClassifier(\n",
       "  (embedding): Embedding(62263, 1024)\n",
       "  (lstm): LSTM(1024, 512, num_layers=2, dropout=0.5)\n",
       "  (dropout): Dropout(p=0.2)\n",
       "  (fc): Linear(in_features=512, out_features=5, bias=True)\n",
       "  (logsoftmax): LogSoftmax()\n",
       ")"
      ]
     },
     "execution_count": 79,
     "metadata": {},
     "output_type": "execute_result"
    }
   ],
   "source": [
    "device = torch.device(\"cuda\" if torch.cuda.is_available() else \"cpu\")\n",
    "\n",
    "model = TextClassifier(len(vocab)+1, 1024, 512, 5, lstm_layers=2, dropout=0.5)\n",
    "model.embedding.weight.data.uniform_(-1, 1)\n",
    "model.to(device)"
   ]
  },
  {
   "cell_type": "code",
   "execution_count": 80,
   "metadata": {
    "scrolled": true
   },
   "outputs": [
    {
     "name": "stdout",
     "output_type": "stream",
     "text": [
      "Starting epoch 1\n",
      "steps 100.. Train loss: 1.230.. valid loss: 1.130.. valid accuracy: 0.513\n",
      "steps 200.. Train loss: 1.023.. valid loss: 1.044.. valid accuracy: 0.558\n",
      "steps 300.. Train loss: 0.967.. valid loss: 0.996.. valid accuracy: 0.578\n",
      "steps 400.. Train loss: 0.925.. valid loss: 0.965.. valid accuracy: 0.591\n",
      "steps 500.. Train loss: 0.917.. valid loss: 0.955.. valid accuracy: 0.597\n",
      "steps 600.. Train loss: 0.893.. valid loss: 0.937.. valid accuracy: 0.605\n",
      "steps 700.. Train loss: 0.880.. valid loss: 0.918.. valid accuracy: 0.616\n",
      "steps 800.. Train loss: 0.870.. valid loss: 0.922.. valid accuracy: 0.612\n",
      "steps 900.. Train loss: 0.857.. valid loss: 0.906.. valid accuracy: 0.616\n",
      "steps 1000.. Train loss: 0.852.. valid loss: 0.901.. valid accuracy: 0.624\n",
      "steps 1100.. Train loss: 0.839.. valid loss: 0.895.. valid accuracy: 0.623\n",
      "steps 1200.. Train loss: 0.848.. valid loss: 0.888.. valid accuracy: 0.625\n",
      "steps 1300.. Train loss: 0.837.. valid loss: 0.891.. valid accuracy: 0.628\n",
      "steps 1400.. Train loss: 0.842.. valid loss: 0.881.. valid accuracy: 0.630\n",
      "steps 1500.. Train loss: 0.828.. valid loss: 0.880.. valid accuracy: 0.630\n",
      "steps 1600.. Train loss: 0.822.. valid loss: 0.876.. valid accuracy: 0.632\n",
      "steps 1700.. Train loss: 0.816.. valid loss: 0.875.. valid accuracy: 0.633\n",
      "steps 1800.. Train loss: 0.815.. valid loss: 0.872.. valid accuracy: 0.633\n",
      "Starting epoch 2\n",
      "steps 100.. Train loss: 0.751.. valid loss: 0.878.. valid accuracy: 0.632\n",
      "steps 200.. Train loss: 0.761.. valid loss: 0.879.. valid accuracy: 0.633\n",
      "steps 300.. Train loss: 0.763.. valid loss: 0.875.. valid accuracy: 0.636\n",
      "steps 400.. Train loss: 0.757.. valid loss: 0.882.. valid accuracy: 0.634\n",
      "steps 500.. Train loss: 0.771.. valid loss: 0.872.. valid accuracy: 0.635\n",
      "steps 600.. Train loss: 0.762.. valid loss: 0.877.. valid accuracy: 0.637\n",
      "steps 700.. Train loss: 0.777.. valid loss: 0.867.. valid accuracy: 0.638\n",
      "steps 800.. Train loss: 0.770.. valid loss: 0.867.. valid accuracy: 0.636\n",
      "steps 900.. Train loss: 0.765.. valid loss: 0.872.. valid accuracy: 0.635\n",
      "steps 1000.. Train loss: 0.765.. valid loss: 0.868.. valid accuracy: 0.634\n",
      "steps 1100.. Train loss: 0.765.. valid loss: 0.862.. valid accuracy: 0.641\n",
      "steps 1200.. Train loss: 0.765.. valid loss: 0.861.. valid accuracy: 0.638\n",
      "steps 1300.. Train loss: 0.759.. valid loss: 0.860.. valid accuracy: 0.641\n",
      "steps 1400.. Train loss: 0.770.. valid loss: 0.860.. valid accuracy: 0.641\n",
      "steps 1500.. Train loss: 0.755.. valid loss: 0.862.. valid accuracy: 0.641\n",
      "steps 1600.. Train loss: 0.760.. valid loss: 0.855.. valid accuracy: 0.640\n",
      "steps 1700.. Train loss: 0.771.. valid loss: 0.857.. valid accuracy: 0.640\n",
      "steps 1800.. Train loss: 0.759.. valid loss: 0.859.. valid accuracy: 0.641\n",
      "Starting epoch 3\n",
      "steps 100.. Train loss: 0.665.. valid loss: 0.891.. valid accuracy: 0.636\n",
      "steps 200.. Train loss: 0.669.. valid loss: 0.895.. valid accuracy: 0.637\n",
      "steps 300.. Train loss: 0.681.. valid loss: 0.880.. valid accuracy: 0.637\n",
      "steps 400.. Train loss: 0.689.. valid loss: 0.881.. valid accuracy: 0.637\n",
      "steps 500.. Train loss: 0.686.. valid loss: 0.893.. valid accuracy: 0.634\n",
      "steps 600.. Train loss: 0.690.. valid loss: 0.887.. valid accuracy: 0.640\n",
      "steps 700.. Train loss: 0.689.. valid loss: 0.887.. valid accuracy: 0.638\n",
      "steps 800.. Train loss: 0.699.. valid loss: 0.881.. valid accuracy: 0.640\n",
      "steps 900.. Train loss: 0.696.. valid loss: 0.887.. valid accuracy: 0.637\n",
      "steps 1000.. Train loss: 0.699.. valid loss: 0.882.. valid accuracy: 0.636\n",
      "steps 1100.. Train loss: 0.707.. valid loss: 0.877.. valid accuracy: 0.637\n",
      "steps 1200.. Train loss: 0.691.. valid loss: 0.878.. valid accuracy: 0.638\n",
      "steps 1300.. Train loss: 0.700.. valid loss: 0.877.. valid accuracy: 0.637\n",
      "steps 1400.. Train loss: 0.688.. valid loss: 0.887.. valid accuracy: 0.639\n",
      "steps 1500.. Train loss: 0.702.. valid loss: 0.880.. valid accuracy: 0.639\n",
      "steps 1600.. Train loss: 0.698.. valid loss: 0.877.. valid accuracy: 0.641\n",
      "steps 1700.. Train loss: 0.704.. valid loss: 0.876.. valid accuracy: 0.641\n",
      "steps 1800.. Train loss: 0.710.. valid loss: 0.866.. valid accuracy: 0.645\n"
     ]
    }
   ],
   "source": [
    "def train(epochs, batch_size, learning_rate):\n",
    "    print_every = 100\n",
    "    criterion = nn.NLLLoss()\n",
    "    optimizer = optim.Adam(model.parameters(), lr=learning_rate)\n",
    "    model.train()\n",
    "\n",
    "    for epoch in range(epochs):\n",
    "        print('Starting epoch {}'.format(epoch + 1))\n",
    "        steps = 0\n",
    "        train_loss = 0\n",
    "\n",
    "        hidden = model.init_hidden(batch_size)\n",
    "        for text_batch, labels in dataloader(\n",
    "                train_features, train_labels, batch_size=batch_size, sequence_length=20, shuffle=True):\n",
    "            steps += 1\n",
    "            # Set Device\n",
    "            # text_batch, labels = torch.LongTensor(text_batch), torch.LongTensor(labels)\n",
    "            text_batch, labels = text_batch.to(device), labels.to(device)\n",
    "            for each in hidden:\n",
    "                each.to(device)\n",
    "\n",
    "            model.zero_grad()\n",
    "            hidden = tuple([each.data for each in hidden])\n",
    "\n",
    "            log_output, hidden = model.forward(text_batch, hidden)\n",
    "            loss = criterion(log_output.squeeze(), labels.long())\n",
    "            loss.backward()\n",
    "            nn.utils.clip_grad_norm_(model.parameters(), 5)\n",
    "            optimizer.step()\n",
    "\n",
    "            train_loss += loss.item()\n",
    "\n",
    "            if steps % print_every == 0:\n",
    "                valid_loss = []\n",
    "                model.eval()\n",
    "                accuracy = 0\n",
    "                val_hidden = model.init_hidden(batch_size)\n",
    "                for val_batch, val_labels in dataloader(\n",
    "                        valid_features, valid_labels, batch_size=batch_size, sequence_length=20, shuffle=True):\n",
    "                    val_hidden = tuple([each.data for each in val_hidden])\n",
    "\n",
    "                    # val_batch, val_labels = torch.LongTensor(val_batch), torch.LongTensor(val_labels)\n",
    "                    val_batch, val_labels = val_batch.to(device), val_labels.to(device)\n",
    "                    for each in hidden:\n",
    "                        each.to(device)\n",
    "\n",
    "                    val_out, val_hidden = model.forward(val_batch, val_hidden)\n",
    "                    val_loss = criterion(val_out.squeeze(), val_labels.long())\n",
    "                    val_p, val_class = val_out.topk(1, dim=1)\n",
    "                    equal = val_class.view(val_labels.shape) == val_labels\n",
    "                    accuracy += torch.mean(equal.type(torch.FloatTensor)).item()\n",
    "\n",
    "                    valid_loss.append(val_loss.item())\n",
    "\n",
    "                model.train()\n",
    "                print(f\"steps {steps}.. \"\n",
    "                      f\"Train loss: {train_loss/print_every:.3f}.. \"\n",
    "                      f\"valid loss: {np.mean(valid_loss):.3f}.. \"\n",
    "                      f\"valid accuracy: {accuracy/(len(valid_labels)//batch_size):.3f}\")\n",
    "                \n",
    "                train_loss = 0\n",
    "\n",
    "epochs = 3\n",
    "batch_size = 256\n",
    "learning_rate = 0.001\n",
    "train(epochs=epochs, batch_size=batch_size, learning_rate=learning_rate)"
   ]
  },
  {
   "cell_type": "code",
   "execution_count": 81,
   "metadata": {},
   "outputs": [],
   "source": [
    "#save model\n",
    "model.to('cpu')\n",
    "model_name = 'analyzing_stock_sentiment_rnn.net'\n",
    "\n",
    "checkpoint = {'embed_size':1024,\n",
    "              'outpu_size':5,\n",
    "              'lstm_size': model.lstm_size,\n",
    "              'lstm_layers': model.lstm_layers,\n",
    "              'state_dict': model.state_dict(),\n",
    "              'vocab_size': 62263,\n",
    "              'batch_size': 256}\n",
    "\n",
    "with open(model_name, 'wb') as f:\n",
    "    torch.save(checkpoint, f)"
   ]
  },
  {
   "cell_type": "code",
   "execution_count": 57,
   "metadata": {},
   "outputs": [],
   "source": [
    "# load model from file\n",
    "import torch\n",
    "with open('analyzing_stock_sentiment_rnn.net', 'rb') as f:\n",
    "    checkpoint = torch.load(f)\n",
    "\n",
    "model = TextClassifier(checkpoint['vocab_size'], 1024, 512, 5, lstm_layers=2, dropout=0.2)\n",
    "model.load_state_dict(checkpoint['state_dict'])"
   ]
  },
  {
   "cell_type": "markdown",
   "metadata": {},
   "source": [
    "## Making Predictions\n",
    "### Prediction \n",
    "Okay, now that you have a trained model, try it on some new twits and see if it works appropriately. Remember that for any new text, you'll need to preprocess it first before passing it to the network. Implement the `predict` function to generate the prediction vector from a message."
   ]
  },
  {
   "cell_type": "code",
   "execution_count": 82,
   "metadata": {},
   "outputs": [],
   "source": [
    "def predict(text, model, vocab):\n",
    "    \"\"\"\n",
    "    Make a prediction on a single sentence.\n",
    "\n",
    "    Parameters\n",
    "    ----------\n",
    "        text : The string to make a prediction on.\n",
    "        model : The model to use for making the prediction.\n",
    "        vocab : Dictionary for word to word ids. The key is the word and the value is the word id.\n",
    "\n",
    "    Returns\n",
    "    -------\n",
    "        pred : Prediction vector\n",
    "    \"\"\"\n",
    "    tokens = preprocess(text)\n",
    "\n",
    "    # Filter non-vocab words\n",
    "    tokens = [token for token in tokens if token in vocab]\n",
    "\n",
    "    # Convert words to ids\n",
    "    tokens = [vocab[word] for word in tokens]\n",
    "\n",
    "    # Adding a batch dimension\n",
    "    token_tensor = torch.tensor(tokens)\n",
    "    batch = torch.zeros((20, 1), dtype=torch.int64)\n",
    "    start_idx = max(20 - len(token_tensor), 0)\n",
    "    batch[start_idx:, 0] = token_tensor[:20]\n",
    "    text_input = batch\n",
    "    # Get the NN output\n",
    "    hidden = model.init_hidden(1)\n",
    "    logps, _ = model.forward(text_input, hidden)\n",
    "    \n",
    "    # Take the exponent of the NN output to get a range of 0 to 1 for each label.\n",
    "    pred = logps.detach().numpy().squeeze()\n",
    "    pred = np.exp(pred)\n",
    "    \n",
    "    top_p, top_class = logps.topk(1)\n",
    "    print(top_class)\n",
    "    return pred"
   ]
  },
  {
   "cell_type": "code",
   "execution_count": 83,
   "metadata": {},
   "outputs": [
    {
     "name": "stdout",
     "output_type": "stream",
     "text": [
      "tensor([[ 3]])\n"
     ]
    },
    {
     "data": {
      "text/plain": [
       "array([  8.66124610e-05,   5.59147075e-03,   3.05654784e-03,\n",
       "         8.58421266e-01,   1.32844076e-01], dtype=float32)"
      ]
     },
     "execution_count": 83,
     "metadata": {},
     "output_type": "execute_result"
    }
   ],
   "source": [
    "text = \"Google is working on self driving cars, I'm bullish high value on $goog\"\n",
    "model.eval()\n",
    "model.to(\"cpu\")\n",
    "predict(text, model, vocab)"
   ]
  },
  {
   "cell_type": "markdown",
   "metadata": {},
   "source": [
    "### Questions: What is the prediction of the model? What is the uncertainty of the prediction?\n",
    "\n",
    "The prediction of model is most probably postive. \n",
    "We can't certain the result is correct and if it is postive or very postive."
   ]
  },
  {
   "cell_type": "markdown",
   "metadata": {},
   "source": [
    "Now we have a trained model and we can make predictions. We can use this model to track the sentiments of various stocks by predicting the sentiments of twits as they are coming in. Now we have a stream of twits. For each of those twits, pull out the stocks mentioned in them and keep track of the sentiments. Remember that in the twits, ticker symbols are encoded with a dollar sign as the first character, all caps, and 2-4 letters, like $AAPL. Ideally, you'd want to track the sentiments of the stocks in your universe and use this as a signal in your larger model(s).\n",
    "\n",
    "## Testing\n",
    "### Load the Data "
   ]
  },
  {
   "cell_type": "code",
   "execution_count": 84,
   "metadata": {},
   "outputs": [],
   "source": [
    "with open(os.path.join('..', '..', 'data', 'project_6_stocktwits', 'test_twits.json'), 'r') as f:\n",
    "    test_data = json.load(f)"
   ]
  },
  {
   "cell_type": "markdown",
   "metadata": {},
   "source": [
    "### Twit Stream"
   ]
  },
  {
   "cell_type": "code",
   "execution_count": 85,
   "metadata": {},
   "outputs": [
    {
     "data": {
      "text/plain": [
       "{'message_body': '$JWN has moved -1.69% on 10-31. Check out the movement and peers at  https://dividendbot.com?s=JWN',\n",
       " 'timestamp': '2018-11-01T00:00:05Z'}"
      ]
     },
     "execution_count": 85,
     "metadata": {},
     "output_type": "execute_result"
    }
   ],
   "source": [
    "def twit_stream():\n",
    "    for twit in test_data['data']:\n",
    "        yield twit\n",
    "\n",
    "next(twit_stream())"
   ]
  },
  {
   "cell_type": "markdown",
   "metadata": {},
   "source": [
    "Using the `prediction` function, let's apply it to a stream of twits."
   ]
  },
  {
   "cell_type": "code",
   "execution_count": 86,
   "metadata": {},
   "outputs": [],
   "source": [
    "def score_twits(stream, model, vocab, universe):\n",
    "    \"\"\" \n",
    "    Given a stream of twits and a universe of tickers, return sentiment scores for tickers in the universe.\n",
    "    \"\"\"\n",
    "    for twit in stream:\n",
    "\n",
    "        # Get the message text\n",
    "        text = twit['message_body']\n",
    "        symbols = re.findall('\\$[A-Z]{2,4}', text)\n",
    "        score = predict(text, model, vocab)\n",
    "\n",
    "        for symbol in symbols:\n",
    "            if symbol in universe:\n",
    "                yield {'symbol': symbol, 'score': score, 'timestamp': twit['timestamp']}"
   ]
  },
  {
   "cell_type": "code",
   "execution_count": 87,
   "metadata": {},
   "outputs": [
    {
     "name": "stdout",
     "output_type": "stream",
     "text": [
      "tensor([[ 2]])\n",
      "tensor([[ 1]])\n",
      "tensor([[ 4]])\n"
     ]
    },
    {
     "data": {
      "text/plain": [
       "{'symbol': '$AAPL',\n",
       " 'score': array([ 0.15890795,  0.01116017,  0.05918332,  0.07029199,  0.70045656], dtype=float32),\n",
       " 'timestamp': '2018-11-01T00:00:18Z'}"
      ]
     },
     "execution_count": 87,
     "metadata": {},
     "output_type": "execute_result"
    }
   ],
   "source": [
    "universe = {'$BBRY', '$AAPL', '$AMZN', '$BABA', '$YHOO', '$LQMT', '$FB', '$GOOG', '$BBBY', '$JNUG', '$SBUX', '$MU'}\n",
    "score_stream = score_twits(twit_stream(), model, vocab, universe)\n",
    "\n",
    "next(score_stream)"
   ]
  },
  {
   "cell_type": "markdown",
   "metadata": {},
   "source": [
    "That's it. You have successfully built a model for sentiment analysis! "
   ]
  },
  {
   "cell_type": "markdown",
   "metadata": {},
   "source": [
    "## Submission\n",
    "Now that you're done with the project, it's time to submit it. Click the submit button in the bottom right. One of our reviewers will give you feedback on your project with a pass or not passed grade. You can continue to the next section while you wait for feedback."
   ]
  }
 ],
 "metadata": {
  "kernelspec": {
   "display_name": "Python 3",
   "language": "python",
   "name": "python3"
  },
  "language_info": {
   "codemirror_mode": {
    "name": "ipython",
    "version": 3
   },
   "file_extension": ".py",
   "mimetype": "text/x-python",
   "name": "python",
   "nbconvert_exporter": "python",
   "pygments_lexer": "ipython3",
   "version": "3.6.3"
  }
 },
 "nbformat": 4,
 "nbformat_minor": 2
}
