{
 "cells": [
  {
   "cell_type": "markdown",
   "id": "caeaf770",
   "metadata": {},
   "source": [
    "## Instruction\n",
    "In this notebook, We use data which I donwload from Tushare to make up some alpha factors and risk factors.\n",
    "1. Load data which time range bettwen 2017.4 - 2023.3. download from privious step `DownLoad_from_Tushare.ipynb` \n",
    "2. Make up some factors based on some paper, tech indicators and fundamentls"
   ]
  },
  {
   "cell_type": "markdown",
   "id": "4bb5b19b",
   "metadata": {},
   "source": [
    "## Load Data\n",
    "load data which already download from Tushare"
   ]
  },
  {
   "cell_type": "code",
   "execution_count": 1,
   "id": "f6f8d632",
   "metadata": {},
   "outputs": [],
   "source": [
    "import pandas as pd \n",
    "import numpy as np\n",
    "from tqdm import tqdm\n",
    "\n",
    "from matplotlib import pyplot as plt\n",
    "%matplotlib inline\n",
    "plt.rcParams['figure.figsize'] = [10, 6]\n",
    "\n",
    "import warnings\n",
    "warnings.filterwarnings('ignore')"
   ]
  },
  {
   "cell_type": "code",
   "execution_count": 2,
   "id": "a129fb46",
   "metadata": {},
   "outputs": [],
   "source": [
    "universe_raw = pd.read_csv('raw_20180102_20230327.csv').iloc[:,1:]\n",
    "fundamental_df = pd.read_csv('fundamental_20180103_20230327.csv').iloc[:,1:]\n",
    "#universe_raw = pd.read_csv('tmp.csv').iloc[:,1:]"
   ]
  },
  {
   "cell_type": "code",
   "execution_count": 3,
   "id": "f0d0434a",
   "metadata": {},
   "outputs": [
    {
     "data": {
      "text/html": [
       "<div>\n",
       "<style scoped>\n",
       "    .dataframe tbody tr th:only-of-type {\n",
       "        vertical-align: middle;\n",
       "    }\n",
       "\n",
       "    .dataframe tbody tr th {\n",
       "        vertical-align: top;\n",
       "    }\n",
       "\n",
       "    .dataframe thead th {\n",
       "        text-align: right;\n",
       "    }\n",
       "</style>\n",
       "<table border=\"1\" class=\"dataframe\">\n",
       "  <thead>\n",
       "    <tr style=\"text-align: right;\">\n",
       "      <th></th>\n",
       "      <th>ts_code</th>\n",
       "      <th>trade_date</th>\n",
       "      <th>turnover_rate</th>\n",
       "      <th>pe</th>\n",
       "      <th>pb</th>\n",
       "      <th>total_share</th>\n",
       "      <th>free_share</th>\n",
       "      <th>total_mv</th>\n",
       "      <th>circ_mv</th>\n",
       "      <th>name</th>\n",
       "      <th>...</th>\n",
       "      <th>dt_eps</th>\n",
       "      <th>dt_eps_yoy</th>\n",
       "      <th>bps</th>\n",
       "      <th>bps_yoy</th>\n",
       "      <th>extra_item</th>\n",
       "      <th>profit_dedt</th>\n",
       "      <th>roe_dt</th>\n",
       "      <th>roe_yoy</th>\n",
       "      <th>ebt_yoy</th>\n",
       "      <th>or_yoy</th>\n",
       "    </tr>\n",
       "  </thead>\n",
       "  <tbody>\n",
       "    <tr>\n",
       "      <th>0</th>\n",
       "      <td>000004.SZ</td>\n",
       "      <td>20180102</td>\n",
       "      <td>0.7548</td>\n",
       "      <td>47.7372</td>\n",
       "      <td>16.2585</td>\n",
       "      <td>8397.6684</td>\n",
       "      <td>4927.8141</td>\n",
       "      <td>1.876039e+05</td>\n",
       "      <td>185340.8701</td>\n",
       "      <td>国农科技</td>\n",
       "      <td>...</td>\n",
       "      <td>-0.0</td>\n",
       "      <td>-0.0</td>\n",
       "      <td>-0.0</td>\n",
       "      <td>-0.0</td>\n",
       "      <td>-0.0</td>\n",
       "      <td>-0.0</td>\n",
       "      <td>-0.0</td>\n",
       "      <td>-0.0</td>\n",
       "      <td>-0.0</td>\n",
       "      <td>-0.0</td>\n",
       "    </tr>\n",
       "    <tr>\n",
       "      <th>1</th>\n",
       "      <td>000668.SZ</td>\n",
       "      <td>20180102</td>\n",
       "      <td>0.4725</td>\n",
       "      <td>1000.0000</td>\n",
       "      <td>3.7967</td>\n",
       "      <td>14684.1890</td>\n",
       "      <td>8900.7690</td>\n",
       "      <td>2.214376e+05</td>\n",
       "      <td>221206.0966</td>\n",
       "      <td>荣丰控股</td>\n",
       "      <td>...</td>\n",
       "      <td>-0.0</td>\n",
       "      <td>-0.0</td>\n",
       "      <td>-0.0</td>\n",
       "      <td>-0.0</td>\n",
       "      <td>-0.0</td>\n",
       "      <td>-0.0</td>\n",
       "      <td>-0.0</td>\n",
       "      <td>-0.0</td>\n",
       "      <td>-0.0</td>\n",
       "      <td>-0.0</td>\n",
       "    </tr>\n",
       "    <tr>\n",
       "      <th>2</th>\n",
       "      <td>000813.SZ</td>\n",
       "      <td>20180102</td>\n",
       "      <td>1.1949</td>\n",
       "      <td>31.3353</td>\n",
       "      <td>4.7263</td>\n",
       "      <td>224148.1800</td>\n",
       "      <td>33674.2849</td>\n",
       "      <td>2.073371e+06</td>\n",
       "      <td>999527.6089</td>\n",
       "      <td>德展健康</td>\n",
       "      <td>...</td>\n",
       "      <td>-0.0</td>\n",
       "      <td>-0.0</td>\n",
       "      <td>-0.0</td>\n",
       "      <td>-0.0</td>\n",
       "      <td>-0.0</td>\n",
       "      <td>-0.0</td>\n",
       "      <td>-0.0</td>\n",
       "      <td>-0.0</td>\n",
       "      <td>-0.0</td>\n",
       "      <td>-0.0</td>\n",
       "    </tr>\n",
       "    <tr>\n",
       "      <th>3</th>\n",
       "      <td>000908.SZ</td>\n",
       "      <td>20180102</td>\n",
       "      <td>0.4474</td>\n",
       "      <td>15.9381</td>\n",
       "      <td>2.3390</td>\n",
       "      <td>87977.4351</td>\n",
       "      <td>40461.5556</td>\n",
       "      <td>5.419410e+05</td>\n",
       "      <td>339292.1969</td>\n",
       "      <td>景峰医药</td>\n",
       "      <td>...</td>\n",
       "      <td>-0.0</td>\n",
       "      <td>-0.0</td>\n",
       "      <td>-0.0</td>\n",
       "      <td>-0.0</td>\n",
       "      <td>-0.0</td>\n",
       "      <td>-0.0</td>\n",
       "      <td>-0.0</td>\n",
       "      <td>-0.0</td>\n",
       "      <td>-0.0</td>\n",
       "      <td>-0.0</td>\n",
       "    </tr>\n",
       "    <tr>\n",
       "      <th>4</th>\n",
       "      <td>000915.SZ</td>\n",
       "      <td>20180102</td>\n",
       "      <td>1.1511</td>\n",
       "      <td>36.6170</td>\n",
       "      <td>4.9338</td>\n",
       "      <td>23433.1485</td>\n",
       "      <td>18488.8117</td>\n",
       "      <td>7.264276e+05</td>\n",
       "      <td>723640.6167</td>\n",
       "      <td>山大华特</td>\n",
       "      <td>...</td>\n",
       "      <td>-0.0</td>\n",
       "      <td>-0.0</td>\n",
       "      <td>-0.0</td>\n",
       "      <td>-0.0</td>\n",
       "      <td>-0.0</td>\n",
       "      <td>-0.0</td>\n",
       "      <td>-0.0</td>\n",
       "      <td>-0.0</td>\n",
       "      <td>-0.0</td>\n",
       "      <td>-0.0</td>\n",
       "    </tr>\n",
       "  </tbody>\n",
       "</table>\n",
       "<p>5 rows × 39 columns</p>\n",
       "</div>"
      ],
      "text/plain": [
       "     ts_code  trade_date  turnover_rate         pe       pb  total_share  \\\n",
       "0  000004.SZ    20180102         0.7548    47.7372  16.2585    8397.6684   \n",
       "1  000668.SZ    20180102         0.4725  1000.0000   3.7967   14684.1890   \n",
       "2  000813.SZ    20180102         1.1949    31.3353   4.7263  224148.1800   \n",
       "3  000908.SZ    20180102         0.4474    15.9381   2.3390   87977.4351   \n",
       "4  000915.SZ    20180102         1.1511    36.6170   4.9338   23433.1485   \n",
       "\n",
       "   free_share      total_mv      circ_mv  name  ... dt_eps  dt_eps_yoy  bps  \\\n",
       "0   4927.8141  1.876039e+05  185340.8701  国农科技  ...   -0.0        -0.0 -0.0   \n",
       "1   8900.7690  2.214376e+05  221206.0966  荣丰控股  ...   -0.0        -0.0 -0.0   \n",
       "2  33674.2849  2.073371e+06  999527.6089  德展健康  ...   -0.0        -0.0 -0.0   \n",
       "3  40461.5556  5.419410e+05  339292.1969  景峰医药  ...   -0.0        -0.0 -0.0   \n",
       "4  18488.8117  7.264276e+05  723640.6167  山大华特  ...   -0.0        -0.0 -0.0   \n",
       "\n",
       "   bps_yoy  extra_item  profit_dedt  roe_dt  roe_yoy  ebt_yoy  or_yoy  \n",
       "0     -0.0        -0.0         -0.0    -0.0     -0.0     -0.0    -0.0  \n",
       "1     -0.0        -0.0         -0.0    -0.0     -0.0     -0.0    -0.0  \n",
       "2     -0.0        -0.0         -0.0    -0.0     -0.0     -0.0    -0.0  \n",
       "3     -0.0        -0.0         -0.0    -0.0     -0.0     -0.0    -0.0  \n",
       "4     -0.0        -0.0         -0.0    -0.0     -0.0     -0.0    -0.0  \n",
       "\n",
       "[5 rows x 39 columns]"
      ]
     },
     "execution_count": 3,
     "metadata": {},
     "output_type": "execute_result"
    }
   ],
   "source": [
    "universe = universe_raw.rename(columns={'vol':'volume'})\n",
    "universe.head()"
   ]
  },
  {
   "cell_type": "code",
   "execution_count": 4,
   "id": "060b52a3",
   "metadata": {},
   "outputs": [
    {
     "name": "stdout",
     "output_type": "stream",
     "text": [
      "358 (371624, 39)\n",
      "39 Index(['ts_code', 'trade_date', 'turnover_rate', 'pe', 'pb', 'total_share',\n",
      "       'free_share', 'total_mv', 'circ_mv', 'name', 'industry', 'list_date',\n",
      "       'volume', 'amount', 'open', 'close', 'high', 'low', 'rsi_6', 'rsi_12',\n",
      "       'ann_date', 'type', 'p_change_min', 'p_change_max', 'issue_price',\n",
      "       'issue_amount', 'cfps', 'revenue_ps', 'gross_margin', 'dt_eps',\n",
      "       'dt_eps_yoy', 'bps', 'bps_yoy', 'extra_item', 'profit_dedt', 'roe_dt',\n",
      "       'roe_yoy', 'ebt_yoy', 'or_yoy'],\n",
      "      dtype='object')\n"
     ]
    }
   ],
   "source": [
    "print(len(universe.ts_code.unique()), universe.shape)\n",
    "print(len(universe.columns), universe.columns)"
   ]
  },
  {
   "cell_type": "markdown",
   "id": "871eb69e",
   "metadata": {},
   "source": [
    "## Data Explain\n",
    "  Some data columns about fundamental indicators below:\n",
    "  \n",
    "  - 'ts_code','ann_date',\n",
    "  - 'cfps','revenue_ps','gross_margin', # 每股现金流，每股营业收入, 毛利\n",
    "  - 'dt_eps','dt_eps_yoy',              # 每股收益， 每股收同比益增长率\n",
    "  - 'bps','bps_yoy',                    #每股净资产，每股净资产同比增长率\n",
    "  - 'extra_item','profit_dedt',         # 扣非，扣非净利润\n",
    "  - 'roe_dt','roe_yoy',                 #净资产收益，净资产收益同比增长率\n",
    "  - 'ebt_yoy','or_yoy'                  # 总利润增长率，营业收入增长率\n",
    "  \n",
    "  If there are some columns named alpha begin, the data had processed completed. Each column named alpha_ is alpha factors"
   ]
  },
  {
   "cell_type": "markdown",
   "id": "fbc2474d",
   "metadata": {},
   "source": [
    "## Ticker Pool\n",
    "After create factors we filte data by each day more in detail. \n",
    "\n",
    "In real trade with this model factor use, download data by each day.\n",
    "\n",
    "if you want to add new tickers into portfolio, ensure the ticker exist over 3 month. \n",
    "\n",
    "If add not successed after this process step, some conditions not satisfied our portfolio regular. "
   ]
  },
  {
   "cell_type": "code",
   "execution_count": 7,
   "id": "43f03ee2",
   "metadata": {},
   "outputs": [
    {
     "name": "stderr",
     "output_type": "stream",
     "text": [
      "filter tikers: 100%|████████████████████████| 1270/1270 [00:12<00:00, 99.03it/s]"
     ]
    },
    {
     "name": "stdout",
     "output_type": "stream",
     "text": [
      "(19670, 39) 28\n"
     ]
    },
    {
     "name": "stderr",
     "output_type": "stream",
     "text": [
      "\n"
     ]
    }
   ],
   "source": [
    "# remove tickers by each day not exist history\n",
    "def remove_tickers(df, exist_ticker_list):\n",
    "    diff_df = df.loc[df.ts_code.isin(exist_ticker_list)==False]\n",
    "    if diff_df.empty == False:\n",
    "        # remove tickers not exist over 3month from day\n",
    "        diff1 = (pd.to_datetime(diff_df['trade_date'],format='%Y%m%d')\\\n",
    "                -pd.to_datetime(diff_df['list_date'],format='%Y%m%d')).dt.days < 90\n",
    "        \n",
    "        # remove \n",
    "        # remove liquid few than 5 millon\n",
    "        diff2 = diff_df['amount']<500\n",
    "        \n",
    "        diff3 = diff_df['total_share'] > 50000\n",
    "        diff4 = diff_df['close'] > 30\n",
    "        diff5 = diff_df['dt_eps'] < 0.35\n",
    "        diff6 = diff_df['pe'] <= 30\n",
    "        diff7 = diff_df['pb'] > 3\n",
    "        diff8 = diff_df['revenue_ps']<4\n",
    "        \n",
    "        # get remove df\n",
    "        diff_df = diff_df.loc[diff1| diff2| diff3| diff4| diff5| diff6| diff7| diff8]\n",
    "        # get rest data\n",
    "        df = df.loc[df.ts_code.isin(diff_df.ts_code)==False]\n",
    "    return df\n",
    "\n",
    "calendar = universe.trade_date.unique()\n",
    "df_all = pd.DataFrame()\n",
    "for dt in tqdm(calendar, desc='filter tikers'):\n",
    "    tmp = universe.loc[universe['trade_date']==dt]\n",
    "    if df_all.empty:\n",
    "        tmp = remove_tickers(tmp, [])\n",
    "    else:\n",
    "        tmp = remove_tickers(tmp, df_all.ts_code.unique())\n",
    "    df_all = df_all.append(tmp, ignore_index=True)\n",
    "universe = df_all\n",
    "universe['date'] = pd.to_datetime(universe['trade_date'], format='%Y%m%d')\n",
    "universe = universe.set_index(['date']).sort_values(by=['date'])\n",
    "# update stock list\n",
    "#fundamental_df = fundamental_df.loc[fundamental_df.ts_code.isin(universe.ts_code.unique())]\n",
    "print(universe.shape, len(universe.ts_code.unique()))"
   ]
  },
  {
   "cell_type": "markdown",
   "id": "3f36ef12",
   "metadata": {},
   "source": [
    "### Overnight Return\n",
    "This factor we had did in P4, \n",
    "\n",
    "We calculate factor here, and add sma indicators later.\n",
    "\n",
    "$factor=(open_{today}-close_{yesterday})\\div close_{yesterday}$"
   ]
  },
  {
   "cell_type": "code",
   "execution_count": 8,
   "id": "0f17247a",
   "metadata": {},
   "outputs": [
    {
     "name": "stderr",
     "output_type": "stream",
     "text": [
      "close_to_open: 100%|███████████████████████████| 28/28 [00:00<00:00, 143.31it/s]\n"
     ]
    }
   ],
   "source": [
    "class CloseToOpen(pd.DataFrame):\n",
    "    \"\"\"\n",
    "        Overnight Return Factor Constructor\n",
    "    \"\"\"\n",
    "    def __init__(self,data):\n",
    "        super(CloseToOpen, self).__init__(data)\n",
    "        self.df = self\n",
    "\n",
    "    def calculate(self):\n",
    "        '''\n",
    "        add open-close as a column named close_to_return\n",
    "        :return: dataframe\n",
    "        '''\n",
    "        unique_ticker = self.df.ts_code.unique()\n",
    "        tmp_df = pd.DataFrame()\n",
    "        for ts_code in tqdm(unique_ticker, desc='close_to_open'):\n",
    "            stock = self.df.loc[self.df.ts_code == ts_code][[\"ts_code\", \"trade_date\", \"open\", \"close\"]]\n",
    "            stock['alpha_close2open'] = (stock['open'].shift(-1).fillna(method='ffill') - stock['close'])/stock['close']\n",
    "            tmp_df = tmp_df.append(stock, ignore_index=True)\n",
    "        self.df = self.df.merge(tmp_df[[\"ts_code\", \"trade_date\", \"alpha_close2open\"]], on=[\"ts_code\", \"trade_date\"], how=\"inner\")\n",
    "        self.df['date'] = pd.to_datetime(self.df['trade_date'], format='%Y%m%d')\n",
    "        self.df = self.df.set_index(['date']).sort_values(by=['date'])\n",
    "        return self.df\n",
    "    \n",
    "\n",
    "universe = CloseToOpen(universe).calculate()"
   ]
  },
  {
   "cell_type": "markdown",
   "id": "5b5a3402",
   "metadata": {},
   "source": [
    "## Add Technology Indicators"
   ]
  },
  {
   "cell_type": "code",
   "execution_count": 9,
   "id": "23af0fd5",
   "metadata": {},
   "outputs": [],
   "source": [
    "import stockstats\n",
    "\n",
    "class IndicatorHelper(pd.DataFrame):\n",
    "    \"\"\"\n",
    "        add indicators to dataframe\n",
    "    \"\"\"\n",
    "\n",
    "    def __init__(self, data):\n",
    "        super(IndicatorHelper, self).__init__(data)\n",
    "\n",
    "        self.stocks = stockstats.StockDataFrame.retype(data.copy())\n",
    "        self.df = self\n",
    "\n",
    "    def add_technical_indicator(self, tech_indicator_list):\n",
    "        \"\"\"\n",
    "        calculate technical indicators\n",
    "        use stockstats package to add technical inidactors\n",
    "        :param ticker: (df) pandas dataframe\n",
    "        :param tech_indeicator_list list\n",
    "        :return: (df) pandas dataframe\n",
    "        \"\"\"\n",
    "        unique_ticker = self.df.ts_code.unique()\n",
    "\n",
    "        indicator_df = pd.DataFrame()\n",
    "        for i in tqdm(range(len(unique_ticker)), desc='add tech indicators'):\n",
    "            temp_indicator = self.stocks[self.stocks.ts_code == unique_ticker[i]]\n",
    "            temp_indicator = temp_indicator[tech_indicator_list + ['ts_code','trade_date']]\n",
    "            indicator_df = indicator_df.append(temp_indicator, ignore_index=True)\n",
    "        \n",
    "        self.df = self.df.merge(indicator_df, on=[\"ts_code\", \"trade_date\"], how=\"left\")\n",
    "        self.df['date'] = pd.to_datetime(self.df['trade_date'],format='%Y%m%d')\n",
    "        self.df = self.df.set_index(['date']).sort_values(by=['date']).drop_duplicates(['trade_date','ts_code'])\n",
    "        return self.df\n",
    "    "
   ]
  },
  {
   "cell_type": "code",
   "execution_count": 10,
   "id": "4b747e7b",
   "metadata": {},
   "outputs": [
    {
     "name": "stderr",
     "output_type": "stream",
     "text": [
      "add tech indicators: 100%|██████████████████████| 28/28 [00:12<00:00,  2.19it/s]\n"
     ]
    }
   ],
   "source": [
    "# add tech indicators\n",
    "tech_indicator_list = [\n",
    "                       'supertrend','close_5_sma','close_20_sma','turnover_rate_5_sma',\n",
    "                       'log-ret','atr_5','cci_6', 'vwma_2','vwma_25',\n",
    "                       'close_10_kama_2_30', 'close_10_kama_5_30',\n",
    "                       'alpha_close2open_5_sma', 'alpha_close2open_25_sma'\n",
    "                      ] \n",
    "universe = IndicatorHelper(universe).add_technical_indicator(tech_indicator_list)\n",
    "# 'close_2_kama_20_mstd'"
   ]
  },
  {
   "cell_type": "markdown",
   "id": "eb6802de",
   "metadata": {},
   "source": [
    "## Constructor Factors Based on Indicators"
   ]
  },
  {
   "cell_type": "markdown",
   "id": "cc9fdbf8",
   "metadata": {},
   "source": [
    "### Supertrend Factors\n",
    "This factor based on supertrend and close 5 days sma"
   ]
  },
  {
   "cell_type": "code",
   "execution_count": 11,
   "id": "033e579f",
   "metadata": {},
   "outputs": [],
   "source": [
    "universe['alpha_supertrend'] = (universe['close'] - universe['supertrend'])/universe['close_5_sma']"
   ]
  },
  {
   "cell_type": "markdown",
   "id": "a6e837a6",
   "metadata": {},
   "source": [
    "### CCI Factors\n",
    "This factor based on cci and atr 5 days window"
   ]
  },
  {
   "cell_type": "code",
   "execution_count": 14,
   "id": "b62480bc",
   "metadata": {},
   "outputs": [],
   "source": [
    "universe['alpha_cci'] = np.where(universe['cci_6']>200, \\\n",
    "                        (universe['cci_6']-200)/universe['turnover_rate_5_sma']/universe['close_5_sma'], \\\n",
    "        np.where(universe['cci_6']<-200, \n",
    "                (universe['cci_6']+200)/universe['turnover_rate_5_sma']/universe['close_5_sma'], \\\n",
    "                         1/universe['turnover_rate_5_sma']/universe['close_5_sma']))"
   ]
  },
  {
   "cell_type": "markdown",
   "id": "23eeb704",
   "metadata": {},
   "source": [
    "### KAMA Factors"
   ]
  },
  {
   "cell_type": "code",
   "execution_count": 15,
   "id": "755ed898",
   "metadata": {},
   "outputs": [
    {
     "name": "stderr",
     "output_type": "stream",
     "text": [
      "kama filter: 100%|██████████████████████████████| 28/28 [00:00<00:00, 86.29it/s]\n"
     ]
    }
   ],
   "source": [
    "# add KAMA alpha factor\n",
    "def KAMA_filter(df):    \n",
    "    unique_stocks = df.ts_code.unique()\n",
    "    all_df = pd.DataFrame()\n",
    "    for ts_code in tqdm(unique_stocks, desc='kama filter'):\n",
    "        tmp = df.loc[df.ts_code == ts_code]\n",
    "        tmp['kama_filter'] = tmp['close_10_kama_2_30'].rolling(window=20).std().fillna(method='bfill') \n",
    "        tmp['kama_prior_1'] = tmp['close_10_kama_2_30'].shift(1).fillna(method='bfill')\n",
    "        #tmp['kama_prior_2'] = tmp['close_10_kama_2_30'].shift(2).fillna(method='bfill')\n",
    "        tmp['kama_prior_2'] = tmp['close_10_kama_5_30']\n",
    "        tmp['alpha_kama'] = (tmp['close_10_kama_2_30'] - tmp['kama_prior_1']) \\\n",
    "                            + (tmp['kama_prior_1'] - tmp['kama_prior_2']) - tmp['kama_filter']\n",
    "        tmp['alpha_kama'] = tmp['alpha_kama']/ tmp['close_10_kama_2_30']\n",
    "        all_df = all_df.append(tmp[['ts_code','trade_date','alpha_kama']], ignore_index=True)\n",
    "    df = df.merge(all_df, on=['ts_code','trade_date'], how='left')\n",
    "    df['date'] = pd.to_datetime(df['trade_date'],format='%Y%m%d')\n",
    "    df = df.set_index(['date']).sort_values(by=['date'])\n",
    "    return df\n",
    "\n",
    "#temp = universe.loc[universe.ts_code=='603538.SH']\n",
    "#temp = KAMA_filter(temp)\n",
    "universe = KAMA_filter(universe)"
   ]
  },
  {
   "cell_type": "markdown",
   "id": "cea813d9",
   "metadata": {},
   "source": [
    "## Constructor Factors Based on Paper\n",
    "### Overnight Return"
   ]
  },
  {
   "cell_type": "code",
   "execution_count": 16,
   "id": "4ab5639e",
   "metadata": {},
   "outputs": [],
   "source": [
    "# we had did process overnight return factors before\n",
    "universe['alpha_close2open_25_sma'] = -universe['alpha_close2open_25_sma']"
   ]
  },
  {
   "cell_type": "markdown",
   "id": "b8b89dee",
   "metadata": {},
   "source": [
    "### Winner And Loser\n",
    "This factor we also did in P4. It express a ticker how to reach a return in a spicific period time \n",
    "\n",
    "We use a time window as T, and regression d and v $return = T*d + T^2*v$  => $factor=d*v$ "
   ]
  },
  {
   "cell_type": "code",
   "execution_count": 18,
   "id": "510c87fd",
   "metadata": {},
   "outputs": [
    {
     "name": "stderr",
     "output_type": "stream",
     "text": [
      "winner and loser: 100%|█████████████████████████| 28/28 [03:06<00:00,  6.64s/it]\n"
     ]
    }
   ],
   "source": [
    "from statsmodels.formula.api import ols\n",
    "\n",
    "class WinnerAndLoser(pd.DataFrame):\n",
    "    \"\"\"\n",
    "        Winner and Loser Factor Constructor\n",
    "    \"\"\"\n",
    "    def __init__(self,data, win_length=15):\n",
    "        super(WinnerAndLoser, self).__init__(data)\n",
    "        self.df = self\n",
    "        self.win_lenth = win_length\n",
    "\n",
    "    def _regression(self, data):\n",
    "        df = pd.DataFrame(data, columns=['log-ret'])\n",
    "        df['acc_ret'] = df['log-ret'].cumsum()\n",
    "        df['t_dir'] = np.arange(self.win_lenth)+1\n",
    "        df['t_velocity'] = df['t_dir'] ** 2\n",
    "        regression = ols(formula='acc_ret ~ 0 + t_dir + t_velocity', data=df)\n",
    "        model = regression.fit()\n",
    "        data['alpha_winlos'] = model.params.t_dir * abs(model.params.t_velocity)\n",
    "        return  data['alpha_winlos']\n",
    "\n",
    "\n",
    "    def calculate(self):\n",
    "        '''\n",
    "        convert time to value\n",
    "        regress return to get mu and beta each time\n",
    "        add facotor mu*beta to colomns\n",
    "        :return: dataframe\n",
    "        '''\n",
    "        tickers = self.df.ts_code.unique()\n",
    "        factor_df = pd.DataFrame()\n",
    "        for ticker in tqdm(tickers, desc='winner and loser'):\n",
    "            tmp_df = self.df.loc[self.df.ts_code == ticker][['trade_date', 'ts_code', 'log-ret']]\n",
    "            tmp_df['alpha_winlos'] = tmp_df['log-ret'].rolling(self.win_lenth).apply(self._regression)\n",
    "            tmp_df['alpha_winlos'].fillna(method='bfill',inplace=True)\n",
    "            factor_df = factor_df.append(tmp_df, ignore_index=True)\n",
    "        self.df = self.df.merge(factor_df[[\"ts_code\", \"trade_date\", \"alpha_winlos\"]], on=[\"ts_code\", \"trade_date\"], how=\"left\")\n",
    "        self.df['date'] = pd.to_datetime(self.df['trade_date'],format='%Y%m%d')\n",
    "        self.df = self.df.set_index(['date']).sort_values(by=['date'])\n",
    "        return  self.df\n",
    "    \n",
    "    \n",
    "#test = universe.loc[universe.ts_code=='603538.SH']\n",
    "#test = universe.loc[universe.ts_code=='002038.SZ']\n",
    "#test = WinnerAndLoser(test).calculate()\n",
    "universe = WinnerAndLoser(universe).calculate()"
   ]
  },
  {
   "cell_type": "markdown",
   "id": "6063b83a",
   "metadata": {},
   "source": [
    "### Skew And Momentum\n",
    "This factor we also did in P4. It express minority and majority sentiment of investor how to impact on market.\n",
    "\n",
    "We calculate skew and median of log-return distribution in a period time, the skew view as marjority sentiment and median can view as minority sentiment.\n",
    "\n",
    "$factor = skew * median "
   ]
  },
  {
   "cell_type": "code",
   "execution_count": 19,
   "id": "3df2ced2",
   "metadata": {},
   "outputs": [
    {
     "name": "stderr",
     "output_type": "stream",
     "text": [
      "skew and momentum: 100%|████████████████████████| 28/28 [00:07<00:00,  3.89it/s]\n"
     ]
    }
   ],
   "source": [
    "class SkewandMomentum(pd.DataFrame):\n",
    "    \"\"\"\n",
    "        Expected Skewness and Momentum Factor Constructor\n",
    "    \"\"\"\n",
    "    def __init__(self,data, win_length=20):\n",
    "        super(SkewandMomentum, self).__init__(data)\n",
    "        self.df = self\n",
    "        self.win_length = win_length\n",
    "\n",
    "    def calculate(self):\n",
    "        '''\n",
    "        convert time to value\n",
    "        regress return to get mu and beta each time\n",
    "        add facotor mu*beta to colomns\n",
    "        :return: dataframe\n",
    "        '''\n",
    "        def calculate_factor(data):\n",
    "            return data.skew() * data.median()\n",
    "        \n",
    "        tmp_df = pd.DataFrame()\n",
    "        for stock_tuple in tqdm(self.groupby('ts_code'), desc='skew and momentum'):\n",
    "            stock = stock_tuple[1]\n",
    "            stock['alpha_skew2sentiment'] = stock['log-ret'].rolling(self.win_length).apply(calculate_factor)\n",
    "            stock['alpha_skew2sentiment'] = stock['alpha_skew2sentiment'].fillna(method='bfill')\n",
    "            tmp_df = tmp_df.append(stock,ignore_index=True)\n",
    "        self.df = self.df.merge(tmp_df[[\"ts_code\", \"trade_date\", \"alpha_skew2sentiment\"]], on=[\"ts_code\", \"trade_date\"], how=\"left\")\n",
    "        self.df['date'] = pd.to_datetime(self.df['trade_date'],format='%Y%m%d')\n",
    "        self.df = self.df.set_index(['date']).sort_values(by=['date'])\n",
    "        return self.df\n",
    "\n",
    "\n",
    "#temp = universe.loc[universe.ts_code=='603538.SH']\n",
    "#test = universe.loc[universe.ts_code=='002038.SZ']\n",
    "#temp = SkewandMomentum(temp).calculate()\n",
    "universe = SkewandMomentum(universe).calculate()"
   ]
  },
  {
   "cell_type": "markdown",
   "id": "a17371b3",
   "metadata": {},
   "source": [
    "## Fundamental Factor\n",
    "This factor based on ticker fundamentals, it usually take a long period time to archive return. So called take a long line to catch a big fish! \n"
   ]
  },
  {
   "cell_type": "code",
   "execution_count": 23,
   "id": "388cc112",
   "metadata": {},
   "outputs": [
    {
     "name": "stderr",
     "output_type": "stream",
     "text": [
      "fundamental factor: 100%|███████████████████████| 28/28 [00:00<00:00, 67.01it/s]\n"
     ]
    }
   ],
   "source": [
    "from scipy.stats import zscore\n",
    "\n",
    "def alpha_fundamental(df):\n",
    "    all_df = pd.DataFrame()\n",
    "    for ts_code in tqdm(df.ts_code.unique(), desc='fundamental factor'):\n",
    "        tmp = df.loc[df.ts_code==ts_code]\n",
    "        tmp['alpha_fundamental'] = (1 + tmp['dt_eps_yoy']/200) * tmp['revenue_ps'] \\\n",
    "                                / (tmp['close'] * tmp['turnover_rate'])\n",
    "        all_df = all_df.append(tmp, ignore_index=True)\n",
    "        \n",
    "    df = df.merge(all_df[['ts_code','trade_date','alpha_fundamental']], on=['ts_code','trade_date'], how='left')\n",
    "    df['date'] = pd.to_datetime(df['trade_date'],format='%Y%m%d')\n",
    "    df = df.set_index(['date']).sort_values(by=['date'])\n",
    "    return df\n",
    "   \n",
    "\n",
    "#temp = universe.loc[universe.ts_code=='603538.SH']\n",
    "#temp = alpha_fundamental(temp)\n",
    "#universe = universe.drop(columns=['alpha_fundamental'])\n",
    "universe = alpha_fundamental(universe)"
   ]
  },
  {
   "cell_type": "markdown",
   "id": "e3776b8b",
   "metadata": {},
   "source": [
    "## Zscore Alpha Factors\n",
    "As computer use factor to compare each oter before all factors had same scales. So we rescale each factors by zscore in each day and each industry. \n",
    "\n",
    "Here we pick some features as mechine learning step in the next step."
   ]
  },
  {
   "cell_type": "code",
   "execution_count": 27,
   "id": "544d3615",
   "metadata": {},
   "outputs": [],
   "source": [
    "from scipy.stats import zscore\n",
    "\n",
    "# add alpha_winlos columns if run this factor\n",
    "zscore_features = ['atr_5','alpha_winlos'\n",
    "       'alpha_cci', 'alpha_supertrend', 'alpha_kama', 'alpha_close2open_5_sma',\n",
    "       'alpha_close2open_25_sma', 'alpha_skew2sentiment', 'alpha_fundamental', \n",
    "        ]\n",
    "\n",
    "def zscore_by_sector(df):\n",
    "    df_all = pd.DataFrame()\n",
    "    for industry in df.industry.unique():\n",
    "        tmp = df.loc[df.industry == industry]\n",
    "        tmp[zscore_features] = tmp.groupby('trade_date')[zscore_features].apply(zscore)\n",
    "        df_all = df_all.append(tmp)\n",
    "\n",
    "    return df_all.fillna(0)  \n",
    "\n",
    "#universe_raw = zscore_by_sector(universe)"
   ]
  },
  {
   "cell_type": "code",
   "execution_count": 82,
   "id": "62a4d660",
   "metadata": {},
   "outputs": [
    {
     "data": {
      "text/html": [
       "<div>\n",
       "<style scoped>\n",
       "    .dataframe tbody tr th:only-of-type {\n",
       "        vertical-align: middle;\n",
       "    }\n",
       "\n",
       "    .dataframe tbody tr th {\n",
       "        vertical-align: top;\n",
       "    }\n",
       "\n",
       "    .dataframe thead th {\n",
       "        text-align: right;\n",
       "    }\n",
       "</style>\n",
       "<table border=\"1\" class=\"dataframe\">\n",
       "  <thead>\n",
       "    <tr style=\"text-align: right;\">\n",
       "      <th></th>\n",
       "      <th>turnover_rate</th>\n",
       "      <th>amount</th>\n",
       "      <th>total_mv</th>\n",
       "      <th>atr_5</th>\n",
       "      <th>pe</th>\n",
       "      <th>pb</th>\n",
       "      <th>revenue_ps</th>\n",
       "      <th>p_change_max</th>\n",
       "      <th>dt_eps_yoy</th>\n",
       "      <th>bps_yoy</th>\n",
       "      <th>...</th>\n",
       "      <th>alpha_cci</th>\n",
       "      <th>alpha_supertrend</th>\n",
       "      <th>alpha_kama</th>\n",
       "      <th>alpha_close2open_5_sma</th>\n",
       "      <th>alpha_close2open_25_sma</th>\n",
       "      <th>alpha_skew2sentiment</th>\n",
       "      <th>alpha_fundamental</th>\n",
       "      <th>ts_code</th>\n",
       "      <th>trade_date</th>\n",
       "      <th>industry</th>\n",
       "    </tr>\n",
       "    <tr>\n",
       "      <th>date</th>\n",
       "      <th></th>\n",
       "      <th></th>\n",
       "      <th></th>\n",
       "      <th></th>\n",
       "      <th></th>\n",
       "      <th></th>\n",
       "      <th></th>\n",
       "      <th></th>\n",
       "      <th></th>\n",
       "      <th></th>\n",
       "      <th></th>\n",
       "      <th></th>\n",
       "      <th></th>\n",
       "      <th></th>\n",
       "      <th></th>\n",
       "      <th></th>\n",
       "      <th></th>\n",
       "      <th></th>\n",
       "      <th></th>\n",
       "      <th></th>\n",
       "      <th></th>\n",
       "    </tr>\n",
       "  </thead>\n",
       "  <tbody>\n",
       "    <tr>\n",
       "      <th>2023-03-27</th>\n",
       "      <td>-0.759722</td>\n",
       "      <td>-0.244192</td>\n",
       "      <td>0.591304</td>\n",
       "      <td>-1.031209</td>\n",
       "      <td>-1.593460</td>\n",
       "      <td>-1.855827</td>\n",
       "      <td>2.389929</td>\n",
       "      <td>0.0</td>\n",
       "      <td>-0.772821</td>\n",
       "      <td>-0.343521</td>\n",
       "      <td>...</td>\n",
       "      <td>-0.759722</td>\n",
       "      <td>0.198188</td>\n",
       "      <td>0.365138</td>\n",
       "      <td>0.465766</td>\n",
       "      <td>-0.379550</td>\n",
       "      <td>-0.083857</td>\n",
       "      <td>2.728818</td>\n",
       "      <td>600739.SH</td>\n",
       "      <td>20230327</td>\n",
       "      <td>生物制药</td>\n",
       "    </tr>\n",
       "    <tr>\n",
       "      <th>2023-03-27</th>\n",
       "      <td>-1.221933</td>\n",
       "      <td>-1.129887</td>\n",
       "      <td>-0.648862</td>\n",
       "      <td>-0.691311</td>\n",
       "      <td>-1.134614</td>\n",
       "      <td>-0.971510</td>\n",
       "      <td>-0.632882</td>\n",
       "      <td>0.0</td>\n",
       "      <td>-0.672466</td>\n",
       "      <td>-0.574693</td>\n",
       "      <td>...</td>\n",
       "      <td>-1.221933</td>\n",
       "      <td>-0.570289</td>\n",
       "      <td>0.115954</td>\n",
       "      <td>1.899526</td>\n",
       "      <td>-1.957194</td>\n",
       "      <td>-0.549331</td>\n",
       "      <td>2.786678</td>\n",
       "      <td>603258.SH</td>\n",
       "      <td>20230327</td>\n",
       "      <td>互联网</td>\n",
       "    </tr>\n",
       "    <tr>\n",
       "      <th>2023-03-27</th>\n",
       "      <td>-0.428222</td>\n",
       "      <td>0.052567</td>\n",
       "      <td>1.207167</td>\n",
       "      <td>-0.599472</td>\n",
       "      <td>-1.027326</td>\n",
       "      <td>-0.803746</td>\n",
       "      <td>0.586117</td>\n",
       "      <td>0.0</td>\n",
       "      <td>-1.172008</td>\n",
       "      <td>0.388787</td>\n",
       "      <td>...</td>\n",
       "      <td>-0.428222</td>\n",
       "      <td>0.537905</td>\n",
       "      <td>0.480281</td>\n",
       "      <td>0.491509</td>\n",
       "      <td>-0.480587</td>\n",
       "      <td>-0.274058</td>\n",
       "      <td>2.924296</td>\n",
       "      <td>600998.SH</td>\n",
       "      <td>20230327</td>\n",
       "      <td>医药商业</td>\n",
       "    </tr>\n",
       "    <tr>\n",
       "      <th>2023-03-27</th>\n",
       "      <td>-0.689212</td>\n",
       "      <td>0.482639</td>\n",
       "      <td>3.033026</td>\n",
       "      <td>-0.331549</td>\n",
       "      <td>-1.387422</td>\n",
       "      <td>-1.498836</td>\n",
       "      <td>4.441157</td>\n",
       "      <td>0.0</td>\n",
       "      <td>-0.127820</td>\n",
       "      <td>0.595265</td>\n",
       "      <td>...</td>\n",
       "      <td>-0.689212</td>\n",
       "      <td>-0.406854</td>\n",
       "      <td>0.095806</td>\n",
       "      <td>-0.108189</td>\n",
       "      <td>0.075106</td>\n",
       "      <td>0.468026</td>\n",
       "      <td>3.032956</td>\n",
       "      <td>600332.SH</td>\n",
       "      <td>20230327</td>\n",
       "      <td>中成药</td>\n",
       "    </tr>\n",
       "    <tr>\n",
       "      <th>2023-03-27</th>\n",
       "      <td>-1.002539</td>\n",
       "      <td>-0.511516</td>\n",
       "      <td>-0.418318</td>\n",
       "      <td>-0.767870</td>\n",
       "      <td>-2.001351</td>\n",
       "      <td>-1.950750</td>\n",
       "      <td>-0.932318</td>\n",
       "      <td>0.0</td>\n",
       "      <td>-0.405056</td>\n",
       "      <td>-0.911550</td>\n",
       "      <td>...</td>\n",
       "      <td>-1.002539</td>\n",
       "      <td>-0.747244</td>\n",
       "      <td>-0.026396</td>\n",
       "      <td>2.328397</td>\n",
       "      <td>-2.244202</td>\n",
       "      <td>-0.386329</td>\n",
       "      <td>4.069983</td>\n",
       "      <td>603508.SH</td>\n",
       "      <td>20230327</td>\n",
       "      <td>软件服务</td>\n",
       "    </tr>\n",
       "  </tbody>\n",
       "</table>\n",
       "<p>5 rows × 24 columns</p>\n",
       "</div>"
      ],
      "text/plain": [
       "            turnover_rate    amount  total_mv     atr_5        pe        pb  \\\n",
       "date                                                                          \n",
       "2023-03-27      -0.759722 -0.244192  0.591304 -1.031209 -1.593460 -1.855827   \n",
       "2023-03-27      -1.221933 -1.129887 -0.648862 -0.691311 -1.134614 -0.971510   \n",
       "2023-03-27      -0.428222  0.052567  1.207167 -0.599472 -1.027326 -0.803746   \n",
       "2023-03-27      -0.689212  0.482639  3.033026 -0.331549 -1.387422 -1.498836   \n",
       "2023-03-27      -1.002539 -0.511516 -0.418318 -0.767870 -2.001351 -1.950750   \n",
       "\n",
       "            revenue_ps  p_change_max  dt_eps_yoy   bps_yoy  ...  alpha_cci  \\\n",
       "date                                                        ...              \n",
       "2023-03-27    2.389929           0.0   -0.772821 -0.343521  ...  -0.759722   \n",
       "2023-03-27   -0.632882           0.0   -0.672466 -0.574693  ...  -1.221933   \n",
       "2023-03-27    0.586117           0.0   -1.172008  0.388787  ...  -0.428222   \n",
       "2023-03-27    4.441157           0.0   -0.127820  0.595265  ...  -0.689212   \n",
       "2023-03-27   -0.932318           0.0   -0.405056 -0.911550  ...  -1.002539   \n",
       "\n",
       "            alpha_supertrend  alpha_kama  alpha_close2open_5_sma  \\\n",
       "date                                                               \n",
       "2023-03-27          0.198188    0.365138                0.465766   \n",
       "2023-03-27         -0.570289    0.115954                1.899526   \n",
       "2023-03-27          0.537905    0.480281                0.491509   \n",
       "2023-03-27         -0.406854    0.095806               -0.108189   \n",
       "2023-03-27         -0.747244   -0.026396                2.328397   \n",
       "\n",
       "            alpha_close2open_25_sma  alpha_skew2sentiment  alpha_fundamental  \\\n",
       "date                                                                           \n",
       "2023-03-27                -0.379550             -0.083857           2.728818   \n",
       "2023-03-27                -1.957194             -0.549331           2.786678   \n",
       "2023-03-27                -0.480587             -0.274058           2.924296   \n",
       "2023-03-27                 0.075106              0.468026           3.032956   \n",
       "2023-03-27                -2.244202             -0.386329           4.069983   \n",
       "\n",
       "              ts_code  trade_date  industry  \n",
       "date                                         \n",
       "2023-03-27  600739.SH    20230327      生物制药  \n",
       "2023-03-27  603258.SH    20230327       互联网  \n",
       "2023-03-27  600998.SH    20230327      医药商业  \n",
       "2023-03-27  600332.SH    20230327       中成药  \n",
       "2023-03-27  603508.SH    20230327      软件服务  \n",
       "\n",
       "[5 rows x 24 columns]"
      ]
     },
     "execution_count": 82,
     "metadata": {},
     "output_type": "execute_result"
    }
   ],
   "source": [
    "universe_raw[zscore_features+['ts_code', 'trade_date', 'industry']].sort_values(by=['date', 'alpha_fundamental']).tail(5)"
   ]
  },
  {
   "cell_type": "markdown",
   "id": "bf43e4fb",
   "metadata": {},
   "source": [
    "## Save All Data and factors to csv"
   ]
  },
  {
   "cell_type": "code",
   "execution_count": 25,
   "id": "c52c6347",
   "metadata": {},
   "outputs": [],
   "source": [
    "## save all data\n",
    "# fundamental_df.to_csv('fundamental_20170405_20230327.csv')\n",
    "# universe_raw[features].to_csv('factors_20170405_20230327.csv')\n",
    "universe.to_csv('all_20170405_20230327.csv')"
   ]
  },
  {
   "cell_type": "markdown",
   "id": "efd6fc06",
   "metadata": {},
   "source": [
    "### Load complete data from csv"
   ]
  },
  {
   "cell_type": "code",
   "execution_count": null,
   "id": "7501d5cd",
   "metadata": {},
   "outputs": [],
   "source": [
    "# load data from file\n",
    "universe_raw = pd.read_csv('all_20170405_20230327.csv')\n",
    "universe_raw['date'] = pd.to_datetime(universe_raw['date'],format='%Y-%m-%d')\n",
    "universe_raw.set_index(['date'],inplace=True)"
   ]
  },
  {
   "cell_type": "markdown",
   "id": "e084ee29",
   "metadata": {},
   "source": [
    "### Test and View"
   ]
  },
  {
   "cell_type": "code",
   "execution_count": 70,
   "id": "47fb149e",
   "metadata": {},
   "outputs": [],
   "source": [
    "# make factor and zscore\n",
    "test = universe_raw.copy(deep=True)\n",
    "test['factor_test'] = (1+(test['p_change_max']+test['p_change_min'])/200) * test['dt_eps'] \\\n",
    "                    / (test['close_5_sma'] * test['turnover_rate_5_sma'])\n",
    "test = zscore_by_sector(test)"
   ]
  },
  {
   "cell_type": "code",
   "execution_count": 76,
   "id": "ad0796af",
   "metadata": {},
   "outputs": [],
   "source": [
    "# check tikcer data\n",
    "test.loc[test.ts_code=='603538.SH'].tail()[['p_change_max','p_change_min','dt_eps','close','turnover_rate_5_sma']]"
   ]
  },
  {
   "cell_type": "code",
   "execution_count": 83,
   "id": "3518a826",
   "metadata": {},
   "outputs": [],
   "source": [
    "# got top 5 factor values of tiker and graph history line\n",
    "check_df = test[zscore_features+['close', 'ts_code', 'trade_date', 'industry']]\\\n",
    "    .sort_values(by=['date', 'factor_test']).tail(5)\n",
    "ts_codes = check_df.ts_code.unique()\n",
    "for code in ts_codes:\n",
    "    tmp = test.loc[(test.ts_code==code)]\n",
    "    # indicator test\n",
    "    tmp = tmp.loc[(tmp['trade_date']>20220301) & (tmp['trade_date']<20230401)]\n",
    "    tmp[['close','alpha_cci']] = tmp[['close','alpha_cci']].apply(zscore).fillna(method='bfill')\n",
    "    tmp[['close', 'factor_test']].plot(grid=True, title=code)\n",
    "check_df"
   ]
  },
  {
   "cell_type": "code",
   "execution_count": 35,
   "id": "1e29f6f7",
   "metadata": {},
   "outputs": [
    {
     "data": {
      "text/plain": [
       "array(['002393.SZ', '000756.SZ', '600976.SH', '300702.SZ', '603716.SH',\n",
       "       '000411.SZ', '603520.SH', '002873.SZ', '600211.SH', '002082.SZ',\n",
       "       '300233.SZ', '603538.SH', '603351.SH', '600993.SH', '300683.SZ',\n",
       "       '000915.SZ', '300878.SZ', '002940.SZ', '300871.SZ', '688136.SH',\n",
       "       '688687.SH', '688189.SH', '605177.SH', '301075.SZ', '301126.SZ',\n",
       "       '300583.SZ', '000153.SZ', '300439.SZ'], dtype=object)"
      ]
     },
     "execution_count": 35,
     "metadata": {},
     "output_type": "execute_result"
    }
   ],
   "source": [
    "universe.ts_code.unique()"
   ]
  },
  {
   "cell_type": "code",
   "execution_count": 43,
   "id": "3516bea7",
   "metadata": {},
   "outputs": [
    {
     "data": {
      "text/plain": [
       "<AxesSubplot:xlabel='date'>"
      ]
     },
     "execution_count": 43,
     "metadata": {},
     "output_type": "execute_result"
    },
    {
     "data": {
      "image/png": "[encoded data removed]",
      "text/plain": [
       "<Figure size 1000x600 with 1 Axes>"
      ]
     },
     "metadata": {},
     "output_type": "display_data"
    }
   ],
   "source": [
    "# graph factor of one history line \n",
    "from scipy.stats import zscore\n",
    "tmp = universe.loc[universe.ts_code== '002873.SZ']\n",
    "tmp = tmp.loc[(tmp['trade_date']>20220101) & (tmp['trade_date']<20230401) ]\n",
    "tmp[['close','alpha_fundamental']] = tmp[['close', 'alpha_fundamental']].apply(zscore).fillna(method='bfill')\n",
    "#tmp['close'] = tmp['close'].shift(-15)\n",
    "tmp[['close', 'alpha_fundamental']].plot(grid=True)\n",
    "#tmp[['vwma_5', 'turnover_rate']].plot(grid=True)"
   ]
  },
  {
   "cell_type": "code",
   "execution_count": null,
   "id": "adffc1af",
   "metadata": {},
   "outputs": [],
   "source": []
  }
 ],
 "metadata": {
  "kernelspec": {
   "display_name": "py37",
   "language": "python",
   "name": "py37"
  },
  "language_info": {
   "codemirror_mode": {
    "name": "ipython",
    "version": 3
   },
   "file_extension": ".py",
   "mimetype": "text/x-python",
   "name": "python",
   "nbconvert_exporter": "python",
   "pygments_lexer": "ipython3",
   "version": "3.7.12"
  }
 },
 "nbformat": 4,
 "nbformat_minor": 5
}
