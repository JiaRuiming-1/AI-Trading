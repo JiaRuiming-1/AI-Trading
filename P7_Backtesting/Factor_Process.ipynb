{
 "cells": [
  {
   "cell_type": "markdown",
   "id": "bc5f77b3",
   "metadata": {},
   "source": [
    "## Instruction\n",
    "In this notebook, We use data which I donwload from Tushare to make up some alpha factors and risk factors.\n",
    "1. Load data which time range bettwen 2017.4 - 2023.3. download from privious step `DownLoad_from_Tushare.ipynb` \n",
    "2. Make up some factors based on some paper, tech indicators and fundamentls"
   ]
  },
  {
   "cell_type": "markdown",
   "id": "9e14836e",
   "metadata": {},
   "source": [
    "## Load Data\n",
    "load data which already download from Tushare"
   ]
  },
  {
   "cell_type": "code",
   "execution_count": 1,
   "id": "656b1fd8",
   "metadata": {},
   "outputs": [],
   "source": [
    "import pandas as pd \n",
    "import numpy as np\n",
    "from tqdm import tqdm\n",
    "\n",
    "from matplotlib import pyplot as plt\n",
    "%matplotlib inline\n",
    "plt.rcParams['figure.figsize'] = [10, 6]\n",
    "\n",
    "import warnings\n",
    "warnings.filterwarnings('ignore')"
   ]
  },
  {
   "cell_type": "code",
   "execution_count": 2,
   "id": "ca7bfee5",
   "metadata": {},
   "outputs": [],
   "source": [
    "universe_raw = pd.read_csv('all_20170405_20230317.csv')\n",
    "fundamental_df = pd.read_csv('fundamental_20170405_20230317.csv').iloc[:,1:]\n",
    "#universe_raw = pd.read_csv('tmp.csv').iloc[:,1:]"
   ]
  },
  {
   "cell_type": "code",
   "execution_count": 3,
   "id": "ef169bdf",
   "metadata": {},
   "outputs": [],
   "source": [
    "universe = universe_raw.copy(deep=True)\n",
    "# reset pe is null to 1.e3\n",
    "universe_raw['pe'] = np.where(universe_raw['pe'].isnull(), 1.*1e3, universe_raw['pe'])\n",
    "# fill pb null with a large value\n",
    "universe_raw['pb'] = np.where(universe_raw['pb'].isnull(), 1.*1e2, universe_raw['pb'])\n",
    "# fill null to 0\n",
    "universe['dt_eps'] = np.where(universe['dt_eps'].isnull(), 0., universe['dt_eps'])\n",
    "universe['dt_eps_yoy'] = np.where(universe['dt_eps_yoy'].isnull(), 0., universe['dt_eps_yoy'])\n",
    "# add volume\n",
    "universe['volume'] = universe['amount']/universe['close']\n",
    "universe = universe.drop_duplicates(['trade_date','ts_code'])"
   ]
  },
  {
   "cell_type": "markdown",
   "id": "8d7a5068",
   "metadata": {},
   "source": [
    "## Data Explain\n",
    "  Some data columns about fundamental indicators below\n",
    "  - 'cfps','revenue_ps', 'quick_ratio',  每股现金流，每股营业收入，速冻比率\n",
    "  - 'dt_eps','basic_eps_yoy','dt_eps_yoy',  每股收益\n",
    "  - 'bps','bps_yoy',  每股净资产\n",
    "  - 'extra_item','profit_dedt', 扣非，扣非净利润\n",
    "  - 'roe_dt','q_dt_roe','roe_yoy',  净资产收益\n",
    "  - 'capital_rese_ps','surplus_rese_ps',  每股资本公积，每股公积盈余 \n",
    "  - 'gross_margin','interestdebt','ca_to_assets', 毛利，带息债务, 流动资产/总资产\n",
    "  - 'ebt_yoy','roe_yoy','or_yoy','equity_yoy' 总利润增长，净资产收益增长，营业收入增长，净资产增长\n",
    "  \n",
    "  If there are some columns named alpha begin, the data had processed completed. Each column named alpha_ is alpha factors"
   ]
  },
  {
   "cell_type": "markdown",
   "id": "a4ef3d34",
   "metadata": {},
   "source": [
    "## Ticker Pool\n",
    "After create factors we filte data by each day more in detail. \n",
    "\n",
    "In real trade with this model factor use, download data by each day, if you want to add new tickers into portfolio, ensure the ticker exist over 3 month. If add not successed after this process step, some conditions not satisfied our portfolio regular. "
   ]
  },
  {
   "cell_type": "code",
   "execution_count": 4,
   "id": "b4dc137d",
   "metadata": {},
   "outputs": [],
   "source": [
    "# remove tickers by each day not exist history\n",
    "def remove_tickers(df, exist_ticker_list):\n",
    "    diff_df = df.loc[df.ts_code.isin(exist_ticker_list)==False]\n",
    "    if diff_df.empty == False:\n",
    "        # remove tickers not exist over 3month from day\n",
    "        diff1 = (pd.to_datetime(diff_df['trade_date'],format='%Y%m%d')\\\n",
    "                -pd.to_datetime(diff_df['list_date'],format='%Y%m%d')).apply(lambda x: x.days) < 90\n",
    "        # remove tickers pe > 60\n",
    "        diff2 = diff_df.pe > 60\n",
    "        # remove tickers pb > 10\n",
    "        diff3 = diff_df.pb > 8\n",
    "        # remove fundamental bad\n",
    "        diff4 = diff_df['type_value']<-1\n",
    "        # dt_eps <0 means profit is below 0.3 , remove it.\n",
    "        diff5 = diff_df['dt_eps']<0.3\n",
    "        # total_mv>50 billion\n",
    "        diff6 = diff_df['total_mv']>5000000\n",
    "        # get remove df\n",
    "        diff_df = diff_df.loc[diff1| diff2| diff3| diff4| diff5| diff6]\n",
    "        # get rest data\n",
    "        df = df.loc[df.ts_code.isin(diff_df.ts_code)==False]\n",
    "    return df\n",
    "\n",
    "# clean tickers pool day by day\n",
    "calendar = universe_raw.trade_date.unique()\n",
    "universe = pd.DataFrame()\n",
    "for dt in tqdm(calendar, desc='filter tikers'):\n",
    "    tmp = universe_raw.loc[universe_raw['trade_date']==dt]\n",
    "    if universe.empty:\n",
    "        tmp = remove_tickers(tmp, [])\n",
    "    else:\n",
    "        tmp = remove_tickers(tmp, universe.ts_code.unique())\n",
    "    universe = universe.append(tmp, ignore_index=True)\n",
    "\n",
    "universe['date'] = pd.to_datetime(universe['trade_date'], format='%Y%m%d')\n",
    "universe = universe.set_index(['date']).sort_values(by=['date'])\n",
    "# update stock list\n",
    "fundamental_df = fundamental_df.loc[fundamental_df.ts_code.isin(universe.ts_code.unique())]\n",
    "print(universe.shape, len(universe.ts_code.unique()))"
   ]
  },
  {
   "cell_type": "code",
   "execution_count": 4,
   "id": "8cc22b6e",
   "metadata": {},
   "outputs": [
    {
     "data": {
      "text/html": [
       "<div>\n",
       "<style scoped>\n",
       "    .dataframe tbody tr th:only-of-type {\n",
       "        vertical-align: middle;\n",
       "    }\n",
       "\n",
       "    .dataframe tbody tr th {\n",
       "        vertical-align: top;\n",
       "    }\n",
       "\n",
       "    .dataframe thead th {\n",
       "        text-align: right;\n",
       "    }\n",
       "</style>\n",
       "<table border=\"1\" class=\"dataframe\">\n",
       "  <thead>\n",
       "    <tr style=\"text-align: right;\">\n",
       "      <th></th>\n",
       "      <th>ts_code</th>\n",
       "      <th>trade_date</th>\n",
       "      <th>turnover_rate</th>\n",
       "      <th>amount</th>\n",
       "      <th>pe</th>\n",
       "      <th>pb</th>\n",
       "      <th>total_share</th>\n",
       "      <th>total_mv</th>\n",
       "      <th>volume</th>\n",
       "      <th>open</th>\n",
       "      <th>...</th>\n",
       "      <th>q_dt_roe</th>\n",
       "      <th>roe_yoy</th>\n",
       "      <th>capital_rese_ps</th>\n",
       "      <th>surplus_rese_ps</th>\n",
       "      <th>gross_margin</th>\n",
       "      <th>interestdebt</th>\n",
       "      <th>ca_to_assets</th>\n",
       "      <th>ebt_yoy</th>\n",
       "      <th>or_yoy</th>\n",
       "      <th>equity_yoy</th>\n",
       "    </tr>\n",
       "  </thead>\n",
       "  <tbody>\n",
       "    <tr>\n",
       "      <th>0</th>\n",
       "      <td>600332.SH</td>\n",
       "      <td>20170405</td>\n",
       "      <td>1.1421</td>\n",
       "      <td>343342.10</td>\n",
       "      <td>30.4236</td>\n",
       "      <td>2.6451</td>\n",
       "      <td>162579.0949</td>\n",
       "      <td>4.587982e+06</td>\n",
       "      <td>13276.207144</td>\n",
       "      <td>26.07224</td>\n",
       "      <td>...</td>\n",
       "      <td>1.1546</td>\n",
       "      <td>-43.4969</td>\n",
       "      <td>6.0741</td>\n",
       "      <td>0.6471</td>\n",
       "      <td>6.623619e+09</td>\n",
       "      <td>58717507.91</td>\n",
       "      <td>75.3518</td>\n",
       "      <td>19.4661</td>\n",
       "      <td>4.7636</td>\n",
       "      <td>105.2474</td>\n",
       "    </tr>\n",
       "    <tr>\n",
       "      <th>1</th>\n",
       "      <td>600721.SH</td>\n",
       "      <td>20170405</td>\n",
       "      <td>1.1684</td>\n",
       "      <td>49564.59</td>\n",
       "      <td>49.4389</td>\n",
       "      <td>3.0095</td>\n",
       "      <td>40038.6394</td>\n",
       "      <td>6.878638e+05</td>\n",
       "      <td>2885.016880</td>\n",
       "      <td>17.10000</td>\n",
       "      <td>...</td>\n",
       "      <td>-0.3803</td>\n",
       "      <td>104.9985</td>\n",
       "      <td>5.7999</td>\n",
       "      <td>0.0126</td>\n",
       "      <td>3.369070e+07</td>\n",
       "      <td>83763125.00</td>\n",
       "      <td>25.4287</td>\n",
       "      <td>117.1491</td>\n",
       "      <td>-7.9415</td>\n",
       "      <td>585.6296</td>\n",
       "    </tr>\n",
       "    <tr>\n",
       "      <th>2</th>\n",
       "      <td>600566.SH</td>\n",
       "      <td>20170405</td>\n",
       "      <td>0.4540</td>\n",
       "      <td>119855.32</td>\n",
       "      <td>29.1373</td>\n",
       "      <td>7.4425</td>\n",
       "      <td>80962.3999</td>\n",
       "      <td>2.721956e+06</td>\n",
       "      <td>4292.358794</td>\n",
       "      <td>27.82328</td>\n",
       "      <td>...</td>\n",
       "      <td>7.2649</td>\n",
       "      <td>-0.7422</td>\n",
       "      <td>1.9466</td>\n",
       "      <td>0.1999</td>\n",
       "      <td>3.987441e+09</td>\n",
       "      <td>0.00</td>\n",
       "      <td>55.3578</td>\n",
       "      <td>36.0698</td>\n",
       "      <td>24.1533</td>\n",
       "      <td>37.0825</td>\n",
       "    </tr>\n",
       "    <tr>\n",
       "      <th>3</th>\n",
       "      <td>002279.SZ</td>\n",
       "      <td>20170405</td>\n",
       "      <td>3.8208</td>\n",
       "      <td>143287.84</td>\n",
       "      <td>47.4094</td>\n",
       "      <td>4.7898</td>\n",
       "      <td>54149.1950</td>\n",
       "      <td>1.036416e+06</td>\n",
       "      <td>9776.308895</td>\n",
       "      <td>14.22015</td>\n",
       "      <td>...</td>\n",
       "      <td>6.6738</td>\n",
       "      <td>47.1227</td>\n",
       "      <td>1.8667</td>\n",
       "      <td>0.1137</td>\n",
       "      <td>7.666542e+08</td>\n",
       "      <td>80424800.00</td>\n",
       "      <td>45.6250</td>\n",
       "      <td>54.9472</td>\n",
       "      <td>84.2947</td>\n",
       "      <td>10.0835</td>\n",
       "    </tr>\n",
       "    <tr>\n",
       "      <th>4</th>\n",
       "      <td>000661.SZ</td>\n",
       "      <td>20170405</td>\n",
       "      <td>1.3793</td>\n",
       "      <td>257774.45</td>\n",
       "      <td>38.5939</td>\n",
       "      <td>4.7982</td>\n",
       "      <td>17011.2265</td>\n",
       "      <td>1.871235e+06</td>\n",
       "      <td>4788.803604</td>\n",
       "      <td>53.33922</td>\n",
       "      <td>...</td>\n",
       "      <td>2.4520</td>\n",
       "      <td>-42.5084</td>\n",
       "      <td>11.5627</td>\n",
       "      <td>2.0026</td>\n",
       "      <td>2.301175e+09</td>\n",
       "      <td>85030000.00</td>\n",
       "      <td>71.1701</td>\n",
       "      <td>25.2060</td>\n",
       "      <td>20.6216</td>\n",
       "      <td>119.3471</td>\n",
       "    </tr>\n",
       "  </tbody>\n",
       "</table>\n",
       "<p>5 rows × 45 columns</p>\n",
       "</div>"
      ],
      "text/plain": [
       "     ts_code  trade_date  turnover_rate     amount       pe      pb  \\\n",
       "0  600332.SH    20170405         1.1421  343342.10  30.4236  2.6451   \n",
       "1  600721.SH    20170405         1.1684   49564.59  49.4389  3.0095   \n",
       "2  600566.SH    20170405         0.4540  119855.32  29.1373  7.4425   \n",
       "3  002279.SZ    20170405         3.8208  143287.84  47.4094  4.7898   \n",
       "4  000661.SZ    20170405         1.3793  257774.45  38.5939  4.7982   \n",
       "\n",
       "   total_share      total_mv        volume      open  ...  q_dt_roe   roe_yoy  \\\n",
       "0  162579.0949  4.587982e+06  13276.207144  26.07224  ...    1.1546  -43.4969   \n",
       "1   40038.6394  6.878638e+05   2885.016880  17.10000  ...   -0.3803  104.9985   \n",
       "2   80962.3999  2.721956e+06   4292.358794  27.82328  ...    7.2649   -0.7422   \n",
       "3   54149.1950  1.036416e+06   9776.308895  14.22015  ...    6.6738   47.1227   \n",
       "4   17011.2265  1.871235e+06   4788.803604  53.33922  ...    2.4520  -42.5084   \n",
       "\n",
       "   capital_rese_ps  surplus_rese_ps  gross_margin interestdebt ca_to_assets  \\\n",
       "0           6.0741           0.6471  6.623619e+09  58717507.91      75.3518   \n",
       "1           5.7999           0.0126  3.369070e+07  83763125.00      25.4287   \n",
       "2           1.9466           0.1999  3.987441e+09         0.00      55.3578   \n",
       "3           1.8667           0.1137  7.666542e+08  80424800.00      45.6250   \n",
       "4          11.5627           2.0026  2.301175e+09  85030000.00      71.1701   \n",
       "\n",
       "    ebt_yoy   or_yoy  equity_yoy  \n",
       "0   19.4661   4.7636    105.2474  \n",
       "1  117.1491  -7.9415    585.6296  \n",
       "2   36.0698  24.1533     37.0825  \n",
       "3   54.9472  84.2947     10.0835  \n",
       "4   25.2060  20.6216    119.3471  \n",
       "\n",
       "[5 rows x 45 columns]"
      ]
     },
     "execution_count": 4,
     "metadata": {},
     "output_type": "execute_result"
    }
   ],
   "source": [
    "field = ['ts_code', 'trade_date', 'turnover_rate', 'amount', 'pe', 'pb', 'total_share', 'total_mv', 'volume',\n",
    "         'open', 'close', 'high', 'low', 'rsi_6', 'cci', \n",
    "         'name', 'industry', 'list_date', 'issue_price', 'issue_amount',\n",
    "         'type', 'type_value', 'p_change_min','p_change_max', \n",
    "         'cfps', 'revenue_ps', 'quick_ratio', 'dt_eps', 'basic_eps_yoy', 'dt_eps_yoy',\n",
    "         'bps', 'bps_yoy', 'extra_item', 'profit_dedt', 'roe_dt', 'q_dt_roe',\n",
    "         'roe_yoy', 'capital_rese_ps', 'surplus_rese_ps', 'gross_margin',\n",
    "         'interestdebt', 'ca_to_assets', 'ebt_yoy', 'or_yoy', 'equity_yoy']\n",
    "universe = universe[field]\n",
    "universe.head()"
   ]
  },
  {
   "cell_type": "markdown",
   "id": "dbd8196b",
   "metadata": {},
   "source": [
    "### Overnight Return\n",
    "This factor we had did in P4, \n",
    "\n",
    "We calculate factor here, and add sma indicators later.\n",
    "\n",
    "$factor=(open_{today}-close_{yesterday})\\div close_{yesterday}$"
   ]
  },
  {
   "cell_type": "code",
   "execution_count": 5,
   "id": "eba51025",
   "metadata": {},
   "outputs": [
    {
     "name": "stderr",
     "output_type": "stream",
     "text": [
      "close_to_open: 100%|██████████████████████████| 468/468 [00:17<00:00, 26.47it/s]\n"
     ]
    }
   ],
   "source": [
    "class CloseToOpen(pd.DataFrame):\n",
    "    \"\"\"\n",
    "        Overnight Return Factor Constructor\n",
    "    \"\"\"\n",
    "    def __init__(self,data):\n",
    "        super(CloseToOpen, self).__init__(data)\n",
    "        self.df = self\n",
    "\n",
    "    def calculate(self):\n",
    "        '''\n",
    "        add open-close as a column named close_to_return\n",
    "        :return: dataframe\n",
    "        '''\n",
    "        unique_ticker = self.df.ts_code.unique()\n",
    "        tmp_df = pd.DataFrame()\n",
    "        for ts_code in tqdm(unique_ticker, desc='close_to_open'):\n",
    "            stock = self.df.loc[self.df.ts_code == ts_code][[\"ts_code\", \"trade_date\", \"open\", \"close\"]]\n",
    "            stock['alpha_close2open'] = (stock['open'].shift(-1).fillna(method='ffill') - stock['close'])/stock['close']\n",
    "            tmp_df = tmp_df.append(stock, ignore_index=True)\n",
    "        self.df = self.df.merge(tmp_df[[\"ts_code\", \"trade_date\", \"alpha_close2open\"]], on=[\"ts_code\", \"trade_date\"], how=\"inner\")\n",
    "        self.df['date'] = pd.to_datetime(self.df['trade_date'], format='%Y%m%d')\n",
    "        self.df = self.df.set_index(['date']).sort_values(by=['date'])\n",
    "        return self.df\n",
    "    \n",
    "\n",
    "universe = CloseToOpen(universe).calculate()"
   ]
  },
  {
   "cell_type": "markdown",
   "id": "f4fea70e",
   "metadata": {},
   "source": [
    "## Add Technology Indicators"
   ]
  },
  {
   "cell_type": "code",
   "execution_count": 6,
   "id": "fe456b68",
   "metadata": {},
   "outputs": [],
   "source": [
    "import stockstats\n",
    "\n",
    "class IndicatorHelper(pd.DataFrame):\n",
    "    \"\"\"\n",
    "        add indicators to dataframe\n",
    "    \"\"\"\n",
    "\n",
    "    def __init__(self, data):\n",
    "        super(IndicatorHelper, self).__init__(data)\n",
    "\n",
    "        self.stocks = stockstats.StockDataFrame.retype(data.copy())\n",
    "        self.df = self\n",
    "\n",
    "    def add_technical_indicator(self, tech_indicator_list):\n",
    "        \"\"\"\n",
    "        calculate technical indicators\n",
    "        use stockstats package to add technical inidactors\n",
    "        :param ticker: (df) pandas dataframe\n",
    "        :param tech_indeicator_list list\n",
    "        :return: (df) pandas dataframe\n",
    "        \"\"\"\n",
    "        unique_ticker = self.df.ts_code.unique()\n",
    "\n",
    "        indicator_df = pd.DataFrame()\n",
    "        for i in tqdm(range(len(unique_ticker)), desc='add tech indicators'):\n",
    "            temp_indicator = self.stocks[self.stocks.ts_code == unique_ticker[i]]\n",
    "            temp_indicator = temp_indicator[tech_indicator_list + ['ts_code','trade_date']]\n",
    "            indicator_df = indicator_df.append(temp_indicator, ignore_index=True)\n",
    "        \n",
    "        self.df = self.df.merge(indicator_df, on=[\"ts_code\", \"trade_date\"], how=\"left\")\n",
    "        self.df['date'] = pd.to_datetime(self.df['trade_date'],format='%Y%m%d')\n",
    "        self.df = self.df.set_index(['date']).sort_values(by=['date']).drop_duplicates(['trade_date','ts_code'])\n",
    "        return self.df\n",
    "    "
   ]
  },
  {
   "cell_type": "code",
   "execution_count": 8,
   "id": "61d44fda",
   "metadata": {},
   "outputs": [
    {
     "name": "stderr",
     "output_type": "stream",
     "text": [
      "add tech indicators: 100%|████████████████████| 468/468 [05:38<00:00,  1.38it/s]\n"
     ]
    }
   ],
   "source": [
    "# add tech indicators\n",
    "tech_indicator_list = [\n",
    "                       'supertrend','close_5_sma','close_20_sma','turnover_rate_20_sma',\n",
    "                       'log-ret','atr_5','cci_6', 'vwma_2','vwma_25',\n",
    "                       'close_10_kama_2_30', 'close_10_kama_5_30','close_2_kama',\n",
    "                       'alpha_close2open_5_sma', 'alpha_close2open_25_sma'\n",
    "                      ] \n",
    "universe = IndicatorHelper(universe).add_technical_indicator(tech_indicator_list)\n",
    "# 'close_2_kama_20_mstd'"
   ]
  },
  {
   "cell_type": "markdown",
   "id": "7e32f544",
   "metadata": {},
   "source": [
    "## Constructor Factors Based on Indicators"
   ]
  },
  {
   "cell_type": "markdown",
   "id": "030e4b76",
   "metadata": {},
   "source": [
    "### Supertrend Factors\n",
    "This factor based on supertrend and close 5 days sma"
   ]
  },
  {
   "cell_type": "code",
   "execution_count": 12,
   "id": "63ac51b4",
   "metadata": {},
   "outputs": [],
   "source": [
    "universe['alpha_supertrend'] = universe['close_5_sma'] - universe['supertrend']"
   ]
  },
  {
   "cell_type": "markdown",
   "id": "7daf0cea",
   "metadata": {},
   "source": [
    "### CCI Factors\n",
    "This factor based on cci and atr 5 days window"
   ]
  },
  {
   "cell_type": "code",
   "execution_count": 13,
   "id": "aa96f527",
   "metadata": {},
   "outputs": [],
   "source": [
    "universe['alpha_cci'] = np.where(universe['cci_6']>200, (universe['cci_6']-200)*universe['atr_5'], \\\n",
    "                      np.where(universe['cci_6']<-200, (universe['cci_6']+200)*universe['atr_5'], universe['atr_5']*30))"
   ]
  },
  {
   "cell_type": "markdown",
   "id": "235ea39e",
   "metadata": {},
   "source": [
    "### KAMA Factors"
   ]
  },
  {
   "cell_type": "code",
   "execution_count": 52,
   "id": "023d6479",
   "metadata": {},
   "outputs": [],
   "source": [
    "universe['close_2_kama'] = \\\n",
    "    np.where(universe['close_2_kama'].isnull()==True,universe['close'], universe['close_2_kama'])"
   ]
  },
  {
   "cell_type": "code",
   "execution_count": 82,
   "id": "b80205a8",
   "metadata": {},
   "outputs": [
    {
     "name": "stderr",
     "output_type": "stream",
     "text": [
      "kama filter: 100%|████████████████████████████| 468/468 [00:19<00:00, 24.31it/s]\n"
     ]
    }
   ],
   "source": [
    "# add KAMA alpha factor\n",
    "def KAMA_filter(df):    \n",
    "    unique_stocks = df.ts_code.unique()\n",
    "    all_df = pd.DataFrame()\n",
    "    for ts_code in tqdm(unique_stocks, desc='kama filter'):\n",
    "        tmp = df.loc[df.ts_code == ts_code]\n",
    "        tmp['kama_filter'] = tmp['close_2_kama'].rolling(window=20).std().fillna(method='bfill') * 0.6\n",
    "        tmp['kama_prior'] = tmp['close_2_kama'].shift(5).fillna(method='bfill')\n",
    "        tmp['alpha_kama'] = (tmp['close_2_kama'] - tmp['kama_prior'] - tmp['kama_filter'])+ (tmp['close_10_kama_2_30'] - tmp['close_10_kama_5_30'])\n",
    "        #tmp['alpha_kama'] = tmp['close_2_kama'] - tmp['kama_prior'] - tmp['kama_filter']\n",
    "        all_df = all_df.append(tmp[['ts_code','trade_date','alpha_kama']], ignore_index=True)\n",
    "    df = df.merge(all_df, on=['ts_code','trade_date'], how='left')\n",
    "    df['date'] = pd.to_datetime(df['trade_date'],format='%Y%m%d')\n",
    "    df = df.set_index(['date']).sort_values(by=['date'])\n",
    "    return df\n",
    "\n",
    "#temp = universe.loc[universe.ts_code=='603538.SH']\n",
    "#temp = KAMA_filter(temp)\n",
    "universe = KAMA_filter(universe)"
   ]
  },
  {
   "cell_type": "markdown",
   "id": "ef1d0744",
   "metadata": {},
   "source": [
    "## Constructor Factors Based on Paper\n",
    "### Overnight Return"
   ]
  },
  {
   "cell_type": "code",
   "execution_count": 93,
   "id": "149a3f76",
   "metadata": {},
   "outputs": [],
   "source": [
    "# we had add overnight return factors\n"
   ]
  },
  {
   "cell_type": "markdown",
   "id": "6d629237",
   "metadata": {},
   "source": [
    "### Winner And Loser\n",
    "This factor we also did in P4. It express a ticker how to reach a return in a spicific period time \n",
    "\n",
    "We use a time window as T, and regression d and v $return = T*d + T^2*v$  => $factor=d*v$ "
   ]
  },
  {
   "cell_type": "code",
   "execution_count": 336,
   "id": "acd580a9",
   "metadata": {},
   "outputs": [
    {
     "name": "stderr",
     "output_type": "stream",
     "text": [
      "winner and loser: 100%|███████████████████████████| 1/1 [00:14<00:00, 14.97s/it]\n"
     ]
    }
   ],
   "source": [
    "from statsmodels.formula.api import ols\n",
    "\n",
    "class WinnerAndLoser(pd.DataFrame):\n",
    "    \"\"\"\n",
    "        Winner and Loser Factor Constructor\n",
    "    \"\"\"\n",
    "    def __init__(self,data, win_length=20):\n",
    "        super(WinnerAndLoser, self).__init__(data)\n",
    "        self.df = self\n",
    "        self.win_lenth = win_length\n",
    "\n",
    "    def _regression(self, data):\n",
    "        df = pd.DataFrame(data, columns=['log-ret'])\n",
    "        df['acc_ret'] = df['log-ret'].cumsum()\n",
    "        df['t_dir'] = np.arange(self.win_lenth)+1\n",
    "        df['t_velocity'] = df['t_dir'] ** 2\n",
    "        regression = ols(formula='acc_ret ~ 0 + t_dir + t_velocity', data=df)\n",
    "        model = regression.fit()\n",
    "        data['alpha_winlos'] = -model.params.t_dir * model.params.t_velocity\n",
    "        return  data['alpha_winlos']\n",
    "\n",
    "\n",
    "    def calculate(self):\n",
    "        '''\n",
    "        convert time to value\n",
    "        regress return to get mu and beta each time\n",
    "        add facotor mu*beta to colomns\n",
    "        :return: dataframe\n",
    "        '''\n",
    "        tickers = self.df.ts_code.unique()\n",
    "        factor_df = pd.DataFrame()\n",
    "        for ticker in tqdm(tickers, desc='winner and loser'):\n",
    "            tmp_df = self.df.loc[self.df.ts_code == ticker][['trade_date', 'ts_code', 'log-ret']]\n",
    "            tmp_df['alpha_winlos'] = tmp_df['log-ret'].rolling(self.win_lenth).apply(self._regression)\n",
    "            tmp_df['alpha_winlos'].fillna(method='bfill',inplace=True)\n",
    "            factor_df = factor_df.append(tmp_df, ignore_index=True)\n",
    "        self.df = self.df.merge(factor_df[[\"ts_code\", \"trade_date\", \"alpha_winlos\"]], on=[\"ts_code\", \"trade_date\"], how=\"left\")\n",
    "        self.df['date'] = pd.to_datetime(self.df['trade_date'],format='%Y%m%d')\n",
    "        self.df = self.df.set_index(['date']).sort_values(by=['date'])\n",
    "        return  self.df\n",
    "    \n",
    "    \n",
    "test = universe.loc[universe.ts_code=='603538.SH']\n",
    "#test = universe.loc[universe.ts_code=='002038.SZ']\n",
    "test = WinnerAndLoser(test).calculate()\n",
    "#universe = WinnerAndLoser(universe).calculate()"
   ]
  },
  {
   "cell_type": "markdown",
   "id": "a83d51be",
   "metadata": {},
   "source": [
    "### Skew And Momentum\n",
    "This factor we also did in P4. It express minority and majority sentiment of investor how to impact on market.\n",
    "\n",
    "We calculate skew and median of log-return distribution in a period time, the skew view as marjority sentiment and median can view as minority sentiment.\n",
    "\n",
    "$factor = abs(skew) * median * volume\\_ratio$"
   ]
  },
  {
   "cell_type": "code",
   "execution_count": 151,
   "id": "323e6e8d",
   "metadata": {},
   "outputs": [
    {
     "name": "stderr",
     "output_type": "stream",
     "text": [
      "skew and momentum: 100%|██████████████████████| 468/468 [03:42<00:00,  2.11it/s]\n"
     ]
    }
   ],
   "source": [
    "class SkewandMomentum(pd.DataFrame):\n",
    "    \"\"\"\n",
    "        Expected Skewness and Momentum Factor Constructor\n",
    "    \"\"\"\n",
    "    def __init__(self,data, win_length=20):\n",
    "        super(SkewandMomentum, self).__init__(data)\n",
    "        self.df = self\n",
    "        self.win_length = win_length\n",
    "\n",
    "    def calculate(self):\n",
    "        '''\n",
    "        convert time to value\n",
    "        regress return to get mu and beta each time\n",
    "        add facotor mu*beta to colomns\n",
    "        :return: dataframe\n",
    "        '''\n",
    "        def calculate_factor(data):\n",
    "            return -abs(data.skew()) * data.median()\n",
    "        \n",
    "        tmp_df = pd.DataFrame()\n",
    "        for stock_tuple in tqdm(self.groupby('ts_code'), desc='skew and momentum'):\n",
    "            stock = stock_tuple[1]\n",
    "            stock['alpha_skew2sentiment'] = stock['log-ret'].rolling(self.win_length).apply(calculate_factor)\n",
    "            stock['alpha_skew2sentiment'] = stock['alpha_skew2sentiment'].fillna(method='bfill')\n",
    "            tmp_df = tmp_df.append(stock,ignore_index=True)\n",
    "        self.df = self.df.merge(tmp_df[[\"ts_code\", \"trade_date\", \"alpha_skew2sentiment\"]], on=[\"ts_code\", \"trade_date\"], how=\"left\")\n",
    "        self.df['date'] = pd.to_datetime(self.df['trade_date'],format='%Y%m%d')\n",
    "        self.df = self.df.set_index(['date']).sort_values(by=['date'])\n",
    "        return self.df\n",
    "\n",
    "\n",
    "#temp = universe.loc[universe.ts_code=='603538.SH']\n",
    "#test = universe.loc[universe.ts_code=='002038.SZ']\n",
    "#temp = SkewandMomentum(temp).calculate()\n",
    "universe = SkewandMomentum(universe).calculate()"
   ]
  },
  {
   "cell_type": "markdown",
   "id": "01516db5",
   "metadata": {},
   "source": [
    "## Fundamental Factor\n",
    "This factor based on ticker fundamentals, it usually take a long period time to archive return. So called take a long line to catch a big fish! "
   ]
  },
  {
   "cell_type": "code",
   "execution_count": 203,
   "id": "28b26487",
   "metadata": {},
   "outputs": [
    {
     "name": "stderr",
     "output_type": "stream",
     "text": [
      "fundamental factor: 100%|████████████████████████| 1/1 [00:00<00:00, 130.24it/s]\n"
     ]
    }
   ],
   "source": [
    "from scipy.stats import zscore\n",
    "def alpha_fundamental(df):\n",
    "    all_df = pd.DataFrame()\n",
    "    for ts_code in tqdm(df.ts_code.unique(), desc='fundamental factor'):\n",
    "        tmp = df.loc[df.ts_code==ts_code]\n",
    "        tmp['alpha_fundamental'] = np.where(tmp['turnover_rate']<12, tmp['vwma_25']/tmp['turnover_rate_20_sma'], tmp['vwma_2']/tmp['turnover_rate'])\\\n",
    "                                * (tmp['type_value']/tmp['pe'])\n",
    "        all_df = all_df.append(tmp, ignore_index=True)\n",
    "        \n",
    "    df = df.merge(all_df[['ts_code','trade_date','alpha_fundamental']], on=['ts_code','trade_date'], how='left')\n",
    "    df['date'] = pd.to_datetime(df['trade_date'],format='%Y%m%d')\n",
    "    df = df.set_index(['date']).sort_values(by=['date'])\n",
    "    return df\n",
    "   \n",
    "\n",
    "#temp = universe.loc[universe.ts_code=='603538.SH']\n",
    "#temp = universe.loc[universe.ts_code=='002038.SZ']\n",
    "#temp['alpha_fundamental'] = alpha_fundamental(temp)\n",
    "\n",
    "universe = alpha_fundamental(universe)"
   ]
  },
  {
   "cell_type": "markdown",
   "id": "279e2ccb",
   "metadata": {},
   "source": [
    "## Save All Data to csv\n",
    "choice some features and alpha factors for mechine learning in the next step"
   ]
  },
  {
   "cell_type": "code",
   "execution_count": 214,
   "id": "dca167e1",
   "metadata": {},
   "outputs": [
    {
     "data": {
      "text/plain": [
       "Index(['ts_code', 'trade_date', 'turnover_rate', 'amount', 'pe', 'pb',\n",
       "       'total_share', 'total_mv', 'volume', 'open', 'close', 'high', 'low',\n",
       "       'rsi_6', 'cci', 'name', 'industry', 'list_date', 'issue_price',\n",
       "       'issue_amount', 'type', 'type_value', 'p_change_min', 'p_change_max',\n",
       "       'cfps', 'revenue_ps', 'quick_ratio', 'dt_eps', 'basic_eps_yoy',\n",
       "       'dt_eps_yoy', 'bps', 'bps_yoy', 'extra_item', 'profit_dedt', 'roe_dt',\n",
       "       'q_dt_roe', 'roe_yoy', 'capital_rese_ps', 'surplus_rese_ps',\n",
       "       'gross_margin', 'interestdebt', 'ca_to_assets', 'ebt_yoy', 'or_yoy',\n",
       "       'equity_yoy', 'alpha_close2open', 'supertrend', 'close_5_sma',\n",
       "       'close_20_sma', 'turnover_rate_20_sma', 'log-ret', 'atr_5', 'cci_6',\n",
       "       'vwma_2', 'vwma_25', 'close_10_kama_2_30', 'close_10_kama_5_30',\n",
       "       'alpha_close2open_5_sma', 'alpha_close2open_25_sma', 'alpha_supertrend',\n",
       "       'alpha_cci', 'close_2_kama', 'alpha_kama', 'alpha_skew2sentiment',\n",
       "       'alpha_fundamental'],\n",
       "      dtype='object')"
      ]
     },
     "execution_count": 214,
     "metadata": {},
     "output_type": "execute_result"
    }
   ],
   "source": [
    "## save tmp data\n",
    "fundamental_df.to_csv('fundamental_20170405_20230317.csv')\n",
    "universe.to_csv('all_20170405_20230317.csv')\n",
    "\n",
    "## load universe_factors\n",
    "# fundamental_df = pd.read_csv('fundamental_20170405_20230317.csv').iloc[:,1:]\n",
    "# universe = pd.read_csv('all_20170405_20230317.csv')\n",
    "# universe['date'] = pd.to_datetime(universe['date'],format='%Y-%m-%d')\n",
    "# universe.set_index(['date'],inplace=True)\n",
    "universe.columns"
   ]
  },
  {
   "cell_type": "code",
   "execution_count": 211,
   "id": "efe831c4",
   "metadata": {},
   "outputs": [
    {
     "data": {
      "text/plain": [
       "<AxesSubplot:xlabel='date'>"
      ]
     },
     "execution_count": 211,
     "metadata": {},
     "output_type": "execute_result"
    },
    {
     "data": {
      "image/png": "[encoded data removed]",
      "text/plain": [
       "<Figure size 1000x600 with 1 Axes>"
      ]
     },
     "metadata": {},
     "output_type": "display_data"
    }
   ],
   "source": [
    "# something test here\n",
    "from scipy.stats import zscore\n",
    "tmp = universe.loc[universe.ts_code== '603538.SH']\n",
    "tmp = tmp.loc[(tmp['trade_date']<20220801) & (tmp['trade_date']>20210101) ]\n",
    "#tmp['alpha'] = tmp['vwma_2']/tmp['turnover_rate']\n",
    "tmp[['turnover_rate','close','alpha_fundamental']] = \\\n",
    "    tmp[['turnover_rate','close','alpha_fundamental']].apply(zscore,ddof=1).fillna(0.)\n",
    "\n",
    "tmp['close'] = tmp['close'].shift(-5)\n",
    "tmp[['close', 'alpha_fundamental']].plot(grid=True)\n",
    "#tmp[['vwma_5', 'turnover_rate']].plot(grid=True)"
   ]
  },
  {
   "cell_type": "code",
   "execution_count": null,
   "id": "65a37758",
   "metadata": {},
   "outputs": [],
   "source": []
  }
 ],
 "metadata": {
  "kernelspec": {
   "display_name": "py37",
   "language": "python",
   "name": "py37"
  },
  "language_info": {
   "codemirror_mode": {
    "name": "ipython",
    "version": 3
   },
   "file_extension": ".py",
   "mimetype": "text/x-python",
   "name": "python",
   "nbconvert_exporter": "python",
   "pygments_lexer": "ipython3",
   "version": "3.7.12"
  }
 },
 "nbformat": 4,
 "nbformat_minor": 5
}
