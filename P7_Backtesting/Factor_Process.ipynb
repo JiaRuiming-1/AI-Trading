{
 "cells": [
  {
   "cell_type": "markdown",
   "id": "caeaf770",
   "metadata": {},
   "source": [
    "## Instruction\n",
    "In this notebook, We use data which I donwload from Tushare to make up some alpha factors.\n",
    "1. Load data which time range bettwen 2018.1 - 2023.3. download from privious step `DownLoad_from_Tushare.ipynb` \n",
    "2. Make up some factors based on some paper, tech indicators and fundamentls"
   ]
  },
  {
   "cell_type": "markdown",
   "id": "4bb5b19b",
   "metadata": {},
   "source": [
    "## Load Data\n",
    "load data which already download from Tushare"
   ]
  },
  {
   "cell_type": "code",
   "execution_count": 1,
   "id": "f6f8d632",
   "metadata": {},
   "outputs": [],
   "source": [
    "import pandas as pd \n",
    "import numpy as np\n",
    "from tqdm import tqdm\n",
    "from scipy.stats import zscore, spearmanr, rankdata\n",
    "\n",
    "from matplotlib import pyplot as plt\n",
    "%matplotlib inline\n",
    "plt.rcParams['figure.figsize'] = [9, 5]\n",
    "\n",
    "from alpha_191 import Alpha191\n",
    "\n",
    "import warnings\n",
    "warnings.filterwarnings('ignore')"
   ]
  },
  {
   "cell_type": "code",
   "execution_count": 28,
   "id": "a129fb46",
   "metadata": {},
   "outputs": [],
   "source": [
    "universe_raw = pd.read_csv('tushare_data/raw_119.csv').iloc[:,1:]\n",
    "fundamental_df = pd.read_csv('tushare_data/fundamental_119.csv').iloc[:,1:]\n",
    "universe_raw = universe_raw.drop_duplicates(subset=['ts_code','trade_date']).reset_index(drop=True)"
   ]
  },
  {
   "cell_type": "code",
   "execution_count": null,
   "id": "f0d0434a",
   "metadata": {},
   "outputs": [],
   "source": [
    "universe = universe_raw.rename(columns={'vol':'volume'})\n",
    "universe = universe.drop_duplicates(subset=['ts_code','trade_date'])\n",
    "universe.head()"
   ]
  },
  {
   "cell_type": "code",
   "execution_count": null,
   "id": "060b52a3",
   "metadata": {},
   "outputs": [],
   "source": [
    "print(len(universe.ts_code.unique()), universe.shape)\n",
    "print(len(fundamental_df.ts_code.unique()))\n",
    "print(len(universe.columns), universe.columns)"
   ]
  },
  {
   "cell_type": "markdown",
   "id": "871eb69e",
   "metadata": {},
   "source": [
    "## Data Explain\n",
    "  Some data columns about fundamental indicators below:\n",
    "  \n",
    "  - 'ts_code','ann_date',\n",
    "  - 'cfps','revenue_ps','gross_margin', # 每股现金流，每股营业收入, 毛利\n",
    "  - 'dt_eps','dt_eps_yoy',              # 每股收益， 每股收同比益增长率\n",
    "  - 'bps','bps_yoy',                    #每股净资产，每股净资产同比增长率\n",
    "  - 'extra_item','profit_dedt',         # 扣非，扣非净利润\n",
    "  - 'roe_dt','roe_yoy',                 #净资产收益，净资产收益同比增长率\n",
    "  - 'ebt_yoy','or_yoy'                  # 总利润增长率，营业收入增长率\n",
    "  \n",
    "  If there are some columns named alpha begin, the data had processed completed. Each column named alpha_ is alpha factors"
   ]
  },
  {
   "cell_type": "markdown",
   "id": "69a85a42",
   "metadata": {},
   "source": [
    "### Filter Custom Tickers Pool"
   ]
  },
  {
   "cell_type": "code",
   "execution_count": null,
   "id": "43f03ee2",
   "metadata": {},
   "outputs": [],
   "source": [
    "# remove tickers by each day not exist history\n",
    "def remove_tickers(df, exist_ticker_list):\n",
    "    diff_df = df.loc[df.ts_code.isin(exist_ticker_list)==False]\n",
    "    if diff_df.empty == False:\n",
    "        # remove tickers not exist over 3month from day\n",
    "        diff1 = (pd.to_datetime(diff_df['trade_date'],format='%Y%m%d')\\\n",
    "                -pd.to_datetime(diff_df['list_date'],format='%Y%m%d')).dt.days < 22\n",
    "        \n",
    "        # remove \n",
    "        # remove liquid few than 5 millon\n",
    "        diff2 = diff_df['amount']<5000\n",
    "        \n",
    "        diff3 = diff_df['total_share'] > 100000\n",
    "        #diff4 = diff_df['close'] > 30\n",
    "        diff5 = diff_df['dt_eps'] <= 0.4\n",
    "        diff6 = diff_df['pe'] > 35\n",
    "        diff7 = diff_df['pb'] > 4\n",
    "        diff8 = diff_df['total_mv'] > 2000000\n",
    "        #diff8 = diff_df['revenue_ps']>0\n",
    "        \n",
    "        # get remove df\n",
    "        diff_df = diff_df.loc[diff1| diff2| diff3| diff6| diff7| diff8]\n",
    "        # get rest data\n",
    "        df = df.loc[df.ts_code.isin(diff_df.ts_code)==False]\n",
    "    return df\n",
    "\n",
    "calendar = universe.trade_date.unique()\n",
    "df_all = pd.DataFrame()\n",
    "for dt in tqdm(calendar, desc='filter tikers'):\n",
    "    tmp = universe.loc[universe['trade_date']==dt]\n",
    "    if df_all.empty:\n",
    "        tmp = remove_tickers(tmp, [])\n",
    "    else:\n",
    "        tmp = remove_tickers(tmp, df_all.ts_code.unique())\n",
    "    df_all = df_all.append(tmp, ignore_index=True)\n",
    "universe = df_all\n",
    "universe['date'] = pd.to_datetime(universe['trade_date'], format='%Y%m%d')\n",
    "universe = universe.set_index(['date']).sort_values(by=['date'])\n",
    "# update stock list\n",
    "#fundamental_df = fundamental_df.loc[fundamental_df.ts_code.isin(universe.ts_code.unique())]\n",
    "print(universe.shape, len(universe.ts_code.unique()))"
   ]
  },
  {
   "cell_type": "markdown",
   "id": "5b5a3402",
   "metadata": {},
   "source": [
    "## Add Technology Indicators"
   ]
  },
  {
   "cell_type": "code",
   "execution_count": null,
   "id": "23af0fd5",
   "metadata": {},
   "outputs": [],
   "source": [
    "import stockstats\n",
    "\n",
    "class IndicatorHelper(pd.DataFrame):\n",
    "    \"\"\"\n",
    "        add indicators to dataframe\n",
    "    \"\"\"\n",
    "\n",
    "    def __init__(self, data):\n",
    "        super(IndicatorHelper, self).__init__(data)\n",
    "\n",
    "        self.stocks = stockstats.StockDataFrame.retype(data.copy())\n",
    "        self.df = self\n",
    "\n",
    "    def add_technical_indicator(self, tech_indicator_list):\n",
    "        \"\"\"\n",
    "        calculate technical indicators\n",
    "        use stockstats package to add technical inidactors\n",
    "        :param ticker: (df) pandas dataframe\n",
    "        :param tech_indeicator_list list\n",
    "        :return: (df) pandas dataframe\n",
    "        \"\"\"\n",
    "        unique_ticker = self.df.ts_code.unique()\n",
    "\n",
    "        indicator_df = pd.DataFrame()\n",
    "        for i in tqdm(range(len(unique_ticker)), desc='add tech indicators'):\n",
    "            temp_indicator = self.stocks[self.stocks.ts_code == unique_ticker[i]]\n",
    "            temp_indicator = temp_indicator[tech_indicator_list + ['ts_code','trade_date']]\n",
    "            indicator_df = indicator_df.append(temp_indicator, ignore_index=True)\n",
    "        \n",
    "        self.df = self.df.merge(indicator_df, on=[\"ts_code\", \"trade_date\"], how=\"left\")\n",
    "        self.df['date'] = pd.to_datetime(self.df['trade_date'],format='%Y%m%d')\n",
    "        self.df = self.df.set_index(['date']).sort_values(by=['date']).drop_duplicates(['trade_date','ts_code'])\n",
    "        return self.df\n",
    "    "
   ]
  },
  {
   "cell_type": "code",
   "execution_count": null,
   "id": "4b747e7b",
   "metadata": {},
   "outputs": [],
   "source": [
    "# add tech indicators\n",
    "tech_indicator_list = ['log-ret','atr_6', 'atr_14', 'ppo', 'close_10_kama_5_30', 'close_10_kama_2_30'] \n",
    "universe = IndicatorHelper(universe).add_technical_indicator(tech_indicator_list)\n",
    "# 'close_2_kama_20_mstd'"
   ]
  },
  {
   "cell_type": "code",
   "execution_count": null,
   "id": "fd6e78f8",
   "metadata": {},
   "outputs": [],
   "source": [
    "def alpha_kama(df):\n",
    "    feature = 'close_10_kama_5_30'\n",
    "    def cal_(df):\n",
    "        kama_filter = df[feature].rolling(14).std()\n",
    "        cond_in1 = (df[feature] - df[feature].shift(1)) >kama_filter\n",
    "        cond_in2 = (df[feature].shift(1) - df[feature].shift(2)) > kama_filter\n",
    "        cond_out1 = (df[feature] - df[feature].shift(1)) < -kama_filter\n",
    "        cond_out2 = (df[feature].shift(1) - df[feature].shift(2)) < -kama_filter\n",
    "        df['alpha_kama'] = np.where((cond_out1 & cond_out2), -df['close'] , - 0.3*kama_filter)\n",
    "        df['alpha_kama'] = np.where((cond_in1 & cond_in2), df['close'] , df['alpha_kama'])\n",
    "        #df['alpha_kama'] = np.where((cond_out1 & cond_out2), df['log-ret']-1, 0)\n",
    "        #df['alpha_kama'] = np.where((cond_in1 & cond_in2), df['log-ret']+1, df['alpha_kama'])\n",
    "        \n",
    "        return df\n",
    "    \n",
    "    df_all = pd.DataFrame()\n",
    "    for ts_code in tqdm(df.ts_code.unique(), desc='alpha_kama processing...'):\n",
    "        tmp = df.loc[df.ts_code == ts_code]\n",
    "        tmp = cal_(tmp)\n",
    "        df_all = df_all.append(tmp)\n",
    "    \n",
    "    return df_all.sort_values(by=['date'])\n",
    "\n",
    "#universe = universe.drop(columns=['alpha_kama'])\n",
    "universe = alpha_kama(universe)"
   ]
  },
  {
   "cell_type": "markdown",
   "id": "6f5b21a5",
   "metadata": {},
   "source": [
    "### Indicator Factors"
   ]
  },
  {
   "cell_type": "code",
   "execution_count": null,
   "id": "6dc9c0a3",
   "metadata": {},
   "outputs": [],
   "source": [
    "universe['vwap'] = universe['amount']/universe['volume']*10\n",
    "universe['alpha_ppo'] = -universe['ppo']\n",
    "universe['alpha_atr'] = -universe['atr_6']\n",
    "universe['alpha_atr14'] = -universe['atr_14']\n",
    "universe['alpha_pb'] = -universe['pb']"
   ]
  },
  {
   "cell_type": "markdown",
   "id": "c26892d2",
   "metadata": {},
   "source": [
    "### Construct Factors Based on Alpha 191"
   ]
  },
  {
   "cell_type": "code",
   "execution_count": 4,
   "id": "9ceaf3a7",
   "metadata": {},
   "outputs": [
    {
     "name": "stderr",
     "output_type": "stream",
     "text": [
      "100%|████████████████████████████████████████████████████████████████████| 1295/1295 [00:03<00:00, 326.93it/s]\n"
     ]
    }
   ],
   "source": [
    "#universe_bak = universe.copy(deep=True)\n",
    "alpha = Alpha191(universe, None)"
   ]
  },
  {
   "cell_type": "code",
   "execution_count": null,
   "id": "e654221a",
   "metadata": {},
   "outputs": [],
   "source": [
    "universe.columns"
   ]
  },
  {
   "cell_type": "code",
   "execution_count": null,
   "id": "26bab008",
   "metadata": {},
   "outputs": [],
   "source": [
    "universe = alpha.alpha007(alpha.df) #1"
   ]
  },
  {
   "cell_type": "code",
   "execution_count": null,
   "id": "0f560dd1",
   "metadata": {},
   "outputs": [],
   "source": [
    "universe = alpha.alpha009(alpha.df) #1"
   ]
  },
  {
   "cell_type": "code",
   "execution_count": null,
   "id": "1db6cd7b",
   "metadata": {},
   "outputs": [],
   "source": [
    "universe = alpha.alpha010(alpha.df)"
   ]
  },
  {
   "cell_type": "code",
   "execution_count": null,
   "id": "8dde349f",
   "metadata": {},
   "outputs": [],
   "source": [
    "universe = alpha.alpha021(alpha.df) #1"
   ]
  },
  {
   "cell_type": "code",
   "execution_count": null,
   "id": "786fbbcb",
   "metadata": {},
   "outputs": [],
   "source": [
    "universe = alpha.alpha026(alpha.df) #1"
   ]
  },
  {
   "cell_type": "code",
   "execution_count": null,
   "id": "194771f6",
   "metadata": {},
   "outputs": [],
   "source": [
    "universe = alpha.alpha029(alpha.df) #1"
   ]
  },
  {
   "cell_type": "code",
   "execution_count": null,
   "id": "80c1a8db",
   "metadata": {},
   "outputs": [],
   "source": [
    "universe = alpha.alpha056(alpha.df) #1"
   ]
  },
  {
   "cell_type": "code",
   "execution_count": null,
   "id": "46c13842",
   "metadata": {},
   "outputs": [],
   "source": [
    "universe = alpha.alpha069(alpha.df) #1"
   ]
  },
  {
   "cell_type": "code",
   "execution_count": null,
   "id": "d699f9ec",
   "metadata": {},
   "outputs": [],
   "source": [
    "universe = alpha.alpha075(universe) #1"
   ]
  },
  {
   "cell_type": "code",
   "execution_count": 9,
   "id": "89995254",
   "metadata": {},
   "outputs": [],
   "source": [
    "universe = alpha.alpha083(alpha.df) "
   ]
  },
  {
   "cell_type": "code",
   "execution_count": 10,
   "id": "fcdb0dfa",
   "metadata": {},
   "outputs": [
    {
     "name": "stderr",
     "output_type": "stream",
     "text": [
      "processing...: 100%|████████████████████████████████████████████████████████| 119/119 [03:15<00:00,  1.64s/it]\n"
     ]
    }
   ],
   "source": [
    "universe = alpha.alpha101(alpha.df) #1"
   ]
  },
  {
   "cell_type": "code",
   "execution_count": 11,
   "id": "4c3278c6",
   "metadata": {},
   "outputs": [],
   "source": [
    "universe = alpha.alpha103(alpha.df) "
   ]
  },
  {
   "cell_type": "code",
   "execution_count": 12,
   "id": "4a83cad6",
   "metadata": {},
   "outputs": [],
   "source": [
    "universe = alpha.alpha111(alpha.df) #1"
   ]
  },
  {
   "cell_type": "code",
   "execution_count": 13,
   "id": "8d38e193",
   "metadata": {},
   "outputs": [
    {
     "name": "stderr",
     "output_type": "stream",
     "text": [
      "processing...: 100%|████████████████████████████████████████████████████████| 119/119 [00:29<00:00,  4.01it/s]\n"
     ]
    }
   ],
   "source": [
    "universe = alpha.alpha116(alpha.df)"
   ]
  },
  {
   "cell_type": "code",
   "execution_count": null,
   "id": "4336c4c1",
   "metadata": {},
   "outputs": [],
   "source": [
    "universe = alpha.alpha122(alpha.df) #1"
   ]
  },
  {
   "cell_type": "code",
   "execution_count": null,
   "id": "c97770f3",
   "metadata": {},
   "outputs": [],
   "source": [
    "universe = alpha.alpha190(alpha.df) #1"
   ]
  },
  {
   "cell_type": "code",
   "execution_count": 5,
   "id": "0d99a9ec",
   "metadata": {},
   "outputs": [],
   "source": [
    "universe = alpha.alpha149(alpha.df) #1"
   ]
  },
  {
   "cell_type": "code",
   "execution_count": 6,
   "id": "9f98f46c",
   "metadata": {},
   "outputs": [],
   "source": [
    "universe = alpha.alpha150(alpha.df) #1"
   ]
  },
  {
   "cell_type": "code",
   "execution_count": 7,
   "id": "88d417b1",
   "metadata": {},
   "outputs": [
    {
     "name": "stderr",
     "output_type": "stream",
     "text": [
      "alpha030 processing...: 100%|███████████████████████████████████████████████| 119/119 [20:51<00:00, 10.51s/it]\n"
     ]
    }
   ],
   "source": [
    "universe = alpha.alpha030(alpha.df) #1"
   ]
  },
  {
   "cell_type": "code",
   "execution_count": 14,
   "id": "261427ec",
   "metadata": {},
   "outputs": [
    {
     "name": "stderr",
     "output_type": "stream",
     "text": [
      "processing...: 100%|████████████████████████████████████████████████████████| 119/119 [01:43<00:00,  1.15it/s]\n"
     ]
    }
   ],
   "source": [
    "universe = alpha.alpha176(alpha.df)"
   ]
  },
  {
   "cell_type": "code",
   "execution_count": 15,
   "id": "0644c994",
   "metadata": {},
   "outputs": [],
   "source": [
    "universe = alpha.alpha190(alpha.df)"
   ]
  },
  {
   "cell_type": "code",
   "execution_count": 8,
   "id": "a4894dc6",
   "metadata": {},
   "outputs": [],
   "source": [
    "def alpha_kama_revert(df):\n",
    "    def cal_(df):\n",
    "        df['alpha_kama2'] = -df['close_10_kama_2_30'].rolling(6).std()\n",
    "        return df\n",
    "    df = df.groupby('ts_code').apply(cal_)\n",
    "    return df\n",
    "\n",
    "universe = universe.sort_values(by=['date','ts_code'])\n",
    "universe = alpha_kama_revert(universe)"
   ]
  },
  {
   "cell_type": "code",
   "execution_count": null,
   "id": "4c5ec5d1",
   "metadata": {},
   "outputs": [],
   "source": [
    "universe['alpha_131'] = -universe['alpha_021'] * universe['alpha_116']"
   ]
  },
  {
   "cell_type": "code",
   "execution_count": null,
   "id": "d970fd22",
   "metadata": {},
   "outputs": [],
   "source": [
    "## tmp bak\n",
    "alpha.df = universe.copy(deep=True)\n",
    "bak = universe.copy(deep=True)"
   ]
  },
  {
   "cell_type": "code",
   "execution_count": 3,
   "id": "f5848775",
   "metadata": {},
   "outputs": [
    {
     "data": {
      "text/plain": [
       "Index(['ts_code', 'trade_date', 'turnover_rate', 'pe', 'pb', 'ps', 'dv_ratio',\n",
       "       'total_share', 'free_share', 'total_mv', 'circ_mv', 'name', 'industry',\n",
       "       'list_date', 'pct_change', 'volume', 'amount', 'open', 'close', 'high',\n",
       "       'low', 'pre_close', 'cfps', 'revenue_ps', 'gross_margin', 'dt_eps',\n",
       "       'dt_eps_yoy', 'bps', 'bps_yoy', 'extra_item', 'profit_dedt', 'roe_dt',\n",
       "       'roe_yoy', 'ebt_yoy', 'or_yoy', 'log-ret', 'atr_6', 'atr_14', 'ppo',\n",
       "       'close_10_kama_5_30', 'close_10_kama_2_30', 'alpha_kama', 'vwap',\n",
       "       'alpha_ppo', 'alpha_atr', 'alpha_atr14', 'alpha_pb', 'rsize', 'rvalue',\n",
       "       'alpha_007', 'alpha_009', 'alpha_010', 'alpha_021', 'alpha_026',\n",
       "       'alpha_029', 'alpha_056', 'alpha_069', 'alpha_075'],\n",
       "      dtype='object')"
      ]
     },
     "execution_count": 3,
     "metadata": {},
     "output_type": "execute_result"
    }
   ],
   "source": [
    "universe.columns"
   ]
  },
  {
   "cell_type": "code",
   "execution_count": 37,
   "id": "4b9a7e99",
   "metadata": {},
   "outputs": [],
   "source": [
    "ticker_list = ['688363', '603102', '603368', '002462', '000411', '002788', '600976', '600211', '301311', '002864',\n",
    "        '300878', '002728', '600750', '300519', '002873', '301047', '688358', '688314', '301033', '300396',\n",
    "        '688317', '600587', '300918', '300463', '300639', '300677', '600056', '300642', '300363', '300109',\n",
    "        \n",
    "        '300294', '603590', '688163', '300485', '001367', '000915', '603351', '300233', '603229', '300723',\n",
    "        '003020', '688799', '688117', '002940', '301130', '603538', '605177', '002923', '300583', '000756',\n",
    "        '002393', '603811', '300636', '002365', '600513', '600062', '300584', '301075', '002826', '300016',]\n",
    "ticker_list = [int(_) for _ in ticker_list]\n",
    "tmp_save = universe_raw.rename(columns={'vol':'volume'})\n",
    "tmp_save = tmp_save.drop_duplicates(subset=['ts_code','trade_date'])"
   ]
  },
  {
   "cell_type": "code",
   "execution_count": 39,
   "id": "0a0870ef",
   "metadata": {},
   "outputs": [],
   "source": [
    "df_list = fundamental_df.loc[fundamental_df.symbol.isin(ticker_list)]\n",
    "tmp_save = tmp_save.loc[tmp_save.ts_code.isin(df_list.ts_code.unique())]"
   ]
  },
  {
   "cell_type": "code",
   "execution_count": 40,
   "id": "a8f88f5c",
   "metadata": {},
   "outputs": [
    {
     "data": {
      "text/html": [
       "<div>\n",
       "<style scoped>\n",
       "    .dataframe tbody tr th:only-of-type {\n",
       "        vertical-align: middle;\n",
       "    }\n",
       "\n",
       "    .dataframe tbody tr th {\n",
       "        vertical-align: top;\n",
       "    }\n",
       "\n",
       "    .dataframe thead th {\n",
       "        text-align: right;\n",
       "    }\n",
       "</style>\n",
       "<table border=\"1\" class=\"dataframe\">\n",
       "  <thead>\n",
       "    <tr style=\"text-align: right;\">\n",
       "      <th></th>\n",
       "      <th>ts_code</th>\n",
       "      <th>trade_date</th>\n",
       "      <th>turnover_rate</th>\n",
       "      <th>pe</th>\n",
       "      <th>pb</th>\n",
       "      <th>ps</th>\n",
       "      <th>dv_ratio</th>\n",
       "      <th>total_share</th>\n",
       "      <th>free_share</th>\n",
       "      <th>total_mv</th>\n",
       "      <th>...</th>\n",
       "      <th>dt_eps</th>\n",
       "      <th>dt_eps_yoy</th>\n",
       "      <th>bps</th>\n",
       "      <th>bps_yoy</th>\n",
       "      <th>extra_item</th>\n",
       "      <th>profit_dedt</th>\n",
       "      <th>roe_dt</th>\n",
       "      <th>roe_yoy</th>\n",
       "      <th>ebt_yoy</th>\n",
       "      <th>or_yoy</th>\n",
       "    </tr>\n",
       "  </thead>\n",
       "  <tbody>\n",
       "    <tr>\n",
       "      <th>2</th>\n",
       "      <td>000915.SZ</td>\n",
       "      <td>20180102</td>\n",
       "      <td>1.1511</td>\n",
       "      <td>36.6170</td>\n",
       "      <td>4.9338</td>\n",
       "      <td>4.7026</td>\n",
       "      <td>0.3722</td>\n",
       "      <td>23433.1485</td>\n",
       "      <td>18488.8117</td>\n",
       "      <td>7.264276e+05</td>\n",
       "      <td>...</td>\n",
       "      <td>-0.0000</td>\n",
       "      <td>-0.0000</td>\n",
       "      <td>-0.0000</td>\n",
       "      <td>-0.0000</td>\n",
       "      <td>-0.00</td>\n",
       "      <td>-0.000000e+00</td>\n",
       "      <td>-0.0000</td>\n",
       "      <td>-0.0000</td>\n",
       "      <td>-0.0000</td>\n",
       "      <td>-0.0000</td>\n",
       "    </tr>\n",
       "    <tr>\n",
       "      <th>3</th>\n",
       "      <td>300485.SZ</td>\n",
       "      <td>20180102</td>\n",
       "      <td>1.0308</td>\n",
       "      <td>27.1294</td>\n",
       "      <td>3.1347</td>\n",
       "      <td>11.3761</td>\n",
       "      <td>0.8559</td>\n",
       "      <td>24000.0000</td>\n",
       "      <td>8448.0000</td>\n",
       "      <td>7.010400e+05</td>\n",
       "      <td>...</td>\n",
       "      <td>-0.0000</td>\n",
       "      <td>-0.0000</td>\n",
       "      <td>-0.0000</td>\n",
       "      <td>-0.0000</td>\n",
       "      <td>-0.00</td>\n",
       "      <td>-0.000000e+00</td>\n",
       "      <td>-0.0000</td>\n",
       "      <td>-0.0000</td>\n",
       "      <td>-0.0000</td>\n",
       "      <td>-0.0000</td>\n",
       "    </tr>\n",
       "    <tr>\n",
       "      <th>7</th>\n",
       "      <td>002365.SZ</td>\n",
       "      <td>20180102</td>\n",
       "      <td>3.6849</td>\n",
       "      <td>108.3234</td>\n",
       "      <td>5.2277</td>\n",
       "      <td>12.2829</td>\n",
       "      <td>0.2911</td>\n",
       "      <td>19645.5000</td>\n",
       "      <td>13660.8875</td>\n",
       "      <td>6.748229e+05</td>\n",
       "      <td>...</td>\n",
       "      <td>-0.0000</td>\n",
       "      <td>-0.0000</td>\n",
       "      <td>-0.0000</td>\n",
       "      <td>-0.0000</td>\n",
       "      <td>-0.00</td>\n",
       "      <td>-0.000000e+00</td>\n",
       "      <td>-0.0000</td>\n",
       "      <td>-0.0000</td>\n",
       "      <td>-0.0000</td>\n",
       "      <td>-0.0000</td>\n",
       "    </tr>\n",
       "    <tr>\n",
       "      <th>9</th>\n",
       "      <td>002826.SZ</td>\n",
       "      <td>20180102</td>\n",
       "      <td>0.6447</td>\n",
       "      <td>50.9955</td>\n",
       "      <td>4.8878</td>\n",
       "      <td>6.2467</td>\n",
       "      <td>0.4032</td>\n",
       "      <td>18972.0000</td>\n",
       "      <td>7207.4681</td>\n",
       "      <td>2.823034e+05</td>\n",
       "      <td>...</td>\n",
       "      <td>-0.0000</td>\n",
       "      <td>-0.0000</td>\n",
       "      <td>-0.0000</td>\n",
       "      <td>-0.0000</td>\n",
       "      <td>-0.00</td>\n",
       "      <td>-0.000000e+00</td>\n",
       "      <td>-0.0000</td>\n",
       "      <td>-0.0000</td>\n",
       "      <td>-0.0000</td>\n",
       "      <td>-0.0000</td>\n",
       "    </tr>\n",
       "    <tr>\n",
       "      <th>10</th>\n",
       "      <td>600587.SH</td>\n",
       "      <td>20180102</td>\n",
       "      <td>0.3582</td>\n",
       "      <td>198.1901</td>\n",
       "      <td>2.1159</td>\n",
       "      <td>0.8207</td>\n",
       "      <td>0.2664</td>\n",
       "      <td>40642.8091</td>\n",
       "      <td>28651.9026</td>\n",
       "      <td>6.864570e+05</td>\n",
       "      <td>...</td>\n",
       "      <td>-0.0000</td>\n",
       "      <td>-0.0000</td>\n",
       "      <td>-0.0000</td>\n",
       "      <td>-0.0000</td>\n",
       "      <td>-0.00</td>\n",
       "      <td>-0.000000e+00</td>\n",
       "      <td>-0.0000</td>\n",
       "      <td>-0.0000</td>\n",
       "      <td>-0.0000</td>\n",
       "      <td>-0.0000</td>\n",
       "    </tr>\n",
       "    <tr>\n",
       "      <th>...</th>\n",
       "      <td>...</td>\n",
       "      <td>...</td>\n",
       "      <td>...</td>\n",
       "      <td>...</td>\n",
       "      <td>...</td>\n",
       "      <td>...</td>\n",
       "      <td>...</td>\n",
       "      <td>...</td>\n",
       "      <td>...</td>\n",
       "      <td>...</td>\n",
       "      <td>...</td>\n",
       "      <td>...</td>\n",
       "      <td>...</td>\n",
       "      <td>...</td>\n",
       "      <td>...</td>\n",
       "      <td>...</td>\n",
       "      <td>...</td>\n",
       "      <td>...</td>\n",
       "      <td>...</td>\n",
       "      <td>...</td>\n",
       "      <td>...</td>\n",
       "    </tr>\n",
       "    <tr>\n",
       "      <th>116879</th>\n",
       "      <td>300463.SZ</td>\n",
       "      <td>20230505</td>\n",
       "      <td>1.0784</td>\n",
       "      <td>13.9026</td>\n",
       "      <td>1.5375</td>\n",
       "      <td>2.7276</td>\n",
       "      <td>2.9123</td>\n",
       "      <td>61246.9590</td>\n",
       "      <td>42289.3838</td>\n",
       "      <td>9.842386e+05</td>\n",
       "      <td>...</td>\n",
       "      <td>0.1908</td>\n",
       "      <td>-43.8658</td>\n",
       "      <td>10.4521</td>\n",
       "      <td>1.7216</td>\n",
       "      <td>-3255475.75</td>\n",
       "      <td>1.201292e+08</td>\n",
       "      <td>1.8926</td>\n",
       "      <td>-45.2055</td>\n",
       "      <td>-45.7050</td>\n",
       "      <td>-26.8539</td>\n",
       "    </tr>\n",
       "    <tr>\n",
       "      <th>116880</th>\n",
       "      <td>603102.SH</td>\n",
       "      <td>20230505</td>\n",
       "      <td>3.8457</td>\n",
       "      <td>21.4044</td>\n",
       "      <td>2.0114</td>\n",
       "      <td>4.0677</td>\n",
       "      <td>1.0846</td>\n",
       "      <td>6400.0000</td>\n",
       "      <td>3029.1366</td>\n",
       "      <td>2.950400e+05</td>\n",
       "      <td>...</td>\n",
       "      <td>0.7000</td>\n",
       "      <td>32.0755</td>\n",
       "      <td>22.9193</td>\n",
       "      <td>3.1495</td>\n",
       "      <td>1120150.57</td>\n",
       "      <td>4.366307e+07</td>\n",
       "      <td>3.0228</td>\n",
       "      <td>32.2518</td>\n",
       "      <td>43.5712</td>\n",
       "      <td>58.7297</td>\n",
       "    </tr>\n",
       "    <tr>\n",
       "      <th>116881</th>\n",
       "      <td>300485.SZ</td>\n",
       "      <td>20230505</td>\n",
       "      <td>0.9864</td>\n",
       "      <td>25.6908</td>\n",
       "      <td>1.5588</td>\n",
       "      <td>7.1606</td>\n",
       "      <td>1.5385</td>\n",
       "      <td>48166.6400</td>\n",
       "      <td>20098.9984</td>\n",
       "      <td>5.259797e+05</td>\n",
       "      <td>...</td>\n",
       "      <td>0.0017</td>\n",
       "      <td>-99.2315</td>\n",
       "      <td>7.0054</td>\n",
       "      <td>0.0114</td>\n",
       "      <td>-2309052.99</td>\n",
       "      <td>3.132989e+06</td>\n",
       "      <td>0.0929</td>\n",
       "      <td>-99.2320</td>\n",
       "      <td>-97.9843</td>\n",
       "      <td>-30.9212</td>\n",
       "    </tr>\n",
       "    <tr>\n",
       "      <th>116884</th>\n",
       "      <td>600976.SH</td>\n",
       "      <td>20230505</td>\n",
       "      <td>2.0362</td>\n",
       "      <td>25.1531</td>\n",
       "      <td>5.2194</td>\n",
       "      <td>2.8158</td>\n",
       "      <td>1.2031</td>\n",
       "      <td>15339.8600</td>\n",
       "      <td>11028.5185</td>\n",
       "      <td>1.025163e+06</td>\n",
       "      <td>...</td>\n",
       "      <td>0.6500</td>\n",
       "      <td>12.0690</td>\n",
       "      <td>12.8042</td>\n",
       "      <td>5.4373</td>\n",
       "      <td>9127795.18</td>\n",
       "      <td>9.043232e+07</td>\n",
       "      <td>4.7260</td>\n",
       "      <td>-5.6164</td>\n",
       "      <td>12.7279</td>\n",
       "      <td>10.3976</td>\n",
       "    </tr>\n",
       "    <tr>\n",
       "      <th>116889</th>\n",
       "      <td>000411.SZ</td>\n",
       "      <td>20230505</td>\n",
       "      <td>4.3136</td>\n",
       "      <td>31.2228</td>\n",
       "      <td>1.8302</td>\n",
       "      <td>0.2164</td>\n",
       "      <td>0.7708</td>\n",
       "      <td>50544.5173</td>\n",
       "      <td>11500.5955</td>\n",
       "      <td>6.626386e+05</td>\n",
       "      <td>...</td>\n",
       "      <td>0.1728</td>\n",
       "      <td>16.9147</td>\n",
       "      <td>11.6982</td>\n",
       "      <td>82.9559</td>\n",
       "      <td>2656585.21</td>\n",
       "      <td>6.565554e+07</td>\n",
       "      <td>2.2604</td>\n",
       "      <td>-24.9943</td>\n",
       "      <td>11.7067</td>\n",
       "      <td>10.8374</td>\n",
       "    </tr>\n",
       "  </tbody>\n",
       "</table>\n",
       "<p>61710 rows × 35 columns</p>\n",
       "</div>"
      ],
      "text/plain": [
       "          ts_code  trade_date  turnover_rate        pe      pb       ps  \\\n",
       "2       000915.SZ    20180102         1.1511   36.6170  4.9338   4.7026   \n",
       "3       300485.SZ    20180102         1.0308   27.1294  3.1347  11.3761   \n",
       "7       002365.SZ    20180102         3.6849  108.3234  5.2277  12.2829   \n",
       "9       002826.SZ    20180102         0.6447   50.9955  4.8878   6.2467   \n",
       "10      600587.SH    20180102         0.3582  198.1901  2.1159   0.8207   \n",
       "...           ...         ...            ...       ...     ...      ...   \n",
       "116879  300463.SZ    20230505         1.0784   13.9026  1.5375   2.7276   \n",
       "116880  603102.SH    20230505         3.8457   21.4044  2.0114   4.0677   \n",
       "116881  300485.SZ    20230505         0.9864   25.6908  1.5588   7.1606   \n",
       "116884  600976.SH    20230505         2.0362   25.1531  5.2194   2.8158   \n",
       "116889  000411.SZ    20230505         4.3136   31.2228  1.8302   0.2164   \n",
       "\n",
       "        dv_ratio  total_share  free_share      total_mv  ...  dt_eps  \\\n",
       "2         0.3722   23433.1485  18488.8117  7.264276e+05  ... -0.0000   \n",
       "3         0.8559   24000.0000   8448.0000  7.010400e+05  ... -0.0000   \n",
       "7         0.2911   19645.5000  13660.8875  6.748229e+05  ... -0.0000   \n",
       "9         0.4032   18972.0000   7207.4681  2.823034e+05  ... -0.0000   \n",
       "10        0.2664   40642.8091  28651.9026  6.864570e+05  ... -0.0000   \n",
       "...          ...          ...         ...           ...  ...     ...   \n",
       "116879    2.9123   61246.9590  42289.3838  9.842386e+05  ...  0.1908   \n",
       "116880    1.0846    6400.0000   3029.1366  2.950400e+05  ...  0.7000   \n",
       "116881    1.5385   48166.6400  20098.9984  5.259797e+05  ...  0.0017   \n",
       "116884    1.2031   15339.8600  11028.5185  1.025163e+06  ...  0.6500   \n",
       "116889    0.7708   50544.5173  11500.5955  6.626386e+05  ...  0.1728   \n",
       "\n",
       "       dt_eps_yoy      bps  bps_yoy  extra_item   profit_dedt  roe_dt  \\\n",
       "2         -0.0000  -0.0000  -0.0000       -0.00 -0.000000e+00 -0.0000   \n",
       "3         -0.0000  -0.0000  -0.0000       -0.00 -0.000000e+00 -0.0000   \n",
       "7         -0.0000  -0.0000  -0.0000       -0.00 -0.000000e+00 -0.0000   \n",
       "9         -0.0000  -0.0000  -0.0000       -0.00 -0.000000e+00 -0.0000   \n",
       "10        -0.0000  -0.0000  -0.0000       -0.00 -0.000000e+00 -0.0000   \n",
       "...           ...      ...      ...         ...           ...     ...   \n",
       "116879   -43.8658  10.4521   1.7216 -3255475.75  1.201292e+08  1.8926   \n",
       "116880    32.0755  22.9193   3.1495  1120150.57  4.366307e+07  3.0228   \n",
       "116881   -99.2315   7.0054   0.0114 -2309052.99  3.132989e+06  0.0929   \n",
       "116884    12.0690  12.8042   5.4373  9127795.18  9.043232e+07  4.7260   \n",
       "116889    16.9147  11.6982  82.9559  2656585.21  6.565554e+07  2.2604   \n",
       "\n",
       "        roe_yoy  ebt_yoy   or_yoy  \n",
       "2       -0.0000  -0.0000  -0.0000  \n",
       "3       -0.0000  -0.0000  -0.0000  \n",
       "7       -0.0000  -0.0000  -0.0000  \n",
       "9       -0.0000  -0.0000  -0.0000  \n",
       "10      -0.0000  -0.0000  -0.0000  \n",
       "...         ...      ...      ...  \n",
       "116879 -45.2055 -45.7050 -26.8539  \n",
       "116880  32.2518  43.5712  58.7297  \n",
       "116881 -99.2320 -97.9843 -30.9212  \n",
       "116884  -5.6164  12.7279  10.3976  \n",
       "116889 -24.9943  11.7067  10.8374  \n",
       "\n",
       "[61710 rows x 35 columns]"
      ]
     },
     "execution_count": 40,
     "metadata": {},
     "output_type": "execute_result"
    }
   ],
   "source": [
    "tmp_save"
   ]
  },
  {
   "cell_type": "code",
   "execution_count": 41,
   "id": "1c9f4efe",
   "metadata": {},
   "outputs": [],
   "source": [
    "tmp_save.to_csv('factor_data/all_60.csv')"
   ]
  },
  {
   "cell_type": "code",
   "execution_count": 16,
   "id": "938dc3fa",
   "metadata": {},
   "outputs": [],
   "source": [
    "universe.to_csv('factor_data/all_119_test.csv')"
   ]
  },
  {
   "cell_type": "code",
   "execution_count": null,
   "id": "a5bb5e71",
   "metadata": {},
   "outputs": [],
   "source": [
    "universe = universe.sort_values(by=['trade_date', 'ts_code'])"
   ]
  },
  {
   "cell_type": "markdown",
   "id": "97ebaae8",
   "metadata": {},
   "source": [
    "## Rank Alpha Factors\n",
    "As computer use factor to compare each oter before all factors had same scales. So we rescale each factors by Rank in each day and each industry. \n",
    "\n",
    "Here we pick some features as mechine learning step in the next step."
   ]
  },
  {
   "cell_type": "code",
   "execution_count": null,
   "id": "aac85cd7",
   "metadata": {},
   "outputs": [],
   "source": [
    "sector_list = ['医药商业', '中成药', '化学制药', '医疗保健', '生物制药', '化工原料']\n",
    "universe['ind_val'] = np.where(universe.industry.isin(sector_list), 1, 0)\n",
    "universe['ind_val'].unique()"
   ]
  },
  {
   "cell_type": "code",
   "execution_count": 2,
   "id": "8c6c1742",
   "metadata": {},
   "outputs": [],
   "source": [
    "universe = pd.read_csv('factor_data/all_119_test.csv').iloc[:,1:]\n",
    "universe['date'] = pd.to_datetime(universe['trade_date'],format='%Y%m%d')\n",
    "universe = universe.set_index(['date']).sort_index(level=['date'])\n",
    "#universe = universe.loc[universe['trade_date']>20210501]"
   ]
  },
  {
   "cell_type": "code",
   "execution_count": null,
   "id": "18dc89af",
   "metadata": {},
   "outputs": [],
   "source": [
    "factor_names = [\n",
    "            'alpha_kama', 'alpha_atr', 'alpha_atr14', 'alpha_kama2',\n",
    "            'alpha_pb', 'alpha_ppo', 'alpha_fundamental', 'alpha_009', 'alpha_010',\n",
    "            'alpha_056', 'alpha_069', 'alpha_075', 'alpha_083', 'alpha_101', \n",
    "            'alpha_103', 'alpha_122','alpha_149', 'alpha_150', 'alpha_030',\n",
    "            'alpha_007', 'alpha_026', 'alpha_029', 'alpha_021', 'alpha_116', 'alpha_176', 'alpha_190'\n",
    "        ]"
   ]
  },
  {
   "cell_type": "code",
   "execution_count": null,
   "id": "9c825a44",
   "metadata": {},
   "outputs": [],
   "source": [
    "from scipy.stats import zscore\n",
    "\n",
    "def rescale_(data, zscore_features=factor_names):\n",
    "    data[factor_names] = data[factor_names].apply(zscore)\n",
    "    # resize from -1 to 1\n",
    "    for feature in zscore_features:\n",
    "        #data[feature] = data[feature] - data[feature].median()\n",
    "        max_val = data[feature].median() + 3.5*data[feature].std()\n",
    "        min_val = data[feature].median() - 3.5*data[feature].std()\n",
    "        data[feature] = np.where(data[feature]>max_val, max_val, \n",
    "                               np.where(data[feature]<min_val, min_val, data[feature]))\n",
    "        #data[feature] = (data[feature] - data[feature].mean())/data[feature].std()\n",
    "        data[feature] = np.where(data[feature]>0, data[feature]/data[feature].max(),\n",
    "                                 np.where(data[feature]<0, data[feature]/(-data[feature].min()), 0.))\n",
    "    return data\n",
    "\n",
    "def zscore_by_sector(df, zscore_features):\n",
    "    \n",
    "    df_all = pd.DataFrame()\n",
    "    for val in tqdm(df.ind_val.unique()):\n",
    "        tmp = df.loc[df.ind_val == val]\n",
    "        tmp[zscore_features] = tmp.groupby('trade_date')[zscore_features].apply(rescale_, zscore_features)\n",
    "        df_all = df_all.append(tmp)\n",
    "\n",
    "    return df_all.sort_values(by=['date'])\n",
    "\n",
    "universe = universe.replace([np.inf, -np.inf], np.nan)\n",
    "universe = universe.fillna(0.)\n",
    "#universe = universe[~universe.isin([np.inf, -np.inf]).any(1)]\n",
    "\n",
    "#universe = zscore_by_sector(universe, factor_names)\n",
    "universe[factor_names] = universe.groupby('trade_date')[factor_names].apply(rescale_)"
   ]
  },
  {
   "cell_type": "code",
   "execution_count": null,
   "id": "53d7a0c3",
   "metadata": {},
   "outputs": [],
   "source": [
    "#universe.loc[universe['trade_date']==20230417].sort_values(['alpha_atr14'])[['alpha_atr14','close','ts_code','name']]#.hist()\n",
    "#universe['alpha_kama'].std()\n",
    "universe.loc[universe['trade_date']==20230417].sort_values(['alpha_kama'])['alpha_111'].hist()\n"
   ]
  },
  {
   "cell_type": "markdown",
   "id": "51c4bb1a",
   "metadata": {},
   "source": [
    "### Calculate Factor Positive Returns"
   ]
  },
  {
   "cell_type": "code",
   "execution_count": null,
   "id": "e804a8e5",
   "metadata": {},
   "outputs": [],
   "source": [
    "def factor_positive_profit(universe, features):\n",
    "    df = universe.copy(deep=True)\n",
    "    def process_(data):\n",
    "        ## shift log-ret   \n",
    "        data['p_ret4'] = data['log-ret'].shift(-2).fillna(0)\n",
    "        data['p_ret5'] = data['log-ret'].shift(-3).fillna(0)\n",
    "        data['p_ret6'] = data['log-ret'].shift(-4).fillna(0)\n",
    "        ## only save factor positive values\n",
    "        for feature in features:\n",
    "            data[feature] = np.where(data[feature]>0, data[feature], 0)\n",
    "        return data\n",
    "    df = df.reset_index()\n",
    "    df_all = pd.DataFrame()\n",
    "    for ts_code in tqdm(df.ts_code.unique()):\n",
    "        tmp = df.loc[df.ts_code==ts_code]\n",
    "        df_all = df_all.append(process_(tmp))\n",
    "    df = df_all.set_index(['date'])\n",
    "    \n",
    "    ## calculate factor return by shift returns\n",
    "    for feature in features:\n",
    "        df[feature + '_returns'] =  (df['p_ret4']  + df['p_ret5'] + df['p_ret6']) * df[feature]/3\n",
    "    \n",
    "    ## sum returns by each day\n",
    "    p_ret_df = pd.DataFrame(index=df.index.unique())\n",
    "    for dt in tqdm(p_ret_df.index, desc='cross sum feature returns'):\n",
    "        tmp = df.loc[df.index==dt]\n",
    "        for feature in features:\n",
    "            p_ret_df.at[dt, feature] = tmp[feature + '_returns'].sum()/tmp[feature].sum()\n",
    "        \n",
    "    ## calculate positive factor cumsum returns\n",
    "    p_ret_df.fillna(0)\n",
    "    for feature in features:\n",
    "        p_ret_df[feature] = p_ret_df[feature].cumsum()\n",
    "            \n",
    "    return p_ret_df\n",
    "\n",
    "cal_features = [ \n",
    "            'alpha_atr14', 'alpha_kama', 'alpha_111', 'alpha_030',\n",
    "            'alpha_028', 'alpha_035', 'alpha_061', 'close_10_kama_2_30', 'alpha_077', 'alpha_092',\n",
    "            'alpha_098', 'alpha_172', 'alpha_190', 'alpha_112', 'alpha_128', 'alpha_131', 'alpha_kama2'\n",
    "        ]\n",
    "tmp_cal = universe.loc[universe['trade_date'] > 20220101]\n",
    "positive_returns_df = factor_positive_profit(tmp_cal, cal_features)"
   ]
  },
  {
   "cell_type": "code",
   "execution_count": null,
   "id": "c4a18e19",
   "metadata": {},
   "outputs": [],
   "source": [
    "return_features = [\n",
    "            'alpha_atr14', 'alpha_kama', 'alpha_111', 'alpha_kama2', 'alpha_030', 'close_10_kama_2_30', 'alpha_131', \n",
    "            #'alpha_028', 'alpha_035', 'alpha_061',   'alpha_077', 'alpha_092',\n",
    "            #'alpha_098', 'alpha_172', 'alpha_190', 'alpha_112', 'alpha_128', \n",
    "        ]\n",
    "positive_returns_df.loc[positive_returns_df.index>'2021-01-01'][return_features].plot(grid=True)"
   ]
  },
  {
   "cell_type": "markdown",
   "id": "80192cbf",
   "metadata": {},
   "source": [
    "### Evaluate Alpha Factors"
   ]
  },
  {
   "cell_type": "code",
   "execution_count": null,
   "id": "2c23617b",
   "metadata": {},
   "outputs": [],
   "source": [
    "#universe['close_10_kama_2_30'] = -universe['close_10_kama_2_30']\n",
    "universe['alpha_131'] = -universe['alpha_131']"
   ]
  },
  {
   "cell_type": "code",
   "execution_count": null,
   "id": "09a2f78f",
   "metadata": {},
   "outputs": [],
   "source": [
    "all_factors = universe.copy(deep=True)[factor_names + ['trade_date','ts_code','industry', 'close', 'log-ret']]\n",
    "all_factors.reset_index(drop=True, inplace=True)\n",
    "all_factors['date'] = pd.to_datetime(all_factors['trade_date'], format='%Y%m%d')\n",
    "all_factors = all_factors.set_index(['date','ts_code']).sort_values(by=['date'])\n",
    "print(all_factors.shape)"
   ]
  },
  {
   "cell_type": "code",
   "execution_count": null,
   "id": "0db32288",
   "metadata": {},
   "outputs": [],
   "source": [
    "import alphalens as al\n",
    "from scipy.stats import zscore\n",
    "import helper.project_helper as ph\n",
    "\n",
    "shift_day = -2\n",
    "tmp = universe.copy(deep=True)\n",
    "tmp['close'] = tmp.groupby('ts_code')['close'].shift(shift_day)\n",
    "all_pricing = tmp.reset_index().pivot(index='date', columns='ts_code', values='close')\n",
    "#all_pricing = all_pricing.loc[all_pricing.index[::5]]\n",
    "\n",
    "def show_sample_results(factors_with_alpha, features, pricing=all_pricing, holding_time=1):\n",
    "    factors_with_alpha = factors_with_alpha[features]\n",
    "    \n",
    "    # Setup data for AlphaLens\n",
    "    print('Cleaning Data...\\n')\n",
    "    factor_data = ph.build_factor_data(factors_with_alpha, pricing, holding_time=holding_time)\n",
    "    print('\\n-----------------------\\n')\n",
    "    \n",
    "    # Calculate Factor Returns and Sharpe Ratio\n",
    "    factor_returns = ph.get_factor_returns(factor_data)\n",
    "    sharpe_ratio = ph.sharpe_ratio(factor_returns)\n",
    "    \n",
    "    # Show Results\n",
    "    print('             Sharpe Ratios')\n",
    "    print(sharpe_ratio.round(2))\n",
    "    ph.plot_factor_returns(factor_returns)\n",
    "    ph.plot_factor_rank_autocorrelation(factor_data)\n",
    "    \n",
    "    qr_factor_returns = pd.DataFrame()\n",
    "    for factor, factor_data in factor_data.items():\n",
    "        qr_factor_returns[factor] = al.performance.mean_return_by_quantile(factor_data)[0]\n",
    "\n",
    "    (10000*qr_factor_returns).plot.bar(\n",
    "        subplots=True,\n",
    "        sharey=True,\n",
    "        layout=(5,2),\n",
    "        figsize=(12, 8),\n",
    "        legend=False)\n",
    "\n",
    "#all_pricing.head()"
   ]
  },
  {
   "cell_type": "code",
   "execution_count": null,
   "id": "3bc7db03",
   "metadata": {
    "scrolled": false
   },
   "outputs": [],
   "source": [
    "features = [\n",
    "            'alpha_atr14', 'alpha_kama', 'alpha_kama2', 'alpha_030', 'alpha_128',\n",
    "            'alpha_172', 'alpha_190', 'alpha_112', 'close_10_kama_2_30'\n",
    "        ]\n",
    "eva_df = all_factors.loc[all_factors['trade_date']>20220101]\n",
    "show_sample_results(eva_df, features, pricing=all_pricing, holding_time=3)"
   ]
  },
  {
   "cell_type": "code",
   "execution_count": null,
   "id": "f0312941",
   "metadata": {},
   "outputs": [],
   "source": [
    "universe['alpha_021'] = -universe['alpha_021'] * universe['alpha_016']"
   ]
  },
  {
   "cell_type": "markdown",
   "id": "4438603b",
   "metadata": {},
   "source": [
    "### View factor to single ticker"
   ]
  },
  {
   "cell_type": "code",
   "execution_count": null,
   "id": "bf81a392",
   "metadata": {},
   "outputs": [],
   "source": [
    "cond1 = universe['trade_date']>20230313\n",
    "universe.loc[cond1].sort_values(by=['alpha_021'])[['ts_code','name','alpha_kama','alpha_021']].tail(10)"
   ]
  },
  {
   "cell_type": "code",
   "execution_count": null,
   "id": "ebde1d5e",
   "metadata": {},
   "outputs": [],
   "source": [
    "#universe['alpha_021'].hist()\n",
    "rescale_universe['alpha_cus021'].hist()"
   ]
  },
  {
   "cell_type": "code",
   "execution_count": null,
   "id": "bcda5423",
   "metadata": {},
   "outputs": [],
   "source": [
    "name1 = 'alpha_021'\n",
    "name2 = 'alpha_149'\n",
    "# & (universe['trade_date']>20190901) \n",
    "rescale_universe = universe.copy()\n",
    "#rescale_universe['alpha_021'] = rescale_universe['alpha_021'] * rescale_universe['alpha_atr']\n",
    "\n",
    "# def alpha_021(df):\n",
    "#     def cal_(data):\n",
    "#         section1 = data['alpha_021'].diff(6).rolling(6).sum()\n",
    "#         section2 = data['alpha_021'].shift(6)\n",
    "#         cond1 = data['alpha_021'].diff(6)>0\n",
    "#         cond2 = section1 > section2\n",
    "#         data['alpha_cus021'] = np.where(cond1 & cond2, abs(data['alpha_021']), -abs(data['alpha_021']))\n",
    "#         return data\n",
    "#     df = df.groupby('ts_code').apply(cal_)\n",
    "#     return df\n",
    "\n",
    "# rescale_universe = alpha_021(rescale_universe)\n",
    "\n",
    "# 'alpha_149'\n",
    "cond1 = rescale_universe.ts_code=='300964.SZ'\n",
    "cond2 = rescale_universe['trade_date']>20230101\n",
    "cond3 = rescale_universe['trade_date']<20230502\n",
    "tmp = rescale_universe.loc[cond1 & cond2&cond3][['close', name2, name1]]\n",
    "#tmp[['close',name1, name2]] = tmp[['close', name1, name2]].apply(zscore)\n",
    "\n",
    "tmp[['close']] = tmp[['close']].apply(zscore)\n",
    "tmp['close'] = tmp['close'].shift(-2)\n",
    "tmp.plot(title=name1, grid=True)"
   ]
  },
  {
   "cell_type": "markdown",
   "id": "cea813d9",
   "metadata": {},
   "source": [
    "## Construct Factors Based on Paper"
   ]
  },
  {
   "cell_type": "markdown",
   "id": "c43125ee",
   "metadata": {},
   "source": [
    "### 60days return"
   ]
  },
  {
   "cell_type": "code",
   "execution_count": null,
   "id": "90ea739b",
   "metadata": {},
   "outputs": [],
   "source": [
    "def return_3month(df):\n",
    "    def cal_(df):\n",
    "        df['alpha_3m_ret'] = df['log-ret'].rolling(60).sum()\n",
    "        return df\n",
    "    df = df.groupby('ts_code').apply(cal_)\n",
    "    return df.sort_values(by=['date'])\n",
    "\n",
    "universe = return_3month(universe)"
   ]
  },
  {
   "cell_type": "markdown",
   "id": "a4d6724f",
   "metadata": {},
   "source": [
    "### atr custom"
   ]
  },
  {
   "cell_type": "code",
   "execution_count": null,
   "id": "9a13a862",
   "metadata": {},
   "outputs": [],
   "source": [
    "universe['alpha_cus_atr'] = universe['atr_14']-universe['atr_6']"
   ]
  },
  {
   "cell_type": "markdown",
   "id": "7c5f0625",
   "metadata": {},
   "source": [
    "### Overnight Return"
   ]
  },
  {
   "cell_type": "code",
   "execution_count": null,
   "id": "2cc0691a",
   "metadata": {},
   "outputs": [],
   "source": [
    "def overnight_return(df):\n",
    "    def cal_(df):\n",
    "        section = (df['open'] - df['close'].shift(1).fillna(method='ffill')) / df['open']\n",
    "        df['alpha_o2c'] = -section.rolling(50).sum()\n",
    "        return df\n",
    "\n",
    "    df = df.groupby('ts_code').apply(cal_)\n",
    "    return df\n",
    "\n",
    "#universe = universe.drop(columns=['alpha_o2c'])\n",
    "universe = overnight_return(universe)"
   ]
  },
  {
   "cell_type": "markdown",
   "id": "b8b89dee",
   "metadata": {},
   "source": [
    "### Winner And Loser\n",
    "This factor we also did in P4. It express a ticker how to reach a return in a spicific period time \n",
    "\n",
    "We use a time window as T, and regression d and v $return = T*d + T^2*v$  => $factor=d*v$ "
   ]
  },
  {
   "cell_type": "code",
   "execution_count": null,
   "id": "510c87fd",
   "metadata": {},
   "outputs": [],
   "source": [
    "from statsmodels.formula.api import ols\n",
    "\n",
    "class WinnerAndLoser(pd.DataFrame):\n",
    "    \"\"\"\n",
    "        Winner and Loser Factor Constructor\n",
    "    \"\"\"\n",
    "    def __init__(self,data, win_length=14):\n",
    "        super(WinnerAndLoser, self).__init__(data)\n",
    "        self.df = self\n",
    "        self.win_lenth = win_length\n",
    "\n",
    "    def _regression(self, data):\n",
    "        df = pd.DataFrame(data, columns=['log-ret'])\n",
    "        df['acc_ret'] = df['log-ret'].cumsum()\n",
    "        df['t_dir'] = np.arange(self.win_lenth)+1\n",
    "        df['t_velocity'] = df['t_dir'] ** 2\n",
    "        regression = ols(formula='acc_ret ~ 0 + t_dir + t_velocity', data=df)\n",
    "        model = regression.fit()\n",
    "        data['alpha_winlos'] = model.params.t_dir * model.params.t_velocity\n",
    "        return  data['alpha_winlos']\n",
    "\n",
    "\n",
    "    def calculate(self):\n",
    "        '''\n",
    "        convert time to value\n",
    "        regress return to get mu and beta each time\n",
    "        add facotor mu*beta to colomns\n",
    "        :return: dataframe\n",
    "        '''\n",
    "        tickers = self.df.ts_code.unique()\n",
    "        factor_df = pd.DataFrame()\n",
    "        for ticker in tqdm(tickers, desc='winner and loser'):\n",
    "            tmp_df = self.df.loc[self.df.ts_code == ticker][['trade_date', 'ts_code', 'log-ret']]\n",
    "            tmp_df['alpha_winlos'] = tmp_df['log-ret'].rolling(self.win_lenth).apply(self._regression)\n",
    "            tmp_df['alpha_winlos'].fillna(method='bfill',inplace=True)\n",
    "            factor_df = factor_df.append(tmp_df, ignore_index=True)\n",
    "        self.df = self.df.merge(factor_df[[\"ts_code\", \"trade_date\", \"alpha_winlos\"]], on=[\"ts_code\", \"trade_date\"], how=\"left\")\n",
    "        self.df['date'] = pd.to_datetime(self.df['trade_date'],format='%Y%m%d')\n",
    "        self.df = self.df.set_index(['date']).sort_values(by=['date'])\n",
    "        return  self.df\n",
    "    \n",
    "    \n",
    "#test = universe.loc[universe.ts_code=='603538.SH']\n",
    "#test = universe.loc[universe.ts_code=='002038.SZ']\n",
    "#test = WinnerAndLoser(test).calculate()\n",
    "#universe = universe.drop(columns=['alpha_winlos'])\n",
    "universe = WinnerAndLoser(universe).calculate()"
   ]
  },
  {
   "cell_type": "markdown",
   "id": "6063b83a",
   "metadata": {},
   "source": [
    "### Skew And Momentum\n",
    "This factor we also did in P4. It express minority and majority sentiment of investor how to impact on market.\n",
    "\n",
    "We calculate skew and median of log-return distribution in a period time, the skew view as marjority sentiment and median can view as minority sentiment.\n",
    "\n",
    "$factor = skew * median "
   ]
  },
  {
   "cell_type": "code",
   "execution_count": null,
   "id": "3df2ced2",
   "metadata": {},
   "outputs": [],
   "source": [
    "class SkewandMomentum(pd.DataFrame):\n",
    "    \"\"\"\n",
    "        Expected Skewness and Momentum Factor Constructor\n",
    "    \"\"\"\n",
    "    def __init__(self,data, win_length=14):\n",
    "        super(SkewandMomentum, self).__init__(data)\n",
    "        self.df = self\n",
    "        self.win_length = win_length\n",
    "\n",
    "    def calculate(self):\n",
    "        '''\n",
    "        convert time to value\n",
    "        regress return to get mu and beta each time\n",
    "        add facotor mu*beta to colomns\n",
    "        :return: dataframe\n",
    "        '''\n",
    "        def calculate_factor(data):\n",
    "            return data.skew() * data.median()\n",
    "        \n",
    "        tmp_df = pd.DataFrame()\n",
    "        for stock_tuple in tqdm(self.groupby('ts_code'), desc='skew and momentum'):\n",
    "            stock = stock_tuple[1]\n",
    "            stock['alpha_skew2sentiment'] = stock['log-ret'].rolling(self.win_length).apply(calculate_factor)\n",
    "            stock['alpha_skew2sentiment'] = stock['alpha_skew2sentiment'].fillna(method='bfill')\n",
    "            tmp_df = tmp_df.append(stock,ignore_index=True)\n",
    "        self.df = self.df.merge(tmp_df[[\"ts_code\", \"trade_date\", \"alpha_skew2sentiment\"]], on=[\"ts_code\", \"trade_date\"], how=\"left\")\n",
    "        self.df['date'] = pd.to_datetime(self.df['trade_date'],format='%Y%m%d')\n",
    "        self.df = self.df.set_index(['date']).sort_values(by=['date'])\n",
    "        return self.df\n",
    "    \n",
    "#universe = universe.drop(columns=['alpha_skew2sentiment'])\n",
    "universe = SkewandMomentum(universe).calculate()"
   ]
  },
  {
   "cell_type": "markdown",
   "id": "bf43e4fb",
   "metadata": {},
   "source": [
    "## Save All Data and factors to csv"
   ]
  },
  {
   "cell_type": "code",
   "execution_count": null,
   "id": "365038b9",
   "metadata": {},
   "outputs": [],
   "source": [
    "tmp_features = [\n",
    "            'ts_code', 'trade_date', 'name', 'industry', 'close', 'log-ret', 'ind_val',\n",
    "            'alpha_kama', 'alpha_atr14', 'alpha_083', 'alpha_103',  'alpha_111',\n",
    "            'alpha_pb',  'alpha_101', 'alpha_atr', 'alpha_010',  'alpha_supertrend','alpha_021', 'alpha_056',\n",
    "            'alpha_149', 'alpha_075', 'alpha_089','alpha_122', 'alpha_069'\n",
    "            ]\n",
    "\n",
    "universe_tmp = universe[tmp_features]\n",
    "universe_tmp.to_csv('factor_data/all_108_zscore.csv')"
   ]
  },
  {
   "cell_type": "code",
   "execution_count": null,
   "id": "e4461387",
   "metadata": {},
   "outputs": [],
   "source": [
    "alpha.df.to_csv('factor_data/all_108.csv')"
   ]
  },
  {
   "cell_type": "code",
   "execution_count": null,
   "id": "10c8f7d3",
   "metadata": {},
   "outputs": [],
   "source": [
    "df = pd.read_csv('factor_data/all_108.csv')\n",
    "fundamental_df = pd.read_csv('tushare_data/fundamental_108.csv').iloc[:,1:]\n",
    "df['date'] = pd.to_datetime(df['trade_date'], format='%Y%m%d')\n",
    "df.set_index(['date'], inplace=True)"
   ]
  },
  {
   "cell_type": "code",
   "execution_count": null,
   "id": "da66053f",
   "metadata": {},
   "outputs": [],
   "source": [
    "universe = df.drop(columns=['rsize', 'rvalue', 'section1', 'section2'])\n",
    "universe.columns"
   ]
  },
  {
   "cell_type": "code",
   "execution_count": null,
   "id": "316a81ea",
   "metadata": {},
   "outputs": [],
   "source": [
    "df = pd.read_csv('factor_data/all_108_zscore.csv')\n",
    "df.columns"
   ]
  },
  {
   "cell_type": "markdown",
   "id": "f6153eba",
   "metadata": {},
   "source": [
    "### Load data fom csv"
   ]
  },
  {
   "cell_type": "code",
   "execution_count": null,
   "id": "905bfa5f",
   "metadata": {},
   "outputs": [],
   "source": [
    "ticker_list = [\n",
    "    '603368', '002462', '600976', '600211', '002864', '300878', '002728', '600750', '002873', '688314',\n",
    "    '301033', '688358', '688317', '600587', '300396', '300639', '300109', '300363', '603590', '000915',\n",
    "    '300233', '603229', '300723', '003020', '688799', '688117', '603538', '002940', '605177', '002923',\n",
    "    '300533', '300494', '603258', '603508', '301042', '300771', '300508', '300845', '300813', '688259',\n",
    "    '603738', '688230', '003043', '688049', '688589', '300739', '300852', '300936', '605058', '603383',\n",
    "    '301085', '688228', '688171', '688078', '300925', '605398', '300378', '002322', '300532', '300678',\n",
    "    '002649', #'603102'\n",
    "    ]\n",
    "ticker_list = [int(_) for _ in ticker_list]"
   ]
  },
  {
   "cell_type": "code",
   "execution_count": null,
   "id": "0a616309",
   "metadata": {},
   "outputs": [],
   "source": [
    "fundamental_df = fundamental_df.loc[fundamental_df['symbol'].isin(ticker_list)]\n",
    "df = df.loc[df.ts_code.isin(fundamental_df.ts_code.unique())]\n",
    "print(fundamental_df.shape, len(df.ts_code.unique()))"
   ]
  },
  {
   "cell_type": "code",
   "execution_count": null,
   "id": "ff51e3b1",
   "metadata": {},
   "outputs": [],
   "source": [
    "df.columns"
   ]
  },
  {
   "cell_type": "code",
   "execution_count": null,
   "id": "75ff286c",
   "metadata": {},
   "outputs": [],
   "source": [
    "sector_list = ['医药商业', '中成药', '化学制药', '医疗保健', '生物制药']\n",
    "universe['ind_val'] = np.where(universe.industry.isin(sector_list), 1, 0)\n",
    "universe['ind_val'].unique()"
   ]
  },
  {
   "cell_type": "code",
   "execution_count": null,
   "id": "33374cbb",
   "metadata": {},
   "outputs": [],
   "source": [
    "universe = universe.loc[universe.ind_val==1]\n",
    "len(universe.ts_code.unique())"
   ]
  },
  {
   "cell_type": "code",
   "execution_count": null,
   "id": "376a4ef1",
   "metadata": {},
   "outputs": [],
   "source": [
    "universe.ts_code.unique()"
   ]
  },
  {
   "cell_type": "code",
   "execution_count": null,
   "id": "ea0cbfef",
   "metadata": {},
   "outputs": [],
   "source": []
  }
 ],
 "metadata": {
  "kernelspec": {
   "display_name": "py37",
   "language": "python",
   "name": "py37"
  },
  "language_info": {
   "codemirror_mode": {
    "name": "ipython",
    "version": 3
   },
   "file_extension": ".py",
   "mimetype": "text/x-python",
   "name": "python",
   "nbconvert_exporter": "python",
   "pygments_lexer": "ipython3",
   "version": "3.7.12"
  }
 },
 "nbformat": 4,
 "nbformat_minor": 5
}
