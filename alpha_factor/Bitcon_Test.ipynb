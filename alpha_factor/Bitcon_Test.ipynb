{
 "cells": [
  {
   "cell_type": "code",
   "execution_count": 1,
   "id": "e24f45f4",
   "metadata": {},
   "outputs": [],
   "source": [
    "import pandas as pd \n",
    "import numpy as np\n",
    "from tqdm import tqdm\n",
    "from scipy.stats import zscore, spearmanr, rankdata\n",
    "from statsmodels.formula.api import ols\n",
    "\n",
    "from matplotlib import pyplot as plt\n",
    "%matplotlib inline\n",
    "plt.rcParams['figure.figsize'] = [9, 5]\n",
    "\n",
    "import os\n",
    "import sys\n",
    "sys.path.append('../')\n",
    "from alpha_191 import Alpha191\n",
    "\n",
    "import warnings\n",
    "warnings.filterwarnings('ignore')\n",
    "\n",
    "import feather"
   ]
  },
  {
   "cell_type": "markdown",
   "id": "2d466880",
   "metadata": {},
   "source": [
    "### 读取自存数据"
   ]
  },
  {
   "cell_type": "code",
   "execution_count": 2,
   "id": "c5bba385",
   "metadata": {},
   "outputs": [],
   "source": [
    "universe = feather.read_dataframe('bitcoin_data/raw36_20220301_now.feather')\n",
    "universe = universe.drop(columns=['close time'])\n",
    "#universe['date'] = pd.to_datetime(universe['date'],format='%Y-%m-%d %H:%M:%S')\n",
    "universe = universe.set_index(['date']).sort_values(by=['date', 'ts_code'])"
   ]
  },
  {
   "cell_type": "code",
   "execution_count": null,
   "id": "b635b2e4",
   "metadata": {},
   "outputs": [],
   "source": [
    "def sum_val(series):\n",
    "    return series.sum()\n",
    "universe = universe.groupby('ts_code').resample('4H').agg({\n",
    "                'open':'first', 'close':'last', 'high':'max', 'low':'min', 'volume':sum_val, 'amount':sum_val,\n",
    "                'trade_counts':sum_val, 'buy_volume':sum_val, 'buy_amount':sum_val})\n",
    "#universe = universe.reset_index().set_index(['date']).sort_values(by=['date', 'ts_code'])\n",
    "#universe['trade_date'] = universe.index"
   ]
  },
  {
   "cell_type": "code",
   "execution_count": null,
   "id": "8f6aa617",
   "metadata": {},
   "outputs": [],
   "source": [
    "#universe.loc[universe.ts_code=='BTCUSDT'].head(10)"
   ]
  },
  {
   "cell_type": "code",
   "execution_count": 3,
   "id": "a33a4251",
   "metadata": {},
   "outputs": [],
   "source": [
    "universe['vwap'] = universe['amount']/universe['volume']\n",
    "universe = universe.rename(columns={'open':'open_usdt', 'high':'high_usdt', 'low':'low_usdt', \n",
    "                                    'close':'close_usdt', 'vwap':'vwap_usdt'})"
   ]
  },
  {
   "cell_type": "code",
   "execution_count": 4,
   "id": "55dc8a82",
   "metadata": {},
   "outputs": [],
   "source": [
    "def my_groupby(df, column, func, sort_keys=['date', 'ts_code']):\n",
    "    all_df = pd.DataFrame()\n",
    "    for val in tqdm(df[column].unique()):\n",
    "        tmp = df.loc[df[column] == val]\n",
    "        all_df = all_df.append(func(tmp))\n",
    "    return all_df.sort_index(level=sort_keys)"
   ]
  },
  {
   "cell_type": "code",
   "execution_count": 5,
   "id": "932602ac",
   "metadata": {},
   "outputs": [
    {
     "name": "stderr",
     "output_type": "stream",
     "text": [
      "100%|███████████████████████████████████████████| 36/36 [00:02<00:00, 16.98it/s]\n"
     ]
    }
   ],
   "source": [
    "def convert_price_to_returns(df):\n",
    "    def cal_(data):\n",
    "        data['close'] = data['close_usdt'].pct_change()\n",
    "        data['close'] = (data['close'].fillna(0) + 1).cumprod()\n",
    "        data['vwap'] = data['vwap_usdt'].pct_change()\n",
    "        data['vwap'] = (data['vwap'].fillna(0) + 1).cumprod()\n",
    "        \n",
    "        for feature in ['open', 'high', 'low',]:\n",
    "            data[feature] = data[feature + '_usdt']/data['close_usdt'] * data['close']\n",
    "        return data\n",
    "    \n",
    "    df = my_groupby(df, 'ts_code', cal_)\n",
    "    return df\n",
    "\n",
    "universe = convert_price_to_returns(universe)"
   ]
  },
  {
   "cell_type": "code",
   "execution_count": 6,
   "id": "0a2b670c",
   "metadata": {},
   "outputs": [],
   "source": [
    "universe['trade_date'] = universe.index\n",
    "universe = universe.loc[universe.ts_code!='TUSDUSDT'].sort_values(by=['date', 'ts_code'])"
   ]
  },
  {
   "cell_type": "code",
   "execution_count": 7,
   "id": "f251a097",
   "metadata": {},
   "outputs": [
    {
     "data": {
      "text/plain": [
       "array(['ACHUSDT', 'ADAUSDT', 'ATOMUSDT', 'AVAXUSDT', 'BNBUSDT', 'BTCUSDT',\n",
       "       'CFXUSDT', 'DOGEUSDT', 'DOTUSDT', 'DYDXUSDT', 'EGLDUSDT',\n",
       "       'ETHUSDT', 'FILUSDT', 'FTMUSDT', 'GALAUSDT', 'LINKUSDT', 'LTCUSDT',\n",
       "       'MANAUSDT', 'MASKUSDT', 'MATICUSDT', 'NEARUSDT', 'SANDUSDT',\n",
       "       'SHIBUSDT', 'SOLUSDT', 'STXUSDT', 'TRXUSDT', 'UMAUSDT', 'WOOUSDT',\n",
       "       'XRPUSDT', 'GMTUSDT', 'APEUSDT', 'OPUSDT', 'LUNCUSDT', 'APTUSDT',\n",
       "       'MAGICUSDT'], dtype=object)"
      ]
     },
     "execution_count": 7,
     "metadata": {},
     "output_type": "execute_result"
    }
   ],
   "source": [
    "# tmp = universe.loc[(universe.ts_code=='BTCUSDT') & (universe.index>'2023-05-25 00:00:00')]\n",
    "# tmp[['close']] = tmp[['close']].apply(zscore)\n",
    "# #universe\n",
    "# tmp[['ppo', 'ppos', 'close']].plot(grid=True)\n",
    "universe.ts_code.unique()"
   ]
  },
  {
   "cell_type": "markdown",
   "id": "7e874ced",
   "metadata": {},
   "source": [
    "### 构造技术指标为alpha"
   ]
  },
  {
   "cell_type": "code",
   "execution_count": 8,
   "id": "f80e5fc9",
   "metadata": {},
   "outputs": [],
   "source": [
    "import stockstats\n",
    "\n",
    "class IndicatorHelper(pd.DataFrame):\n",
    "    \"\"\"\n",
    "        add indicators to dataframe\n",
    "    \"\"\"\n",
    "\n",
    "    def __init__(self, data):\n",
    "        super(IndicatorHelper, self).__init__(data)\n",
    "\n",
    "        self.stocks = stockstats.StockDataFrame.retype(data.copy())\n",
    "        self.df = self\n",
    "\n",
    "    def add_technical_indicator(self, tech_indicator_list):\n",
    "        \"\"\"\n",
    "        calculate technical indicators\n",
    "        use stockstats package to add technical inidactors\n",
    "        :param ticker: (df) pandas dataframe\n",
    "        :param tech_indeicator_list list\n",
    "        :return: (df) pandas dataframe\n",
    "        \"\"\"\n",
    "        unique_ticker = self.df.ts_code.unique()\n",
    "\n",
    "        indicator_df = pd.DataFrame()\n",
    "        for i in tqdm(range(len(unique_ticker)), desc='add tech indicators'):\n",
    "            temp_indicator = self.stocks[self.stocks.ts_code == unique_ticker[i]]\n",
    "            temp_indicator = temp_indicator[tech_indicator_list + ['ts_code', 'trade_date']]\n",
    "            indicator_df = indicator_df.append(temp_indicator, ignore_index=True)\n",
    "        \n",
    "        self.df = self.df.merge(indicator_df, on=[\"ts_code\", \"trade_date\"], how=\"left\")\n",
    "        self.df['date'] = self.df['trade_date'].apply(lambda x: pd.Timestamp(x))\n",
    "        self.df = self.df.set_index(['date']).sort_values(\n",
    "                    by=['date', 'ts_code']).drop_duplicates(subset=['trade_date','ts_code'])\n",
    "        return self.df\n",
    "    "
   ]
  },
  {
   "cell_type": "code",
   "execution_count": 9,
   "id": "295d8b87",
   "metadata": {},
   "outputs": [
    {
     "name": "stderr",
     "output_type": "stream",
     "text": [
      "add tech indicators: 100%|██████████████████████| 35/35 [02:44<00:00,  4.70s/it]\n"
     ]
    }
   ],
   "source": [
    "# add tech indicators\n",
    "tech_indicator_list = ['log-ret','wt1', 'wt2','stochrsi_5', 'cci_5', 'rsi_5', 'wr_5', \n",
    "                       'ppo', 'ppos', 'macds', 'macd', 'kdjj_5', 'kdjk_5', 'kdjd_5'] \n",
    "universe = IndicatorHelper(universe).add_technical_indicator(tech_indicator_list)\n",
    "#universe = IndicatorHelper(universe).add_technical_indicator(['wt1', 'wt2','stochrsi_6', 'cci_6', 'rsi_6', \n",
    "#                                                              'atr_5', 'wr_5'])"
   ]
  },
  {
   "cell_type": "markdown",
   "id": "32f7b904",
   "metadata": {},
   "source": [
    "### 构造指数"
   ]
  },
  {
   "cell_type": "code",
   "execution_count": 5,
   "id": "833b4cfa",
   "metadata": {},
   "outputs": [
    {
     "data": {
      "text/html": [
       "<div>\n",
       "<style scoped>\n",
       "    .dataframe tbody tr th:only-of-type {\n",
       "        vertical-align: middle;\n",
       "    }\n",
       "\n",
       "    .dataframe tbody tr th {\n",
       "        vertical-align: top;\n",
       "    }\n",
       "\n",
       "    .dataframe thead th {\n",
       "        text-align: right;\n",
       "    }\n",
       "</style>\n",
       "<table border=\"1\" class=\"dataframe\">\n",
       "  <thead>\n",
       "    <tr style=\"text-align: right;\">\n",
       "      <th></th>\n",
       "      <th>close</th>\n",
       "      <th>open</th>\n",
       "      <th>high</th>\n",
       "      <th>low</th>\n",
       "      <th>log-ret</th>\n",
       "    </tr>\n",
       "    <tr>\n",
       "      <th>date</th>\n",
       "      <th></th>\n",
       "      <th></th>\n",
       "      <th></th>\n",
       "      <th></th>\n",
       "      <th></th>\n",
       "    </tr>\n",
       "  </thead>\n",
       "  <tbody>\n",
       "    <tr>\n",
       "      <th>2022-03-01 00:00:00</th>\n",
       "      <td>1.000000</td>\n",
       "      <td>0.997581</td>\n",
       "      <td>1.007540</td>\n",
       "      <td>0.993213</td>\n",
       "      <td>0.000000</td>\n",
       "    </tr>\n",
       "    <tr>\n",
       "      <th>2022-03-01 01:00:00</th>\n",
       "      <td>1.007982</td>\n",
       "      <td>1.000032</td>\n",
       "      <td>1.008024</td>\n",
       "      <td>0.992898</td>\n",
       "      <td>0.007946</td>\n",
       "    </tr>\n",
       "    <tr>\n",
       "      <th>2022-03-01 02:00:00</th>\n",
       "      <td>1.002705</td>\n",
       "      <td>1.007982</td>\n",
       "      <td>1.008795</td>\n",
       "      <td>0.998444</td>\n",
       "      <td>-0.005248</td>\n",
       "    </tr>\n",
       "    <tr>\n",
       "      <th>2022-03-01 03:00:00</th>\n",
       "      <td>1.004682</td>\n",
       "      <td>1.002705</td>\n",
       "      <td>1.005888</td>\n",
       "      <td>0.997337</td>\n",
       "      <td>0.001964</td>\n",
       "    </tr>\n",
       "    <tr>\n",
       "      <th>2022-03-01 04:00:00</th>\n",
       "      <td>1.017134</td>\n",
       "      <td>1.004681</td>\n",
       "      <td>1.018342</td>\n",
       "      <td>1.001882</td>\n",
       "      <td>0.012306</td>\n",
       "    </tr>\n",
       "  </tbody>\n",
       "</table>\n",
       "</div>"
      ],
      "text/plain": [
       "                        close      open      high       low   log-ret\n",
       "date                                                                 \n",
       "2022-03-01 00:00:00  1.000000  0.997581  1.007540  0.993213  0.000000\n",
       "2022-03-01 01:00:00  1.007982  1.000032  1.008024  0.992898  0.007946\n",
       "2022-03-01 02:00:00  1.002705  1.007982  1.008795  0.998444 -0.005248\n",
       "2022-03-01 03:00:00  1.004682  1.002705  1.005888  0.997337  0.001964\n",
       "2022-03-01 04:00:00  1.017134  1.004681  1.018342  1.001882  0.012306"
      ]
     },
     "execution_count": 5,
     "metadata": {},
     "output_type": "execute_result"
    }
   ],
   "source": [
    "index_df = pd.DataFrame(index=universe.index.unique())\n",
    "index_df['close'] = 0.65 * universe.loc[universe.ts_code == 'BTCUSDT']['close'] \\\n",
    "                    + 0.35 * universe.loc[universe.ts_code == 'ETHUSDT']['close']\n",
    "index_df['open'] = 0.65 * universe.loc[universe.ts_code == 'BTCUSDT']['open'] \\\n",
    "                    + 0.35 * universe.loc[universe.ts_code == 'ETHUSDT']['open']\n",
    "index_df['high'] = 0.65 * universe.loc[universe.ts_code == 'BTCUSDT']['high'] \\\n",
    "                    + 0.35 * universe.loc[universe.ts_code == 'ETHUSDT']['high']\n",
    "index_df['low'] = 0.65 * universe.loc[universe.ts_code == 'BTCUSDT']['low'] \\\n",
    "                    + 0.35 * universe.loc[universe.ts_code == 'ETHUSDT']['low']\n",
    "index_df['log-ret'] = 0.65 * universe.loc[universe.ts_code == 'BTCUSDT']['log-ret'] \\\n",
    "                    + 0.35 * universe.loc[universe.ts_code == 'ETHUSDT']['log-ret']\n",
    "index_df.head()"
   ]
  },
  {
   "cell_type": "code",
   "execution_count": null,
   "id": "b2a1777c",
   "metadata": {},
   "outputs": [],
   "source": [
    "def base_indicators(df):\n",
    "    def cal_(data):\n",
    "        data['range_6'] = data['high'].rolling(6).max() - data['low'].rolling(6).min()\n",
    "        data['wave_6'] = data['close'].rolling(6).std()\n",
    "        data['range_12'] = data['high'].rolling(12).max() - data['low'].rolling(12).min()\n",
    "        data['wave_12'] = data['close'].rolling(12).std()\n",
    "        data['ret_6'] = data['log-ret'].rolling(6).sum()\n",
    "        data['ret_12'] = data['log-ret'].rolling(12).sum()\n",
    "        return data\n",
    "    \n",
    "    df = my_groupby(df, 'ts_code', cal_)\n",
    "    return df\n",
    "\n",
    "universe = base_indicators(universe)"
   ]
  },
  {
   "cell_type": "code",
   "execution_count": 2,
   "id": "8846ca60",
   "metadata": {},
   "outputs": [],
   "source": [
    "def Corr(data, win_len):\n",
    "    obj = data.rolling(window=win_len, method='table')\n",
    "    s = []\n",
    "    for o in obj:\n",
    "        if o.shape[0] < win_len:\n",
    "            s.append(0.)\n",
    "        else:\n",
    "            s.append(spearmanr(o.iloc[:, 0], o.iloc[:, 1])[0])\n",
    "            # s.append(o.iloc[:, 0].corr(o.iloc[:, 1]))\n",
    "    return pd.DataFrame(s, index=data.index, columns=['corr'])\n",
    "\n",
    "def ts_rank(data, window=10):\n",
    "    return data.rolling(window).apply(lambda x: rankdata(x)[-1])\n",
    "\n",
    "def Highday(sr, window):\n",
    "    return sr.rolling(window).apply(lambda x: len(x) - x.values.argmax())\n",
    "\n",
    "def Lowday(sr, window):\n",
    "    return sr.rolling(window).apply(lambda x: len(x) - x.values.argmin())\n",
    "\n",
    "def Regbeta(sr, x):\n",
    "    window = len(x)\n",
    "    return sr.rolling(window).apply(lambda y: np.polyfit(x, y, deg=1)[0])\n",
    "\n",
    "def Sequence(n):\n",
    "    return np.arange(1, n + 1)\n",
    "\n",
    "def Decaylinear(sr, window):\n",
    "    weights = np.array(range(1, window + 1))\n",
    "    sum_weights = np.sum(weights)\n",
    "    return sr.rolling(window).apply(lambda x: np.sum(weights * x) / sum_weights)\n",
    "\n",
    "def rolling_jump(sr, win, interval):\n",
    "    \n",
    "    if win>=interval:\n",
    "        result = [np.nan]*(win-interval)\n",
    "        for i in range(win, len(sr), interval):\n",
    "            result.extend([np.nan]*(interval-1) + [sr[i-win:i].mean()])\n",
    "    else:\n",
    "        result = []\n",
    "        for i in range(interval, len(sr), interval):\n",
    "            result.extend([np.nan]*(interval-1) + [sr[i-win:i].mean()])\n",
    "            \n",
    "    if len(sr) > len(result):\n",
    "        result.extend([np.nan]*(len(sr) - len(result)))\n",
    "    return pd.Series(result, sr.index)\n",
    "\n",
    "def my_groupby(df, column, func, sort_keys=['date', 'ts_code']):\n",
    "    all_df = pd.DataFrame()\n",
    "    for val in tqdm(df[column].unique()):\n",
    "        tmp = df.loc[df[column] == val]\n",
    "        all_df = all_df.append(func(tmp))\n",
    "    return all_df.sort_values(by=sort_keys)"
   ]
  },
  {
   "cell_type": "code",
   "execution_count": 14,
   "id": "b8f3f424",
   "metadata": {},
   "outputs": [
    {
     "data": {
      "text/plain": [
       "2023-01-01    NaN\n",
       "2023-01-02    NaN\n",
       "2023-01-03    2.0\n",
       "2023-01-04    NaN\n",
       "2023-01-05    4.0\n",
       "2023-01-06    NaN\n",
       "2023-01-07    6.0\n",
       "2023-01-08    NaN\n",
       "2023-01-09    8.0\n",
       "2023-01-10    NaN\n",
       "2023-01-11    NaN\n",
       "Freq: D, dtype: float64"
      ]
     },
     "execution_count": 14,
     "metadata": {},
     "output_type": "execute_result"
    }
   ],
   "source": [
    "values = [1, 2, 3, 4, 5, 6, 7, 8, 9, 10, 11]\n",
    "index = pd.date_range(start='2023-01-01', periods=len(values), freq='D')\n",
    "test = pd.Series(values, index=index)\n",
    "rolling_jump(test, 3, 2)"
   ]
  },
  {
   "cell_type": "markdown",
   "id": "435f326f",
   "metadata": {},
   "source": [
    "### 构造alpha因子"
   ]
  },
  {
   "cell_type": "code",
   "execution_count": null,
   "id": "6ac5a958",
   "metadata": {},
   "outputs": [],
   "source": [
    "universe['alpha_wt'] = -(universe['wt1'] - universe['wt2'])\n",
    "universe['alpha_wt'] = -universe['wt1']\n",
    "universe['alpha_cci'] = -universe['cci_5']\n",
    "universe['alpha_srsi'] = -universe['stochrsi_5']\n",
    "universe['alpha_rsi'] = -universe['rsi_5']\n",
    "universe['alpha_wr'] = -universe['wr_5']\n",
    "universe['alpha_ppo'] = (universe['ppos'] - universe['ppo'])\n",
    "universe['alpha_macd'] = (universe['macds'] - universe['macd'])#@@@\n",
    "universe['alpha_kdj'] = -(0.6 * (universe['kdjj_5'] - universe['kdjk_5']) \\\n",
    "                          + 0.4 * (universe['kdjk_5'] - universe['kdjd_5']))#@@@"
   ]
  },
  {
   "cell_type": "code",
   "execution_count": 16,
   "id": "44cc8330",
   "metadata": {},
   "outputs": [
    {
     "name": "stderr",
     "output_type": "stream",
     "text": [
      "100%|███████████████████████████████████████████| 35/35 [00:03<00:00, 10.75it/s]\n"
     ]
    }
   ],
   "source": [
    "def alpha_t1(df):\n",
    "    def cal_(data):\n",
    "        data['alpha_t1'] = -(data['close'] - data['close'].rolling(6).mean())\\\n",
    "                            /data['close'].rolling(6).std()\n",
    "        return data\n",
    "    \n",
    "    df = my_groupby(df, 'ts_code', cal_)\n",
    "    return df\n",
    "\n",
    "universe = alpha_t1(universe) "
   ]
  },
  {
   "cell_type": "code",
   "execution_count": 18,
   "id": "e5e52de9",
   "metadata": {},
   "outputs": [
    {
     "name": "stderr",
     "output_type": "stream",
     "text": [
      "100%|███████████████████████████████████████████| 35/35 [00:42<00:00,  1.22s/it]\n"
     ]
    }
   ],
   "source": [
    "def alpha_t2(df):\n",
    "    def cal_(data):\n",
    "        data['buy_percent'] = data['buy_amount']/(data['amount'] - data['buy_amount'])\n",
    "        data['alpha_t2'] = rolling_jump(-data['buy_percent'], 3, 2).fillna(method='ffill')\n",
    "        return data\n",
    "    \n",
    "    df = my_groupby(df, 'ts_code', cal_)\n",
    "    return df\n",
    "universe = alpha_t2(universe) "
   ]
  },
  {
   "cell_type": "code",
   "execution_count": 20,
   "id": "2408770c",
   "metadata": {},
   "outputs": [
    {
     "name": "stderr",
     "output_type": "stream",
     "text": [
      "100%|███████████████████████████████████████████| 35/35 [00:35<00:00,  1.00s/it]\n"
     ]
    }
   ],
   "source": [
    "def alpha_t3(df):\n",
    "    def cal_(df): # 040\n",
    "        close_2h = rolling_jump(df['close'], 1, 2).fillna(method='ffill')\n",
    "        cond1 = (close_2h > close_2h.shift(1)) & (df['close'] > df['close'].shift(1))\n",
    "        cond2 = (close_2h < close_2h.shift(1)) & (df['close'] < df['close'].shift(1))\n",
    "        df['section1'] = np.where(cond1, df['close'].diff(2), 0)\n",
    "        df['section2'] = np.where(cond2, df['close'].diff(2), 0)\n",
    "        df['section1'] = df['section1'].rolling(14).sum()\n",
    "        df['section2'] = df['section2'].rolling(14).sum()\n",
    "        return df\n",
    "\n",
    "    df = my_groupby(df, 'ts_code', cal_)\n",
    "    df['alpha_t3'] = df['section2'] - df['section1']\n",
    "    df = df.drop(columns=['section1', 'section2']).sort_values(by=['date', 'ts_code'])\n",
    "    return df\n",
    "\n",
    "universe = alpha_t3(universe)"
   ]
  },
  {
   "cell_type": "code",
   "execution_count": 26,
   "id": "4af50259",
   "metadata": {},
   "outputs": [
    {
     "name": "stdout",
     "output_type": "stream",
     "text": [
      "(362137, 49)\n"
     ]
    },
    {
     "data": {
      "text/plain": [
       "(362137, 49)"
      ]
     },
     "execution_count": 26,
     "metadata": {},
     "output_type": "execute_result"
    }
   ],
   "source": [
    "print(universe.shape)\n",
    "universe.drop_duplicates(subset=['trade_date', 'ts_code']).shape"
   ]
  },
  {
   "cell_type": "code",
   "execution_count": 27,
   "id": "7e5bdb65",
   "metadata": {},
   "outputs": [
    {
     "name": "stderr",
     "output_type": "stream",
     "text": [
      "100%|███████████████████████████████████████████| 35/35 [00:03<00:00, 10.86it/s]\n"
     ]
    }
   ],
   "source": [
    "def alpha_t4(df):\n",
    "    def cal_(data):\n",
    "        wave = data['high'].rolling(12).max() - data['low'].rolling(12).min()\n",
    "        data['alpha_t4'] = -(data['close'] - data['low'].rolling(4).min())/wave\n",
    "        return data\n",
    "    \n",
    "    df = my_groupby(df, 'ts_code', cal_)\n",
    "    return df\n",
    "\n",
    "universe = alpha_t4(universe)"
   ]
  },
  {
   "cell_type": "code",
   "execution_count": 29,
   "id": "f1184547",
   "metadata": {},
   "outputs": [
    {
     "name": "stderr",
     "output_type": "stream",
     "text": [
      "100%|███████████████████████████████████████████| 35/35 [01:35<00:00,  2.74s/it]\n"
     ]
    }
   ],
   "source": [
    "def alpha_t5(df):\n",
    "    def cal_(data):\n",
    "        high_4h = rolling_jump(data['high'].rolling(4).max(), 1, 4).fillna(method='ffill')\n",
    "        low_4h = rolling_jump(data['low'].rolling(4).min(), 1, 4).fillna(method='ffill')\n",
    "        data['alpha_t5'] = -np.sign(data['log-ret']) * (high_4h - low_4h) / \\\n",
    "                                ts_rank(data['volume'].rolling(4).mean(), 12)\n",
    "        return data\n",
    "    \n",
    "    df = my_groupby(df, 'ts_code', cal_)\n",
    "    return df\n",
    "\n",
    "universe = alpha_t5(universe)\n"
   ]
  },
  {
   "cell_type": "code",
   "execution_count": 30,
   "id": "611330fb",
   "metadata": {},
   "outputs": [
    {
     "name": "stderr",
     "output_type": "stream",
     "text": [
      "100%|███████████████████████████████████████████| 35/35 [00:03<00:00,  9.91it/s]\n"
     ]
    }
   ],
   "source": [
    "def alpha_t6(df):\n",
    "    def cal_(data):\n",
    "        cond = data['close'].diff(4).diff(5)/data['close'].rolling(5).std()\n",
    "        return data\n",
    "    \n",
    "    df = my_groupby(df, 'ts_code', cal_)\n",
    "    return df\n",
    "\n",
    "universe = alpha_t6(universe)"
   ]
  },
  {
   "cell_type": "code",
   "execution_count": 32,
   "id": "da9d268a",
   "metadata": {
    "scrolled": false
   },
   "outputs": [
    {
     "name": "stderr",
     "output_type": "stream",
     "text": [
      "100%|███████████████████████████████████████████| 35/35 [05:18<00:00,  9.10s/it]\n"
     ]
    }
   ],
   "source": [
    "def alpha_t8(df):\n",
    "    def cal_(data):\n",
    "        sectionM = data['close'].rolling(60).mean().fillna(1.)\n",
    "        sectionX = data['close'].rolling(26).mean().fillna(1.)\n",
    "        sectionY = data['close'].rolling(7).mean().fillna(1.)\n",
    "        data['alpha_t8'] = sectionY.rolling(7).apply(\n",
    "                            lambda y: np.polyfit(sectionX.loc[y.index], y, deg=1)[0])\n",
    "        data['alpha_t8'] = np.where((sectionY<sectionX)&(data['alpha_t8']<0)&(sectionX < sectionM), \n",
    "                                    sectionX - sectionY, \n",
    "                                np.where((sectionY>sectionX)&(data['alpha_t8']>0)&(sectionX > sectionM), \n",
    "                                         sectionX - sectionY, 0.))\n",
    "        return data\n",
    "\n",
    "    df = my_groupby(df, 'ts_code', cal_)\n",
    "    return df\n",
    "\n",
    "universe = alpha_t8(universe)"
   ]
  },
  {
   "cell_type": "code",
   "execution_count": 33,
   "id": "81e0e89e",
   "metadata": {},
   "outputs": [
    {
     "name": "stderr",
     "output_type": "stream",
     "text": [
      "100%|███████████████████████████████████████████| 35/35 [04:56<00:00,  8.47s/it]\n"
     ]
    }
   ],
   "source": [
    "def alpha_t8a(df):\n",
    "    def cal_(data):\n",
    "        sectionM = data['close'].rolling(60).mean().fillna(1.)\n",
    "        sectionX = data['close'].rolling(26).mean().fillna(1.)\n",
    "        sectionY = data['close'].rolling(7).mean().fillna(1.)\n",
    "        data['alpha_t8a'] = sectionY.rolling(7).apply(\n",
    "                            lambda y: np.polyfit(sectionX.loc[y.index], y, deg=1)[0])\n",
    "        \n",
    "        es_1 = sectionY-sectionX\n",
    "        es_2 = sectionX-sectionM\n",
    "        data['alpha_t8a'] = data['alpha_t8a'] * (0.6 * es_1 + 0.4 * es_2)\n",
    "        return data\n",
    "\n",
    "    df = my_groupby(df, 'ts_code', cal_)\n",
    "    return df\n",
    "\n",
    "universe = alpha_t8a(universe)"
   ]
  },
  {
   "cell_type": "code",
   "execution_count": 34,
   "id": "4c52bdd7",
   "metadata": {},
   "outputs": [
    {
     "name": "stderr",
     "output_type": "stream",
     "text": [
      "100%|███████████████████████████████████████████| 35/35 [04:52<00:00,  8.37s/it]\n"
     ]
    }
   ],
   "source": [
    "def alpha_t9(df):\n",
    "    def cal_(df):\n",
    "        benchmark_close = index_df.loc[df.index]['close']\n",
    "        df['alpha_t9'] = df['close'].rolling(6).apply(\n",
    "                            lambda y: np.polyfit(benchmark_close.loc[y.index], y, deg=1)[0])\n",
    "        df['alpha_t9'] = df['alpha_t9'].diff(1)\n",
    "        return df\n",
    "    \n",
    "    df = my_groupby(df, 'ts_code', cal_)\n",
    "    return df\n",
    "\n",
    "universe = alpha_t9(universe)"
   ]
  },
  {
   "cell_type": "code",
   "execution_count": 42,
   "id": "69d5a7c7",
   "metadata": {},
   "outputs": [
    {
     "name": "stderr",
     "output_type": "stream",
     "text": [
      "100%|███████████████████████████████████████████| 35/35 [00:49<00:00,  1.41s/it]\n"
     ]
    }
   ],
   "source": [
    "def alpha_t10(df):\n",
    "    def cal1_(sr, win_len=5):\n",
    "        section = sr\n",
    "        section = -np.where(section < section.shift(win_len),\n",
    "                                   (section - section.shift(win_len)) / section.shift(win_len),\n",
    "                                   np.where(section > section.shift(win_len),\n",
    "                                            (section - section.shift(win_len)) / section, 0.))\n",
    "        return pd.Series(section, index=sr.index)\n",
    "    \n",
    "    def cal2_(data):\n",
    "        data['close_4h'] = rolling_jump(data['close'], 1, 4).fillna(method='ffill')\n",
    "        section1 = cal1_(data['close'], 5)\n",
    "        section2 = cal1_(data['close_4h'], 4)\n",
    "        \n",
    "        data['alpha_t10'] = np.where((section1>0)&(section2>0), -section1,\n",
    "                                    np.where((section1<0)&(section2<0), -section1, 0))\n",
    "        data['alpha_t10'] = rolling_jump(-data['alpha_t10'], 2, 2).fillna(method='ffill')\n",
    "        \n",
    "        return data\n",
    "    \n",
    "    df = my_groupby(df, 'ts_code', cal2_)\n",
    "    df = df.drop(columns=['close_4h']).sort_values(by=['date', 'ts_code'])\n",
    "    return df\n",
    "\n",
    "universe = alpha_t10(universe)"
   ]
  },
  {
   "cell_type": "code",
   "execution_count": null,
   "id": "50977a9c",
   "metadata": {},
   "outputs": [],
   "source": [
    "def alpha019(df):\n",
    "    def cal_(df):\n",
    "        df['alpha_019'] = -np.where(df['close'] < df['close'].shift(5),\n",
    "                                   (df['close'] - df['close'].shift(5)) / df['close'].shift(5),\n",
    "                                   np.where(df['close'] > df['close'].shift(5),\n",
    "                                            (df['close'] - df['close'].shift(5)) / df['close'], 0.))\n",
    "        \n",
    "        df['alpha_019a'] = rolling_jump(df['alpha_019'], 4, 4).fillna(method='ffill')\n",
    "        df['alpha_019'] = df['alpha_019'].rolling(5).mean()\n",
    "        return df\n",
    "\n",
    "    df = my_groupby(df, 'ts_code', cal_)\n",
    "    return df\n",
    "\n",
    "universe = alpha019(universe)"
   ]
  },
  {
   "cell_type": "code",
   "execution_count": 6,
   "id": "0095c861",
   "metadata": {},
   "outputs": [],
   "source": [
    "alpha = Alpha191(universe, index_df, True)"
   ]
  },
  {
   "cell_type": "code",
   "execution_count": null,
   "id": "9641384e",
   "metadata": {},
   "outputs": [],
   "source": [
    "universe = alpha.alpha018(alpha.df)"
   ]
  },
  {
   "cell_type": "code",
   "execution_count": 8,
   "id": "06166801",
   "metadata": {},
   "outputs": [],
   "source": [
    "universe = alpha.alpha019(alpha.df)"
   ]
  },
  {
   "cell_type": "code",
   "execution_count": null,
   "id": "516c7279",
   "metadata": {},
   "outputs": [],
   "source": [
    "universe = alpha.alpha022(alpha.df)"
   ]
  },
  {
   "cell_type": "code",
   "execution_count": 7,
   "id": "6183aaca",
   "metadata": {},
   "outputs": [],
   "source": [
    "universe = alpha.alpha028(alpha.df)"
   ]
  },
  {
   "cell_type": "code",
   "execution_count": null,
   "id": "6175c3a4",
   "metadata": {},
   "outputs": [],
   "source": [
    "universe = alpha.alpha029(alpha.df)"
   ]
  },
  {
   "cell_type": "code",
   "execution_count": null,
   "id": "3960dca4",
   "metadata": {},
   "outputs": [],
   "source": [
    "universe = alpha.alpha040(alpha.df)"
   ]
  },
  {
   "cell_type": "code",
   "execution_count": 9,
   "id": "7017b19e",
   "metadata": {},
   "outputs": [
    {
     "name": "stderr",
     "output_type": "stream",
     "text": [
      "processing...: 100%|████████████████████████████| 35/35 [10:38<00:00, 18.26s/it]\n"
     ]
    }
   ],
   "source": [
    "universe = alpha.alpha044(alpha.df)"
   ]
  },
  {
   "cell_type": "code",
   "execution_count": 10,
   "id": "299acaa5",
   "metadata": {},
   "outputs": [],
   "source": [
    "universe = alpha.alpha078(alpha.df)"
   ]
  },
  {
   "cell_type": "code",
   "execution_count": null,
   "id": "9bad6135",
   "metadata": {},
   "outputs": [],
   "source": [
    "universe = alpha.alpha083(alpha.df)"
   ]
  },
  {
   "cell_type": "code",
   "execution_count": null,
   "id": "e8eb79fc",
   "metadata": {},
   "outputs": [],
   "source": [
    "universe = alpha.alpha110(alpha.df)"
   ]
  },
  {
   "cell_type": "code",
   "execution_count": null,
   "id": "157251cf",
   "metadata": {},
   "outputs": [],
   "source": [
    "universe = alpha.alpha122(alpha.df)"
   ]
  },
  {
   "cell_type": "code",
   "execution_count": null,
   "id": "acd98eae",
   "metadata": {},
   "outputs": [],
   "source": [
    "universe = alpha.alpha128(alpha.df)"
   ]
  },
  {
   "cell_type": "code",
   "execution_count": null,
   "id": "3d3c4acd",
   "metadata": {},
   "outputs": [],
   "source": [
    "universe = alpha.alpha133(alpha.df)"
   ]
  },
  {
   "cell_type": "code",
   "execution_count": 12,
   "id": "3943124a",
   "metadata": {},
   "outputs": [],
   "source": [
    "universe = alpha.alpha110(alpha.df)"
   ]
  },
  {
   "cell_type": "code",
   "execution_count": 11,
   "id": "65f6569f",
   "metadata": {},
   "outputs": [],
   "source": [
    "universe = alpha.alpha112(alpha.df)"
   ]
  },
  {
   "cell_type": "code",
   "execution_count": 13,
   "id": "4f6af11b",
   "metadata": {},
   "outputs": [],
   "source": [
    "universe = alpha.alpha128(alpha.df)"
   ]
  },
  {
   "cell_type": "code",
   "execution_count": null,
   "id": "dbe6258a",
   "metadata": {},
   "outputs": [],
   "source": [
    "universe = alpha.alpha131(alpha.df)"
   ]
  },
  {
   "cell_type": "code",
   "execution_count": null,
   "id": "6f33dfc1",
   "metadata": {},
   "outputs": [],
   "source": [
    "universe = alpha.alpha190(alpha.df)"
   ]
  },
  {
   "cell_type": "code",
   "execution_count": 17,
   "id": "34398ee0",
   "metadata": {},
   "outputs": [
    {
     "name": "stderr",
     "output_type": "stream",
     "text": [
      "100%|███████████████████████████████████████████| 35/35 [00:04<00:00,  8.67it/s]\n"
     ]
    }
   ],
   "source": [
    "def alpha075(df):\n",
    "    def cal_(df):\n",
    "        benchmark_close = index_df.loc[df.index]['close']\n",
    "        benchmark_return = index_df.loc[df.index]['log-ret']\n",
    "        cond1 = ((df['log-ret']<-0.001) & (benchmark_return > 0))\n",
    "        cond2 = ((df['log-ret']<-0.001) & (benchmark_close > benchmark_close.shift(5)))\n",
    "        cond3 = ((df['log-ret']>0.001) & (benchmark_return < 0))\n",
    "        cond4 = ((df['log-ret']>0.001) & (benchmark_close < benchmark_close.shift(5)))\n",
    "        df['section1'] = np.where(cond1, -df['log-ret'], np.where(cond3, -df['log-ret'], 0))\n",
    "        df['section2'] = np.where(cond2, -df['log-ret'], np.where(cond4, -df['log-ret'], 0))\n",
    "        df['alpha_075'] = df['section1'].rolling(5).sum() + df['section2'].rolling(5).sum()\n",
    "        return df\n",
    "\n",
    "    df = my_groupby(df, 'ts_code', cal_)\n",
    "    df = df.drop(columns=['section1', 'section2'])\n",
    "    return df\n",
    "\n",
    "universe = alpha075(universe)"
   ]
  },
  {
   "cell_type": "code",
   "execution_count": null,
   "id": "fba3157f",
   "metadata": {},
   "outputs": [],
   "source": [
    "feature = 'alpha_075'\n",
    "start_time = '2023-03-01 00:00:00'\n",
    "end_time = '2023-06-01 00:00:00'\n",
    "tmp = universe.loc[(universe.ts_code=='BTCUSDT') & \n",
    "                   (universe.index>=start_time) & (universe.index<=end_time)]\n",
    "#tmp[['close', feature]] = tmp[['close', feature]].apply(zscore)\n",
    "#tmp[feature] = Decaylinear(tmp[feature],4)#.rolling(6).mean()\n",
    "tmp[[feature, 'close']].plot(grid=True)"
   ]
  },
  {
   "cell_type": "code",
   "execution_count": 14,
   "id": "3a73c95b",
   "metadata": {},
   "outputs": [],
   "source": [
    "alpha.df = universe.copy(deep=True)\n",
    "bak = universe.copy(deep=True)"
   ]
  },
  {
   "cell_type": "code",
   "execution_count": 20,
   "id": "4c11adfa",
   "metadata": {},
   "outputs": [
    {
     "data": {
      "text/plain": [
       "Index(['open_usdt', 'high_usdt', 'low_usdt', 'close_usdt', 'volume', 'amount',\n",
       "       'trade_counts', 'buy_volume', 'buy_amount', 'ts_code', 'vwap_usdt',\n",
       "       'close', 'vwap', 'open', 'high', 'low', 'trade_date', 'log-ret', 'wt1',\n",
       "       'wt2', 'stochrsi_5', 'cci_5', 'rsi_5', 'wr_5', 'ppo', 'ppos', 'macds',\n",
       "       'macd', 'kdjj_5', 'kdjk_5', 'kdjd_5', 'alpha_wt', 'alpha_cci',\n",
       "       'alpha_srsi', 'alpha_rsi', 'alpha_wr', 'alpha_ppo', 'alpha_macd',\n",
       "       'alpha_kdj', 'range_6', 'wave_6', 'range_12', 'wave_12', 'ret_6',\n",
       "       'ret_12', 'alpha_t1', 'buy_percent', 'alpha_t2', 'alpha_t3', 'alpha_t4',\n",
       "       'alpha_t5', 'alpha_t8', 'alpha_t8a', 'alpha_t9', 'alpha_t10',\n",
       "       'alpha_028', 'alpha_019', 'alpha_044', 'alpha_078', 'alpha_112',\n",
       "       'alpha_110', 'alpha_128', 'alpha_075'],\n",
       "      dtype='object')"
      ]
     },
     "execution_count": 20,
     "metadata": {},
     "output_type": "execute_result"
    }
   ],
   "source": [
    "universe.columns"
   ]
  },
  {
   "cell_type": "code",
   "execution_count": 19,
   "id": "368e5101",
   "metadata": {},
   "outputs": [],
   "source": [
    "universe.reset_index().to_feather('bitcoin_data/factor_data/factors1h_20220301_20230529.feather')\n",
    "#universe[final_columns].reset_index().to_feather('bitcoin_data/factor_data/factors_20221001_20230529.feather')"
   ]
  },
  {
   "cell_type": "code",
   "execution_count": 3,
   "id": "e0c1d5e4",
   "metadata": {},
   "outputs": [
    {
     "data": {
      "text/plain": [
       "(362137, 55)"
      ]
     },
     "execution_count": 3,
     "metadata": {},
     "output_type": "execute_result"
    }
   ],
   "source": [
    "universe = pd.read_feather('bitcoin_data/factor_data/factors1h_20220301_20230529.feather')\n",
    "universe = universe.set_index(['date']).sort_values(by=['date', 'ts_code'])\n",
    "universe.shape"
   ]
  },
  {
   "cell_type": "code",
   "execution_count": 21,
   "id": "cb40f4ea",
   "metadata": {},
   "outputs": [
    {
     "name": "stdout",
     "output_type": "stream",
     "text": [
      "(362137, 63)\n"
     ]
    },
    {
     "data": {
      "text/html": [
       "<div>\n",
       "<style scoped>\n",
       "    .dataframe tbody tr th:only-of-type {\n",
       "        vertical-align: middle;\n",
       "    }\n",
       "\n",
       "    .dataframe tbody tr th {\n",
       "        vertical-align: top;\n",
       "    }\n",
       "\n",
       "    .dataframe thead th {\n",
       "        text-align: right;\n",
       "    }\n",
       "</style>\n",
       "<table border=\"1\" class=\"dataframe\">\n",
       "  <thead>\n",
       "    <tr style=\"text-align: right;\">\n",
       "      <th></th>\n",
       "      <th>open_usdt</th>\n",
       "      <th>high_usdt</th>\n",
       "      <th>low_usdt</th>\n",
       "      <th>close_usdt</th>\n",
       "      <th>volume</th>\n",
       "      <th>amount</th>\n",
       "      <th>trade_counts</th>\n",
       "      <th>buy_volume</th>\n",
       "      <th>buy_amount</th>\n",
       "      <th>ts_code</th>\n",
       "      <th>...</th>\n",
       "      <th>alpha_t9</th>\n",
       "      <th>alpha_t10</th>\n",
       "      <th>alpha_028</th>\n",
       "      <th>alpha_019</th>\n",
       "      <th>alpha_044</th>\n",
       "      <th>alpha_078</th>\n",
       "      <th>alpha_112</th>\n",
       "      <th>alpha_110</th>\n",
       "      <th>alpha_128</th>\n",
       "      <th>alpha_075</th>\n",
       "    </tr>\n",
       "    <tr>\n",
       "      <th>date</th>\n",
       "      <th></th>\n",
       "      <th></th>\n",
       "      <th></th>\n",
       "      <th></th>\n",
       "      <th></th>\n",
       "      <th></th>\n",
       "      <th></th>\n",
       "      <th></th>\n",
       "      <th></th>\n",
       "      <th></th>\n",
       "      <th></th>\n",
       "      <th></th>\n",
       "      <th></th>\n",
       "      <th></th>\n",
       "      <th></th>\n",
       "      <th></th>\n",
       "      <th></th>\n",
       "      <th></th>\n",
       "      <th></th>\n",
       "      <th></th>\n",
       "      <th></th>\n",
       "    </tr>\n",
       "  </thead>\n",
       "  <tbody>\n",
       "    <tr>\n",
       "      <th>2022-03-01 00:00:00</th>\n",
       "      <td>0.04827</td>\n",
       "      <td>0.04859</td>\n",
       "      <td>0.04738</td>\n",
       "      <td>0.04742</td>\n",
       "      <td>4.993857e+06</td>\n",
       "      <td>2.403098e+05</td>\n",
       "      <td>1499.0</td>\n",
       "      <td>2.218197e+06</td>\n",
       "      <td>1.067667e+05</td>\n",
       "      <td>ACHUSDT</td>\n",
       "      <td>...</td>\n",
       "      <td>NaN</td>\n",
       "      <td>NaN</td>\n",
       "      <td>NaN</td>\n",
       "      <td>-0.000000</td>\n",
       "      <td>NaN</td>\n",
       "      <td>NaN</td>\n",
       "      <td>NaN</td>\n",
       "      <td>NaN</td>\n",
       "      <td>NaN</td>\n",
       "      <td>NaN</td>\n",
       "    </tr>\n",
       "    <tr>\n",
       "      <th>2022-03-01 00:00:00</th>\n",
       "      <td>0.94000</td>\n",
       "      <td>0.95100</td>\n",
       "      <td>0.92800</td>\n",
       "      <td>0.93000</td>\n",
       "      <td>2.882661e+07</td>\n",
       "      <td>2.711089e+07</td>\n",
       "      <td>35314.0</td>\n",
       "      <td>1.511524e+07</td>\n",
       "      <td>1.423383e+07</td>\n",
       "      <td>ADAUSDT</td>\n",
       "      <td>...</td>\n",
       "      <td>NaN</td>\n",
       "      <td>NaN</td>\n",
       "      <td>NaN</td>\n",
       "      <td>-0.000000</td>\n",
       "      <td>NaN</td>\n",
       "      <td>NaN</td>\n",
       "      <td>NaN</td>\n",
       "      <td>NaN</td>\n",
       "      <td>NaN</td>\n",
       "      <td>NaN</td>\n",
       "    </tr>\n",
       "    <tr>\n",
       "      <th>2022-03-01 00:00:00</th>\n",
       "      <td>29.72000</td>\n",
       "      <td>29.87000</td>\n",
       "      <td>28.94000</td>\n",
       "      <td>29.07000</td>\n",
       "      <td>3.708739e+05</td>\n",
       "      <td>1.088847e+07</td>\n",
       "      <td>23433.0</td>\n",
       "      <td>1.807383e+05</td>\n",
       "      <td>5.308529e+06</td>\n",
       "      <td>ATOMUSDT</td>\n",
       "      <td>...</td>\n",
       "      <td>NaN</td>\n",
       "      <td>NaN</td>\n",
       "      <td>NaN</td>\n",
       "      <td>-0.000000</td>\n",
       "      <td>NaN</td>\n",
       "      <td>NaN</td>\n",
       "      <td>NaN</td>\n",
       "      <td>NaN</td>\n",
       "      <td>NaN</td>\n",
       "      <td>NaN</td>\n",
       "    </tr>\n",
       "    <tr>\n",
       "      <th>2022-03-01 00:00:00</th>\n",
       "      <td>81.87000</td>\n",
       "      <td>82.35000</td>\n",
       "      <td>78.95000</td>\n",
       "      <td>79.50000</td>\n",
       "      <td>3.460654e+05</td>\n",
       "      <td>2.795618e+07</td>\n",
       "      <td>35834.0</td>\n",
       "      <td>1.657856e+05</td>\n",
       "      <td>1.340024e+07</td>\n",
       "      <td>AVAXUSDT</td>\n",
       "      <td>...</td>\n",
       "      <td>NaN</td>\n",
       "      <td>NaN</td>\n",
       "      <td>NaN</td>\n",
       "      <td>-0.000000</td>\n",
       "      <td>NaN</td>\n",
       "      <td>NaN</td>\n",
       "      <td>NaN</td>\n",
       "      <td>NaN</td>\n",
       "      <td>NaN</td>\n",
       "      <td>NaN</td>\n",
       "    </tr>\n",
       "    <tr>\n",
       "      <th>2022-03-01 00:00:00</th>\n",
       "      <td>382.80000</td>\n",
       "      <td>385.80000</td>\n",
       "      <td>381.40000</td>\n",
       "      <td>382.50000</td>\n",
       "      <td>6.692711e+04</td>\n",
       "      <td>2.568188e+07</td>\n",
       "      <td>31338.0</td>\n",
       "      <td>3.153323e+04</td>\n",
       "      <td>1.210266e+07</td>\n",
       "      <td>BNBUSDT</td>\n",
       "      <td>...</td>\n",
       "      <td>NaN</td>\n",
       "      <td>NaN</td>\n",
       "      <td>NaN</td>\n",
       "      <td>-0.000000</td>\n",
       "      <td>NaN</td>\n",
       "      <td>NaN</td>\n",
       "      <td>NaN</td>\n",
       "      <td>NaN</td>\n",
       "      <td>NaN</td>\n",
       "      <td>NaN</td>\n",
       "    </tr>\n",
       "    <tr>\n",
       "      <th>...</th>\n",
       "      <td>...</td>\n",
       "      <td>...</td>\n",
       "      <td>...</td>\n",
       "      <td>...</td>\n",
       "      <td>...</td>\n",
       "      <td>...</td>\n",
       "      <td>...</td>\n",
       "      <td>...</td>\n",
       "      <td>...</td>\n",
       "      <td>...</td>\n",
       "      <td>...</td>\n",
       "      <td>...</td>\n",
       "      <td>...</td>\n",
       "      <td>...</td>\n",
       "      <td>...</td>\n",
       "      <td>...</td>\n",
       "      <td>...</td>\n",
       "      <td>...</td>\n",
       "      <td>...</td>\n",
       "      <td>...</td>\n",
       "      <td>...</td>\n",
       "    </tr>\n",
       "    <tr>\n",
       "      <th>2023-05-29 20:00:00</th>\n",
       "      <td>0.63780</td>\n",
       "      <td>0.63980</td>\n",
       "      <td>0.63740</td>\n",
       "      <td>0.63980</td>\n",
       "      <td>6.553890e+04</td>\n",
       "      <td>4.185413e+04</td>\n",
       "      <td>146.0</td>\n",
       "      <td>4.321650e+04</td>\n",
       "      <td>2.759829e+04</td>\n",
       "      <td>STXUSDT</td>\n",
       "      <td>...</td>\n",
       "      <td>-2.624527</td>\n",
       "      <td>0.006813</td>\n",
       "      <td>-0.382696</td>\n",
       "      <td>-0.012973</td>\n",
       "      <td>8.0</td>\n",
       "      <td>0.840620</td>\n",
       "      <td>-0.172577</td>\n",
       "      <td>1.399366</td>\n",
       "      <td>65.245012</td>\n",
       "      <td>-0.016559</td>\n",
       "    </tr>\n",
       "    <tr>\n",
       "      <th>2023-05-29 20:00:00</th>\n",
       "      <td>0.07775</td>\n",
       "      <td>0.07785</td>\n",
       "      <td>0.07770</td>\n",
       "      <td>0.07776</td>\n",
       "      <td>4.471796e+06</td>\n",
       "      <td>3.476908e+05</td>\n",
       "      <td>627.0</td>\n",
       "      <td>2.061506e+06</td>\n",
       "      <td>1.603450e+05</td>\n",
       "      <td>TRXUSDT</td>\n",
       "      <td>...</td>\n",
       "      <td>-2.053151</td>\n",
       "      <td>-0.003541</td>\n",
       "      <td>-0.423184</td>\n",
       "      <td>-0.007845</td>\n",
       "      <td>6.0</td>\n",
       "      <td>0.925988</td>\n",
       "      <td>0.006803</td>\n",
       "      <td>1.881324</td>\n",
       "      <td>45.876158</td>\n",
       "      <td>-0.006063</td>\n",
       "    </tr>\n",
       "    <tr>\n",
       "      <th>2023-05-29 20:00:00</th>\n",
       "      <td>2.02200</td>\n",
       "      <td>2.02300</td>\n",
       "      <td>2.01900</td>\n",
       "      <td>2.02000</td>\n",
       "      <td>7.449000e+02</td>\n",
       "      <td>1.505186e+03</td>\n",
       "      <td>23.0</td>\n",
       "      <td>4.263000e+02</td>\n",
       "      <td>8.613548e+02</td>\n",
       "      <td>UMAUSDT</td>\n",
       "      <td>...</td>\n",
       "      <td>0.610474</td>\n",
       "      <td>-0.002222</td>\n",
       "      <td>-0.108646</td>\n",
       "      <td>0.004436</td>\n",
       "      <td>10.0</td>\n",
       "      <td>-0.699860</td>\n",
       "      <td>-0.415730</td>\n",
       "      <td>0.915216</td>\n",
       "      <td>10.145075</td>\n",
       "      <td>-0.001981</td>\n",
       "    </tr>\n",
       "    <tr>\n",
       "      <th>2023-05-29 20:00:00</th>\n",
       "      <td>0.22640</td>\n",
       "      <td>0.22690</td>\n",
       "      <td>0.22620</td>\n",
       "      <td>0.22670</td>\n",
       "      <td>6.354390e+04</td>\n",
       "      <td>1.440127e+04</td>\n",
       "      <td>112.0</td>\n",
       "      <td>1.683730e+04</td>\n",
       "      <td>3.817328e+03</td>\n",
       "      <td>WOOUSDT</td>\n",
       "      <td>...</td>\n",
       "      <td>-0.965787</td>\n",
       "      <td>0.005473</td>\n",
       "      <td>-1.946215</td>\n",
       "      <td>0.002201</td>\n",
       "      <td>2.0</td>\n",
       "      <td>0.048504</td>\n",
       "      <td>0.161765</td>\n",
       "      <td>1.412563</td>\n",
       "      <td>34.458721</td>\n",
       "      <td>-0.006647</td>\n",
       "    </tr>\n",
       "    <tr>\n",
       "      <th>2023-05-29 20:00:00</th>\n",
       "      <td>0.48040</td>\n",
       "      <td>0.48080</td>\n",
       "      <td>0.47970</td>\n",
       "      <td>0.48040</td>\n",
       "      <td>1.191815e+06</td>\n",
       "      <td>5.725529e+05</td>\n",
       "      <td>755.0</td>\n",
       "      <td>8.212130e+05</td>\n",
       "      <td>3.945380e+05</td>\n",
       "      <td>XRPUSDT</td>\n",
       "      <td>...</td>\n",
       "      <td>0.074961</td>\n",
       "      <td>-0.005088</td>\n",
       "      <td>-0.754273</td>\n",
       "      <td>0.000208</td>\n",
       "      <td>8.0</td>\n",
       "      <td>-0.109460</td>\n",
       "      <td>-0.170732</td>\n",
       "      <td>1.374405</td>\n",
       "      <td>36.358970</td>\n",
       "      <td>-0.000207</td>\n",
       "    </tr>\n",
       "  </tbody>\n",
       "</table>\n",
       "<p>362137 rows × 63 columns</p>\n",
       "</div>"
      ],
      "text/plain": [
       "                     open_usdt  high_usdt   low_usdt  close_usdt  \\\n",
       "date                                                               \n",
       "2022-03-01 00:00:00    0.04827    0.04859    0.04738     0.04742   \n",
       "2022-03-01 00:00:00    0.94000    0.95100    0.92800     0.93000   \n",
       "2022-03-01 00:00:00   29.72000   29.87000   28.94000    29.07000   \n",
       "2022-03-01 00:00:00   81.87000   82.35000   78.95000    79.50000   \n",
       "2022-03-01 00:00:00  382.80000  385.80000  381.40000   382.50000   \n",
       "...                        ...        ...        ...         ...   \n",
       "2023-05-29 20:00:00    0.63780    0.63980    0.63740     0.63980   \n",
       "2023-05-29 20:00:00    0.07775    0.07785    0.07770     0.07776   \n",
       "2023-05-29 20:00:00    2.02200    2.02300    2.01900     2.02000   \n",
       "2023-05-29 20:00:00    0.22640    0.22690    0.22620     0.22670   \n",
       "2023-05-29 20:00:00    0.48040    0.48080    0.47970     0.48040   \n",
       "\n",
       "                           volume        amount  trade_counts    buy_volume  \\\n",
       "date                                                                          \n",
       "2022-03-01 00:00:00  4.993857e+06  2.403098e+05        1499.0  2.218197e+06   \n",
       "2022-03-01 00:00:00  2.882661e+07  2.711089e+07       35314.0  1.511524e+07   \n",
       "2022-03-01 00:00:00  3.708739e+05  1.088847e+07       23433.0  1.807383e+05   \n",
       "2022-03-01 00:00:00  3.460654e+05  2.795618e+07       35834.0  1.657856e+05   \n",
       "2022-03-01 00:00:00  6.692711e+04  2.568188e+07       31338.0  3.153323e+04   \n",
       "...                           ...           ...           ...           ...   \n",
       "2023-05-29 20:00:00  6.553890e+04  4.185413e+04         146.0  4.321650e+04   \n",
       "2023-05-29 20:00:00  4.471796e+06  3.476908e+05         627.0  2.061506e+06   \n",
       "2023-05-29 20:00:00  7.449000e+02  1.505186e+03          23.0  4.263000e+02   \n",
       "2023-05-29 20:00:00  6.354390e+04  1.440127e+04         112.0  1.683730e+04   \n",
       "2023-05-29 20:00:00  1.191815e+06  5.725529e+05         755.0  8.212130e+05   \n",
       "\n",
       "                       buy_amount   ts_code  ...  alpha_t9  alpha_t10  \\\n",
       "date                                         ...                        \n",
       "2022-03-01 00:00:00  1.067667e+05   ACHUSDT  ...       NaN        NaN   \n",
       "2022-03-01 00:00:00  1.423383e+07   ADAUSDT  ...       NaN        NaN   \n",
       "2022-03-01 00:00:00  5.308529e+06  ATOMUSDT  ...       NaN        NaN   \n",
       "2022-03-01 00:00:00  1.340024e+07  AVAXUSDT  ...       NaN        NaN   \n",
       "2022-03-01 00:00:00  1.210266e+07   BNBUSDT  ...       NaN        NaN   \n",
       "...                           ...       ...  ...       ...        ...   \n",
       "2023-05-29 20:00:00  2.759829e+04   STXUSDT  ... -2.624527   0.006813   \n",
       "2023-05-29 20:00:00  1.603450e+05   TRXUSDT  ... -2.053151  -0.003541   \n",
       "2023-05-29 20:00:00  8.613548e+02   UMAUSDT  ...  0.610474  -0.002222   \n",
       "2023-05-29 20:00:00  3.817328e+03   WOOUSDT  ... -0.965787   0.005473   \n",
       "2023-05-29 20:00:00  3.945380e+05   XRPUSDT  ...  0.074961  -0.005088   \n",
       "\n",
       "                     alpha_028  alpha_019  alpha_044  alpha_078 alpha_112  \\\n",
       "date                                                                        \n",
       "2022-03-01 00:00:00        NaN  -0.000000        NaN        NaN       NaN   \n",
       "2022-03-01 00:00:00        NaN  -0.000000        NaN        NaN       NaN   \n",
       "2022-03-01 00:00:00        NaN  -0.000000        NaN        NaN       NaN   \n",
       "2022-03-01 00:00:00        NaN  -0.000000        NaN        NaN       NaN   \n",
       "2022-03-01 00:00:00        NaN  -0.000000        NaN        NaN       NaN   \n",
       "...                        ...        ...        ...        ...       ...   \n",
       "2023-05-29 20:00:00  -0.382696  -0.012973        8.0   0.840620 -0.172577   \n",
       "2023-05-29 20:00:00  -0.423184  -0.007845        6.0   0.925988  0.006803   \n",
       "2023-05-29 20:00:00  -0.108646   0.004436       10.0  -0.699860 -0.415730   \n",
       "2023-05-29 20:00:00  -1.946215   0.002201        2.0   0.048504  0.161765   \n",
       "2023-05-29 20:00:00  -0.754273   0.000208        8.0  -0.109460 -0.170732   \n",
       "\n",
       "                     alpha_110  alpha_128  alpha_075  \n",
       "date                                                  \n",
       "2022-03-01 00:00:00        NaN        NaN        NaN  \n",
       "2022-03-01 00:00:00        NaN        NaN        NaN  \n",
       "2022-03-01 00:00:00        NaN        NaN        NaN  \n",
       "2022-03-01 00:00:00        NaN        NaN        NaN  \n",
       "2022-03-01 00:00:00        NaN        NaN        NaN  \n",
       "...                        ...        ...        ...  \n",
       "2023-05-29 20:00:00   1.399366  65.245012  -0.016559  \n",
       "2023-05-29 20:00:00   1.881324  45.876158  -0.006063  \n",
       "2023-05-29 20:00:00   0.915216  10.145075  -0.001981  \n",
       "2023-05-29 20:00:00   1.412563  34.458721  -0.006647  \n",
       "2023-05-29 20:00:00   1.374405  36.358970  -0.000207  \n",
       "\n",
       "[362137 rows x 63 columns]"
      ]
     },
     "execution_count": 21,
     "metadata": {},
     "output_type": "execute_result"
    }
   ],
   "source": [
    "print(universe.shape)\n",
    "universe"
   ]
  },
  {
   "cell_type": "code",
   "execution_count": 22,
   "id": "b50919cd",
   "metadata": {},
   "outputs": [],
   "source": [
    "universe = universe.loc[(universe.index>='2023-03-01 00:00:00')]"
   ]
  },
  {
   "cell_type": "markdown",
   "id": "0a57dacb",
   "metadata": {},
   "source": [
    "### 因子评估"
   ]
  },
  {
   "cell_type": "code",
   "execution_count": 23,
   "id": "08b2a212",
   "metadata": {},
   "outputs": [],
   "source": [
    "## 1 hour\n",
    "negative_field = [ 'alpha_028', 'alpha_044', 'alpha_078', 'alpha_110', 'alpha_112', 'alpha_128']\n",
    "\n",
    "## 4 hour\n",
    "# negative_field = [ 'alpha_022', 'alpha_028', 'alpha_078', 'alpha_131',\n",
    "#                   'alpha_110', 'alpha_112', 'alpha_128', 'alpha_122',]\n",
    "universe[negative_field] = -universe[negative_field]"
   ]
  },
  {
   "cell_type": "code",
   "execution_count": 25,
   "id": "c569ad32",
   "metadata": {},
   "outputs": [],
   "source": [
    "base_columns = [\n",
    "    'ts_code', 'trade_date', 'volume', 'amount', 'trade_counts', 'buy_volume', 'buy_amount',\n",
    "    'close', 'vwap', 'open', 'high', 'low',  'log-ret', 'range_6', 'wave_6', 'range_12', 'wave_12', 'ret_6', 'ret_12']"
   ]
  },
  {
   "cell_type": "code",
   "execution_count": 26,
   "id": "2f334cb9",
   "metadata": {},
   "outputs": [],
   "source": [
    "# t7 not need zscore\n",
    "factor_names = [\n",
    "    'alpha_wt', 'alpha_cci', 'alpha_srsi', 'alpha_rsi', 'alpha_wr', 'alpha_ppo', 'alpha_macd','alpha_kdj',\n",
    "    'alpha_t1', 'buy_percent', 'alpha_t2', 'alpha_t3', 'alpha_t4', \n",
    "    'alpha_t5', 'alpha_t8', 'alpha_t8a', 'alpha_t9', 'alpha_t10',\n",
    "    'alpha_028', 'alpha_019', 'alpha_044', 'alpha_078', 'alpha_112', 'alpha_110', 'alpha_128', 'alpha_075'\n",
    "        ]\n",
    "\n",
    "\n",
    "final_columns = base_columns+factor_names"
   ]
  },
  {
   "cell_type": "code",
   "execution_count": 28,
   "id": "c1058b5e",
   "metadata": {},
   "outputs": [
    {
     "name": "stderr",
     "output_type": "stream",
     "text": [
      "100%|███████████████████████████████████████| 2156/2156 [03:58<00:00,  9.03it/s]\n"
     ]
    }
   ],
   "source": [
    "def rescale_(data, zscore_features=factor_names):\n",
    "    data[factor_names] = data[factor_names].apply(zscore)\n",
    "    # resize from -1 to 1\n",
    "    for feature in zscore_features:\n",
    "        max_val = data[feature].median() + 3*data[feature].std()\n",
    "        min_val = data[feature].median() - 3*data[feature].std()\n",
    "        data[feature] = np.where(data[feature]>max_val, max_val, \n",
    "                               np.where(data[feature]<min_val, min_val, data[feature]))\n",
    "        data[feature] = (data[feature] - data[feature].mean())/data[feature].std()\n",
    "        data[feature] = np.where(data[feature]>0, data[feature]/data[feature].max(),\n",
    "                                 np.where(data[feature]<0, data[feature]/(-data[feature].min()), 0.))\n",
    "    #data[zscore_features] = data[zscore_features]/3\n",
    "    return data\n",
    "\n",
    "def rescale_rank(data, zscore_features=factor_names):\n",
    "    data[zscore_features] = data[zscore_features].rank(method='min',pct=True)\n",
    "    data[zscore_features] = (data[zscore_features] - 0.5) * 2\n",
    "    return data\n",
    "\n",
    "universe = universe.replace([np.inf, -np.inf], np.nan)\n",
    "universe = universe.fillna(0.)\n",
    "\n",
    "#universe[factor_names] = universe.groupby('ts_code')[factor_names].apply(lambda x: Decaylinear(x, 4))\n",
    "universe = my_groupby(universe, 'trade_date', rescale_)\n",
    "#universe = my_groupby(universe, 'trade_date', rescale_rank)"
   ]
  },
  {
   "cell_type": "code",
   "execution_count": 60,
   "id": "b1b36908",
   "metadata": {},
   "outputs": [],
   "source": [
    "universe[final_columns].reset_index().to_feather(\n",
    "    'bitcoin_data/factor_data/factors_zscore.feather')"
   ]
  },
  {
   "cell_type": "code",
   "execution_count": null,
   "id": "1ac93dbc",
   "metadata": {},
   "outputs": [],
   "source": [
    "universe = pd.read_feather('bitcoin_data/factor_data/factors_zscore.feather')\n",
    "universe = universe.set_index(['date']).sort_values(by=['date', 'ts_code'])\n",
    "universe.shape"
   ]
  },
  {
   "cell_type": "code",
   "execution_count": 30,
   "id": "1607c3f2",
   "metadata": {},
   "outputs": [],
   "source": [
    "start_time = '2023-03-01 00:00:00'\n",
    "end_time = '2023-06-01 00:00:00'\n",
    "# universe = universe.loc[(universe.index>=start_time) & (universe.index<=end_time)]"
   ]
  },
  {
   "cell_type": "markdown",
   "id": "eae80fdf",
   "metadata": {},
   "source": [
    "### 构造评估数据"
   ]
  },
  {
   "cell_type": "code",
   "execution_count": 31,
   "id": "34e4110a",
   "metadata": {},
   "outputs": [
    {
     "name": "stdout",
     "output_type": "stream",
     "text": [
      "(75460, 63) (75460, 64)\n"
     ]
    }
   ],
   "source": [
    "import random\n",
    "universe = universe.sort_values(by=['date','ts_code'])\n",
    "all_factors = universe.copy(deep=True)\n",
    "all_factors = all_factors.loc[(all_factors.index>=start_time) & (all_factors.index<=end_time)]\n",
    "def return_handle(df):\n",
    "    df['returns_2'] = df['close'].pct_change().shift(-1)\n",
    "#     noise_list = []\n",
    "#     for i in range(df.shape[0]):\n",
    "#         noise = abs(random.gauss(0, 0.2))\n",
    "#         if noise > 0.2:\n",
    "#             noise=0.1\n",
    "#         noise_list.append(noise)\n",
    "#     df['returns_2'] = df['returns_2'] * (1 - np.array(noise_list)) \\\n",
    "#                     + np.array(noise_list)*df['close'].pct_change().shift(-1).fillna(0.)\n",
    "    return df\n",
    "all_factors = all_factors.groupby('ts_code').apply(return_handle)\n",
    "all_factors = all_factors.replace([np.inf, -np.inf], np.nan).fillna(0.).sort_values(by=['date', 'ts_code'])\n",
    "print(universe.shape, all_factors.shape)"
   ]
  },
  {
   "cell_type": "code",
   "execution_count": 53,
   "id": "ec465108",
   "metadata": {},
   "outputs": [],
   "source": [
    "def keep_top_bottom(data, feature, bottom=0.4, top=0.6):\n",
    "    tv = data[feature].quantile(top)\n",
    "    bv = data[feature].quantile(bottom)\n",
    "    data[feature] = np.where(data[feature]>tv, data[feature], \n",
    "                            np.where(data[feature]<bv, data[feature], 0))\n",
    "    return data\n",
    "    \n",
    "    all_df = pd.DataFrame()\n",
    "    for dt in tqdm(df.index.unique()):\n",
    "        tmp = df.loc[df.index == dt]\n",
    "        all_df = all_df.append(cal_(tmp))\n",
    "    return all_df.sort_values(by=['date', 'ts_code'])\n",
    "\n",
    "\n",
    "def wins(x,a,b):\n",
    "    return np.where(x <= a,a, np.where(x >= b, b, x))\n",
    "\n",
    "def get_formula(factors, Y):\n",
    "    L = [\"0\"]\n",
    "    L.extend(factors)\n",
    "    return Y + \" ~ \" + \" + \".join(L)\n",
    "\n",
    "def factors_from_names(n, name):\n",
    "    return list(filter(lambda x: name in x, n))\n",
    "\n",
    "def estimate_factor_returns(df, name='alpha_'): \n",
    "    ## winsorize returns for fitting \n",
    "    estu = df.copy(deep=True)\n",
    "    estu['returns_2'] = wins(estu['returns_2'], -0.1, 0.1)\n",
    "    #all_factors = factors_from_names(list(df), name)\n",
    "    results = pd.Series()\n",
    "    for factor_name in factor_names:\n",
    "        #estu = keep_top_bottom(estu, factor_name)\n",
    "        form = get_formula([factor_name], \"returns_2\")\n",
    "        model = ols(form, data=estu)\n",
    "        result = model.fit()\n",
    "        results = results.append(result.params)\n",
    "    return results"
   ]
  },
  {
   "cell_type": "code",
   "execution_count": 54,
   "id": "ceda417e",
   "metadata": {},
   "outputs": [],
   "source": [
    "base_field = ['ts_code', 'log-ret', 'open', 'high', 'low', 'close', 'volume', 'vwap','trade_date']\n",
    "date_and_code = [ 'ts_code', 'returns_2']\n",
    "\n",
    "alpha_df = all_factors[factor_names + date_and_code].copy(deep=True)\n",
    "#alpha_df = alpha_df.loc[alpha_df.index<=start_time]\n",
    "calendar = alpha_df.index.unique() # int64\n",
    "\n",
    "#alpha_df = keep_top_bottom(alpha_df, factor_names)"
   ]
  },
  {
   "cell_type": "code",
   "execution_count": 34,
   "id": "2ea76502",
   "metadata": {},
   "outputs": [
    {
     "data": {
      "text/plain": [
       "DatetimeIndex(['2023-03-01 00:00:00', '2023-03-01 01:00:00',\n",
       "               '2023-03-01 02:00:00', '2023-03-01 03:00:00',\n",
       "               '2023-03-01 04:00:00', '2023-03-01 05:00:00',\n",
       "               '2023-03-01 06:00:00', '2023-03-01 07:00:00',\n",
       "               '2023-03-01 08:00:00', '2023-03-01 09:00:00',\n",
       "               ...\n",
       "               '2023-05-29 11:00:00', '2023-05-29 12:00:00',\n",
       "               '2023-05-29 13:00:00', '2023-05-29 14:00:00',\n",
       "               '2023-05-29 15:00:00', '2023-05-29 16:00:00',\n",
       "               '2023-05-29 17:00:00', '2023-05-29 18:00:00',\n",
       "               '2023-05-29 19:00:00', '2023-05-29 20:00:00'],\n",
       "              dtype='datetime64[ns]', name='date', length=2156, freq=None)"
      ]
     },
     "execution_count": 34,
     "metadata": {},
     "output_type": "execute_result"
    }
   ],
   "source": [
    "calendar"
   ]
  },
  {
   "cell_type": "markdown",
   "id": "5cae665f",
   "metadata": {},
   "source": [
    "### 方法1\n",
    "线性回归评估"
   ]
  },
  {
   "cell_type": "code",
   "execution_count": 35,
   "id": "1b6e8926",
   "metadata": {},
   "outputs": [
    {
     "name": "stderr",
     "output_type": "stream",
     "text": [
      "regression factor returns: 100%|████████████| 2156/2156 [04:39<00:00,  7.71it/s]\n"
     ]
    }
   ],
   "source": [
    "### ols to estimate \n",
    "facret = {}\n",
    "for dt in tqdm(calendar, desc='regression factor returns'):\n",
    "    facret[dt] = estimate_factor_returns(alpha_df.loc[alpha_df.index==dt])"
   ]
  },
  {
   "cell_type": "code",
   "execution_count": 48,
   "id": "5f3ad584",
   "metadata": {},
   "outputs": [
    {
     "data": {
      "image/png": "[encoded data removed]",
      "text/plain": [
       "<Figure size 900x500 with 1 Axes>"
      ]
     },
     "metadata": {},
     "output_type": "display_data"
    }
   ],
   "source": [
    "### plot\n",
    "date_list = alpha_df.index.unique()\n",
    "facret_df = pd.DataFrame(index = date_list)\n",
    "\n",
    "for ii, dt in zip(calendar,date_list): \n",
    "    for alp in factor_names: \n",
    "        facret_df.at[dt, alp] = facret[ii][alp]\n",
    "\n",
    "\n",
    "## googd\n",
    "## 'alpha_wr', 'alpha_rsi',  'alpha_ppo', 'alpha_t4', 'alpha_t5', 'alpha_t9a', 'alpha_t10', 'alpha_075'\n",
    "display_field  = [ \n",
    "    'alpha_019',  'alpha_078', 'alpha_wr', 'alpha_rsi', 'alpha_075', 'alpha_t1', 'alpha_t4', 'alpha_t5',\n",
    "    # 'alpha_cci',   'alpha_ppo',  'alpha_macd', 'alpha_t8a', 'alpha_t9', 'alpha_028', 'alpha_kdj', \n",
    "]        \n",
    "\n",
    "for column in display_field:\n",
    "    plt.plot(facret_df[column].cumsum(), label=column)\n",
    "    #plt.plot(facret_df[column], label=column)\n",
    "plt.legend(loc='upper left')\n",
    "plt.xlabel('Date')\n",
    "plt.ylabel('Cumulative Factor Returns')\n",
    "plt.show()"
   ]
  },
  {
   "cell_type": "code",
   "execution_count": 49,
   "id": "b59e0596",
   "metadata": {},
   "outputs": [
    {
     "data": {
      "text/plain": [
       "alpha_019    4.519382\n",
       "alpha_078    4.127069\n",
       "alpha_wr     4.118622\n",
       "alpha_rsi    3.626868\n",
       "alpha_075    2.637799\n",
       "alpha_t1     3.498495\n",
       "alpha_t4     3.043932\n",
       "alpha_t5     3.424060\n",
       "dtype: float64"
      ]
     },
     "execution_count": 49,
     "metadata": {},
     "output_type": "execute_result"
    }
   ],
   "source": [
    "# sharp ratio\n",
    "np.sqrt(24*252) * (facret_df[display_field].mean())/ facret_df[display_field].std()"
   ]
  },
  {
   "cell_type": "code",
   "execution_count": null,
   "id": "e54e38e9",
   "metadata": {},
   "outputs": [],
   "source": [
    "def cal_auto_corr(data, alpha_cols):\n",
    "    for column in tqdm(alpha_cols):  \n",
    "        data[column + '_shift1'] = data.groupby(level=0)[column].shift(-1)\n",
    "        \n",
    "    corr_df = pd.DataFrame(index = data.index.unique())\n",
    "    for dt in tqdm(data.index.unique()):\n",
    "        tmp = data.loc[dt]\n",
    "        for column in alpha_cols:\n",
    "            corr_df.at[dt, column] = tmp[column].corr(tmp[column + '_shift1'])\n",
    "    return corr_df\n",
    "\n",
    "corr_df = cal_auto_corr(alpha_df, display_field)"
   ]
  },
  {
   "cell_type": "code",
   "execution_count": null,
   "id": "a0588f88",
   "metadata": {},
   "outputs": [],
   "source": [
    "print(corr_df[['alpha_t5', 'alpha_078']].mean())\n",
    "corr_df[['alpha_t5', 'alpha_078']].plot(grid=True)"
   ]
  },
  {
   "cell_type": "markdown",
   "id": "6cea5551",
   "metadata": {},
   "source": [
    "### 方法2\n",
    "归一化回报率评估"
   ]
  },
  {
   "cell_type": "code",
   "execution_count": 55,
   "id": "e0cdb336",
   "metadata": {},
   "outputs": [
    {
     "name": "stderr",
     "output_type": "stream",
     "text": [
      "100%|███████████████████████████████████████| 2156/2156 [08:20<00:00,  4.31it/s]\n"
     ]
    }
   ],
   "source": [
    "q_num = 5\n",
    "df = pd.DataFrame(index=alpha_df.index.unique())\n",
    "for dt in tqdm(alpha_df.index.unique()):\n",
    "    tmp = alpha_df.loc[alpha_df.index == dt]\n",
    "    for feature in factor_names:\n",
    "        tmp = keep_top_bottom(tmp, feature)\n",
    "        tmp['returns_2'] = wins(tmp['returns_2'], -0.2, 0.2)\n",
    "        df.at[dt, feature] = (tmp['returns_2'] * tmp[feature]).sum()/(tmp[feature].abs().sum())\n",
    "        # calculate quartile 3 returns\n",
    "        try:\n",
    "            tmp[feature + '_q' + str(q_num)] = pd.qcut(tmp[feature], q=q_num, \n",
    "                                                       labels=list(range(1,q_num+1)), duplicates='drop')\n",
    "        except Exception as e:\n",
    "            tmp[feature + '_q' + str(q_num)] = 3\n",
    "        for q in range(1, q_num+1):\n",
    "            # 1q 2q 3q 4q 5q\n",
    "            df.at[dt, feature + '_q' + str(q)] = tmp.loc[tmp[feature + '_q'+str(q_num)]==q]['returns_2'].sum()"
   ]
  },
  {
   "cell_type": "code",
   "execution_count": 59,
   "id": "02dfdc18",
   "metadata": {},
   "outputs": [
    {
     "data": {
      "text/plain": [
       "<AxesSubplot:xlabel='date'>"
      ]
     },
     "execution_count": 59,
     "metadata": {},
     "output_type": "execute_result"
    },
    {
     "data": {
      "image/png": "[encoded data removed]",
      "text/plain": [
       "<Figure size 900x500 with 1 Axes>"
      ]
     },
     "metadata": {},
     "output_type": "display_data"
    }
   ],
   "source": [
    "### one hour use features\n",
    "# display_field  = [ \n",
    "#        'alpha_cci', 'alpha_srsi', 'alpha_wr', 'alpha_t9','alpha_028', 'alpha_019', \n",
    "#        'alpha_rsi', 'alpha_t1', 'alpha_044', 'alpha_078',\n",
    "#        'alpha_t2', 'alpha_t3', 'alpha_t4', 'alpha_t5', 'alpha_t6', 'alpha_t7', \n",
    "#        'alpha_110',  'alpha_128', 'alpha_112', \n",
    "#         ]\n",
    "\n",
    "## 'alpha_wr', 'alpha_rsi',  'alpha_ppo', 'alpha_t4', 'alpha_t5', 'alpha_t9a', \n",
    "## 'alpha_t10', 'alpha_075' 'alpha_019', 'alpha_019a',\n",
    "display_field = [\n",
    "       'alpha_wt', 'alpha_cci', 'alpha_srsi', 'alpha_rsi', 'alpha_wr', 'alpha_ppo', 'alpha_macd','alpha_kdj',\n",
    "        #'alpha_t1', 'buy_percent', 'alpha_t2', 'alpha_t3', 'alpha_t4', \n",
    "        #'alpha_t5', 'alpha_t8', 'alpha_t8a', 'alpha_t9', 'alpha_t10',\n",
    "        #'alpha_028', 'alpha_019', 'alpha_044', 'alpha_078', 'alpha_112', 'alpha_110', 'alpha_128', 'alpha_075'\n",
    "]\n",
    "\n",
    "display_field = [\n",
    "    'alpha_019',  'alpha_078', 'alpha_wr', 'alpha_rsi', 'alpha_075', 'alpha_t1', 'alpha_t4', 'alpha_t5',\n",
    "    #'alpha_cci',  'alpha_ppo', 'alpha_macd', 'alpha_t8a', 'alpha_t9', 'alpha_028', 'alpha_kdj',   \n",
    "]\n",
    "\n",
    "df[display_field].cumsum().plot()"
   ]
  },
  {
   "cell_type": "code",
   "execution_count": 57,
   "id": "a93027a2",
   "metadata": {},
   "outputs": [
    {
     "data": {
      "text/plain": [
       "alpha_019    2.020305\n",
       "alpha_078    2.017063\n",
       "alpha_wr     2.179670\n",
       "alpha_rsi    1.750063\n",
       "alpha_075    1.181194\n",
       "alpha_t1     1.974938\n",
       "alpha_t4     1.842298\n",
       "alpha_t5     1.549272\n",
       "dtype: float64"
      ]
     },
     "execution_count": 57,
     "metadata": {},
     "output_type": "execute_result"
    }
   ],
   "source": [
    "# sharp ratio\n",
    "np.sqrt(6*252) * df[display_field].mean()/ df[display_field].std()"
   ]
  },
  {
   "cell_type": "code",
   "execution_count": null,
   "id": "7a9f970e",
   "metadata": {},
   "outputs": [],
   "source": [
    "# alpha_008    7.112507\n",
    "# alpha_078    5.924321\n",
    "# alpha_019    5.641981\n",
    "# alpha_wt     6.093409\n",
    "# alpha_cci    5.723536\n",
    "# alpha_035    5.557689\n",
    "\n",
    "feature = 'alpha_t10'\n",
    "q_df = pd.DataFrame(index = df.index)\n",
    "for i in range(1, q_num+1):\n",
    "    q_feature = feature + '_q' + str(i)\n",
    "    if q_feature in df.columns:\n",
    "        q_df[q_feature] = (df[q_feature]).cumsum()\n",
    "\n",
    "q_df.plot()        "
   ]
  },
  {
   "cell_type": "markdown",
   "id": "e5efc7c6",
   "metadata": {},
   "source": [
    "### Save  or read rescale data"
   ]
  },
  {
   "cell_type": "code",
   "execution_count": null,
   "id": "bef257de",
   "metadata": {},
   "outputs": [],
   "source": [
    "field = ['ts_code', 'close', 'log-ret', 'trade_date',\n",
    "         'alpha_019', 'alpha_t4', 'alpha_075', 'alpha_combine', \n",
    "        ]\n",
    "universe[field].reset_index().to_feather('bitcoin_data/factor_data/facotor4h_bitcon_combine.feather')"
   ]
  },
  {
   "cell_type": "code",
   "execution_count": null,
   "id": "702e74d9",
   "metadata": {},
   "outputs": [],
   "source": [
    "universe_raw = feather.read_dataframe('bitcoin_data/factor_data/factors_smooth_zscore_20221001_20230529.feather')\n",
    "#universe_raw['date'] = pd.to_datetime(universe_raw['trade_date'], format='%Y-%m-%d %H:%M:%S')\n",
    "universe_raw = universe_raw.set_index(['date']).sort_values(by=['date', 'ts_code'])\n",
    "print(universe_raw.shape)"
   ]
  },
  {
   "cell_type": "code",
   "execution_count": null,
   "id": "c5698fb8",
   "metadata": {},
   "outputs": [],
   "source": [
    "universe_raw.columns"
   ]
  },
  {
   "cell_type": "code",
   "execution_count": null,
   "id": "6a11d8aa",
   "metadata": {},
   "outputs": [],
   "source": [
    "feature = 'alpha_atr'\n",
    "start_time = '2023-03-01 00:00:00'\n",
    "end_time = '2023-06-01 00:00:00'\n",
    "tmp = universe_raw.loc[(universe_raw.ts_code=='SHIBUSDT') & (universe_raw.index>=start_time) & (universe_raw.index<=end_time)]\n",
    "#tmp[['close']] = tmp[['close']].apply(zscore)\n",
    "#tmp[feature] = Decaylinear(tmp[feature],4)#.rolling(6).mean()\n",
    "tmp[[feature, 'close']].plot(grid=True)"
   ]
  },
  {
   "cell_type": "code",
   "execution_count": null,
   "id": "a2452385",
   "metadata": {},
   "outputs": [],
   "source": []
  }
 ],
 "metadata": {
  "kernelspec": {
   "display_name": "py37",
   "language": "python",
   "name": "py37"
  },
  "language_info": {
   "codemirror_mode": {
    "name": "ipython",
    "version": 3
   },
   "file_extension": ".py",
   "mimetype": "text/x-python",
   "name": "python",
   "nbconvert_exporter": "python",
   "pygments_lexer": "ipython3",
   "version": "3.7.12"
  }
 },
 "nbformat": 4,
 "nbformat_minor": 5
}
