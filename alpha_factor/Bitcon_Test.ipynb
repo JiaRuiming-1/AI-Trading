{
 "cells": [
  {
   "cell_type": "code",
   "execution_count": 1,
   "id": "e24f45f4",
   "metadata": {},
   "outputs": [],
   "source": [
    "import pandas as pd \n",
    "import numpy as np\n",
    "from tqdm import tqdm\n",
    "from scipy.stats import zscore, spearmanr, rankdata\n",
    "from statsmodels.formula.api import ols\n",
    "\n",
    "from matplotlib import pyplot as plt\n",
    "%matplotlib inline\n",
    "plt.rcParams['figure.figsize'] = [9, 5]\n",
    "\n",
    "import os\n",
    "import sys\n",
    "sys.path.append('../')\n",
    "from alpha_191 import Alpha191\n",
    "\n",
    "import warnings\n",
    "warnings.filterwarnings('ignore')\n",
    "\n",
    "import feather"
   ]
  },
  {
   "cell_type": "markdown",
   "id": "2d466880",
   "metadata": {},
   "source": [
    "### 读取自存数据"
   ]
  },
  {
   "cell_type": "code",
   "execution_count": null,
   "id": "c5bba385",
   "metadata": {},
   "outputs": [],
   "source": [
    "universe = feather.read_dataframe('bitcoin_data/raw36_20220301_20230527.feather')\n",
    "universe = universe.drop(columns=['close time'])\n",
    "universe['date'] = pd.to_datetime(universe['date'],format='%Y-%m-%d %H:%M:%S')\n",
    "universe = universe.set_index(['date']).sort_values(by=['date', 'ts_code'])"
   ]
  },
  {
   "cell_type": "code",
   "execution_count": null,
   "id": "a33a4251",
   "metadata": {},
   "outputs": [],
   "source": [
    "universe['vwap'] = universe['amount']/universe['volume']\n",
    "universe = universe.rename(columns={'open':'open_usdt', 'high':'high_usdt', 'low':'low_usdt', \n",
    "                                    'close':'close_usdt', 'vwap':'vwap_usdt'})"
   ]
  },
  {
   "cell_type": "code",
   "execution_count": null,
   "id": "55dc8a82",
   "metadata": {},
   "outputs": [],
   "source": [
    "def my_groupby(df, column, func, sort_keys=['date', 'ts_code']):\n",
    "    all_df = pd.DataFrame()\n",
    "    for val in tqdm(df[column].unique()):\n",
    "        tmp = df.loc[df[column] == val]\n",
    "        all_df = all_df.append(func(tmp))\n",
    "    return all_df.sort_index(level=sort_keys)"
   ]
  },
  {
   "cell_type": "code",
   "execution_count": null,
   "id": "932602ac",
   "metadata": {},
   "outputs": [],
   "source": [
    "def convert_price_to_returns(df):\n",
    "    def cal_(data):\n",
    "        data['close'] = data['close_usdt'].pct_change()\n",
    "        data['close'] = (data['close'].fillna(0) + 1).cumprod()\n",
    "        data['vwap'] = data['vwap_usdt'].pct_change()\n",
    "        data['vwap'] = (data['vwap'].fillna(0) + 1).cumprod()\n",
    "        \n",
    "        for feature in ['open', 'high', 'low',]:\n",
    "            data[feature] = data[feature + '_usdt']/data['close_usdt'] * data['close']\n",
    "        return data\n",
    "    \n",
    "    df = my_groupby(df, 'ts_code', cal_)\n",
    "    return df\n",
    "\n",
    "universe = convert_price_to_returns(universe)"
   ]
  },
  {
   "cell_type": "code",
   "execution_count": null,
   "id": "0a2b670c",
   "metadata": {},
   "outputs": [],
   "source": [
    "universe['trade_date'] = universe.index"
   ]
  },
  {
   "cell_type": "code",
   "execution_count": null,
   "id": "f251a097",
   "metadata": {},
   "outputs": [],
   "source": [
    "universe.loc[(universe.ts_code=='BTCUSDT')][['vwap', 'close']].plot(grid=True)"
   ]
  },
  {
   "cell_type": "markdown",
   "id": "0c142703",
   "metadata": {},
   "source": [
    "### 构造指数"
   ]
  },
  {
   "cell_type": "markdown",
   "id": "99718ed6",
   "metadata": {},
   "source": [
    "### 读取网盘数据\n",
    "选取2021-04 至 2023-03月数据 频率为4H"
   ]
  },
  {
   "cell_type": "code",
   "execution_count": null,
   "id": "adcfa966",
   "metadata": {},
   "outputs": [],
   "source": [
    "folder_path = 'bitcon/tlkjdata/'  # 替换为实际的文件夹路径\n",
    "\n",
    "file_list = []  # 存储文件的列表\n",
    "\n",
    "# 遍历文件夹下的所有文件\n",
    "for file_name in os.listdir(folder_path):\n",
    "    file_path = os.path.join(folder_path, file_name)  # 构建文件的完整路径\n",
    "    if os.path.isfile(file_path):  # 确保当前路径是文件而不是文件夹\n",
    "        file_list.append(file_path)  # 将文件路径添加到列表中"
   ]
  },
  {
   "cell_type": "code",
   "execution_count": null,
   "id": "4dd64169",
   "metadata": {},
   "outputs": [],
   "source": [
    "def sum_volume(series):\n",
    "    return series.sum()\n",
    "\n",
    "universe = pd.DataFrame()\n",
    "for path in tqdm(file_list):\n",
    "    df = feather.read_dataframe(path)\n",
    "    df = df.rename(columns={'vol':'volume'})\n",
    "    df[['open','close','high','low','volume']] = df[['open','close','high','low','volume']].astype(np.float32)\n",
    "    half_day_data = df.set_index(['date']).resample('2H').agg({\n",
    "                    'open':'first', 'high':'max', 'low':'min', 'close':'last', 'volume':sum_volume})\n",
    "    start_time = pd.to_datetime('2022-01-01')\n",
    "    end_time = pd.to_datetime('2023-03-28')\n",
    "    half_day_data = half_day_data[(half_day_data.index >= start_time) & (half_day_data.index <= end_time)]\n",
    "    exist_time = (end_time - half_day_data.index[0]).days\n",
    "    if exist_time <= 260:\n",
    "        continue\n",
    "    half_day_data['ts_code'] = path.split('_')[0].split('/')[2]\n",
    "    universe = universe.append(half_day_data)"
   ]
  },
  {
   "cell_type": "code",
   "execution_count": null,
   "id": "ac69f18f",
   "metadata": {},
   "outputs": [],
   "source": [
    "universe['vwap'] = (universe['low'] + universe['high'] + universe['close'])/3\n",
    "universe['trade_date'] = universe.index\n",
    "#universe = universe.loc[universe['trade_date']<='2023-03-29']"
   ]
  },
  {
   "cell_type": "code",
   "execution_count": null,
   "id": "7a354ba7",
   "metadata": {},
   "outputs": [],
   "source": [
    "bak = universe.copy(deep=True)\n",
    "bak"
   ]
  },
  {
   "cell_type": "markdown",
   "id": "7e874ced",
   "metadata": {},
   "source": [
    "### 构造技术指标为alpha"
   ]
  },
  {
   "cell_type": "code",
   "execution_count": null,
   "id": "f80e5fc9",
   "metadata": {},
   "outputs": [],
   "source": [
    "import stockstats\n",
    "\n",
    "class IndicatorHelper(pd.DataFrame):\n",
    "    \"\"\"\n",
    "        add indicators to dataframe\n",
    "    \"\"\"\n",
    "\n",
    "    def __init__(self, data):\n",
    "        super(IndicatorHelper, self).__init__(data)\n",
    "\n",
    "        self.stocks = stockstats.StockDataFrame.retype(data.copy())\n",
    "        self.df = self\n",
    "\n",
    "    def add_technical_indicator(self, tech_indicator_list):\n",
    "        \"\"\"\n",
    "        calculate technical indicators\n",
    "        use stockstats package to add technical inidactors\n",
    "        :param ticker: (df) pandas dataframe\n",
    "        :param tech_indeicator_list list\n",
    "        :return: (df) pandas dataframe\n",
    "        \"\"\"\n",
    "        unique_ticker = self.df.ts_code.unique()\n",
    "\n",
    "        indicator_df = pd.DataFrame()\n",
    "        for i in tqdm(range(len(unique_ticker)), desc='add tech indicators'):\n",
    "            temp_indicator = self.stocks[self.stocks.ts_code == unique_ticker[i]]\n",
    "            temp_indicator = temp_indicator[tech_indicator_list + ['ts_code', 'trade_date']]\n",
    "            indicator_df = indicator_df.append(temp_indicator, ignore_index=True)\n",
    "        \n",
    "        self.df = self.df.merge(indicator_df, on=[\"ts_code\", \"trade_date\"], how=\"left\")\n",
    "        self.df['date'] = self.df['trade_date'].apply(lambda x: pd.Timestamp(x))\n",
    "        self.df = self.df.set_index(['date']).sort_values(by=['date', 'ts_code'])\n",
    "        return self.df\n",
    "    "
   ]
  },
  {
   "cell_type": "code",
   "execution_count": null,
   "id": "295d8b87",
   "metadata": {},
   "outputs": [],
   "source": [
    "# add tech indicators\n",
    "tech_indicator_list = ['log-ret','atr_5', 'close_10_kama_5_30', 'close_10_kama_2_30', 'wt1', 'wt2',\n",
    "                      'ppo', 'stochrsi_6', 'cci_6', 'rsi_6', 'supertrend'] \n",
    "universe = IndicatorHelper(universe).add_technical_indicator(tech_indicator_list)"
   ]
  },
  {
   "cell_type": "code",
   "execution_count": null,
   "id": "1bfb878b",
   "metadata": {},
   "outputs": [],
   "source": [
    "universe['alpha_kama2'] = universe['close_10_kama_2_30']\n",
    "universe['alpha_atr'] = -universe['atr_5']\n",
    "universe['alpha_wt'] = universe['wt1'] - universe['wt2']\n",
    "universe['alpha_wtr'] = universe['wt1']\n",
    "universe['alpha_cci'] = universe['cci_6']\n",
    "universe['alpha_srsi'] = universe['stochrsi_6']\n",
    "universe['alpha_rsi'] = universe['rsi_6']\n",
    "universe['alpha_ppo'] = universe['ppo']\n",
    "universe['alpha_supertrend'] = (universe['close'] - universe['supertrend'])"
   ]
  },
  {
   "cell_type": "code",
   "execution_count": null,
   "id": "c2fac8f5",
   "metadata": {},
   "outputs": [],
   "source": [
    "def alpha_kama(df):\n",
    "    feature = 'close_10_kama_5_30'\n",
    "    def cal_(df):\n",
    "        kama_filter = df[feature].rolling(14).std()\n",
    "        cond_in1 = (df[feature] - df[feature].shift(1)) >kama_filter\n",
    "        cond_in2 = (df[feature].shift(1) - df[feature].shift(2)) > kama_filter\n",
    "        cond_out1 = (df[feature] - df[feature].shift(1)) < -kama_filter\n",
    "        cond_out2 = (df[feature].shift(1) - df[feature].shift(2)) < -kama_filter\n",
    "        df['alpha_kama'] = np.where((cond_out1 & cond_out2), -df['close'] , - 0.3*kama_filter)\n",
    "        df['alpha_kama'] = np.where((cond_in1 & cond_in2), df['close'] , df['alpha_kama'])\n",
    "        \n",
    "        return df\n",
    "    \n",
    "    df_all = pd.DataFrame()\n",
    "    for ts_code in tqdm(df.ts_code.unique(), desc='alpha_kama processing...'):\n",
    "        tmp = df.loc[df.ts_code == ts_code]\n",
    "        tmp = cal_(tmp)\n",
    "        df_all = df_all.append(tmp)\n",
    "    return df_all.sort_values(by=['date', 'ts_code'])\n",
    "\n",
    "#universe = universe.drop(columns=['alpha_kama'])\n",
    "universe = alpha_kama(universe)"
   ]
  },
  {
   "cell_type": "code",
   "execution_count": null,
   "id": "8846ca60",
   "metadata": {},
   "outputs": [],
   "source": [
    "def Corr(data, win_len):\n",
    "    obj = data.rolling(window=win_len, method='table')\n",
    "    s = []\n",
    "    for o in obj:\n",
    "        if o.shape[0] < win_len:\n",
    "            s.append(0.)\n",
    "        else:\n",
    "            s.append(spearmanr(o.iloc[:, 0], o.iloc[:, 1])[0])\n",
    "            # s.append(o.iloc[:, 0].corr(o.iloc[:, 1]))\n",
    "    return pd.DataFrame(s, index=data.index, columns=['corr'])\n",
    "\n",
    "def delta(df, period=1):\n",
    "    return df.diff(period)\n",
    "\n",
    "def ts_rank(data, window=10):\n",
    "    return data.rolling(window).apply(lambda x: rankdata(x)[-1])\n",
    "\n",
    "def sma(df, window=10):\n",
    "    return df.rolling(window).mean()\n",
    "\n",
    "def ESma(sr, n, m):\n",
    "    return sr.ewm(alpha=m / n, adjust=False).mean()\n",
    "\n",
    "def Regbeta(sr, x):\n",
    "    window = len(x)\n",
    "    return sr.rolling(window).apply(lambda y: np.polyfit(x, y, deg=1)[0])\n",
    "\n",
    "def Sequence(n):\n",
    "    return np.arange(1, n + 1)\n",
    "\n",
    "def Decaylinear(sr, window):\n",
    "    weights = np.array(range(1, window + 1))\n",
    "    sum_weights = np.sum(weights)\n",
    "    return sr.rolling(window).apply(lambda x: np.sum(weights * x) / sum_weights)\n",
    "\n",
    "def my_groupby(df, column, func, sort_keys=['date', 'ts_code']):\n",
    "    all_df = pd.DataFrame()\n",
    "    for val in tqdm(df[column].unique()):\n",
    "        tmp = df.loc[df[column] == val]\n",
    "        all_df = all_df.append(func(tmp))\n",
    "    return all_df.sort_values(by=sort_keys)"
   ]
  },
  {
   "cell_type": "code",
   "execution_count": null,
   "id": "44cc8330",
   "metadata": {},
   "outputs": [],
   "source": [
    "def alpha_t1(df):\n",
    "    def cal_(data):\n",
    "        #wave = data['high'].rolling(4).max() - data['low'].rolling(4).min()\n",
    "        data['alpha_t1'] = (data['close'].rolling(4).mean() \\\n",
    "                            - data['close'].rolling(14).mean())/data['close'].rolling(14).std()\n",
    "        return data\n",
    "    \n",
    "    df = my_groupby(df, 'ts_code', cal_)\n",
    "    df['alpha_t1'] = df['alpha_t1'] + 0.2 * df['rsi_6']\n",
    "    return df\n",
    "\n",
    "universe = alpha_t1(universe)"
   ]
  },
  {
   "cell_type": "code",
   "execution_count": null,
   "id": "7d48c135",
   "metadata": {},
   "outputs": [],
   "source": [
    "def alpha_t2(df):\n",
    "    def cal_(data):\n",
    "        data['alpha_t2'] = data['log-ret'].rolling(4).sum()/(data['high'] - data['low']).rolling(6).sum()\n",
    "        return data\n",
    "    \n",
    "    df = my_groupby(df, 'ts_code', cal_)\n",
    "    return df\n",
    "\n",
    "universe = alpha_t2(universe)"
   ]
  },
  {
   "cell_type": "code",
   "execution_count": null,
   "id": "7e5bdb65",
   "metadata": {},
   "outputs": [],
   "source": [
    "def alpha_t3(df):\n",
    "    def cal_(data):\n",
    "        wave = data['high'].rolling(12).max() - data['low'].rolling(12).min()\n",
    "        data['alpha_t3'] = (data['close'] - data['low'].rolling(4).mean())/wave\n",
    "        return data\n",
    "    \n",
    "    df = my_groupby(df, 'ts_code', cal_)\n",
    "    return df\n",
    "\n",
    "universe = alpha_t3(universe)"
   ]
  },
  {
   "cell_type": "code",
   "execution_count": null,
   "id": "35a9db89",
   "metadata": {},
   "outputs": [],
   "source": [
    "def alpha_t4(df): #\n",
    "    # -1 * sma(ts_rank(rank(self.low), 9)) * sma(rank(close),6)\n",
    "    def cal1_(data):\n",
    "        data['alpha_t4'] = data['low'].rolling(12).apply(lambda x: rankdata(x)[-1])\n",
    "        #data['close_r'] = data['close'].rolling(120).apply(lambda x: x.rank(pct=True)[-1])\n",
    "        data['alpha_t4'] = -data['alpha_t4'].rolling(4).mean() * data['close_r']\n",
    "        return data\n",
    "    \n",
    "    df['close_r'] = df.groupby('ts_code')['close'].apply(lambda x: x.rolling(4).mean())\n",
    "    df['close_r'] = df.groupby('trade_date')['close_r'].rank(pct=True)\n",
    "    df = my_groupby(df, 'ts_code', cal1_)\n",
    "    df = df.drop(columns=['close_r'])\n",
    "    return df\n",
    "\n",
    "universe = alpha_t4(universe)"
   ]
  },
  {
   "cell_type": "code",
   "execution_count": null,
   "id": "a7885749",
   "metadata": {},
   "outputs": [],
   "source": [
    "def alpha026(df):\n",
    "    ####((((SUM(CLOSE, 7) / 7) - CLOSE)) + ((CORR(VWAP, DELAY(CLOSE, 5), 230))))###\n",
    "    def cal_(df):\n",
    "        df['section1'] = df['close'].rolling(7).mean() - df['close']\n",
    "        df['section2'] = df['close'].shift(5)\n",
    "        df['section2'] = Corr(df[['vwap', 'section2']], 20)\n",
    "        df['alpha_026'] = df['section1'] + df['section2']\n",
    "        return df\n",
    "\n",
    "    df = my_groupby(df, 'ts_code', cal_)\n",
    "    df = df.drop(columns=['section1', 'section2'])\n",
    "    return df\n",
    "\n",
    "universe = alpha026(universe) "
   ]
  },
  {
   "cell_type": "code",
   "execution_count": null,
   "id": "325aa551",
   "metadata": {},
   "outputs": [],
   "source": [
    "def alpha016(df):\n",
    "    ####(-1 * TSMAX(RANK(CORR(RANK(VOLUME), RANK(VWAP), 5)), 5))###\n",
    "    def cal_(data):\n",
    "        data['section1'] = (data['volume'] - data['volume'].shift(1))/data['volume'].shift(1)\n",
    "        return data\n",
    "    df = my_groupby(df, 'ts_code', cal_)\n",
    "    df[['section1', 'section2']] = df.groupby('trade_date')[['section1', 'vwap']].rank(method='min', pct=True)    \n",
    "    df_all = pd.DataFrame()\n",
    "    for ts_code in tqdm(df.ts_code.unique(), desc='alpha016 processing...'):\n",
    "        tmp = df.loc[df.ts_code == ts_code]\n",
    "        tmp['alpha_016'] = -Corr(tmp[['section1', 'section2']], 6)['corr']\n",
    "        df_all = df_all.append(tmp)\n",
    "        \n",
    "    df_all = df_all.drop(columns=['section1', 'section2']).sort_values(by=['date', 'ts_code'])\n",
    "    return df_all\n",
    "\n",
    "universe = alpha016(universe) "
   ]
  },
  {
   "cell_type": "code",
   "execution_count": null,
   "id": "0095c861",
   "metadata": {},
   "outputs": [],
   "source": [
    "alpha = Alpha191(universe, None, True)"
   ]
  },
  {
   "cell_type": "code",
   "execution_count": null,
   "id": "1117c8ae",
   "metadata": {},
   "outputs": [],
   "source": [
    "universe = alpha.alpha007(alpha.df)"
   ]
  },
  {
   "cell_type": "code",
   "execution_count": null,
   "id": "9c0576b0",
   "metadata": {},
   "outputs": [],
   "source": [
    "universe = alpha.alpha009(alpha.df)"
   ]
  },
  {
   "cell_type": "code",
   "execution_count": null,
   "id": "4eeb4b0e",
   "metadata": {},
   "outputs": [],
   "source": [
    "universe = alpha.alpha010(alpha.df)"
   ]
  },
  {
   "cell_type": "code",
   "execution_count": null,
   "id": "345ac440",
   "metadata": {},
   "outputs": [],
   "source": [
    "universe = alpha.alpha012(alpha.df)"
   ]
  },
  {
   "cell_type": "code",
   "execution_count": null,
   "id": "a562db99",
   "metadata": {},
   "outputs": [],
   "source": [
    "universe = alpha.alpha015(alpha.df)"
   ]
  },
  {
   "cell_type": "code",
   "execution_count": null,
   "id": "0fc05aa4",
   "metadata": {},
   "outputs": [],
   "source": [
    "universe = alpha.alpha017(alpha.df)"
   ]
  },
  {
   "cell_type": "code",
   "execution_count": null,
   "id": "78986e06",
   "metadata": {},
   "outputs": [],
   "source": [
    "universe = alpha.alpha018(alpha.df)"
   ]
  },
  {
   "cell_type": "code",
   "execution_count": null,
   "id": "7cd3a0dc",
   "metadata": {},
   "outputs": [],
   "source": [
    "universe = alpha.alpha019(alpha.df)"
   ]
  },
  {
   "cell_type": "code",
   "execution_count": null,
   "id": "a385176a",
   "metadata": {},
   "outputs": [],
   "source": [
    "def alpha021(df):\n",
    "    def cal_(df):\n",
    "        df['alpha_021'] = Regbeta(df['close'].rolling(6).mean(), Sequence(6))\n",
    "        return df\n",
    "\n",
    "    df = my_groupby(df, 'ts_code', cal_)\n",
    "    return df\n",
    "\n",
    "universe = alpha021(universe) \n",
    "alpha.df = universe.copy(deep=True)"
   ]
  },
  {
   "cell_type": "code",
   "execution_count": null,
   "id": "395dbe65",
   "metadata": {},
   "outputs": [],
   "source": [
    "def alpha029(df):\n",
    "    def cal_(df):\n",
    "        df['alpha_029'] = (df['close'] - df['low'].shift(3))/(df['volume'].rolling(3).mean())\n",
    "        return df\n",
    "    \n",
    "    df = my_groupby(df, 'ts_code', cal_)\n",
    "    return df\n",
    "\n",
    "universe = alpha029(universe) \n",
    "alpha.df = universe.copy(deep=True)"
   ]
  },
  {
   "cell_type": "code",
   "execution_count": null,
   "id": "e3691676",
   "metadata": {},
   "outputs": [],
   "source": [
    "universe = alpha.alpha022(alpha.df)"
   ]
  },
  {
   "cell_type": "code",
   "execution_count": null,
   "id": "5287a223",
   "metadata": {},
   "outputs": [],
   "source": [
    "universe = alpha.alpha028(alpha.df)"
   ]
  },
  {
   "cell_type": "code",
   "execution_count": null,
   "id": "ca43e831",
   "metadata": {},
   "outputs": [],
   "source": [
    "universe = alpha.alpha040(alpha.df)"
   ]
  },
  {
   "cell_type": "code",
   "execution_count": null,
   "id": "3b83bd1d",
   "metadata": {},
   "outputs": [],
   "source": [
    "universe = alpha.alpha044(alpha.df)"
   ]
  },
  {
   "cell_type": "code",
   "execution_count": null,
   "id": "5ff95e4b",
   "metadata": {},
   "outputs": [],
   "source": [
    "def alpha077(df):\n",
    "    def cal_(df):\n",
    "        df['alpha_077'] = (df['high'] + df['low']) / 2 - df['vwap']\n",
    "        df['alpha_077'] = Decaylinear(df['alpha_077'], 12)\n",
    "        return df\n",
    "    \n",
    "    df = my_groupby(df, 'ts_code', cal_)\n",
    "    return df\n",
    "\n",
    "universe = alpha077(universe) \n",
    "alpha.df = universe.copy(deep=True)"
   ]
  },
  {
   "cell_type": "code",
   "execution_count": null,
   "id": "055900e2",
   "metadata": {},
   "outputs": [],
   "source": [
    "universe = alpha.alpha078(alpha.df)"
   ]
  },
  {
   "cell_type": "code",
   "execution_count": null,
   "id": "404db7de",
   "metadata": {},
   "outputs": [],
   "source": [
    "universe = alpha.alpha083(alpha.df)"
   ]
  },
  {
   "cell_type": "code",
   "execution_count": null,
   "id": "478bce08",
   "metadata": {},
   "outputs": [],
   "source": [
    "universe = alpha.alpha089(alpha.df) #"
   ]
  },
  {
   "cell_type": "code",
   "execution_count": null,
   "id": "a15a4c35",
   "metadata": {},
   "outputs": [],
   "source": [
    "universe = alpha.alpha101(alpha.df)"
   ]
  },
  {
   "cell_type": "code",
   "execution_count": null,
   "id": "1276c82a",
   "metadata": {},
   "outputs": [],
   "source": [
    "universe = alpha.alpha110(alpha.df) #"
   ]
  },
  {
   "cell_type": "code",
   "execution_count": null,
   "id": "d08cae80",
   "metadata": {},
   "outputs": [],
   "source": [
    "universe = alpha.alpha111(alpha.df)"
   ]
  },
  {
   "cell_type": "code",
   "execution_count": null,
   "id": "d021d1b6",
   "metadata": {},
   "outputs": [],
   "source": [
    "universe = alpha.alpha112(alpha.df)"
   ]
  },
  {
   "cell_type": "code",
   "execution_count": null,
   "id": "06f2c765",
   "metadata": {},
   "outputs": [],
   "source": [
    "universe = alpha.alpha122(alpha.df) #"
   ]
  },
  {
   "cell_type": "code",
   "execution_count": null,
   "id": "f4e9dfc1",
   "metadata": {},
   "outputs": [],
   "source": [
    "universe = alpha.alpha176(alpha.df) #"
   ]
  },
  {
   "cell_type": "code",
   "execution_count": null,
   "id": "ac5bbe15",
   "metadata": {},
   "outputs": [],
   "source": [
    "universe = alpha.alpha190(alpha.df) #"
   ]
  },
  {
   "cell_type": "code",
   "execution_count": null,
   "id": "3a73c95b",
   "metadata": {},
   "outputs": [],
   "source": [
    "alpha.df = universe.copy(deep=True)\n",
    "bak = universe.copy(deep=True)"
   ]
  },
  {
   "cell_type": "code",
   "execution_count": null,
   "id": "4c11adfa",
   "metadata": {},
   "outputs": [],
   "source": [
    "universe.columns"
   ]
  },
  {
   "cell_type": "code",
   "execution_count": null,
   "id": "368e5101",
   "metadata": {},
   "outputs": [],
   "source": [
    "#universe.to_csv('factor_data/final_bitcon.csv')\n",
    "universe.reset_index().to_feather('bitcoin_data/factors_20220301_20230527.feather')"
   ]
  },
  {
   "cell_type": "code",
   "execution_count": 3,
   "id": "e0c1d5e4",
   "metadata": {},
   "outputs": [
    {
     "data": {
      "text/plain": [
       "(363909, 69)"
      ]
     },
     "execution_count": 3,
     "metadata": {},
     "output_type": "execute_result"
    }
   ],
   "source": [
    "universe = pd.read_feather('bitcoin_data/factors_20220301_20230527.feather')\n",
    "universe = universe.set_index(['date']).sort_values(by=['date', 'ts_code'])\n",
    "universe = universe.loc[universe.index<='2023-05-25 23:00:00']\n",
    "universe.shape"
   ]
  },
  {
   "cell_type": "markdown",
   "id": "0a57dacb",
   "metadata": {},
   "source": [
    "### 因子评估"
   ]
  },
  {
   "cell_type": "code",
   "execution_count": 4,
   "id": "2f334cb9",
   "metadata": {},
   "outputs": [],
   "source": [
    "factor_names = [\n",
    "        'alpha_kama2','alpha_atr', 'alpha_wt', 'alpha_wtr', 'alpha_cci', 'alpha_srsi','alpha_rsi', \n",
    "        'alpha_ppo', 'alpha_supertrend', 'alpha_kama', 'alpha_t1', 'alpha_t2', 'alpha_t3', 'alpha_t4',\n",
    "        'alpha_026', 'alpha_007', 'alpha_009', 'alpha_010', 'alpha_077', 'alpha_101', 'alpha_111',\n",
    "        'alpha_012', 'alpha_015', 'alpha_016', 'alpha_017', 'alpha_018',\n",
    "        'alpha_019', 'alpha_021', 'alpha_029', 'alpha_022', 'alpha_028',\n",
    "        'alpha_044', 'alpha_078', 'alpha_083', 'alpha_112', 'alpha_040',\n",
    "        'alpha_089', 'alpha_110', 'alpha_122', 'alpha_176', 'alpha_190'\n",
    "        ]"
   ]
  },
  {
   "cell_type": "code",
   "execution_count": 5,
   "id": "c1058b5e",
   "metadata": {},
   "outputs": [],
   "source": [
    "def rescale_(data, zscore_features=factor_names):\n",
    "    data[factor_names] = data[factor_names].apply(zscore)\n",
    "    # resize from -1 to 1\n",
    "    for feature in zscore_features:\n",
    "        max_val = data[feature].median() + 3*data[feature].std()\n",
    "        min_val = data[feature].median() - 3*data[feature].std()\n",
    "        data[feature] = np.where(data[feature]>max_val, max_val, \n",
    "                               np.where(data[feature]<min_val, min_val, data[feature]))\n",
    "        #data[feature] = (data[feature] - data[feature].mean())/data[feature].std()\n",
    "        #data[feature] = np.where(data[feature]>0, data[feature]/data[feature].max(),\n",
    "                                 #np.where(data[feature]<0, data[feature]/(-data[feature].min()), 0.))\n",
    "    return data\n",
    "\n",
    "universe = universe.replace([np.inf, -np.inf], np.nan)\n",
    "universe = universe.fillna(0.)\n",
    "\n",
    "universe[factor_names] = universe.groupby('trade_date')[factor_names].apply(rescale_)\n",
    "universe[factor_names] = universe[factor_names]/3.3\n",
    "universe = universe.sort_values(by=['date','ts_code'])"
   ]
  },
  {
   "cell_type": "code",
   "execution_count": 10,
   "id": "1ffdd818",
   "metadata": {},
   "outputs": [
    {
     "data": {
      "text/plain": [
       "<AxesSubplot:>"
      ]
     },
     "execution_count": 10,
     "metadata": {},
     "output_type": "execute_result"
    },
    {
     "data": {
      "image/png": "[encoded data removed]",
      "text/plain": [
       "<Figure size 900x500 with 1 Axes>"
      ]
     },
     "metadata": {},
     "output_type": "display_data"
    }
   ],
   "source": [
    "#universe = universe.loc[universe.index<='2023-05-25 23:00:00']\n",
    "universe['alpha_atr'].hist()"
   ]
  },
  {
   "cell_type": "markdown",
   "id": "eae80fdf",
   "metadata": {},
   "source": [
    "### 构造评估数据"
   ]
  },
  {
   "cell_type": "code",
   "execution_count": 7,
   "id": "34e4110a",
   "metadata": {},
   "outputs": [
    {
     "name": "stdout",
     "output_type": "stream",
     "text": [
      "(363909, 69) (363909, 70)\n"
     ]
    }
   ],
   "source": [
    "all_factors = universe.copy(deep=True)\n",
    "def return_handle(df):\n",
    "    df['returns_2'] = df['log-ret'].shift(-1)\n",
    "    return df\n",
    "all_factors = all_factors.groupby('ts_code').apply(return_handle)\n",
    "all_factors = all_factors.replace([np.inf, -np.inf], np.nan).fillna(0.).sort_values(by=['date', 'ts_code'])\n",
    "print(universe.shape, all_factors.shape)"
   ]
  },
  {
   "cell_type": "code",
   "execution_count": 8,
   "id": "ec465108",
   "metadata": {},
   "outputs": [],
   "source": [
    "def keep_top_bottom(df, features, bottom=0.35, top=0.65):\n",
    "    def cal_(data):\n",
    "        for feature in features:\n",
    "            tv = data[feature].quantile(top)\n",
    "            bv = data[feature].quantile(bottom)\n",
    "            data[feature] = pd.Series(np.where(data[feature]>=tv, data[feature], \n",
    "                                               np.where(data[feature]<=bv, data[feature], 0)), index=data.index)\n",
    "        return data\n",
    "    \n",
    "    all_df = pd.DataFrame()\n",
    "    for dt in tqdm(df.index.unique()):\n",
    "        tmp = df.loc[df.index == dt]\n",
    "        all_df = all_df.append(cal_(tmp))\n",
    "    return all_df.sort_values(by=['date', 'ts_code'])\n",
    "\n",
    "\n",
    "def wins(x,a,b):\n",
    "    return np.where(x <= a,a, np.where(x >= b, b, x))\n",
    "\n",
    "def get_formula(factors, Y):\n",
    "    L = [\"0\"]\n",
    "    L.extend(factors)\n",
    "    return Y + \" ~ \" + \" + \".join(L)\n",
    "\n",
    "def factors_from_names(n, name):\n",
    "    return list(filter(lambda x: name in x, n))\n",
    "\n",
    "def estimate_factor_returns(df, name='alpha_'): \n",
    "    ## winsorize returns for fitting \n",
    "    estu = df.copy(deep=True)\n",
    "    estu['returns_2'] = wins(estu['returns_2'], -0.2, 0.2)\n",
    "    #all_factors = factors_from_names(list(df), name)\n",
    "    results = pd.Series()\n",
    "    for factor_name in factor_names:\n",
    "        form = get_formula([factor_name], \"returns_2\")\n",
    "        model = ols(form, data=estu)\n",
    "        result = model.fit()\n",
    "        results = results.append(result.params)\n",
    "    return results"
   ]
  },
  {
   "cell_type": "code",
   "execution_count": 9,
   "id": "ceda417e",
   "metadata": {},
   "outputs": [
    {
     "name": "stderr",
     "output_type": "stream",
     "text": [
      "100%|█████████████████████████████████████| 10607/10607 [21:23<00:00,  8.26it/s]\n"
     ]
    }
   ],
   "source": [
    "alpha_field  = [\n",
    "        'alpha_kama2','alpha_atr', 'alpha_wt', 'alpha_wtr', 'alpha_cci', 'alpha_srsi','alpha_rsi', \n",
    "        'alpha_ppo', 'alpha_supertrend', 'alpha_kama', 'alpha_t1', 'alpha_t2', 'alpha_t3', 'alpha_t4',\n",
    "        'alpha_026', 'alpha_007', 'alpha_009', 'alpha_010', 'alpha_077', 'alpha_101', 'alpha_111',\n",
    "        'alpha_012', 'alpha_015', 'alpha_016', 'alpha_017', 'alpha_018',\n",
    "        'alpha_019', 'alpha_021', 'alpha_029', 'alpha_022', 'alpha_028',\n",
    "        'alpha_044', 'alpha_078', 'alpha_083', 'alpha_112', 'alpha_040',\n",
    "        'alpha_089', 'alpha_110', 'alpha_122', 'alpha_176', 'alpha_190'    \n",
    "]\n",
    "\n",
    "base_field = ['ts_code', 'log-ret', 'open', 'high', 'low', 'close', 'volume', 'vwap','trade_date']\n",
    "date_and_code = [ 'ts_code', 'returns_2']\n",
    "\n",
    "start_time = '2022-03-10 00:00:00'\n",
    "alpha_df = all_factors[factor_names + date_and_code].copy(deep=True)\n",
    "alpha_df = alpha_df.loc[alpha_df.index>=start_time]\n",
    "calendar = alpha_df.index.unique() # int64\n",
    "\n",
    "alpha_df = keep_top_bottom(alpha_df, alpha_field)"
   ]
  },
  {
   "cell_type": "code",
   "execution_count": 15,
   "id": "41805961",
   "metadata": {},
   "outputs": [
    {
     "data": {
      "text/plain": [
       "<AxesSubplot:>"
      ]
     },
     "execution_count": 15,
     "metadata": {},
     "output_type": "execute_result"
    },
    {
     "data": {
      "image/png": "[encoded data removed]",
      "text/plain": [
       "<Figure size 900x500 with 1 Axes>"
      ]
     },
     "metadata": {},
     "output_type": "display_data"
    }
   ],
   "source": [
    "alpha_df['alpha_atr'].hist()"
   ]
  },
  {
   "cell_type": "markdown",
   "id": "a88acfef",
   "metadata": {},
   "source": [
    "### 方法1\n",
    "线性回归评估"
   ]
  },
  {
   "cell_type": "code",
   "execution_count": null,
   "id": "1b6e8926",
   "metadata": {},
   "outputs": [],
   "source": [
    "### ols to estimate \n",
    "facret = {}\n",
    "for dt in tqdm(calendar, desc='regression factor returns'):\n",
    "    facret[dt] = estimate_factor_returns(alpha_df.loc[alpha_df.index==dt])"
   ]
  },
  {
   "cell_type": "code",
   "execution_count": null,
   "id": "5f3ad584",
   "metadata": {},
   "outputs": [],
   "source": [
    "### plot\n",
    "date_list = alpha_df.index.unique()\n",
    "facret_df = pd.DataFrame(index = date_list)\n",
    "\n",
    "for ii, dt in zip(calendar,date_list): \n",
    "    for alp in alpha_field: \n",
    "        facret_df.at[dt, alp] = facret[ii][alp]\n",
    "\n",
    "for column in facret_df.columns:\n",
    "    plt.plot(facret_df[column].cumsum(), label=column)\n",
    "    #plt.plot(facret_df[column], label=column)\n",
    "plt.legend(loc='upper left')\n",
    "plt.xlabel('Date')\n",
    "plt.ylabel('Cumulative Factor Returns')\n",
    "plt.show()"
   ]
  },
  {
   "cell_type": "markdown",
   "id": "6cea5551",
   "metadata": {},
   "source": [
    "### 方法2\n",
    "归一化回报率评估"
   ]
  },
  {
   "cell_type": "code",
   "execution_count": 12,
   "id": "e0cdb336",
   "metadata": {},
   "outputs": [
    {
     "name": "stderr",
     "output_type": "stream",
     "text": [
      "100%|█████████████████████████████████████| 10607/10607 [14:20<00:00, 12.33it/s]\n"
     ]
    }
   ],
   "source": [
    "leverage = 5\n",
    "df = pd.DataFrame(index=alpha_df.index.unique())\n",
    "for dt in tqdm(alpha_df.index.unique()):\n",
    "    for feature in alpha_field:\n",
    "        tmp = alpha_df.loc[alpha_df.index == dt]\n",
    "        df.at[dt, feature] = (tmp['returns_2'] * tmp[feature]).sum()/(tmp[feature].abs().sum()) * leverage"
   ]
  },
  {
   "cell_type": "code",
   "execution_count": 43,
   "id": "02dfdc18",
   "metadata": {},
   "outputs": [
    {
     "data": {
      "text/plain": [
       "<AxesSubplot:xlabel='date'>"
      ]
     },
     "execution_count": 43,
     "metadata": {},
     "output_type": "execute_result"
    },
    {
     "data": {
      "image/png": "[encoded data removed]",
      "text/plain": [
       "<Figure size 900x500 with 1 Axes>"
      ]
     },
     "metadata": {},
     "output_type": "display_data"
    }
   ],
   "source": [
    "### plot\n",
    "## atr need bias 0.2\n",
    "## excellent negative 'alpha_022', 'alpha_019', 'alpha_rsi', 'alpha_cci', 'alpha_srsi', 'alpha_wt', \n",
    "##                    'alpha_t1', 'alpha_t2', 'alpha_t3', 'alpha_021', 'alpha_022', 'alpha_078', \n",
    "\n",
    "## excellent positive 'alpha_019', 'alpha_018', 'alpha_111', 'alpha_040',\n",
    "\n",
    "nagative_field = ['alpha_rsi', 'alpha_cci', 'alpha_srsi', 'alpha_wt', 'alpha_t1', 'alpha_t2', 'alpha_t3',\n",
    "                 'alpha_022', 'alpha_029', 'alpha_028', 'alpha_021', 'alpha_078', 'alpha_112', 'alpha_028']\n",
    "positive_filed = ['alpha_t4', 'alpha_111', 'alpha_012', 'alpha_018', 'alpha_019', 'alpha_040', 'alpha_190']\n",
    "\n",
    "display_field  = ['alpha_t3', 'alpha_018', 'alpha_t2', 'alpha_t1', 'alpha_rsi', 'alpha_022', 'alpha_019', ]\n",
    "df[display_field].cumsum().plot()"
   ]
  },
  {
   "cell_type": "code",
   "execution_count": 45,
   "id": "a93027a2",
   "metadata": {},
   "outputs": [
    {
     "data": {
      "text/plain": [
       "alpha_t3    -4.982482\n",
       "alpha_018    4.729542\n",
       "alpha_t2    -4.622000\n",
       "alpha_t1    -4.147482\n",
       "alpha_rsi   -4.363981\n",
       "alpha_022   -3.158332\n",
       "alpha_019    3.429009\n",
       "dtype: float64"
      ]
     },
     "execution_count": 45,
     "metadata": {},
     "output_type": "execute_result"
    }
   ],
   "source": [
    "# sharp ratio\n",
    "np.sqrt(12*252) * df[display_field].mean()/ df[display_field].std()"
   ]
  },
  {
   "cell_type": "markdown",
   "id": "97c111ee",
   "metadata": {},
   "source": [
    "### 方法3\n",
    "alphalens estimate"
   ]
  },
  {
   "cell_type": "code",
   "execution_count": null,
   "id": "8a8caf91",
   "metadata": {},
   "outputs": [],
   "source": [
    "universe = universe.sort_values(by=['date','ts_code'])\n",
    "universe_est = universe.copy(deep=True)\n",
    "universe_est.index.unique()"
   ]
  },
  {
   "cell_type": "code",
   "execution_count": null,
   "id": "20f91675",
   "metadata": {},
   "outputs": [],
   "source": [
    "# dates = pd.date_range(end=pd.to_datetime('2023-03-29 00:00:00', format='%Y-%m-%d %H:%M:%S'), \n",
    "#                       periods=len(universe_est.index.unique()), freq='D')\n",
    "dates = pd.date_range(end=pd.Timestamp('2023-03-28 00:00:00'), \n",
    "                      periods=len(universe_est.index.unique()), freq='D')\n",
    "dates"
   ]
  },
  {
   "cell_type": "code",
   "execution_count": null,
   "id": "61c95cc6",
   "metadata": {},
   "outputs": [],
   "source": [
    "df = pd.DataFrame()\n",
    "for ts_code in universe_est.ts_code.unique():\n",
    "    tmp = universe_est.loc[universe_est.ts_code==ts_code]\n",
    "    tmp['fake_date'] = dates[(len(universe_est.index.unique()) - tmp.shape[0]):]\n",
    "    df = df.append(tmp)\n",
    "df = df.sort_values(by=['date','ts_code'])"
   ]
  },
  {
   "cell_type": "code",
   "execution_count": null,
   "id": "b32f72ca",
   "metadata": {},
   "outputs": [],
   "source": [
    "#factor_names = ['alpha_078', 'alpha_019','alpha_022', 'alpha_AI', 'returns_2', 'residual']\n",
    "all_factors = df.copy(deep=True)\\\n",
    "            [factor_names + ['fake_date','ts_code','close', 'log-ret']]\n",
    "all_factors.reset_index(drop=True, inplace=True)\n",
    "#all_factors['date'] = pd.to_datetime(all_factors['fake_date'], format='%Y-%m-%d')\n",
    "all_factors['date'] = all_factors['fake_date'].apply(lambda x: pd.Timestamp(x))\n",
    "all_factors = all_factors.set_index(['date','ts_code']).sort_values(by=['date', 'ts_code'])\n",
    "print(all_factors.shape)"
   ]
  },
  {
   "cell_type": "code",
   "execution_count": null,
   "id": "45e0195b",
   "metadata": {},
   "outputs": [],
   "source": [
    "import alphalens as al\n",
    "from scipy.stats import zscore\n",
    "import helper.project_helper as ph\n",
    "\n",
    "shift_day = -1\n",
    "tmp = df.copy(deep=True)\n",
    "tmp['close'] = tmp.groupby('ts_code')['close'].shift(shift_day)\n",
    "all_pricing = tmp.reset_index().pivot(index='fake_date', columns='ts_code', values='close')\n",
    "#all_pricing = all_pricing.loc[all_pricing.index[::5]]\n",
    "\n",
    "def show_sample_results(factors_with_alpha, features, pricing=all_pricing, holding_time=1):\n",
    "    factors_with_alpha = factors_with_alpha[features]\n",
    "    \n",
    "    # Setup data for AlphaLens\n",
    "    print('Cleaning Data...\\n')\n",
    "    factor_data = ph.build_factor_data(factors_with_alpha, pricing, holding_time=holding_time)\n",
    "    print('\\n-----------------------\\n')\n",
    "    \n",
    "    # Calculate Factor Returns and Sharpe Ratio\n",
    "    factor_returns = ph.get_factor_returns(factor_data)\n",
    "    sharpe_ratio = np.sqrt(252 * 12) * factor_returns.mean() / factor_returns.std()\n",
    "    \n",
    "    # Show Results\n",
    "    print('             Sharpe Ratios')\n",
    "    print(sharpe_ratio.round(2))\n",
    "    ph.plot_factor_returns(factor_returns)\n",
    "    ph.plot_factor_rank_autocorrelation(factor_data)\n",
    "    \n",
    "    qr_factor_returns = pd.DataFrame()\n",
    "    for factor, factor_data in factor_data.items():\n",
    "        qr_factor_returns[factor] = al.performance.mean_return_by_quantile(factor_data)[0]\n",
    "\n",
    "    (10000*qr_factor_returns).plot.bar(\n",
    "        subplots=True,\n",
    "        sharey=True,\n",
    "        layout=(8,2),\n",
    "        figsize=(12, 8),\n",
    "        legend=False)\n",
    "\n",
    "#all_pricing.head()"
   ]
  },
  {
   "cell_type": "code",
   "execution_count": null,
   "id": "03525f36",
   "metadata": {
    "scrolled": false
   },
   "outputs": [],
   "source": [
    "features = [\n",
    "       #'alpha_wtr', 'alpha_ppo', 'alpha_112',  'alpha_kama2',  'alpha_028', 'alpha_083', 'alpha_rsi',\n",
    "        'alpha_028',\n",
    "        ]\n",
    "cond1 = all_factors['fake_date']>'2008-08-01'\n",
    "cond2 = all_factors['fake_date']<'2023-03-30'\n",
    "eva_df = all_factors.loc[cond1 & cond2]\n",
    "show_sample_results(eva_df, features, pricing=all_pricing, holding_time=1)"
   ]
  },
  {
   "cell_type": "code",
   "execution_count": null,
   "id": "901c2da1",
   "metadata": {},
   "outputs": [],
   "source": [
    "test = all_factors.loc[all_factors.index.get_level_values(0)>'2016-04-01']\n",
    "factor_data = ph.build_factor_data(test[['alpha_028', 'alpha_ppo', 'alpha_112']], \n",
    "                                   all_pricing, holding_time=6)\n",
    "#al.tears.create_returns_tear_sheet(factor_data['alpha_atr'], long_short=False, group_neutral=False, by_group=False)"
   ]
  },
  {
   "cell_type": "code",
   "execution_count": null,
   "id": "18d4b04c",
   "metadata": {},
   "outputs": [],
   "source": [
    "al.tears.create_information_tear_sheet(factor_data['alpha_028'])"
   ]
  },
  {
   "cell_type": "markdown",
   "id": "6045cee4",
   "metadata": {},
   "source": [
    "### save result"
   ]
  },
  {
   "cell_type": "code",
   "execution_count": null,
   "id": "bf207f9c",
   "metadata": {},
   "outputs": [],
   "source": [
    "features = ['ts_code', 'log-ret', 'open', 'high', 'low', 'close', 'volume',  'vwap','trade_date', \n",
    "           'alpha_wtr', 'alpha_ppo', 'alpha_112',  'alpha_kama2',  'alpha_028', 'alpha_083', 'alpha_rsi',\n",
    "           ]\n",
    "\n",
    "save_date = universe.loc[universe.index>='2022-02-01 00:00:00']\n",
    "save_date[features].reset_index().to_feather('bitcoin_data/36_zscore.feather')"
   ]
  },
  {
   "cell_type": "code",
   "execution_count": null,
   "id": "cc8d8b2e",
   "metadata": {},
   "outputs": [],
   "source": [
    "save_date[features].index.unique()"
   ]
  },
  {
   "cell_type": "code",
   "execution_count": null,
   "id": "1318a522",
   "metadata": {},
   "outputs": [],
   "source": []
  }
 ],
 "metadata": {
  "kernelspec": {
   "display_name": "py37",
   "language": "python",
   "name": "py37"
  },
  "language_info": {
   "codemirror_mode": {
    "name": "ipython",
    "version": 3
   },
   "file_extension": ".py",
   "mimetype": "text/x-python",
   "name": "python",
   "nbconvert_exporter": "python",
   "pygments_lexer": "ipython3",
   "version": "3.7.12"
  }
 },
 "nbformat": 4,
 "nbformat_minor": 5
}
