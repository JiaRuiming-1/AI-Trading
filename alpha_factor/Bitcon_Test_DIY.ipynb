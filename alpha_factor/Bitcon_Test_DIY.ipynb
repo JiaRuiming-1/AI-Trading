{
 "cells": [
  {
   "cell_type": "code",
   "execution_count": 1,
   "id": "e24f45f4",
   "metadata": {},
   "outputs": [],
   "source": [
    "import pandas as pd \n",
    "import numpy as np\n",
    "from tqdm import tqdm\n",
    "from scipy.stats import zscore, spearmanr, rankdata\n",
    "from statsmodels.formula.api import ols\n",
    "import math\n",
    "\n",
    "from matplotlib import pyplot as plt\n",
    "%matplotlib inline\n",
    "plt.rcParams['figure.figsize'] = [9, 5]\n",
    "\n",
    "import os\n",
    "import sys\n",
    "sys.path.append('../')\n",
    "from alpha_191 import Alpha191\n",
    "\n",
    "import warnings\n",
    "warnings.filterwarnings('ignore')\n",
    "\n",
    "import feather"
   ]
  },
  {
   "cell_type": "markdown",
   "id": "2d466880",
   "metadata": {},
   "source": [
    "### 读取自存数据"
   ]
  },
  {
   "cell_type": "code",
   "execution_count": null,
   "id": "c5bba385",
   "metadata": {},
   "outputs": [],
   "source": [
    "universe = feather.read_dataframe('bitcoin_data/raw36_20220301_now.feather')\n",
    "universe = universe.drop(columns=['close time'])\n",
    "#universe['date'] = pd.to_datetime(universe['date'],format='%Y-%m-%d %H:%M:%S')\n",
    "universe = universe.set_index(['date']).sort_values(by=['date', 'ts_code'])"
   ]
  },
  {
   "cell_type": "code",
   "execution_count": null,
   "id": "8f6aa617",
   "metadata": {},
   "outputs": [],
   "source": [
    "#universe.loc[universe.ts_code=='BTCUSDT'].head(10)\n",
    "universe = universe.loc[universe.index >= '2022-06-01 00:00:00']"
   ]
  },
  {
   "cell_type": "code",
   "execution_count": null,
   "id": "a33a4251",
   "metadata": {},
   "outputs": [],
   "source": [
    "universe['vwap'] = universe['amount']/universe['volume']\n",
    "universe = universe.rename(columns={'open':'open_usdt', 'high':'high_usdt', 'low':'low_usdt', \n",
    "                                    'close':'close_usdt', 'vwap':'vwap_usdt'})"
   ]
  },
  {
   "cell_type": "code",
   "execution_count": null,
   "id": "55dc8a82",
   "metadata": {},
   "outputs": [],
   "source": [
    "def my_groupby(df, column, func, sort_keys=['date', 'ts_code']):\n",
    "    all_df = pd.DataFrame()\n",
    "    for val in tqdm(df[column].unique()):\n",
    "        tmp = df.loc[df[column] == val]\n",
    "        all_df = all_df.append(func(tmp))\n",
    "    return all_df.sort_index(level=sort_keys)"
   ]
  },
  {
   "cell_type": "code",
   "execution_count": null,
   "id": "932602ac",
   "metadata": {},
   "outputs": [],
   "source": [
    "def convert_price_to_returns(df):\n",
    "    def cal_(data):\n",
    "        data['close'] = data['close_usdt'].pct_change()\n",
    "        data['close'] = (data['close'].fillna(0) + 1).cumprod()\n",
    "        data['vwap'] = data['vwap_usdt'].pct_change()\n",
    "        data['vwap'] = (data['vwap'].fillna(0) + 1).cumprod()\n",
    "        \n",
    "        for feature in ['open', 'high', 'low',]:\n",
    "            data[feature] = data[feature + '_usdt']/data['close_usdt'] * data['close']\n",
    "        return data\n",
    "    \n",
    "    df = my_groupby(df, 'ts_code', cal_)\n",
    "    return df\n",
    "\n",
    "universe = convert_price_to_returns(universe)"
   ]
  },
  {
   "cell_type": "code",
   "execution_count": null,
   "id": "0a2b670c",
   "metadata": {},
   "outputs": [],
   "source": [
    "universe['trade_date'] = universe.index\n",
    "universe = universe.loc[universe.ts_code!='TUSDUSDT'].sort_values(by=['date', 'ts_code'])"
   ]
  },
  {
   "cell_type": "code",
   "execution_count": null,
   "id": "f251a097",
   "metadata": {},
   "outputs": [],
   "source": [
    "# tmp = universe.loc[(universe.ts_code=='BTCUSDT') & (universe.index>'2023-05-25 00:00:00')]\n",
    "# tmp[['close']] = tmp[['close']].apply(zscore)\n",
    "# #universe\n",
    "# tmp[['ppo', 'ppos', 'close']].plot(grid=True)\n",
    "universe.ts_code.unique()"
   ]
  },
  {
   "cell_type": "markdown",
   "id": "7e874ced",
   "metadata": {},
   "source": [
    "### 构造技术指标为alpha"
   ]
  },
  {
   "cell_type": "code",
   "execution_count": null,
   "id": "f80e5fc9",
   "metadata": {},
   "outputs": [],
   "source": [
    "import stockstats\n",
    "\n",
    "class IndicatorHelper(pd.DataFrame):\n",
    "    \"\"\"\n",
    "        add indicators to dataframe\n",
    "    \"\"\"\n",
    "\n",
    "    def __init__(self, data):\n",
    "        super(IndicatorHelper, self).__init__(data)\n",
    "\n",
    "        self.stocks = stockstats.StockDataFrame.retype(data.copy())\n",
    "        self.df = self\n",
    "\n",
    "    def add_technical_indicator(self, tech_indicator_list):\n",
    "        \"\"\"\n",
    "        calculate technical indicators\n",
    "        use stockstats package to add technical inidactors\n",
    "        :param ticker: (df) pandas dataframe\n",
    "        :param tech_indeicator_list list\n",
    "        :return: (df) pandas dataframe\n",
    "        \"\"\"\n",
    "        unique_ticker = self.df.ts_code.unique()\n",
    "\n",
    "        indicator_df = pd.DataFrame()\n",
    "        for i in tqdm(range(len(unique_ticker)), desc='add tech indicators'):\n",
    "            temp_indicator = self.stocks[self.stocks.ts_code == unique_ticker[i]]\n",
    "            temp_indicator = temp_indicator[tech_indicator_list + ['ts_code', 'trade_date']]\n",
    "            indicator_df = indicator_df.append(temp_indicator, ignore_index=True)\n",
    "        \n",
    "        self.df = self.df.merge(indicator_df, on=[\"ts_code\", \"trade_date\"], how=\"left\")\n",
    "        self.df['date'] = self.df['trade_date'].apply(lambda x: pd.Timestamp(x))\n",
    "        self.df = self.df.set_index(['date']).sort_values(\n",
    "                    by=['date', 'ts_code']).drop_duplicates(subset=['trade_date','ts_code'])\n",
    "        return self.df\n",
    "    "
   ]
  },
  {
   "cell_type": "code",
   "execution_count": null,
   "id": "295d8b87",
   "metadata": {},
   "outputs": [],
   "source": [
    "# add tech indicators\n",
    "tech_indicator_list = ['log-ret','wt1', 'wt2','stochrsi_6', 'cci', 'rsi_6', 'wr_6', 'close_10_kama_5_30',\n",
    "                       'ppo', 'ppos', 'macds', 'macd', 'macdh', 'kdjj', 'kdjk', 'kdjd', 'atr', 'supertrend'] \n",
    "universe = IndicatorHelper(universe).add_technical_indicator(tech_indicator_list)"
   ]
  },
  {
   "cell_type": "code",
   "execution_count": null,
   "id": "46c8d5b9",
   "metadata": {},
   "outputs": [],
   "source": [
    "#universe = IndicatorHelper(universe).add_technical_indicator(['close_10_kama_5_30'])"
   ]
  },
  {
   "cell_type": "markdown",
   "id": "32f7b904",
   "metadata": {},
   "source": [
    "### 构造指数"
   ]
  },
  {
   "cell_type": "code",
   "execution_count": 14,
   "id": "833b4cfa",
   "metadata": {},
   "outputs": [
    {
     "data": {
      "text/html": [
       "<div>\n",
       "<style scoped>\n",
       "    .dataframe tbody tr th:only-of-type {\n",
       "        vertical-align: middle;\n",
       "    }\n",
       "\n",
       "    .dataframe tbody tr th {\n",
       "        vertical-align: top;\n",
       "    }\n",
       "\n",
       "    .dataframe thead th {\n",
       "        text-align: right;\n",
       "    }\n",
       "</style>\n",
       "<table border=\"1\" class=\"dataframe\">\n",
       "  <thead>\n",
       "    <tr style=\"text-align: right;\">\n",
       "      <th></th>\n",
       "      <th>close</th>\n",
       "      <th>open</th>\n",
       "      <th>high</th>\n",
       "      <th>low</th>\n",
       "      <th>log-ret</th>\n",
       "    </tr>\n",
       "    <tr>\n",
       "      <th>date</th>\n",
       "      <th></th>\n",
       "      <th></th>\n",
       "      <th></th>\n",
       "      <th></th>\n",
       "      <th></th>\n",
       "    </tr>\n",
       "  </thead>\n",
       "  <tbody>\n",
       "    <tr>\n",
       "      <th>2022-06-01 00:00:00</th>\n",
       "      <td>1.000000</td>\n",
       "      <td>1.000733</td>\n",
       "      <td>1.009610</td>\n",
       "      <td>0.991461</td>\n",
       "      <td>0.000000</td>\n",
       "    </tr>\n",
       "    <tr>\n",
       "      <th>2022-06-01 01:00:00</th>\n",
       "      <td>0.998254</td>\n",
       "      <td>0.999998</td>\n",
       "      <td>1.001838</td>\n",
       "      <td>0.990791</td>\n",
       "      <td>-0.001748</td>\n",
       "    </tr>\n",
       "    <tr>\n",
       "      <th>2022-06-01 02:00:00</th>\n",
       "      <td>0.983548</td>\n",
       "      <td>0.998252</td>\n",
       "      <td>0.999617</td>\n",
       "      <td>0.980025</td>\n",
       "      <td>-0.014843</td>\n",
       "    </tr>\n",
       "    <tr>\n",
       "      <th>2022-06-01 03:00:00</th>\n",
       "      <td>0.982333</td>\n",
       "      <td>0.983531</td>\n",
       "      <td>0.987468</td>\n",
       "      <td>0.980127</td>\n",
       "      <td>-0.001234</td>\n",
       "    </tr>\n",
       "    <tr>\n",
       "      <th>2022-06-01 04:00:00</th>\n",
       "      <td>0.989582</td>\n",
       "      <td>0.982335</td>\n",
       "      <td>0.989614</td>\n",
       "      <td>0.981496</td>\n",
       "      <td>0.007353</td>\n",
       "    </tr>\n",
       "  </tbody>\n",
       "</table>\n",
       "</div>"
      ],
      "text/plain": [
       "                        close      open      high       low   log-ret\n",
       "date                                                                 \n",
       "2022-06-01 00:00:00  1.000000  1.000733  1.009610  0.991461  0.000000\n",
       "2022-06-01 01:00:00  0.998254  0.999998  1.001838  0.990791 -0.001748\n",
       "2022-06-01 02:00:00  0.983548  0.998252  0.999617  0.980025 -0.014843\n",
       "2022-06-01 03:00:00  0.982333  0.983531  0.987468  0.980127 -0.001234\n",
       "2022-06-01 04:00:00  0.989582  0.982335  0.989614  0.981496  0.007353"
      ]
     },
     "execution_count": 14,
     "metadata": {},
     "output_type": "execute_result"
    }
   ],
   "source": [
    "index_df = pd.DataFrame(index=universe.index.unique())\n",
    "index_df['close'] = 0.65 * universe.loc[universe.ts_code == 'BTCUSDT']['close'] \\\n",
    "                    + 0.35 * universe.loc[universe.ts_code == 'ETHUSDT']['close']\n",
    "index_df['open'] = 0.65 * universe.loc[universe.ts_code == 'BTCUSDT']['open'] \\\n",
    "                    + 0.35 * universe.loc[universe.ts_code == 'ETHUSDT']['open']\n",
    "index_df['high'] = 0.65 * universe.loc[universe.ts_code == 'BTCUSDT']['high'] \\\n",
    "                    + 0.35 * universe.loc[universe.ts_code == 'ETHUSDT']['high']\n",
    "index_df['low'] = 0.65 * universe.loc[universe.ts_code == 'BTCUSDT']['low'] \\\n",
    "                    + 0.35 * universe.loc[universe.ts_code == 'ETHUSDT']['low']\n",
    "index_df['log-ret'] = 0.65 * universe.loc[universe.ts_code == 'BTCUSDT']['log-ret'] \\\n",
    "                    + 0.35 * universe.loc[universe.ts_code == 'ETHUSDT']['log-ret']\n",
    "index_df.head()"
   ]
  },
  {
   "cell_type": "code",
   "execution_count": null,
   "id": "a15b71dc",
   "metadata": {},
   "outputs": [],
   "source": [
    "def base_indicators(df):\n",
    "    def cal_(data):\n",
    "        data['range_5'] = data['high'].rolling(5).max() - data['low'].rolling(5).min()\n",
    "        data['wave_5'] = data['close'].rolling(5).std()\n",
    "        data['range_10'] = data['high'].rolling(10).max() - data['low'].rolling(10).min()\n",
    "        data['wave_10'] = data['close'].rolling(10).std()\n",
    "        data['range_14'] = data['high'].rolling(14).max() - data['low'].rolling(14).min()\n",
    "        data['wave_14'] = data['close'].rolling(14).std()\n",
    "        data['ret_5'] = data['log-ret'].rolling(5).sum()\n",
    "        data['ret_10'] = data['log-ret'].rolling(10).sum()\n",
    "        data['buy_percent5'] = (data['buy_amount']/data['amount']).rolling(5).mean()\n",
    "        data['buy_percent10'] = (data['buy_amount']/data['amount']).rolling(10).mean()\n",
    "        return data\n",
    "    \n",
    "    df = my_groupby(df, 'ts_code', cal_)\n",
    "    return df\n",
    "\n",
    "universe = base_indicators(universe)"
   ]
  },
  {
   "cell_type": "code",
   "execution_count": 6,
   "id": "8846ca60",
   "metadata": {},
   "outputs": [],
   "source": [
    "def Corr(data, win_len):\n",
    "    obj = data.rolling(window=win_len, method='table')\n",
    "    s = []\n",
    "    for o in obj:\n",
    "        if o.shape[0] < win_len:\n",
    "            s.append(0.)\n",
    "        else:\n",
    "            s.append(spearmanr(o.iloc[:, 0], o.iloc[:, 1])[0])\n",
    "            # s.append(o.iloc[:, 0].corr(o.iloc[:, 1]))\n",
    "    return pd.DataFrame(s, index=data.index, columns=['corr'])\n",
    "\n",
    "def ts_rank(data, window=10):\n",
    "    return data.rolling(window).apply(lambda x: rankdata(x)[-1])\n",
    "\n",
    "def Highday(sr, window):\n",
    "    return sr.rolling(window).apply(lambda x: len(x) - x.values.argmax())\n",
    "\n",
    "def Lowday(sr, window):\n",
    "    return sr.rolling(window).apply(lambda x: len(x) - x.values.argmin())\n",
    "\n",
    "def Regbeta(sr, x):\n",
    "    window = len(x)\n",
    "    return sr.rolling(window).apply(lambda y: np.polyfit(x, y, deg=1)[0])\n",
    "\n",
    "def Sequence(n):\n",
    "    return np.arange(1, n + 1)\n",
    "\n",
    "def Decaylinear(sr, window):\n",
    "    weights = np.array(range(1, window + 1))\n",
    "    sum_weights = np.sum(weights)\n",
    "    return sr.rolling(window).apply(lambda x: np.sum(weights * x) / sum_weights)\n",
    "\n",
    "def rolling_jump(sr, win, interval):\n",
    "    \n",
    "    if win>=interval:\n",
    "        result = [np.nan]*(win-interval)\n",
    "        for i in range(win, len(sr), interval):\n",
    "            result.extend([np.nan]*(interval-1) + [sr[i-win:i].mean()])\n",
    "    else:\n",
    "        result = []\n",
    "        for i in range(interval, len(sr), interval):\n",
    "            result.extend([np.nan]*(interval-1) + [sr[i-win:i].mean()])\n",
    "            \n",
    "    if len(sr) > len(result):\n",
    "        result.extend([np.nan]*(len(sr) - len(result)))\n",
    "    return pd.Series(result, sr.index)\n",
    "\n",
    "def my_groupby(df, column, func, sort_keys=['date', 'ts_code']):\n",
    "    all_df = pd.DataFrame()\n",
    "    for val in tqdm(df[column].unique()):\n",
    "        tmp = df.loc[df[column] == val]\n",
    "        all_df = all_df.append(func(tmp))\n",
    "    return all_df.sort_values(by=sort_keys)"
   ]
  },
  {
   "cell_type": "markdown",
   "id": "435f326f",
   "metadata": {},
   "source": [
    "### 构造alpha因子"
   ]
  },
  {
   "cell_type": "code",
   "execution_count": 77,
   "id": "b4a8c1e6",
   "metadata": {},
   "outputs": [],
   "source": [
    "universe['alpha_wt'] = -(universe['wt1'] - universe['wt2'])\n",
    "universe['alpha_cci'] = -universe['cci']\n",
    "universe['alpha_srsi'] = -universe['stochrsi_6']\n",
    "universe['alpha_rsi'] = -universe['rsi_6']\n",
    "universe['alpha_wr'] = -universe['wr_6']\n",
    "universe['alpha_ppo'] = (universe['ppos'] - universe['ppo'])\n",
    "universe['alpha_macd'] = (universe['macds'] - universe['macd'])\n",
    "universe['alpha_kdj'] = -((universe['kdjj'] - universe['kdjk'])\n",
    "                           + (universe['kdjk'] - universe['kdjd']))\n",
    "universe['alpha_atr'] = -universe['atr']\n",
    "universe['alpha_supertrend'] = universe['supertrend'] - universe['close']\n",
    "universe['alpha_supertrend1'] = universe['close'].rolling(5).mean() - universe['supertrend']\n",
    "universe['alpha_kama1'] = -universe['close_10_kama_5_30']"
   ]
  },
  {
   "cell_type": "code",
   "execution_count": 7,
   "id": "80ef955c",
   "metadata": {},
   "outputs": [
    {
     "name": "stderr",
     "output_type": "stream",
     "text": [
      "100%|███████████████████████████████████████████| 35/35 [00:03<00:00, 10.78it/s]\n"
     ]
    }
   ],
   "source": [
    "def alpha_kama(df):\n",
    "    feature = 'close_10_kama_5_30'\n",
    "    def cal_(df):\n",
    "        kama_filter = df[feature].rolling(20).std()\n",
    "        cond_in1 = (df[feature] - df[feature].shift(1)) >kama_filter\n",
    "        cond_in2 = (df[feature].shift(1) - df[feature].shift(2)) > kama_filter\n",
    "        cond_out1 = (df[feature] - df[feature].shift(1)) < -kama_filter\n",
    "        cond_out2 = (df[feature].shift(1) - df[feature].shift(2)) < -kama_filter\n",
    "        df['alpha_kama'] = np.where((cond_out1 & cond_out2), -df['ret_5'].abs() , -1e-2*df['log-ret'])\n",
    "        df['alpha_kama'] = np.where((cond_in1 & cond_in2), df['ret_5'].abs() , df['alpha_kama'])\n",
    "        return df\n",
    "    \n",
    "    df = my_groupby(df, 'ts_code', cal_)\n",
    "    return df\n",
    "\n",
    "universe = alpha_kama(universe)"
   ]
  },
  {
   "cell_type": "code",
   "execution_count": 8,
   "id": "8500eed8",
   "metadata": {},
   "outputs": [
    {
     "name": "stderr",
     "output_type": "stream",
     "text": [
      "100%|███████████████████████████████████████████| 35/35 [01:48<00:00,  3.09s/it]\n"
     ]
    }
   ],
   "source": [
    "def alpha_t1(df):\n",
    "    def cal_(data):\n",
    "        cond1 = data['macdh'] - data['macdh'].shift(1)\n",
    "        cond2 = data['macdh'].shift(1) - data['macdh'].shift(2)\n",
    "        val_pos = 10 - ts_rank(data['macdh'], 9)\n",
    "        val_neg = 10 - ts_rank(-data['macdh'], 9)\n",
    "        data['alpha_t1'] = np.where(((cond1>0) & (cond2>=0)), -1/val_pos,\n",
    "                            np.where(((cond1<0) & (cond2<=0)), 1/val_neg, 0.))\n",
    "        return data\n",
    "    \n",
    "    df = my_groupby(df, 'ts_code', cal_)\n",
    "    return df\n",
    "\n",
    "universe = alpha_t1(universe)"
   ]
  },
  {
   "cell_type": "code",
   "execution_count": 9,
   "id": "4a7e10cb",
   "metadata": {},
   "outputs": [
    {
     "name": "stderr",
     "output_type": "stream",
     "text": [
      "100%|███████████████████████████████████████████| 35/35 [00:03<00:00,  9.85it/s]\n"
     ]
    }
   ],
   "source": [
    "def alpha_t2(df):\n",
    "    def cal_(data):\n",
    "        data['alpha_t2'] = np.where(data['ret_5']>0, \n",
    "                                    -data['ret_5'] * data['buy_percent5'],\n",
    "                                    -data['ret_5'] * (1 - data['buy_percent5']))\n",
    "        \n",
    "        return data\n",
    "    \n",
    "    df = my_groupby(df, 'ts_code', cal_)\n",
    "    return df\n",
    "\n",
    "universe = alpha_t2(universe)"
   ]
  },
  {
   "cell_type": "code",
   "execution_count": 10,
   "id": "3085d4bf",
   "metadata": {},
   "outputs": [
    {
     "name": "stderr",
     "output_type": "stream",
     "text": [
      "100%|███████████████████████████████████████████| 35/35 [00:18<00:00,  1.87it/s]\n"
     ]
    }
   ],
   "source": [
    "def alpha_t4(df):\n",
    "    def cal1_(sr, win_len=5):\n",
    "        section = sr\n",
    "        section = -np.where(section < section.shift(win_len),\n",
    "                                   (section - section.shift(win_len)) / section.shift(win_len),\n",
    "                                   np.where(section > section.shift(win_len),\n",
    "                                            (section - section.shift(win_len)) / section, 0.))\n",
    "        return pd.Series(section, index=sr.index)\n",
    "\n",
    "    ## 4 hour\n",
    "    def cal2_(data):\n",
    "        section1 = cal1_(data['close'], 4)\n",
    "        section2 = rolling_jump(section1, 3, 4).fillna(method='ffill')\n",
    "        \n",
    "        data['alpha_t4'] = np.where((section1>0)&(section2>0), section1,\n",
    "                                    np.where((section1<0)&(section2<0), section1, section2))\n",
    "        data['alpha_t4a'] = cal1_(data['close'], 5)\n",
    "        return data\n",
    "    \n",
    "    df = my_groupby(df, 'ts_code', cal2_)\n",
    "    return df\n",
    "\n",
    "universe = alpha_t4(universe)"
   ]
  },
  {
   "cell_type": "code",
   "execution_count": 11,
   "id": "26b5a12b",
   "metadata": {},
   "outputs": [
    {
     "name": "stderr",
     "output_type": "stream",
     "text": [
      "100%|███████████████████████████████████████████| 35/35 [00:03<00:00, 10.61it/s]\n"
     ]
    }
   ],
   "source": [
    "def alpha_t5(df):\n",
    "    def cal_(data):\n",
    "        data['alpha_t5'] = -(data['close'] - data['low'].rolling(5).min())/data['range_5']\n",
    "        return data\n",
    "    \n",
    "    df = my_groupby(df, 'ts_code', cal_)\n",
    "    return df\n",
    "\n",
    "universe = alpha_t5(universe)"
   ]
  },
  {
   "cell_type": "code",
   "execution_count": 12,
   "id": "eba23fd5",
   "metadata": {},
   "outputs": [
    {
     "name": "stderr",
     "output_type": "stream",
     "text": [
      "100%|███████████████████████████████████████████| 35/35 [01:09<00:00,  1.97s/it]\n"
     ]
    }
   ],
   "source": [
    "def alpha019(df):\n",
    "    def cal_(df):\n",
    "        df['alpha_019'] = -np.where(df['close'] < df['close'].shift(5),\n",
    "                                   (df['close'] - df['close'].shift(5)) / df['close'].shift(5),\n",
    "                                   np.where(df['close'] > df['close'].shift(5),\n",
    "                                            (df['close'] - df['close'].shift(5)) / df['close'], 0.))\n",
    "        \n",
    "        df['alpha_019'] = ts_rank(df['alpha_019'], 20)/20\n",
    "        df['alpha_019'] = rolling_jump(df['alpha_019'], 3, 4).fillna(method='ffill')\n",
    "        return df\n",
    "\n",
    "    df = my_groupby(df, 'ts_code', cal_)\n",
    "    return df\n",
    "\n",
    "universe = alpha019(universe)"
   ]
  },
  {
   "cell_type": "code",
   "execution_count": 15,
   "id": "e1ab2bfc",
   "metadata": {},
   "outputs": [
    {
     "name": "stderr",
     "output_type": "stream",
     "text": [
      "100%|███████████████████████████████████████████| 35/35 [00:03<00:00, 10.36it/s]\n"
     ]
    }
   ],
   "source": [
    "def alpha075(df):\n",
    "    def cal_(df):\n",
    "        benchmark_close = index_df.loc[df.index]['close']\n",
    "        benchmark_return = index_df.loc[df.index]['log-ret']\n",
    "        cond1 = ((df['ret_5']<-0.01) & (benchmark_return > 0))\n",
    "        cond2 = ((df['ret_5']<-0.01) & (benchmark_close > benchmark_close.shift(2)))\n",
    "        cond3 = ((df['ret_5']>0.01) & (benchmark_return < 0))\n",
    "        cond4 = ((df['ret_5']>0.01) & (benchmark_close < benchmark_close.shift(2)))\n",
    "        df['section1'] = np.where(cond1, -df['ret_5'], np.where(cond3, -df['ret_5'], 0))\n",
    "        df['section2'] = np.where(cond2, -df['ret_5'], np.where(cond4, -df['ret_5'], 0))\n",
    "        df['alpha_075'] = df['section1'].rolling(3).sum() + df['section2'].rolling(3).sum()\n",
    "        return df\n",
    "\n",
    "    df = my_groupby(df, 'ts_code', cal_)\n",
    "    df = df.drop(columns=['section1', 'section2'])\n",
    "    return df\n",
    "\n",
    "universe = alpha075(universe)"
   ]
  },
  {
   "cell_type": "code",
   "execution_count": 16,
   "id": "3a73c95b",
   "metadata": {},
   "outputs": [],
   "source": [
    "bak = universe.copy(deep=True)"
   ]
  },
  {
   "cell_type": "code",
   "execution_count": 17,
   "id": "4c11adfa",
   "metadata": {},
   "outputs": [
    {
     "data": {
      "text/plain": [
       "Index(['open_usdt', 'high_usdt', 'low_usdt', 'close_usdt', 'volume', 'amount',\n",
       "       'trade_counts', 'buy_volume', 'buy_amount', 'ts_code', 'vwap_usdt',\n",
       "       'close', 'vwap', 'open', 'high', 'low', 'trade_date', 'log-ret', 'wt1',\n",
       "       'wt2', 'stochrsi_6', 'cci', 'rsi_6', 'wr_6', 'ppo', 'ppos', 'macds',\n",
       "       'macd', 'macdh', 'kdjj', 'kdjk', 'kdjd', 'range_5', 'wave_5',\n",
       "       'range_10', 'wave_10', 'range_14', 'wave_14', 'ret_5', 'ret_10',\n",
       "       'buy_percent5', 'buy_percent10', 'alpha_wt', 'alpha_cci', 'alpha_srsi',\n",
       "       'alpha_rsi', 'alpha_wr', 'alpha_ppo', 'alpha_macd', 'alpha_kdj',\n",
       "       'alpha_t1', 'alpha_t2', 'alpha_t2a', 'alpha_t4', 'alpha_t4a',\n",
       "       'alpha_075', 'atr', 'supertrend', 'alpha_atr', 'alpha_supertrend',\n",
       "       'alpha_supertrend1', 'close_10_kama_5_30', 'alpha_kama1', 'alpha_kama',\n",
       "       'alpha_019', 'alpha_t5'],\n",
       "      dtype='object')"
      ]
     },
     "execution_count": 17,
     "metadata": {},
     "output_type": "execute_result"
    }
   ],
   "source": [
    "universe.columns"
   ]
  },
  {
   "cell_type": "code",
   "execution_count": 80,
   "id": "368e5101",
   "metadata": {},
   "outputs": [],
   "source": [
    "universe.reset_index().to_feather('bitcoin_data/factor_data/factors_DBM_20220301_20230529.feather')\n",
    "#universe[final_columns].reset_index().to_feather('bitcoin_data/factor_data/factors_20221001_20230529.feather')"
   ]
  },
  {
   "cell_type": "code",
   "execution_count": 75,
   "id": "e0c1d5e4",
   "metadata": {},
   "outputs": [
    {
     "data": {
      "text/plain": [
       "(294307, 66)"
      ]
     },
     "execution_count": 75,
     "metadata": {},
     "output_type": "execute_result"
    }
   ],
   "source": [
    "universe = pd.read_feather('bitcoin_data/factor_data/factors_DBM_20220301_20230529.feather')\n",
    "universe = universe.set_index(['date']).sort_values(by=['date', 'ts_code'])\n",
    "universe.shape"
   ]
  },
  {
   "cell_type": "code",
   "execution_count": 76,
   "id": "3562e654",
   "metadata": {},
   "outputs": [
    {
     "name": "stdout",
     "output_type": "stream",
     "text": [
      "(294307, 66)\n"
     ]
    },
    {
     "data": {
      "text/html": [
       "<div>\n",
       "<style scoped>\n",
       "    .dataframe tbody tr th:only-of-type {\n",
       "        vertical-align: middle;\n",
       "    }\n",
       "\n",
       "    .dataframe tbody tr th {\n",
       "        vertical-align: top;\n",
       "    }\n",
       "\n",
       "    .dataframe thead th {\n",
       "        text-align: right;\n",
       "    }\n",
       "</style>\n",
       "<table border=\"1\" class=\"dataframe\">\n",
       "  <thead>\n",
       "    <tr style=\"text-align: right;\">\n",
       "      <th></th>\n",
       "      <th>open_usdt</th>\n",
       "      <th>high_usdt</th>\n",
       "      <th>low_usdt</th>\n",
       "      <th>close_usdt</th>\n",
       "      <th>volume</th>\n",
       "      <th>amount</th>\n",
       "      <th>trade_counts</th>\n",
       "      <th>buy_volume</th>\n",
       "      <th>buy_amount</th>\n",
       "      <th>ts_code</th>\n",
       "      <th>...</th>\n",
       "      <th>atr</th>\n",
       "      <th>supertrend</th>\n",
       "      <th>alpha_atr</th>\n",
       "      <th>alpha_supertrend</th>\n",
       "      <th>alpha_supertrend1</th>\n",
       "      <th>close_10_kama_5_30</th>\n",
       "      <th>alpha_kama1</th>\n",
       "      <th>alpha_kama</th>\n",
       "      <th>alpha_019</th>\n",
       "      <th>alpha_t5</th>\n",
       "    </tr>\n",
       "    <tr>\n",
       "      <th>date</th>\n",
       "      <th></th>\n",
       "      <th></th>\n",
       "      <th></th>\n",
       "      <th></th>\n",
       "      <th></th>\n",
       "      <th></th>\n",
       "      <th></th>\n",
       "      <th></th>\n",
       "      <th></th>\n",
       "      <th></th>\n",
       "      <th></th>\n",
       "      <th></th>\n",
       "      <th></th>\n",
       "      <th></th>\n",
       "      <th></th>\n",
       "      <th></th>\n",
       "      <th></th>\n",
       "      <th></th>\n",
       "      <th></th>\n",
       "      <th></th>\n",
       "      <th></th>\n",
       "    </tr>\n",
       "  </thead>\n",
       "  <tbody>\n",
       "    <tr>\n",
       "      <th>2022-06-01 19:00:00</th>\n",
       "      <td>0.01662</td>\n",
       "      <td>0.01668</td>\n",
       "      <td>0.01613</td>\n",
       "      <td>0.01656</td>\n",
       "      <td>33424032.00</td>\n",
       "      <td>5.478361e+05</td>\n",
       "      <td>1450.0</td>\n",
       "      <td>18543584.00</td>\n",
       "      <td>3.039905e+05</td>\n",
       "      <td>ACHUSDT</td>\n",
       "      <td>...</td>\n",
       "      <td>0.021342</td>\n",
       "      <td>0.971886</td>\n",
       "      <td>-0.021342</td>\n",
       "      <td>0.055450</td>\n",
       "      <td>-0.028993</td>\n",
       "      <td>0.929329</td>\n",
       "      <td>-0.929329</td>\n",
       "      <td>0.000036</td>\n",
       "      <td>0.95</td>\n",
       "      <td>-0.323308</td>\n",
       "    </tr>\n",
       "    <tr>\n",
       "      <th>2022-06-01 19:00:00</th>\n",
       "      <td>0.61060</td>\n",
       "      <td>0.61400</td>\n",
       "      <td>0.60000</td>\n",
       "      <td>0.60450</td>\n",
       "      <td>9258609.30</td>\n",
       "      <td>5.611037e+06</td>\n",
       "      <td>13428.0</td>\n",
       "      <td>4442711.90</td>\n",
       "      <td>2.693886e+06</td>\n",
       "      <td>ADAUSDT</td>\n",
       "      <td>...</td>\n",
       "      <td>0.021774</td>\n",
       "      <td>1.028569</td>\n",
       "      <td>-0.021774</td>\n",
       "      <td>0.067826</td>\n",
       "      <td>0.059233</td>\n",
       "      <td>0.968729</td>\n",
       "      <td>-0.968729</td>\n",
       "      <td>0.000099</td>\n",
       "      <td>0.70</td>\n",
       "      <td>-0.229592</td>\n",
       "    </tr>\n",
       "    <tr>\n",
       "      <th>2022-06-01 19:00:00</th>\n",
       "      <td>6.74380</td>\n",
       "      <td>6.80490</td>\n",
       "      <td>6.64320</td>\n",
       "      <td>6.70560</td>\n",
       "      <td>353481.09</td>\n",
       "      <td>2.372464e+06</td>\n",
       "      <td>9221.0</td>\n",
       "      <td>161723.99</td>\n",
       "      <td>1.086290e+06</td>\n",
       "      <td>APEUSDT</td>\n",
       "      <td>...</td>\n",
       "      <td>0.018595</td>\n",
       "      <td>1.018737</td>\n",
       "      <td>-0.018595</td>\n",
       "      <td>0.043930</td>\n",
       "      <td>0.051608</td>\n",
       "      <td>0.978682</td>\n",
       "      <td>-0.978682</td>\n",
       "      <td>0.000061</td>\n",
       "      <td>0.70</td>\n",
       "      <td>-0.308911</td>\n",
       "    </tr>\n",
       "    <tr>\n",
       "      <th>2022-06-01 19:00:00</th>\n",
       "      <td>10.36000</td>\n",
       "      <td>10.44000</td>\n",
       "      <td>10.20000</td>\n",
       "      <td>10.29000</td>\n",
       "      <td>147594.67</td>\n",
       "      <td>1.520644e+06</td>\n",
       "      <td>3163.0</td>\n",
       "      <td>61846.32</td>\n",
       "      <td>6.374911e+05</td>\n",
       "      <td>ATOMUSDT</td>\n",
       "      <td>...</td>\n",
       "      <td>0.017645</td>\n",
       "      <td>1.023044</td>\n",
       "      <td>-0.017645</td>\n",
       "      <td>0.034572</td>\n",
       "      <td>0.054374</td>\n",
       "      <td>0.987562</td>\n",
       "      <td>-0.987562</td>\n",
       "      <td>0.000058</td>\n",
       "      <td>0.40</td>\n",
       "      <td>-0.461538</td>\n",
       "    </tr>\n",
       "    <tr>\n",
       "      <th>2022-06-01 19:00:00</th>\n",
       "      <td>25.65000</td>\n",
       "      <td>25.92000</td>\n",
       "      <td>25.47000</td>\n",
       "      <td>25.72000</td>\n",
       "      <td>119633.77</td>\n",
       "      <td>3.071251e+06</td>\n",
       "      <td>5951.0</td>\n",
       "      <td>56601.59</td>\n",
       "      <td>1.453110e+06</td>\n",
       "      <td>AVAXUSDT</td>\n",
       "      <td>...</td>\n",
       "      <td>0.019219</td>\n",
       "      <td>1.018937</td>\n",
       "      <td>-0.019219</td>\n",
       "      <td>0.056722</td>\n",
       "      <td>0.058402</td>\n",
       "      <td>0.963898</td>\n",
       "      <td>-0.963898</td>\n",
       "      <td>-0.000027</td>\n",
       "      <td>0.65</td>\n",
       "      <td>-0.426471</td>\n",
       "    </tr>\n",
       "  </tbody>\n",
       "</table>\n",
       "<p>5 rows × 66 columns</p>\n",
       "</div>"
      ],
      "text/plain": [
       "                     open_usdt  high_usdt  low_usdt  close_usdt       volume  \\\n",
       "date                                                                           \n",
       "2022-06-01 19:00:00    0.01662    0.01668   0.01613     0.01656  33424032.00   \n",
       "2022-06-01 19:00:00    0.61060    0.61400   0.60000     0.60450   9258609.30   \n",
       "2022-06-01 19:00:00    6.74380    6.80490   6.64320     6.70560    353481.09   \n",
       "2022-06-01 19:00:00   10.36000   10.44000  10.20000    10.29000    147594.67   \n",
       "2022-06-01 19:00:00   25.65000   25.92000  25.47000    25.72000    119633.77   \n",
       "\n",
       "                           amount  trade_counts   buy_volume    buy_amount  \\\n",
       "date                                                                         \n",
       "2022-06-01 19:00:00  5.478361e+05        1450.0  18543584.00  3.039905e+05   \n",
       "2022-06-01 19:00:00  5.611037e+06       13428.0   4442711.90  2.693886e+06   \n",
       "2022-06-01 19:00:00  2.372464e+06        9221.0    161723.99  1.086290e+06   \n",
       "2022-06-01 19:00:00  1.520644e+06        3163.0     61846.32  6.374911e+05   \n",
       "2022-06-01 19:00:00  3.071251e+06        5951.0     56601.59  1.453110e+06   \n",
       "\n",
       "                      ts_code  ...       atr  supertrend  alpha_atr  \\\n",
       "date                           ...                                    \n",
       "2022-06-01 19:00:00   ACHUSDT  ...  0.021342    0.971886  -0.021342   \n",
       "2022-06-01 19:00:00   ADAUSDT  ...  0.021774    1.028569  -0.021774   \n",
       "2022-06-01 19:00:00   APEUSDT  ...  0.018595    1.018737  -0.018595   \n",
       "2022-06-01 19:00:00  ATOMUSDT  ...  0.017645    1.023044  -0.017645   \n",
       "2022-06-01 19:00:00  AVAXUSDT  ...  0.019219    1.018937  -0.019219   \n",
       "\n",
       "                     alpha_supertrend  alpha_supertrend1  close_10_kama_5_30  \\\n",
       "date                                                                           \n",
       "2022-06-01 19:00:00          0.055450          -0.028993            0.929329   \n",
       "2022-06-01 19:00:00          0.067826           0.059233            0.968729   \n",
       "2022-06-01 19:00:00          0.043930           0.051608            0.978682   \n",
       "2022-06-01 19:00:00          0.034572           0.054374            0.987562   \n",
       "2022-06-01 19:00:00          0.056722           0.058402            0.963898   \n",
       "\n",
       "                    alpha_kama1  alpha_kama  alpha_019  alpha_t5  \n",
       "date                                                              \n",
       "2022-06-01 19:00:00   -0.929329    0.000036       0.95 -0.323308  \n",
       "2022-06-01 19:00:00   -0.968729    0.000099       0.70 -0.229592  \n",
       "2022-06-01 19:00:00   -0.978682    0.000061       0.70 -0.308911  \n",
       "2022-06-01 19:00:00   -0.987562    0.000058       0.40 -0.461538  \n",
       "2022-06-01 19:00:00   -0.963898   -0.000027       0.65 -0.426471  \n",
       "\n",
       "[5 rows x 66 columns]"
      ]
     },
     "execution_count": 76,
     "metadata": {},
     "output_type": "execute_result"
    }
   ],
   "source": [
    "print(universe.shape)\n",
    "universe.dropna().head()"
   ]
  },
  {
   "cell_type": "markdown",
   "id": "ea3b2957",
   "metadata": {},
   "source": [
    "### view factors"
   ]
  },
  {
   "cell_type": "code",
   "execution_count": 96,
   "id": "a5519f08",
   "metadata": {},
   "outputs": [
    {
     "data": {
      "text/plain": [
       "<AxesSubplot:xlabel='date'>"
      ]
     },
     "execution_count": 96,
     "metadata": {},
     "output_type": "execute_result"
    },
    {
     "data": {
      "image/png": "[encoded data removed]",
      "text/plain": [
       "<Figure size 900x500 with 1 Axes>"
      ]
     },
     "metadata": {},
     "output_type": "display_data"
    }
   ],
   "source": [
    "tmp = universe.loc[(universe.index>='2023-01-10 00:00:00') \n",
    "                   & (universe.index<='2023-05-29 00:00:00') & (universe.ts_code=='ATOMUSDT')]\n",
    "\n",
    "def rescale_tmp(sr, bias = .0):\n",
    "    return sr/20 + bias\n",
    "#tmp['alpha_wr'] = tmp['alpha_wr']/2000 + 1\n",
    "tmp['alpha_macd'] = tmp['alpha_macd']/20\n",
    "tmp['alpha_kdj'] = tmp['alpha_kdj']/20\n",
    "tmp['alpha_wt'] = tmp['alpha_wt']/20\n",
    "tmp['alpha_wr'] = tmp['alpha_wr']/20\n",
    "tmp['alpha_ppo'] = tmp['alpha_ppo']/20\n",
    "tmp['alpha_cci'] = tmp['alpha_cci']/20\n",
    "tmp['alpha_t1'] = tmp['alpha_t1']/20\n",
    "tmp['alpha_t2'] = rescale_tmp(tmp['alpha_t2'])\n",
    "tmp['alpha_t2a'] = rescale_tmp(tmp['alpha_t2a'])\n",
    "tmp['alpha_t4'] = tmp['alpha_t4']/20\n",
    "tmp['alpha_t4a'] = tmp['alpha_t4a']/20\n",
    "tmp['alpha_srsi'] = tmp['alpha_srsi']/20\n",
    "tmp['alpha_rsi'] = tmp['alpha_rsi']/20\n",
    "tmp['alpha_075'] = tmp['alpha_075']/20\n",
    "tmp['alpha_019'] = tmp['alpha_019']/20\n",
    "tmp['alpha_atr'] = tmp['alpha_atr']\n",
    "tmp['alpha_supertrend1'] = tmp['alpha_supertrend1']\n",
    "tmp['alpha_kama1'] = tmp['alpha_kama1']\n",
    "\n",
    "tmp['close'] = tmp['close'].shift(-1) -0.4\n",
    "tmp[['close', 'alpha_atr', 'alpha_kama1']].plot(grid=True)"
   ]
  },
  {
   "cell_type": "code",
   "execution_count": 50,
   "id": "9f48d516",
   "metadata": {},
   "outputs": [
    {
     "data": {
      "text/plain": [
       "array(['ACHUSDT', 'ADAUSDT', 'APEUSDT', 'ATOMUSDT', 'AVAXUSDT', 'BNBUSDT',\n",
       "       'BTCUSDT', 'CFXUSDT', 'DOGEUSDT', 'DOTUSDT', 'DYDXUSDT',\n",
       "       'EGLDUSDT', 'ETHUSDT', 'FILUSDT', 'FTMUSDT', 'GALAUSDT', 'GMTUSDT',\n",
       "       'LINKUSDT', 'LTCUSDT', 'MANAUSDT', 'MASKUSDT', 'MATICUSDT',\n",
       "       'NEARUSDT', 'SANDUSDT', 'SHIBUSDT', 'SOLUSDT', 'STXUSDT',\n",
       "       'TRXUSDT', 'UMAUSDT', 'WOOUSDT', 'XRPUSDT', 'OPUSDT', 'LUNCUSDT',\n",
       "       'APTUSDT', 'MAGICUSDT'], dtype=object)"
      ]
     },
     "execution_count": 50,
     "metadata": {},
     "output_type": "execute_result"
    }
   ],
   "source": [
    "universe.ts_code.unique()"
   ]
  },
  {
   "cell_type": "code",
   "execution_count": 97,
   "id": "5cfb6518",
   "metadata": {},
   "outputs": [
    {
     "name": "stdout",
     "output_type": "stream",
     "text": [
      "0.33623440611885624 0.9999999999999999\n"
     ]
    },
    {
     "data": {
      "text/plain": [
       "<AxesSubplot:>"
      ]
     },
     "execution_count": 97,
     "metadata": {},
     "output_type": "execute_result"
    },
    {
     "data": {
      "image/png": "[encoded data removed]",
      "text/plain": [
       "<Figure size 900x500 with 1 Axes>"
      ]
     },
     "metadata": {},
     "output_type": "display_data"
    }
   ],
   "source": [
    "factor_name = 'alpha_kama'\n",
    "print(universe[factor_name].std() * 3, universe[factor_name].abs().max())\n",
    "universe[factor_name].hist()"
   ]
  },
  {
   "cell_type": "markdown",
   "id": "0a57dacb",
   "metadata": {},
   "source": [
    "### 因子评估"
   ]
  },
  {
   "cell_type": "code",
   "execution_count": 78,
   "id": "c569ad32",
   "metadata": {},
   "outputs": [],
   "source": [
    "base_columns = [\n",
    "    'ts_code', 'trade_date', 'volume', 'amount', 'trade_counts', 'buy_volume', 'buy_amount',\n",
    "    'close', 'vwap', 'open', 'high', 'low',  'log-ret', 'range_14', 'wave_14',\n",
    "    'range_5', 'wave_5', 'range_10', 'wave_10', 'ret_5', 'ret_10', 'buy_percent5', 'buy_percent10']"
   ]
  },
  {
   "cell_type": "code",
   "execution_count": 79,
   "id": "2f334cb9",
   "metadata": {},
   "outputs": [],
   "source": [
    "# t7 not need zscore\n",
    "factor_names = [\n",
    "    'alpha_wt', 'alpha_cci', 'alpha_srsi', 'alpha_rsi', 'alpha_wr', 'alpha_ppo', 'alpha_macd', 'alpha_kdj',\n",
    "    'alpha_t1', 'alpha_t2', 'alpha_t4', 'alpha_t4a', 'alpha_075', \n",
    "    'alpha_atr', 'alpha_supertrend', 'alpha_supertrend1', 'alpha_kama1', 'alpha_kama', 'alpha_019', 'alpha_t5'\n",
    "        ]\n",
    "\n",
    "\n",
    "final_columns = base_columns+factor_names"
   ]
  },
  {
   "cell_type": "code",
   "execution_count": 83,
   "id": "a872fc81",
   "metadata": {},
   "outputs": [
    {
     "name": "stderr",
     "output_type": "stream",
     "text": [
      "100%|███████████████████████████████████████████| 20/20 [00:00<00:00, 36.40it/s]\n"
     ]
    }
   ],
   "source": [
    "def wins(x,a,b):\n",
    "    return np.where(x <= a,a, np.where(x >= b, b, x))\n",
    "\n",
    "#rescale_list = [26, 360, -1, 100, -100, 2, 0.02, 75, -1, 0.1, 0.1, 0.1, 0.2]\n",
    "for factor_name in tqdm(factor_names):\n",
    "    universe[factor_name] = (universe[factor_name] - universe[factor_name].mean())/universe[factor_name].std()\n",
    "    universe[factor_name] = wins(universe[factor_name], \n",
    "                                 universe[factor_name].mean() - 3 * universe[factor_name].std(), \n",
    "                                 universe[factor_name].mean() + 3 * universe[factor_name].std())\n",
    "    universe[factor_name] = universe[factor_name]/3"
   ]
  },
  {
   "cell_type": "code",
   "execution_count": 84,
   "id": "b1b36908",
   "metadata": {},
   "outputs": [],
   "source": [
    "universe[final_columns].reset_index().to_feather(\n",
    "    'bitcoin_data/factor_data/factors_DBM_zscore.feather')"
   ]
  },
  {
   "cell_type": "code",
   "execution_count": null,
   "id": "1ac93dbc",
   "metadata": {},
   "outputs": [],
   "source": [
    "universe = pd.read_feather('bitcoin_data/factor_data/factors_DBM_zscore.feather')\n",
    "universe = universe.set_index(['date']).sort_values(by=['date', 'ts_code'])\n",
    "universe.shape"
   ]
  },
  {
   "cell_type": "code",
   "execution_count": 98,
   "id": "1607c3f2",
   "metadata": {},
   "outputs": [],
   "source": [
    "start_time = '2023-03-01 00:00:00'\n",
    "end_time = '2023-06-01 00:00:00'\n",
    "# universe = universe.loc[(universe.index>=start_time) & (universe.index<=end_time)]"
   ]
  },
  {
   "cell_type": "markdown",
   "id": "eae80fdf",
   "metadata": {},
   "source": [
    "### 构造评估数据"
   ]
  },
  {
   "cell_type": "code",
   "execution_count": 99,
   "id": "34e4110a",
   "metadata": {},
   "outputs": [
    {
     "name": "stdout",
     "output_type": "stream",
     "text": [
      "(294307, 66) (75460, 67)\n"
     ]
    }
   ],
   "source": [
    "import random\n",
    "universe = universe.sort_values(by=['date','ts_code'])\n",
    "all_factors = universe.copy(deep=True)\n",
    "all_factors = all_factors.loc[(all_factors.index>=start_time) & (all_factors.index<=end_time)]\n",
    "def return_handle(df):\n",
    "    df['returns_2'] = df['close'].pct_change().shift(-1)\n",
    "#     noise_list = []\n",
    "#     for i in range(df.shape[0]):\n",
    "#         noise = abs(random.gauss(0, 0.2))\n",
    "#         if noise > 0.2:\n",
    "#             noise=0.1\n",
    "#         noise_list.append(noise)\n",
    "#     df['returns_2'] = df['returns_2'] * (1 - np.array(noise_list)) \\\n",
    "#                     + np.array(noise_list)*df['close'].pct_change().shift(-1).fillna(0.)\n",
    "    return df\n",
    "all_factors = all_factors.groupby('ts_code').apply(return_handle)\n",
    "all_factors = all_factors.replace([np.inf, -np.inf], np.nan).fillna(0.).sort_values(by=['date', 'ts_code'])\n",
    "print(universe.shape, all_factors.shape)"
   ]
  },
  {
   "cell_type": "code",
   "execution_count": 100,
   "id": "ec465108",
   "metadata": {},
   "outputs": [],
   "source": [
    "def keep_top_bottom(data, feature, bottom=0.45, top=0.55):\n",
    "    tv = data[feature].quantile(top)\n",
    "    bv = data[feature].quantile(bottom)\n",
    "    data[feature] = np.where(data[feature]>tv, data[feature], \n",
    "                            np.where(data[feature]<bv, data[feature], 0))\n",
    "    return data\n",
    "    \n",
    "    all_df = pd.DataFrame()\n",
    "    for dt in tqdm(df.index.unique()):\n",
    "        tmp = df.loc[df.index == dt]\n",
    "        all_df = all_df.append(cal_(tmp))\n",
    "    return all_df.sort_values(by=['date', 'ts_code'])\n",
    "\n",
    "\n",
    "def wins(x,a,b):\n",
    "    return np.where(x <= a,a, np.where(x >= b, b, x))\n",
    "\n",
    "def get_formula(factors, Y):\n",
    "    L = [\"0\"]\n",
    "    L.extend(factors)\n",
    "    return Y + \" ~ \" + \" + \".join(L)\n",
    "\n",
    "def factors_from_names(n, name):\n",
    "    return list(filter(lambda x: name in x, n))\n",
    "\n",
    "def estimate_factor_returns(df, name='alpha_'): \n",
    "    ## winsorize returns for fitting \n",
    "    estu = df.copy(deep=True)\n",
    "    estu['returns_2'] = wins(estu['returns_2'], -0.1, 0.1)\n",
    "    #all_factors = factors_from_names(list(df), name)\n",
    "    results = pd.Series()\n",
    "    for factor_name in factor_names:\n",
    "        #estu = keep_top_bottom(estu, factor_name)\n",
    "        form = get_formula([factor_name], \"returns_2\")\n",
    "        model = ols(form, data=estu)\n",
    "        result = model.fit()\n",
    "        results = results.append(result.params)\n",
    "    return results"
   ]
  },
  {
   "cell_type": "code",
   "execution_count": 101,
   "id": "ceda417e",
   "metadata": {},
   "outputs": [],
   "source": [
    "base_field = ['ts_code', 'log-ret', 'open', 'high', 'low', 'close', 'volume', 'vwap','trade_date']\n",
    "date_and_code = [ 'ts_code', 'returns_2']\n",
    "\n",
    "alpha_df = all_factors[factor_names + date_and_code].copy(deep=True)\n",
    "#alpha_df = alpha_df.loc[alpha_df.index<=start_time]\n",
    "calendar = alpha_df.index.unique() # int64\n",
    "\n",
    "#alpha_df = keep_top_bottom(alpha_df, factor_names)"
   ]
  },
  {
   "cell_type": "code",
   "execution_count": 102,
   "id": "2ea76502",
   "metadata": {},
   "outputs": [
    {
     "data": {
      "text/plain": [
       "DatetimeIndex(['2023-03-01 00:00:00', '2023-03-01 01:00:00',\n",
       "               '2023-03-01 02:00:00', '2023-03-01 03:00:00',\n",
       "               '2023-03-01 04:00:00', '2023-03-01 05:00:00',\n",
       "               '2023-03-01 06:00:00', '2023-03-01 07:00:00',\n",
       "               '2023-03-01 08:00:00', '2023-03-01 09:00:00',\n",
       "               ...\n",
       "               '2023-05-29 11:00:00', '2023-05-29 12:00:00',\n",
       "               '2023-05-29 13:00:00', '2023-05-29 14:00:00',\n",
       "               '2023-05-29 15:00:00', '2023-05-29 16:00:00',\n",
       "               '2023-05-29 17:00:00', '2023-05-29 18:00:00',\n",
       "               '2023-05-29 19:00:00', '2023-05-29 20:00:00'],\n",
       "              dtype='datetime64[ns]', name='date', length=2156, freq=None)"
      ]
     },
     "execution_count": 102,
     "metadata": {},
     "output_type": "execute_result"
    }
   ],
   "source": [
    "calendar"
   ]
  },
  {
   "cell_type": "markdown",
   "id": "5cae665f",
   "metadata": {},
   "source": [
    "### 方法1\n",
    "线性回归评估"
   ]
  },
  {
   "cell_type": "code",
   "execution_count": null,
   "id": "1b6e8926",
   "metadata": {},
   "outputs": [],
   "source": [
    "### ols to estimate \n",
    "facret = {}\n",
    "for dt in tqdm(calendar, desc='regression factor returns'):\n",
    "    facret[dt] = estimate_factor_returns(alpha_df.loc[alpha_df.index==dt])"
   ]
  },
  {
   "cell_type": "code",
   "execution_count": null,
   "id": "5f3ad584",
   "metadata": {},
   "outputs": [],
   "source": [
    "### plot\n",
    "date_list = alpha_df.index.unique()\n",
    "facret_df = pd.DataFrame(index = date_list)\n",
    "\n",
    "for ii, dt in zip(calendar,date_list): \n",
    "    for alp in factor_names: \n",
    "        facret_df.at[dt, alp] = facret[ii][alp]\n",
    "\n",
    "\n",
    "## googd\n",
    "## 'alpha_wr', 'alpha_rsi',  'alpha_ppo', 'alpha_t4', 'alpha_t5', 'alpha_t9a', 'alpha_t10', 'alpha_075'\n",
    "display_field  = [ \n",
    "    'alpha_cci', 'alpha_rsi', 'alpha_wt',  'alpha_macd',  'alpha_t2', 'alpha_ppo',  'alpha_wr'\n",
    "]        \n",
    "\n",
    "for column in display_field:\n",
    "    plt.plot(facret_df[column].cumsum(), label=column)\n",
    "    #plt.plot(facret_df[column], label=column)\n",
    "plt.legend(loc='upper left')\n",
    "plt.xlabel('Date')\n",
    "plt.ylabel('Cumulative Factor Returns')\n",
    "plt.show()"
   ]
  },
  {
   "cell_type": "code",
   "execution_count": null,
   "id": "b59e0596",
   "metadata": {},
   "outputs": [],
   "source": [
    "# sharp ratio\n",
    "np.sqrt(24*252) * (facret_df[display_field].mean())/ facret_df[display_field].std()"
   ]
  },
  {
   "cell_type": "code",
   "execution_count": null,
   "id": "e54e38e9",
   "metadata": {},
   "outputs": [],
   "source": [
    "def cal_auto_corr(data, alpha_cols):\n",
    "    for column in tqdm(alpha_cols):  \n",
    "        data[column + '_shift1'] = data.groupby(level=0)[column].shift(-1)\n",
    "        \n",
    "    corr_df = pd.DataFrame(index = data.index.unique())\n",
    "    for dt in tqdm(data.index.unique()):\n",
    "        tmp = data.loc[dt]\n",
    "        for column in alpha_cols:\n",
    "            corr_df.at[dt, column] = tmp[column].corr(tmp[column + '_shift1'])\n",
    "    return corr_df\n",
    "\n",
    "corr_df = cal_auto_corr(alpha_df, display_field)"
   ]
  },
  {
   "cell_type": "code",
   "execution_count": null,
   "id": "a0588f88",
   "metadata": {},
   "outputs": [],
   "source": [
    "print(corr_df[['alpha_t5', 'alpha_078']].mean())\n",
    "corr_df[['alpha_t5', 'alpha_078']].plot(grid=True)"
   ]
  },
  {
   "cell_type": "markdown",
   "id": "6cea5551",
   "metadata": {},
   "source": [
    "### 方法2\n",
    "归一化回报率评估"
   ]
  },
  {
   "cell_type": "code",
   "execution_count": 103,
   "id": "259131f5",
   "metadata": {},
   "outputs": [],
   "source": [
    "for feature in factor_names:\n",
    "    alpha_df[feature + 'shift1'] = alpha_df[feature].shift(1)"
   ]
  },
  {
   "cell_type": "code",
   "execution_count": 104,
   "id": "e0cdb336",
   "metadata": {},
   "outputs": [
    {
     "name": "stderr",
     "output_type": "stream",
     "text": [
      "100%|███████████████████████████████████████| 2156/2156 [01:36<00:00, 22.25it/s]\n"
     ]
    }
   ],
   "source": [
    "q_num = 3\n",
    "df = pd.DataFrame(index=alpha_df.index.unique())\n",
    "for dt in tqdm(alpha_df.index.unique()):\n",
    "    tmp = alpha_df.loc[alpha_df.index == dt]\n",
    "    for feature in factor_names:\n",
    "        #tmp['returns_2'] = wins(tmp['returns_2'], -0.06, 0.06)\n",
    "        ret_sr = tmp['returns_2'] * np.sign(tmp[feature])\n",
    "        # stop loss\n",
    "        tmp['returns_2'] = np.where(ret_sr<-0.01, -0.015, tmp['returns_2'])\n",
    "        # costs\n",
    "        holding2one_now = tmp[feature]/tmp[feature].abs().sum()\n",
    "        holding2one_pre = tmp[feature + 'shift1'] / tmp[feature + 'shift1'].abs().sum()\n",
    "        costs = (holding2one_now - holding2one_pre).abs().sum() * 5e-4\n",
    "        # factor return\n",
    "        df.at[dt, feature] = (tmp['returns_2'] * tmp[feature]).sum()/(tmp[feature].abs().sum()) - costs\n",
    "        \n",
    "        # quartile 3 returns\n",
    "#         try:\n",
    "#             tmp[feature + '_q' + str(q_num)] = pd.qcut(tmp[feature], q=q_num, \n",
    "#                                                        labels=list(range(1,q_num+1)), duplicates='drop')\n",
    "#         except Exception as e:\n",
    "#             tmp[feature + '_q' + str(q_num)] = 2\n",
    "#         for q in range(1, q_num+1):\n",
    "#             # 1q 2q 3q 4q 5q\n",
    "#             df.at[dt, feature + '_q' + str(q)] = tmp.loc[tmp[feature + '_q'+str(q_num)]==q]['returns_2'].sum()"
   ]
  },
  {
   "cell_type": "code",
   "execution_count": 110,
   "id": "02dfdc18",
   "metadata": {},
   "outputs": [
    {
     "data": {
      "text/plain": [
       "<AxesSubplot:xlabel='date'>"
      ]
     },
     "execution_count": 110,
     "metadata": {},
     "output_type": "execute_result"
    },
    {
     "data": {
      "image/png": "[encoded data removed]",
      "text/plain": [
       "<Figure size 900x500 with 1 Axes>"
      ]
     },
     "metadata": {},
     "output_type": "display_data"
    }
   ],
   "source": [
    "# 'alpha_cci', 'alpha_wt', 'alpha_macd', 'alpha_ppo', 'alpha_rsi', 'alpha_srsi1',\n",
    "# 'alpha_t4', 'alpha_t2', 'alpha_078', 'alpha_075', \n",
    "\n",
    "display_field = [\n",
    "    #'alpha_wt', 'alpha_cci', 'alpha_rsi',  'alpha_macd',  'alpha_t2',  'alpha_ppo',  'alpha_t4a',\n",
    "    #'alpha_t4', 'alpha_kdj', 'alpha_srsi', 'alpha_wr', 'alpha_075', 'alpha_t1', \n",
    "     \n",
    "    'alpha_atr', 'alpha_supertrend', 'alpha_supertrend1', 'alpha_kama1', 'alpha_kama', 'alpha_019', 'alpha_t5'\n",
    "]\n",
    "\n",
    "df[display_field].cumsum().plot()"
   ]
  },
  {
   "cell_type": "code",
   "execution_count": 107,
   "id": "a93027a2",
   "metadata": {},
   "outputs": [
    {
     "data": {
      "text/plain": [
       "alpha_wt      11.276431\n",
       "alpha_cci     11.302692\n",
       "alpha_rsi      9.898383\n",
       "alpha_macd     7.919473\n",
       "alpha_t2       9.761085\n",
       "alpha_ppo      8.008903\n",
       "alpha_t4a      8.040287\n",
       "dtype: float64"
      ]
     },
     "execution_count": 107,
     "metadata": {},
     "output_type": "execute_result"
    }
   ],
   "source": [
    "# sharp ratio\n",
    "np.sqrt(2100) * df[display_field].mean()/ df[display_field].std()"
   ]
  },
  {
   "cell_type": "code",
   "execution_count": null,
   "id": "7a9f970e",
   "metadata": {},
   "outputs": [],
   "source": [
    "# alpha_008    7.112507\n",
    "# alpha_078    5.924321\n",
    "# alpha_019    5.641981\n",
    "# alpha_wt     6.093409\n",
    "# alpha_cci    5.723536\n",
    "# alpha_035    5.557689\n",
    "\n",
    "feature = 'alpha_075'\n",
    "q_df = pd.DataFrame(index = df.index)\n",
    "for i in range(1, q_num+1):\n",
    "    q_feature = feature + '_q' + str(i)\n",
    "    if q_feature in df.columns:\n",
    "        q_df[q_feature] = (df[q_feature]).cumsum()\n",
    "\n",
    "q_df.plot()        "
   ]
  },
  {
   "cell_type": "markdown",
   "id": "e5efc7c6",
   "metadata": {},
   "source": [
    "### Save  or read rescale data"
   ]
  },
  {
   "cell_type": "code",
   "execution_count": null,
   "id": "bef257de",
   "metadata": {},
   "outputs": [],
   "source": [
    "field = ['ts_code', 'close', 'log-ret', 'trade_date',\n",
    "         'alpha_cci', 'alpha_rsi', 'alpha_wt'\n",
    "        ]\n",
    "universe[field].reset_index().to_feather('bitcoin_data/factor_data/facotors_DBM_backtest.feather')"
   ]
  },
  {
   "cell_type": "code",
   "execution_count": null,
   "id": "702e74d9",
   "metadata": {},
   "outputs": [],
   "source": [
    "universe_raw = feather.read_dataframe('bitcoin_data/factor_data/factors_smooth_zscore_20221001_20230529.feather')\n",
    "#universe_raw['date'] = pd.to_datetime(universe_raw['trade_date'], format='%Y-%m-%d %H:%M:%S')\n",
    "universe_raw = universe_raw.set_index(['date']).sort_values(by=['date', 'ts_code'])\n",
    "print(universe_raw.shape)"
   ]
  },
  {
   "cell_type": "code",
   "execution_count": null,
   "id": "c5698fb8",
   "metadata": {},
   "outputs": [],
   "source": [
    "universe_raw.columns"
   ]
  },
  {
   "cell_type": "code",
   "execution_count": null,
   "id": "6a11d8aa",
   "metadata": {},
   "outputs": [],
   "source": [
    "feature = 'alpha_atr'\n",
    "start_time = '2023-03-01 00:00:00'\n",
    "end_time = '2023-06-01 00:00:00'\n",
    "tmp = universe_raw.loc[(universe_raw.ts_code=='SHIBUSDT') & (universe_raw.index>=start_time) & (universe_raw.index<=end_time)]\n",
    "#tmp[['close']] = tmp[['close']].apply(zscore)\n",
    "#tmp[feature] = Decaylinear(tmp[feature],4)#.rolling(6).mean()\n",
    "tmp[[feature, 'close']].plot(grid=True)"
   ]
  },
  {
   "cell_type": "code",
   "execution_count": null,
   "id": "a2452385",
   "metadata": {},
   "outputs": [],
   "source": []
  }
 ],
 "metadata": {
  "kernelspec": {
   "display_name": "py37",
   "language": "python",
   "name": "py37"
  },
  "language_info": {
   "codemirror_mode": {
    "name": "ipython",
    "version": 3
   },
   "file_extension": ".py",
   "mimetype": "text/x-python",
   "name": "python",
   "nbconvert_exporter": "python",
   "pygments_lexer": "ipython3",
   "version": "3.7.12"
  }
 },
 "nbformat": 4,
 "nbformat_minor": 5
}
