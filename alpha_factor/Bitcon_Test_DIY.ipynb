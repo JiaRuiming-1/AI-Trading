{
 "cells": [
  {
   "cell_type": "code",
   "execution_count": 1,
   "id": "e24f45f4",
   "metadata": {},
   "outputs": [],
   "source": [
    "import pandas as pd \n",
    "import numpy as np\n",
    "from tqdm import tqdm\n",
    "from scipy.stats import zscore, spearmanr, rankdata\n",
    "from statsmodels.formula.api import ols\n",
    "import math\n",
    "\n",
    "from matplotlib import pyplot as plt\n",
    "%matplotlib inline\n",
    "plt.rcParams['figure.figsize'] = [9, 5]\n",
    "\n",
    "import os\n",
    "import sys\n",
    "sys.path.append('../')\n",
    "from alpha_191 import Alpha191\n",
    "\n",
    "import warnings\n",
    "warnings.filterwarnings('ignore')\n",
    "\n",
    "import feather"
   ]
  },
  {
   "cell_type": "markdown",
   "id": "2d466880",
   "metadata": {},
   "source": [
    "### 读取自存数据"
   ]
  },
  {
   "cell_type": "code",
   "execution_count": null,
   "id": "c5bba385",
   "metadata": {},
   "outputs": [],
   "source": [
    "universe = feather.read_dataframe('bitcoin_data/raw36_20220301_now.feather')\n",
    "universe = universe.drop(columns=['close time'])\n",
    "#universe['date'] = pd.to_datetime(universe['date'],format='%Y-%m-%d %H:%M:%S')\n",
    "universe = universe.set_index(['date']).sort_values(by=['date', 'ts_code'])"
   ]
  },
  {
   "cell_type": "code",
   "execution_count": null,
   "id": "8f6aa617",
   "metadata": {},
   "outputs": [],
   "source": [
    "#universe.loc[universe.ts_code=='BTCUSDT'].head(10)\n",
    "universe = universe.loc[universe.index >= '2022-06-01 00:00:00']"
   ]
  },
  {
   "cell_type": "code",
   "execution_count": null,
   "id": "a33a4251",
   "metadata": {},
   "outputs": [],
   "source": [
    "universe['vwap'] = universe['amount']/universe['volume']\n",
    "universe = universe.rename(columns={'open':'open_usdt', 'high':'high_usdt', 'low':'low_usdt', \n",
    "                                    'close':'close_usdt', 'vwap':'vwap_usdt'})"
   ]
  },
  {
   "cell_type": "code",
   "execution_count": null,
   "id": "55dc8a82",
   "metadata": {},
   "outputs": [],
   "source": [
    "def my_groupby(df, column, func, sort_keys=['date', 'ts_code']):\n",
    "    all_df = pd.DataFrame()\n",
    "    for val in tqdm(df[column].unique()):\n",
    "        tmp = df.loc[df[column] == val]\n",
    "        all_df = all_df.append(func(tmp))\n",
    "    return all_df.sort_index(level=sort_keys)"
   ]
  },
  {
   "cell_type": "code",
   "execution_count": null,
   "id": "932602ac",
   "metadata": {},
   "outputs": [],
   "source": [
    "def convert_price_to_returns(df):\n",
    "    def cal_(data):\n",
    "        data['close'] = data['close_usdt'].pct_change()\n",
    "        data['close'] = (data['close'].fillna(0) + 1).cumprod()\n",
    "        data['vwap'] = data['vwap_usdt'].pct_change()\n",
    "        data['vwap'] = (data['vwap'].fillna(0) + 1).cumprod()\n",
    "        \n",
    "        for feature in ['open', 'high', 'low',]:\n",
    "            data[feature] = data[feature + '_usdt']/data['close_usdt'] * data['close']\n",
    "        return data\n",
    "    \n",
    "    df = my_groupby(df, 'ts_code', cal_)\n",
    "    return df\n",
    "\n",
    "universe = convert_price_to_returns(universe)"
   ]
  },
  {
   "cell_type": "code",
   "execution_count": null,
   "id": "0a2b670c",
   "metadata": {},
   "outputs": [],
   "source": [
    "universe['trade_date'] = universe.index\n",
    "universe = universe.loc[universe.ts_code!='TUSDUSDT'].sort_values(by=['date', 'ts_code'])"
   ]
  },
  {
   "cell_type": "code",
   "execution_count": null,
   "id": "f251a097",
   "metadata": {},
   "outputs": [],
   "source": [
    "# tmp = universe.loc[(universe.ts_code=='BTCUSDT') & (universe.index>'2023-05-25 00:00:00')]\n",
    "# tmp[['close']] = tmp[['close']].apply(zscore)\n",
    "# #universe\n",
    "# tmp[['ppo', 'ppos', 'close']].plot(grid=True)\n",
    "universe.ts_code.unique()"
   ]
  },
  {
   "cell_type": "markdown",
   "id": "7e874ced",
   "metadata": {},
   "source": [
    "### 构造技术指标为alpha"
   ]
  },
  {
   "cell_type": "code",
   "execution_count": null,
   "id": "f80e5fc9",
   "metadata": {},
   "outputs": [],
   "source": [
    "import stockstats\n",
    "\n",
    "class IndicatorHelper(pd.DataFrame):\n",
    "    \"\"\"\n",
    "        add indicators to dataframe\n",
    "    \"\"\"\n",
    "\n",
    "    def __init__(self, data):\n",
    "        super(IndicatorHelper, self).__init__(data)\n",
    "\n",
    "        self.stocks = stockstats.StockDataFrame.retype(data.copy())\n",
    "        self.df = self\n",
    "\n",
    "    def add_technical_indicator(self, tech_indicator_list):\n",
    "        \"\"\"\n",
    "        calculate technical indicators\n",
    "        use stockstats package to add technical inidactors\n",
    "        :param ticker: (df) pandas dataframe\n",
    "        :param tech_indeicator_list list\n",
    "        :return: (df) pandas dataframe\n",
    "        \"\"\"\n",
    "        unique_ticker = self.df.ts_code.unique()\n",
    "\n",
    "        indicator_df = pd.DataFrame()\n",
    "        for i in tqdm(range(len(unique_ticker)), desc='add tech indicators'):\n",
    "            temp_indicator = self.stocks[self.stocks.ts_code == unique_ticker[i]]\n",
    "            temp_indicator = temp_indicator[tech_indicator_list + ['ts_code', 'trade_date']]\n",
    "            indicator_df = indicator_df.append(temp_indicator, ignore_index=True)\n",
    "        \n",
    "        self.df = self.df.merge(indicator_df, on=[\"ts_code\", \"trade_date\"], how=\"left\")\n",
    "        self.df['date'] = self.df['trade_date'].apply(lambda x: pd.Timestamp(x))\n",
    "        self.df = self.df.set_index(['date']).sort_values(\n",
    "                    by=['date', 'ts_code']).drop_duplicates(subset=['trade_date','ts_code'])\n",
    "        return self.df\n",
    "    "
   ]
  },
  {
   "cell_type": "code",
   "execution_count": null,
   "id": "295d8b87",
   "metadata": {},
   "outputs": [],
   "source": [
    "# add tech indicators\n",
    "tech_indicator_list = ['log-ret','wt1', 'wt2','stochrsi_6', 'cci', 'cci_6', 'rsi_6', 'wr_6', 'close_10_kama_5_30',\n",
    "                       'ppo', 'ppos', 'macds', 'macd', 'macdh', 'kdjj', 'kdjk', 'kdjd', 'atr', 'atr_6', 'supertrend'] \n",
    "universe = IndicatorHelper(universe).add_technical_indicator(tech_indicator_list)"
   ]
  },
  {
   "cell_type": "markdown",
   "id": "32f7b904",
   "metadata": {},
   "source": [
    "### 构造指数"
   ]
  },
  {
   "cell_type": "code",
   "execution_count": null,
   "id": "833b4cfa",
   "metadata": {},
   "outputs": [],
   "source": [
    "index_df = pd.DataFrame(index=universe.index.unique())\n",
    "index_df['close'] = 0.65 * universe.loc[universe.ts_code == 'BTCUSDT']['close'] \\\n",
    "                    + 0.35 * universe.loc[universe.ts_code == 'ETHUSDT']['close']\n",
    "index_df['open'] = 0.65 * universe.loc[universe.ts_code == 'BTCUSDT']['open'] \\\n",
    "                    + 0.35 * universe.loc[universe.ts_code == 'ETHUSDT']['open']\n",
    "index_df['high'] = 0.65 * universe.loc[universe.ts_code == 'BTCUSDT']['high'] \\\n",
    "                    + 0.35 * universe.loc[universe.ts_code == 'ETHUSDT']['high']\n",
    "index_df['low'] = 0.65 * universe.loc[universe.ts_code == 'BTCUSDT']['low'] \\\n",
    "                    + 0.35 * universe.loc[universe.ts_code == 'ETHUSDT']['low']\n",
    "index_df['log-ret'] = 0.65 * universe.loc[universe.ts_code == 'BTCUSDT']['log-ret'] \\\n",
    "                    + 0.35 * universe.loc[universe.ts_code == 'ETHUSDT']['log-ret']\n",
    "index_df.head()"
   ]
  },
  {
   "cell_type": "code",
   "execution_count": null,
   "id": "a15b71dc",
   "metadata": {},
   "outputs": [],
   "source": [
    "def base_indicators(df):\n",
    "    def cal_(data):\n",
    "        data['range_5'] = data['high'].rolling(5).max() - data['low'].rolling(5).min()\n",
    "        data['wave_5'] = data['close'].rolling(5).std()\n",
    "        data['range_10'] = data['high'].rolling(10).max() - data['low'].rolling(10).min()\n",
    "        data['wave_10'] = data['close'].rolling(10).std()\n",
    "        data['range_14'] = data['high'].rolling(14).max() - data['low'].rolling(14).min()\n",
    "        data['wave_14'] = data['close'].rolling(14).std()\n",
    "        data['ret_5'] = data['log-ret'].rolling(5).sum()\n",
    "        data['ret_10'] = data['log-ret'].rolling(10).sum()\n",
    "        data['buy_percent5'] = (data['buy_amount']/data['amount']).rolling(5).mean()\n",
    "        data['buy_percent10'] = (data['buy_amount']/data['amount']).rolling(10).mean()\n",
    "        return data\n",
    "    \n",
    "    df = my_groupby(df, 'ts_code', cal_)\n",
    "    return df\n",
    "\n",
    "universe = base_indicators(universe)"
   ]
  },
  {
   "cell_type": "code",
   "execution_count": 3,
   "id": "8846ca60",
   "metadata": {},
   "outputs": [],
   "source": [
    "def Corr(data, win_len):\n",
    "    obj = data.rolling(window=win_len, method='table')\n",
    "    s = []\n",
    "    for o in obj:\n",
    "        if o.shape[0] < win_len:\n",
    "            s.append(0.)\n",
    "        else:\n",
    "            s.append(spearmanr(o.iloc[:, 0], o.iloc[:, 1])[0])\n",
    "            # s.append(o.iloc[:, 0].corr(o.iloc[:, 1]))\n",
    "    return pd.DataFrame(s, index=data.index, columns=['corr'])\n",
    "\n",
    "def ts_rank(data, window=10):\n",
    "    return data.rolling(window).apply(lambda x: rankdata(x)[-1])\n",
    "\n",
    "def Highday(sr, window):\n",
    "    return sr.rolling(window).apply(lambda x: len(x) - x.values.argmax())\n",
    "\n",
    "def Lowday(sr, window):\n",
    "    return sr.rolling(window).apply(lambda x: len(x) - x.values.argmin())\n",
    "\n",
    "def Regbeta(sr, x):\n",
    "    window = len(x)\n",
    "    return sr.rolling(window).apply(lambda y: np.polyfit(x, y, deg=1)[0])\n",
    "\n",
    "def Sequence(n):\n",
    "    return np.arange(1, n + 1)\n",
    "\n",
    "def Decaylinear(sr, window):\n",
    "    weights = np.array(range(1, window + 1))\n",
    "    sum_weights = np.sum(weights)\n",
    "    return sr.rolling(window).apply(lambda x: np.sum(weights * x) / sum_weights)\n",
    "\n",
    "def rolling_jump(sr, win, interval):\n",
    "    \n",
    "    if win>=interval:\n",
    "        result = [np.nan]*(win-interval)\n",
    "        for i in range(win, len(sr), interval):\n",
    "            result.extend([np.nan]*(interval-1) + [sr[i-win:i].mean()])\n",
    "    else:\n",
    "        result = []\n",
    "        for i in range(interval, len(sr), interval):\n",
    "            result.extend([np.nan]*(interval-1) + [sr[i-win:i].mean()])\n",
    "            \n",
    "    if len(sr) > len(result):\n",
    "        result.extend([np.nan]*(len(sr) - len(result)))\n",
    "    return pd.Series(result, sr.index)\n",
    "\n",
    "def my_groupby(df, column, func, sort_keys=['date', 'ts_code']):\n",
    "    all_df = pd.DataFrame()\n",
    "    for val in tqdm(df[column].unique()):\n",
    "        tmp = df.loc[df[column] == val]\n",
    "        all_df = all_df.append(func(tmp))\n",
    "    return all_df.sort_values(by=sort_keys)"
   ]
  },
  {
   "cell_type": "markdown",
   "id": "435f326f",
   "metadata": {},
   "source": [
    "### 构造alpha因子"
   ]
  },
  {
   "cell_type": "code",
   "execution_count": null,
   "id": "b4a8c1e6",
   "metadata": {},
   "outputs": [],
   "source": [
    "universe['alpha_wt'] = -(universe['wt1'] - universe['wt2'])\n",
    "universe['alpha_cci'] = -universe['cci']\n",
    "universe['alpha_cci1'] = -universe['cci_6']\n",
    "universe['alpha_srsi'] = -universe['stochrsi_6']\n",
    "universe['alpha_rsi'] = -universe['rsi_6']\n",
    "universe['alpha_wr'] = -universe['wr_6']\n",
    "universe['alpha_ppo'] = (universe['ppos'] - universe['ppo'])\n",
    "universe['alpha_ppo1'] = -universe['ppos']\n",
    "universe['alpha_macd'] = (universe['macds'] - universe['macd'])\n",
    "universe['alpha_kdj'] = -((universe['kdjj'] - universe['kdjk'])\n",
    "                           + (universe['kdjk'] - universe['kdjd']))\n",
    "universe['alpha_atr'] = -universe['atr']\n",
    "universe['alpha_atr1'] = -universe['atr_6']\n",
    "universe['alpha_supertrend'] = universe['supertrend'] - universe['close']\n",
    "universe['alpha_supertrend1'] = universe['close'].rolling(5).mean() - universe['supertrend']\n",
    "universe['alpha_kama1'] = -universe['close_10_kama_5_30']"
   ]
  },
  {
   "cell_type": "code",
   "execution_count": null,
   "id": "8d896986",
   "metadata": {},
   "outputs": [],
   "source": [
    "def alpha_kama(df):\n",
    "    feature = 'close_10_kama_5_30'\n",
    "    def cal_(df):\n",
    "        kama_filter = df[feature].rolling(20).std()\n",
    "        cond_in1 = (df[feature] - df[feature].shift(1)) >kama_filter\n",
    "        cond_in2 = (df[feature].shift(1) - df[feature].shift(2)) > kama_filter\n",
    "        cond_out1 = (df[feature] - df[feature].shift(1)) < -kama_filter\n",
    "        cond_out2 = (df[feature].shift(1) - df[feature].shift(2)) < -kama_filter\n",
    "        df['alpha_kama'] = np.where((cond_out1 & cond_out2), -1 , np.nan)\n",
    "        df['alpha_kama'] = np.where((cond_in1 & cond_in2), 1 , df['alpha_kama'])\n",
    "        df['alpha_kama'] = df['alpha_kama'].fillna(method='ffill').fillna(0.) * kama_filter\n",
    "        return df\n",
    "    \n",
    "    df = my_groupby(df, 'ts_code', cal_)\n",
    "    return df\n",
    "\n",
    "universe = alpha_kama(universe)"
   ]
  },
  {
   "cell_type": "code",
   "execution_count": null,
   "id": "cbc6407f",
   "metadata": {},
   "outputs": [],
   "source": [
    "def alpha_t1(df):\n",
    "    def cal_(data):\n",
    "        cond1 = data['macdh'] - data['macdh'].shift(1)\n",
    "        cond2 = data['macdh'].shift(1) - data['macdh'].shift(2)\n",
    "        val_pos = 10 - ts_rank(data['macdh'], 9)\n",
    "        val_neg = 10 - ts_rank(-data['macdh'], 9)\n",
    "        data['alpha_t1'] = np.where(((cond1>0) & (cond2>=0)), -1/val_pos,\n",
    "                            np.where(((cond1<0) & (cond2<=0)), 1/val_neg, 0.))\n",
    "        return data\n",
    "    \n",
    "    df = my_groupby(df, 'ts_code', cal_)\n",
    "    return df\n",
    "\n",
    "universe = alpha_t1(universe)"
   ]
  },
  {
   "cell_type": "code",
   "execution_count": null,
   "id": "378c57c2",
   "metadata": {},
   "outputs": [],
   "source": [
    "def alpha_t2(df):\n",
    "    def cal_(data):\n",
    "        data['alpha_t2'] = np.where(data['ret_5']>0, \n",
    "                                    -data['ret_5'] * data['buy_percent5'],\n",
    "                                    -data['ret_5'] * (1 - data['buy_percent5']))\n",
    "        \n",
    "        return data\n",
    "    \n",
    "    df = my_groupby(df, 'ts_code', cal_)\n",
    "    return df\n",
    "\n",
    "universe = alpha_t2(universe)"
   ]
  },
  {
   "cell_type": "code",
   "execution_count": null,
   "id": "de67d18d",
   "metadata": {},
   "outputs": [],
   "source": [
    "def alpha_t4(df):\n",
    "    def cal1_(sr, win_len=5):\n",
    "        section = sr\n",
    "        section = -np.where(section < section.shift(win_len),\n",
    "                                   (section - section.shift(win_len)) / section.shift(win_len),\n",
    "                                   np.where(section > section.shift(win_len),\n",
    "                                            (section - section.shift(win_len)) / section, 0.))\n",
    "        return pd.Series(section, index=sr.index)\n",
    "\n",
    "    ## 4 hour\n",
    "    def cal2_(data):\n",
    "        section1 = cal1_(data['close'], 5)\n",
    "        section2 = rolling_jump(section1, 4, 3).fillna(method='ffill')\n",
    "        \n",
    "        data['alpha_t4'] = np.where((section1>0)&(section2>0), section1,\n",
    "                                    np.where((section1<0)&(section2<0), section1, section2))\n",
    "        data['alpha_t4a'] = cal1_(data['close'], 5)\n",
    "        return data\n",
    "    \n",
    "    df = my_groupby(df, 'ts_code', cal2_)\n",
    "    return df\n",
    "\n",
    "universe = alpha_t4(universe)"
   ]
  },
  {
   "cell_type": "code",
   "execution_count": null,
   "id": "6730f62d",
   "metadata": {},
   "outputs": [],
   "source": [
    "def alpha_t5(df):\n",
    "    def cal_(data):\n",
    "        data['alpha_t5'] = -(data['close'] - data['low'].rolling(5).min())/data['wave_10']\n",
    "        \n",
    "        high_4h = rolling_jump(data['high'].rolling(4).max(), 1, 4).fillna(method='ffill')\n",
    "        low_4h = rolling_jump(data['low'].rolling(4).min(), 1, 4).fillna(method='ffill')\n",
    "        data['alpha_t5a'] = -np.sign(data['ret_5']) * (high_4h - low_4h) / \\\n",
    "                                ts_rank(data['volume'].rolling(4).mean(), 12)\n",
    "        data['alpha_t5a'] = np.where(data['alpha_t5a']>0, data['alpha_t5a']/(data['buy_percent5']+1),\n",
    "                                    data['alpha_t5a']/(2 - data['buy_percent5']))\n",
    "        \n",
    "        return data\n",
    "    \n",
    "    df = my_groupby(df, 'ts_code', cal_)\n",
    "    return df\n",
    "\n",
    "universe = alpha_t5(universe)"
   ]
  },
  {
   "cell_type": "code",
   "execution_count": 78,
   "id": "784fb54e",
   "metadata": {},
   "outputs": [
    {
     "name": "stderr",
     "output_type": "stream",
     "text": [
      "100%|███████████████████████████████████████████| 35/35 [00:03<00:00,  9.36it/s]\n"
     ]
    }
   ],
   "source": [
    "def alpha_t6(df):\n",
    "    def cal_(data):\n",
    "        atr_rolling = data['atr'].rolling(120)\n",
    "        up_line = atr_rolling.mean() + 1.2*atr_rolling.std()\n",
    "        down_line = atr_rolling.mean() - 1.2*atr_rolling.std()\n",
    "        jud = data['atr'] - data['atr'].shift(1)\n",
    "        data['alpha_t6'] = np.where((data['atr']>=up_line), -data['atr'],\n",
    "                                   np.where((data['atr']<=down_line), data['atr'], 0))\n",
    "        data['alpha_t6'] = data['alpha_t6'].rolling(5).mean()\n",
    "        return data\n",
    "    \n",
    "    df = my_groupby(df, 'ts_code', cal_)\n",
    "    return df\n",
    "\n",
    "universe = alpha_t6(universe)"
   ]
  },
  {
   "cell_type": "code",
   "execution_count": null,
   "id": "03a257ea",
   "metadata": {},
   "outputs": [],
   "source": [
    "def alpha_t7(df):\n",
    "    def cal_(data):\n",
    "        jud = data['cci'] - data['cci'].shift(1)\n",
    "        other = (data['alpha_rsi'] + 50) * 2\n",
    "        data['alpha_t7'] = np.where((data['cci']>=120) & (jud<0), -data['cci'],\n",
    "                                   np.where((data['cci']<=-120) & (jud>0), -data['cci'], 0.3*other))\n",
    "        return data\n",
    "    \n",
    "    df = my_groupby(df, 'ts_code', cal_)\n",
    "    return df\n",
    "\n",
    "universe = alpha_t7(universe)"
   ]
  },
  {
   "cell_type": "code",
   "execution_count": null,
   "id": "028811d5",
   "metadata": {},
   "outputs": [],
   "source": [
    "def alpha019(df):\n",
    "    def cal_(df):\n",
    "        df['alpha_019'] = -np.where(df['close'] < df['close'].shift(5),\n",
    "                                   (df['close'] - df['close'].shift(5)) / df['close'].shift(5),\n",
    "                                   np.where(df['close'] > df['close'].shift(5),\n",
    "                                            (df['close'] - df['close'].shift(5)) / df['close'], 0.))\n",
    "        return df\n",
    "\n",
    "    df = my_groupby(df, 'ts_code', cal_)\n",
    "    return df\n",
    "\n",
    "universe = alpha019(universe)"
   ]
  },
  {
   "cell_type": "code",
   "execution_count": null,
   "id": "57b609be",
   "metadata": {},
   "outputs": [],
   "source": [
    "def alpha075(df):\n",
    "    def cal_(df):\n",
    "        benchmark_close = index_df.loc[df.index]['close']\n",
    "        benchmark_return = index_df.loc[df.index]['log-ret']\n",
    "        cond1 = ((df['ret_5']<-0.01) & (benchmark_return > 0))\n",
    "        cond2 = ((df['ret_5']<-0.01) & (benchmark_close > benchmark_close.shift(5)))\n",
    "        cond3 = ((df['ret_5']>0.01) & (benchmark_return < 0))\n",
    "        cond4 = ((df['ret_5']>0.01) & (benchmark_close < benchmark_close.shift(5)))\n",
    "        df['section1'] = np.where(cond1, -df['log-ret'], np.where(cond3, -df['log-ret'], 0))\n",
    "        df['section2'] = np.where(cond2, -df['log-ret'], np.where(cond4, -df['log-ret'], 0))\n",
    "        df['alpha_075'] = df['section1'].rolling(5).sum() + df['section2'].rolling(5).sum()\n",
    "        return df\n",
    "\n",
    "    df = my_groupby(df, 'ts_code', cal_)\n",
    "    df = df.drop(columns=['section1', 'section2'])\n",
    "    return df\n",
    "\n",
    "universe = alpha075(universe)"
   ]
  },
  {
   "cell_type": "code",
   "execution_count": null,
   "id": "3a73c95b",
   "metadata": {},
   "outputs": [],
   "source": [
    "bak = universe.copy(deep=True)"
   ]
  },
  {
   "cell_type": "code",
   "execution_count": null,
   "id": "4c11adfa",
   "metadata": {},
   "outputs": [],
   "source": [
    "universe.columns"
   ]
  },
  {
   "cell_type": "code",
   "execution_count": null,
   "id": "368e5101",
   "metadata": {},
   "outputs": [],
   "source": [
    "universe.reset_index().to_feather('bitcoin_data/factor_data/factors_DBM_20220301_20230529.feather')\n",
    "#universe[final_columns].reset_index().to_feather('bitcoin_data/factor_data/factors_20221001_20230529.feather')"
   ]
  },
  {
   "cell_type": "code",
   "execution_count": 77,
   "id": "e0c1d5e4",
   "metadata": {},
   "outputs": [
    {
     "data": {
      "text/plain": [
       "(294307, 73)"
      ]
     },
     "execution_count": 77,
     "metadata": {},
     "output_type": "execute_result"
    }
   ],
   "source": [
    "universe = pd.read_feather('bitcoin_data/factor_data/factors_DBM_20220301_20230529.feather')\n",
    "universe = universe.set_index(['date']).sort_values(by=['date', 'ts_code'])\n",
    "universe.shape"
   ]
  },
  {
   "cell_type": "code",
   "execution_count": null,
   "id": "3562e654",
   "metadata": {},
   "outputs": [],
   "source": [
    "print(universe.shape)\n",
    "universe.dropna().head()"
   ]
  },
  {
   "cell_type": "markdown",
   "id": "60ea9e57",
   "metadata": {},
   "source": [
    "### view factors"
   ]
  },
  {
   "cell_type": "code",
   "execution_count": 106,
   "id": "191c86fc",
   "metadata": {},
   "outputs": [
    {
     "data": {
      "text/plain": [
       "<AxesSubplot:xlabel='date'>"
      ]
     },
     "execution_count": 106,
     "metadata": {},
     "output_type": "execute_result"
    },
    {
     "data": {
      "image/png": "[encoded data removed]",
      "text/plain": [
       "<Figure size 900x500 with 1 Axes>"
      ]
     },
     "metadata": {},
     "output_type": "display_data"
    }
   ],
   "source": [
    "tmp = universe.loc[(universe.index>='2023-04-01 00:00:00') \n",
    "                   & (universe.index<='2023-05-29 00:00:00') & (universe.ts_code=='CFXUSDT')]\n",
    "\n",
    "def rescale_tmp(sr, bias = .0):\n",
    "    return sr/20 + bias\n",
    "#tmp['alpha_wr'] = tmp['alpha_wr']/2000 + 1\n",
    "tmp['alpha_macd'] = tmp['alpha_macd']/20\n",
    "tmp['alpha_kdj'] = tmp['alpha_kdj']/20\n",
    "tmp['alpha_wt'] = tmp['alpha_wt']/20\n",
    "tmp['alpha_wr'] = tmp['alpha_wr']/20\n",
    "tmp['alpha_ppo'] = tmp['alpha_ppo']/20\n",
    "tmp['alpha_cci'] = tmp['alpha_cci']/20\n",
    "tmp['alpha_t1'] = tmp['alpha_t1']/20\n",
    "tmp['alpha_t2'] = rescale_tmp(tmp['alpha_t2'])\n",
    "tmp['alpha_t4'] = tmp['alpha_t4']/20\n",
    "tmp['alpha_t4a'] = tmp['alpha_t4a']/20\n",
    "tmp['alpha_t6'] = tmp['alpha_t6']/20\n",
    "tmp['alpha_srsi'] = tmp['alpha_srsi']/20\n",
    "tmp['alpha_rsi'] = tmp['alpha_rsi']/20\n",
    "tmp['alpha_075'] = tmp['alpha_075']/20\n",
    "tmp['alpha_019'] = tmp['alpha_019']/20\n",
    "tmp['alpha_atr'] = tmp['alpha_atr'] + 2.5\n",
    "tmp['alpha_supertrend1'] = tmp['alpha_supertrend1']\n",
    "tmp['alpha_kama1'] = tmp['alpha_kama1']\n",
    "\n",
    "tmp['close'] = tmp['close'].shift(-1) -4\n",
    "tmp[['close', 'alpha_atr', 'alpha_t6']].plot(grid=True)"
   ]
  },
  {
   "cell_type": "code",
   "execution_count": 71,
   "id": "447ee440",
   "metadata": {},
   "outputs": [
    {
     "data": {
      "text/html": [
       "<div>\n",
       "<style scoped>\n",
       "    .dataframe tbody tr th:only-of-type {\n",
       "        vertical-align: middle;\n",
       "    }\n",
       "\n",
       "    .dataframe tbody tr th {\n",
       "        vertical-align: top;\n",
       "    }\n",
       "\n",
       "    .dataframe thead th {\n",
       "        text-align: right;\n",
       "    }\n",
       "</style>\n",
       "<table border=\"1\" class=\"dataframe\">\n",
       "  <thead>\n",
       "    <tr style=\"text-align: right;\">\n",
       "      <th></th>\n",
       "      <th>ts_code</th>\n",
       "      <th>alpha_t6</th>\n",
       "    </tr>\n",
       "    <tr>\n",
       "      <th>date</th>\n",
       "      <th></th>\n",
       "      <th></th>\n",
       "    </tr>\n",
       "  </thead>\n",
       "  <tbody>\n",
       "    <tr>\n",
       "      <th>2023-05-23 19:00:00</th>\n",
       "      <td>CFXUSDT</td>\n",
       "      <td>-1.809511</td>\n",
       "    </tr>\n",
       "    <tr>\n",
       "      <th>2023-05-23 20:00:00</th>\n",
       "      <td>CFXUSDT</td>\n",
       "      <td>-1.807170</td>\n",
       "    </tr>\n",
       "    <tr>\n",
       "      <th>2023-05-23 18:00:00</th>\n",
       "      <td>CFXUSDT</td>\n",
       "      <td>-1.804518</td>\n",
       "    </tr>\n",
       "    <tr>\n",
       "      <th>2023-05-23 21:00:00</th>\n",
       "      <td>CFXUSDT</td>\n",
       "      <td>-1.795695</td>\n",
       "    </tr>\n",
       "    <tr>\n",
       "      <th>2023-05-23 17:00:00</th>\n",
       "      <td>CFXUSDT</td>\n",
       "      <td>-1.789123</td>\n",
       "    </tr>\n",
       "    <tr>\n",
       "      <th>...</th>\n",
       "      <td>...</td>\n",
       "      <td>...</td>\n",
       "    </tr>\n",
       "    <tr>\n",
       "      <th>2023-05-13 22:00:00</th>\n",
       "      <td>CFXUSDT</td>\n",
       "      <td>0.980759</td>\n",
       "    </tr>\n",
       "    <tr>\n",
       "      <th>2023-05-14 00:00:00</th>\n",
       "      <td>CFXUSDT</td>\n",
       "      <td>0.982532</td>\n",
       "    </tr>\n",
       "    <tr>\n",
       "      <th>2023-05-13 21:00:00</th>\n",
       "      <td>CFXUSDT</td>\n",
       "      <td>0.983930</td>\n",
       "    </tr>\n",
       "    <tr>\n",
       "      <th>2023-05-13 20:00:00</th>\n",
       "      <td>CFXUSDT</td>\n",
       "      <td>0.991639</td>\n",
       "    </tr>\n",
       "    <tr>\n",
       "      <th>2023-05-20 15:00:00</th>\n",
       "      <td>CFXUSDT</td>\n",
       "      <td>1.012897</td>\n",
       "    </tr>\n",
       "  </tbody>\n",
       "</table>\n",
       "<p>24255 rows × 2 columns</p>\n",
       "</div>"
      ],
      "text/plain": [
       "                     ts_code  alpha_t6\n",
       "date                                  \n",
       "2023-05-23 19:00:00  CFXUSDT -1.809511\n",
       "2023-05-23 20:00:00  CFXUSDT -1.807170\n",
       "2023-05-23 18:00:00  CFXUSDT -1.804518\n",
       "2023-05-23 21:00:00  CFXUSDT -1.795695\n",
       "2023-05-23 17:00:00  CFXUSDT -1.789123\n",
       "...                      ...       ...\n",
       "2023-05-13 22:00:00  CFXUSDT  0.980759\n",
       "2023-05-14 00:00:00  CFXUSDT  0.982532\n",
       "2023-05-13 21:00:00  CFXUSDT  0.983930\n",
       "2023-05-13 20:00:00  CFXUSDT  0.991639\n",
       "2023-05-20 15:00:00  CFXUSDT  1.012897\n",
       "\n",
       "[24255 rows x 2 columns]"
      ]
     },
     "execution_count": 71,
     "metadata": {},
     "output_type": "execute_result"
    }
   ],
   "source": [
    "universe.loc[universe.index>='2023-05-01 00:00:00'].sort_values(by=['alpha_t6'])[['ts_code','alpha_t6']]"
   ]
  },
  {
   "cell_type": "code",
   "execution_count": null,
   "id": "368d806a",
   "metadata": {},
   "outputs": [],
   "source": [
    "universe.ts_code.unique()"
   ]
  },
  {
   "cell_type": "code",
   "execution_count": 102,
   "id": "a34c1743",
   "metadata": {},
   "outputs": [
    {
     "name": "stdout",
     "output_type": "stream",
     "text": [
      "2.6214656339483047 0.03374584969602844\n"
     ]
    },
    {
     "data": {
      "text/plain": [
       "<AxesSubplot:>"
      ]
     },
     "execution_count": 102,
     "metadata": {},
     "output_type": "execute_result"
    },
    {
     "data": {
      "image/png": "[encoded data removed]",
      "text/plain": [
       "<Figure size 900x500 with 1 Axes>"
      ]
     },
     "metadata": {},
     "output_type": "display_data"
    }
   ],
   "source": [
    "factor_name = 'alpha_atr'\n",
    "print(universe[factor_name].std() * 3, universe[factor_name].mean())\n",
    "universe[factor_name].hist()"
   ]
  },
  {
   "cell_type": "markdown",
   "id": "0a57dacb",
   "metadata": {},
   "source": [
    "### 因子评估"
   ]
  },
  {
   "cell_type": "code",
   "execution_count": 5,
   "id": "c569ad32",
   "metadata": {},
   "outputs": [],
   "source": [
    "base_columns = [\n",
    "    'ts_code', 'trade_date', 'volume', 'amount', 'trade_counts', 'buy_volume', 'buy_amount',\n",
    "    'close', 'vwap', 'open', 'high', 'low',  'log-ret', 'range_14', 'wave_14',\n",
    "    'range_5', 'wave_5', 'range_10', 'wave_10', 'ret_5', 'ret_10', 'buy_percent5', 'buy_percent10']"
   ]
  },
  {
   "cell_type": "code",
   "execution_count": 34,
   "id": "2f334cb9",
   "metadata": {},
   "outputs": [],
   "source": [
    "# t7 not need zscore\n",
    "time_zscore_factors = [\n",
    "    'alpha_kama1', 'alpha_atr', 'alpha_atr1', 'alpha_supertrend', 'alpha_supertrend1', 'alpha_t5', \n",
    "]\n",
    "\n",
    "value_zscore_factors = {\n",
    "    # mean and divide scale\n",
    "    'alpha_wt': [0, 25],\n",
    "    'alpha_cci': [0, 360],\n",
    "    'alpha_cci1':[0, 200],\n",
    "    'alpha_srsi':[-50, 100],\n",
    "    'alpha_rsi': [-50, 100],\n",
    "    'alpha_wr':[50, 100],\n",
    "    'alpha_ppo':[0, 2],\n",
    "    'alpha_ppo1':[0, 5],\n",
    "    'alpha_macd':[0, 0.03],\n",
    "    'alpha_kdj':[0,75],\n",
    "    'alpha_kama':[0,0.1],\n",
    "    'alpha_t1':[0,1],\n",
    "    'alpha_t2':[0, 0.1],\n",
    "    'alpha_t4':[0, 0.1],\n",
    "    'alpha_t4a':[0, 0.1],\n",
    "    'alpha_t5a':[0, 0.05],\n",
    "    'alpha_t6':[0, 0.05],\n",
    "    'alpha_t7':[0, 200],\n",
    "    'alpha_019':[0, 0.1],\n",
    "    'alpha_075':[0, 0.1],\n",
    "}\n",
    "\n",
    "factor_names = list(value_zscore_factors.keys()) + time_zscore_factors\n",
    "final_columns = base_columns+factor_names"
   ]
  },
  {
   "cell_type": "code",
   "execution_count": 35,
   "id": "24b2d915",
   "metadata": {},
   "outputs": [
    {
     "name": "stderr",
     "output_type": "stream",
     "text": [
      "100%|██████████████████████████████████████████| 20/20 [00:00<00:00, 239.48it/s]\n",
      "100%|█████████████████████████████████████████████| 6/6 [00:05<00:00,  1.07it/s]\n"
     ]
    }
   ],
   "source": [
    "# def wins(x,a,b):\n",
    "#     return np.where(x <= a,a, np.where(x >= b, b, x))\n",
    "\n",
    "# def zscore_time_factors(universe, time_zscore_factors = time_zscore_factors, win=180):\n",
    "#     for factor_name in tqdm(time_zscore_factors):\n",
    "#         rolling_obj = universe[factor_name].rolling(len(universe.ts_code.unique()) * win)\n",
    "#         universe[factor_name] = (universe[factor_name] - rolling_obj.median())/rolling_obj.std()\n",
    "#         universe[factor_name] = wins(universe[factor_name], \n",
    "#                                      rolling_obj.median() - 3 * rolling_obj.std(), \n",
    "#                                      rolling_obj.median() + 3 * rolling_obj.std())\n",
    "#         universe[factor_name] = universe[factor_name]/3\n",
    "        \n",
    "#     return universe\n",
    "\n",
    "# def rescale_value_factors(universe, zscore_dict = value_zscore_factors):\n",
    "#     for factor_name in tqdm(zscore_dict.keys()):\n",
    "#         rescale_list = zscore_dict[factor_name]\n",
    "#         universe[factor_name] = (universe[factor_name] - rescale_list[0])/rescale_list[1]\n",
    "#     return universe\n",
    "        \n",
    "\n",
    "# universe = rescale_value_factors(universe)\n",
    "# universe = zscore_time_factors(universe)"
   ]
  },
  {
   "cell_type": "code",
   "execution_count": 79,
   "id": "cc56d5ea",
   "metadata": {},
   "outputs": [
    {
     "name": "stderr",
     "output_type": "stream",
     "text": [
      "100%|███████████████████████████████████████| 8708/8708 [18:07<00:00,  8.00it/s]\n"
     ]
    }
   ],
   "source": [
    "def rescale_(data, zscore_features=factor_names):\n",
    "    #data[factor_names] = data[factor_names].apply(zscore)\n",
    "    # resize from -1 to 1\n",
    "    for feature in zscore_features:\n",
    "        data[feature] = (data[feature] - data[feature].mean())/data[feature].std()\n",
    "        max_val = data[feature].median() + 3*data[feature].std()\n",
    "        min_val = data[feature].median() - 3*data[feature].std()\n",
    "        data[feature] = np.where(data[feature]>max_val, max_val, \n",
    "                               np.where(data[feature]<min_val, min_val, data[feature]))\n",
    "        \n",
    "#         data[feature] = np.where(data[feature]>0, data[feature]/data[feature].max(),\n",
    "#                                  np.where(data[feature]<0, data[feature]/(-data[feature].min()), 0.))\n",
    "    #data[zscore_features] = data[zscore_features]/3\n",
    "    return data\n",
    "\n",
    "def rescale_rank(data, zscore_features=factor_names):\n",
    "    data[zscore_features] = data[zscore_features].rank(method='min',pct=True)\n",
    "    data[zscore_features] = (data[zscore_features] - 0.5) * 2\n",
    "    return data\n",
    "\n",
    "universe = universe.replace([np.inf, -np.inf], np.nan)\n",
    "universe = universe.fillna(0.)\n",
    "\n",
    "#universe[factor_names] = universe.groupby('ts_code')[factor_names].apply(lambda x: Decaylinear(x, 4))\n",
    "universe = my_groupby(universe, 'trade_date', rescale_)\n",
    "#universe = my_groupby(universe, 'trade_date', rescale_rank)"
   ]
  },
  {
   "cell_type": "code",
   "execution_count": 80,
   "id": "b1b36908",
   "metadata": {},
   "outputs": [],
   "source": [
    "universe[final_columns].reset_index().to_feather(\n",
    "    'bitcoin_data/factor_data/factors_DBM_zscore2.feather')"
   ]
  },
  {
   "cell_type": "code",
   "execution_count": null,
   "id": "1ac93dbc",
   "metadata": {},
   "outputs": [],
   "source": [
    "universe = pd.read_feather('bitcoin_data/factor_data/factors_DBM_zscore.feather')\n",
    "universe = universe.set_index(['date']).sort_values(by=['date', 'ts_code'])\n",
    "universe.shape"
   ]
  },
  {
   "cell_type": "code",
   "execution_count": 81,
   "id": "1607c3f2",
   "metadata": {},
   "outputs": [],
   "source": [
    "start_time = '2023-03-01 00:00:00'\n",
    "end_time = '2023-06-01 00:00:00'\n",
    "# universe = universe.loc[(universe.index>=start_time) & (universe.index<=end_time)]"
   ]
  },
  {
   "cell_type": "markdown",
   "id": "eae80fdf",
   "metadata": {},
   "source": [
    "### 构造评估数据"
   ]
  },
  {
   "cell_type": "code",
   "execution_count": 82,
   "id": "34e4110a",
   "metadata": {},
   "outputs": [
    {
     "name": "stdout",
     "output_type": "stream",
     "text": [
      "(294307, 73) (75460, 74)\n"
     ]
    }
   ],
   "source": [
    "import random\n",
    "universe = universe.sort_values(by=['date','ts_code'])\n",
    "all_factors = universe.copy(deep=True)\n",
    "all_factors = all_factors.loc[(all_factors.index>=start_time) & (all_factors.index<=end_time)]\n",
    "def return_handle(df):\n",
    "    df['returns_2'] = df['close'].pct_change().shift(-1)\n",
    "#     noise_list = []\n",
    "#     for i in range(df.shape[0]):\n",
    "#         noise = abs(random.gauss(0, 0.2))\n",
    "#         if noise > 0.2:\n",
    "#             noise=0.1\n",
    "#         noise_list.append(noise)\n",
    "#     df['returns_2'] = df['returns_2'] * (1 - np.array(noise_list)) \\\n",
    "#                     + np.array(noise_list)*df['close'].pct_change().shift(-1).fillna(0.)\n",
    "    return df\n",
    "all_factors = all_factors.groupby('ts_code').apply(return_handle)\n",
    "all_factors = all_factors.replace([np.inf, -np.inf], np.nan).fillna(0.).sort_values(by=['date', 'ts_code'])\n",
    "print(universe.shape, all_factors.shape)"
   ]
  },
  {
   "cell_type": "code",
   "execution_count": 83,
   "id": "ec465108",
   "metadata": {},
   "outputs": [],
   "source": [
    "def keep_top_bottom(data, feature, bottom=0.45, top=0.55):\n",
    "    tv = data[feature].quantile(top)\n",
    "    bv = data[feature].quantile(bottom)\n",
    "    data[feature] = np.where(data[feature]>tv, data[feature], \n",
    "                            np.where(data[feature]<bv, data[feature], 0))\n",
    "    return data\n",
    "    \n",
    "    all_df = pd.DataFrame()\n",
    "    for dt in tqdm(df.index.unique()):\n",
    "        tmp = df.loc[df.index == dt]\n",
    "        all_df = all_df.append(cal_(tmp))\n",
    "    return all_df.sort_values(by=['date', 'ts_code'])\n",
    "\n",
    "\n",
    "def wins(x,a,b):\n",
    "    return np.where(x <= a,a, np.where(x >= b, b, x))\n",
    "\n",
    "def get_formula(factors, Y):\n",
    "    L = [\"0\"]\n",
    "    L.extend(factors)\n",
    "    return Y + \" ~ \" + \" + \".join(L)\n",
    "\n",
    "def factors_from_names(n, name):\n",
    "    return list(filter(lambda x: name in x, n))\n",
    "\n",
    "def estimate_factor_returns(df, name='alpha_'): \n",
    "    ## winsorize returns for fitting \n",
    "    estu = df.copy(deep=True)\n",
    "    estu['returns_2'] = wins(estu['returns_2'], -0.1, 0.1)\n",
    "    #all_factors = factors_from_names(list(df), name)\n",
    "    results = pd.Series()\n",
    "    for factor_name in factor_names:\n",
    "        #estu = keep_top_bottom(estu, factor_name)\n",
    "        form = get_formula([factor_name], \"returns_2\")\n",
    "        model = ols(form, data=estu)\n",
    "        result = model.fit()\n",
    "        results = results.append(result.params)\n",
    "    return results"
   ]
  },
  {
   "cell_type": "code",
   "execution_count": 84,
   "id": "ceda417e",
   "metadata": {},
   "outputs": [],
   "source": [
    "base_field = ['ts_code', 'log-ret', 'open', 'high', 'low', 'close', 'volume', 'vwap','trade_date']\n",
    "date_and_code = [ 'ts_code', 'returns_2', 'log-ret']\n",
    "\n",
    "alpha_df = all_factors[factor_names + date_and_code].copy(deep=True)\n",
    "#alpha_df = alpha_df.loc[alpha_df.index<=start_time]\n",
    "calendar = alpha_df.index.unique() # int64\n",
    "\n",
    "#alpha_df = keep_top_bottom(alpha_df, factor_names)"
   ]
  },
  {
   "cell_type": "code",
   "execution_count": 85,
   "id": "2ea76502",
   "metadata": {},
   "outputs": [
    {
     "data": {
      "text/plain": [
       "DatetimeIndex(['2023-03-01 00:00:00', '2023-03-01 01:00:00',\n",
       "               '2023-03-01 02:00:00', '2023-03-01 03:00:00',\n",
       "               '2023-03-01 04:00:00', '2023-03-01 05:00:00',\n",
       "               '2023-03-01 06:00:00', '2023-03-01 07:00:00',\n",
       "               '2023-03-01 08:00:00', '2023-03-01 09:00:00',\n",
       "               ...\n",
       "               '2023-05-29 11:00:00', '2023-05-29 12:00:00',\n",
       "               '2023-05-29 13:00:00', '2023-05-29 14:00:00',\n",
       "               '2023-05-29 15:00:00', '2023-05-29 16:00:00',\n",
       "               '2023-05-29 17:00:00', '2023-05-29 18:00:00',\n",
       "               '2023-05-29 19:00:00', '2023-05-29 20:00:00'],\n",
       "              dtype='datetime64[ns]', name='date', length=2156, freq=None)"
      ]
     },
     "execution_count": 85,
     "metadata": {},
     "output_type": "execute_result"
    }
   ],
   "source": [
    "calendar"
   ]
  },
  {
   "cell_type": "markdown",
   "id": "6cea5551",
   "metadata": {},
   "source": [
    "### 归一化回报率评估"
   ]
  },
  {
   "cell_type": "code",
   "execution_count": 86,
   "id": "15893246",
   "metadata": {},
   "outputs": [
    {
     "name": "stderr",
     "output_type": "stream",
     "text": [
      "100%|██████████████████████████████████████████| 26/26 [00:00<00:00, 138.58it/s]\n"
     ]
    }
   ],
   "source": [
    "for feature in tqdm(factor_names):\n",
    "    alpha_df[feature + 'shift1'] = alpha_df.groupby('ts_code')[feature].shift(1)"
   ]
  },
  {
   "cell_type": "code",
   "execution_count": 87,
   "id": "bf55177e",
   "metadata": {},
   "outputs": [
    {
     "data": {
      "text/plain": [
       "0.01704214153193745"
      ]
     },
     "execution_count": 87,
     "metadata": {},
     "output_type": "execute_result"
    }
   ],
   "source": [
    "alpha_df.loc[alpha_df['returns_2'].abs()>0.03].shape[0]/alpha_df.shape[0]"
   ]
  },
  {
   "cell_type": "code",
   "execution_count": 88,
   "id": "e0cdb336",
   "metadata": {},
   "outputs": [
    {
     "name": "stderr",
     "output_type": "stream",
     "text": [
      "100%|███████████████████████████████████████| 2156/2156 [02:59<00:00, 12.00it/s]\n"
     ]
    }
   ],
   "source": [
    "q_num = 5\n",
    "df = pd.DataFrame(index=alpha_df.index.unique())\n",
    "for dt in tqdm(alpha_df.index.unique()):\n",
    "    tmp = alpha_df.loc[alpha_df.index == dt]\n",
    "    for feature in factor_names:\n",
    "        #tmp['returns_2'] = wins(tmp['returns_2'], -0.06, 0.06)\n",
    "        ret_sr = tmp['returns_2'] * np.sign(tmp[feature])\n",
    "        # stop loss\n",
    "        tmp['returns_2'] = np.where(ret_sr<-0.03, -0.035, tmp['returns_2'])\n",
    "        # costs\n",
    "        holding2one_now = tmp[feature]/tmp[feature].abs().sum()\n",
    "        holding2one_pre = tmp[feature + 'shift1'] / tmp[feature + 'shift1'].abs().sum()\n",
    "        ret_sr_pre = tmp['log-ret'] * np.sign(tmp[feature + 'shift1'])\n",
    "        holding2one_pre = np.where(ret_sr_pre<-0.03, 0, holding2one_pre)\n",
    "        \n",
    "        tmp['holding2one'] = holding2one_now\n",
    "        costs = (holding2one_now - holding2one_pre).abs().sum() * 5e-4\n",
    "        liquidate_now_costs = tmp.loc[ret_sr<-0.04]['holding2one'].abs().sum() * 5e-4\n",
    "        # factor return\n",
    "        df.at[dt, feature] = (tmp['returns_2'] * tmp[feature]).sum()/(tmp[feature].abs().sum()) \\\n",
    "                                - costs - liquidate_now_costs\n",
    "        \n",
    "        # quartile 5 returns\n",
    "#         try:\n",
    "#             tmp[feature + '_q' + str(q_num)] = pd.qcut(tmp[feature], q=q_num, \n",
    "#                                                        labels=list(range(1,q_num+1)), duplicates='drop')\n",
    "#         except Exception as e:\n",
    "#             tmp[feature + '_q' + str(q_num)] = 2\n",
    "#         for q in range(1, q_num+1):\n",
    "#             # 1q 2q 3q 4q 5q\n",
    "#             df.at[dt, feature + '_q' + str(q)] = tmp.loc[tmp[feature + '_q'+str(q_num)]==q]['returns_2'].sum()"
   ]
  },
  {
   "cell_type": "code",
   "execution_count": 57,
   "id": "0e49ece0",
   "metadata": {},
   "outputs": [
    {
     "name": "stdout",
     "output_type": "stream",
     "text": [
      "['alpha_wt', 'alpha_cci', 'alpha_cci1', 'alpha_srsi', 'alpha_rsi', 'alpha_wr', 'alpha_ppo', 'alpha_ppo1', 'alpha_macd', 'alpha_kdj', 'alpha_kama', 'alpha_t1', 'alpha_t2', 'alpha_t4', 'alpha_t4a', 'alpha_t5a', 'alpha_t6', 'alpha_t7', 'alpha_019', 'alpha_075', 'alpha_kama1', 'alpha_atr', 'alpha_atr1', 'alpha_supertrend', 'alpha_supertrend1', 'alpha_t5']\n"
     ]
    }
   ],
   "source": [
    "print(factor_names)"
   ]
  },
  {
   "cell_type": "code",
   "execution_count": 100,
   "id": "02dfdc18",
   "metadata": {},
   "outputs": [
    {
     "data": {
      "text/plain": [
       "<AxesSubplot:xlabel='date'>"
      ]
     },
     "execution_count": 100,
     "metadata": {},
     "output_type": "execute_result"
    },
    {
     "data": {
      "image/png": "[encoded data removed]",
      "text/plain": [
       "<Figure size 900x500 with 1 Axes>"
      ]
     },
     "metadata": {},
     "output_type": "display_data"
    }
   ],
   "source": [
    "# 'alpha_cci', 'alpha_wt', 'alpha_macd', 'alpha_ppo', 'alpha_rsi', 'alpha_srsi1',\n",
    "# 'alpha_t4', 'alpha_t2', 'alpha_078', 'alpha_075', \n",
    "\n",
    "display_field = [\n",
    "    #'alpha_wt', 'alpha_cci', 'alpha_rsi',  'alpha_t2', 'alpha_t4a', \n",
    "    #'alpha_ppo', 'alpha_ppo1', 'alpha_macd', 'alpha_019', 'alpha_075', 'alpha_t6', \n",
    "    'alpha_kama1', 'alpha_atr', 'alpha_supertrend1'\n",
    "]\n",
    "\n",
    "df[display_field].cumsum().plot()"
   ]
  },
  {
   "cell_type": "code",
   "execution_count": 101,
   "id": "a93027a2",
   "metadata": {},
   "outputs": [
    {
     "data": {
      "text/plain": [
       "alpha_kama1          12.028593\n",
       "alpha_atr            14.719905\n",
       "alpha_supertrend1    12.087533\n",
       "dtype: float64"
      ]
     },
     "execution_count": 101,
     "metadata": {},
     "output_type": "execute_result"
    }
   ],
   "source": [
    "# sharp ratio\n",
    "np.sqrt(2100) * df[display_field].mean()/ df[display_field].std()"
   ]
  },
  {
   "cell_type": "code",
   "execution_count": null,
   "id": "7a9f970e",
   "metadata": {},
   "outputs": [],
   "source": [
    "# alpha_008    7.112507\n",
    "# alpha_078    5.924321\n",
    "# alpha_019    5.641981\n",
    "# alpha_wt     6.093409\n",
    "# alpha_cci    5.723536\n",
    "# alpha_035    5.557689\n",
    "\n",
    "feature = 'alpha_075'\n",
    "q_df = pd.DataFrame(index = df.index)\n",
    "for i in range(1, q_num+1):\n",
    "    q_feature = feature + '_q' + str(i)\n",
    "    if q_feature in df.columns:\n",
    "        q_df[q_feature] = (df[q_feature]).cumsum()\n",
    "\n",
    "q_df.plot()        "
   ]
  },
  {
   "cell_type": "markdown",
   "id": "e5efc7c6",
   "metadata": {},
   "source": [
    "### Save  or read rescale data"
   ]
  },
  {
   "cell_type": "code",
   "execution_count": null,
   "id": "bef257de",
   "metadata": {},
   "outputs": [],
   "source": [
    "field = ['ts_code', 'close', 'log-ret', 'trade_date',\n",
    "         'alpha_cci', 'alpha_rsi', 'alpha_wt'\n",
    "        ]\n",
    "universe[field].reset_index().to_feather('bitcoin_data/factor_data/facotors_DBM_backtest.feather')"
   ]
  },
  {
   "cell_type": "code",
   "execution_count": null,
   "id": "702e74d9",
   "metadata": {},
   "outputs": [],
   "source": [
    "universe_raw = feather.read_dataframe('bitcoin_data/factor_data/factors_smooth_zscore_20221001_20230529.feather')\n",
    "#universe_raw['date'] = pd.to_datetime(universe_raw['trade_date'], format='%Y-%m-%d %H:%M:%S')\n",
    "universe_raw = universe_raw.set_index(['date']).sort_values(by=['date', 'ts_code'])\n",
    "print(universe_raw.shape)"
   ]
  },
  {
   "cell_type": "code",
   "execution_count": null,
   "id": "c5698fb8",
   "metadata": {},
   "outputs": [],
   "source": [
    "universe_raw.columns"
   ]
  },
  {
   "cell_type": "code",
   "execution_count": null,
   "id": "6a11d8aa",
   "metadata": {},
   "outputs": [],
   "source": [
    "feature = 'alpha_atr'\n",
    "start_time = '2023-03-01 00:00:00'\n",
    "end_time = '2023-06-01 00:00:00'\n",
    "tmp = universe_raw.loc[(universe_raw.ts_code=='SHIBUSDT') & (universe_raw.index>=start_time) & (universe_raw.index<=end_time)]\n",
    "#tmp[['close']] = tmp[['close']].apply(zscore)\n",
    "#tmp[feature] = Decaylinear(tmp[feature],4)#.rolling(6).mean()\n",
    "tmp[[feature, 'close']].plot(grid=True)"
   ]
  },
  {
   "cell_type": "code",
   "execution_count": null,
   "id": "a2452385",
   "metadata": {},
   "outputs": [],
   "source": []
  }
 ],
 "metadata": {
  "kernelspec": {
   "display_name": "py37",
   "language": "python",
   "name": "py37"
  },
  "language_info": {
   "codemirror_mode": {
    "name": "ipython",
    "version": 3
   },
   "file_extension": ".py",
   "mimetype": "text/x-python",
   "name": "python",
   "nbconvert_exporter": "python",
   "pygments_lexer": "ipython3",
   "version": "3.7.12"
  }
 },
 "nbformat": 4,
 "nbformat_minor": 5
}
