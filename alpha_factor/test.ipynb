{
 "cells": [
  {
   "cell_type": "code",
   "execution_count": null,
   "metadata": {},
   "outputs": [],
   "source": [
    "import pandas as pd\n",
    "import numpy as np\n",
    "from scipy.stats import zscore, spearmanr\n",
    "from tqdm import tqdm\n",
    "from statsmodels.formula.api import ols\n",
    "\n",
    "from matplotlib import pyplot as plt\n",
    "%matplotlib inline\n",
    "plt.rcParams['figure.figsize'] = [8, 4]\n",
    "\n",
    "import warnings\n",
    "warnings.filterwarnings('ignore')"
   ]
  },
  {
   "cell_type": "code",
   "execution_count": null,
   "metadata": {},
   "outputs": [],
   "source": [
    "df = pd.read_csv('raw_train.csv').iloc[:,1:]"
   ]
  },
  {
   "cell_type": "code",
   "execution_count": null,
   "metadata": {},
   "outputs": [],
   "source": [
    "df['vwap'] = df['amount']*10 / df['volume']\n",
    "features = ['ts_code', 'trade_date', 'log-ret', 'open', 'close', 'high', 'low', 'vwap',\n",
    "       'turnover_rate', 'amount', 'pe', 'pb', 'total_share', 'total_mv', 'volume',\n",
    "       'name', 'industry', 'list_date', 'issue_price', 'issue_amount','revenue_ps',\n",
    "       'dt_eps', 'dt_eps_yoy', 'bps', 'bps_yoy', 'roe_dt','roe_yoy'\n",
    "            ]\n",
    "df = df[features]\n",
    "df.columns"
   ]
  },
  {
   "cell_type": "markdown",
   "metadata": {},
   "source": [
    "## Get Alpha Object"
   ]
  },
  {
   "cell_type": "code",
   "execution_count": null,
   "metadata": {},
   "outputs": [],
   "source": [
    "from alpha_191 import Alpha191\n",
    "\n",
    "alpha = Alpha191(df)"
   ]
  },
  {
   "cell_type": "code",
   "execution_count": null,
   "metadata": {},
   "outputs": [],
   "source": [
    "universe = alpha.alpha030(alpha.df)"
   ]
  },
  {
   "cell_type": "code",
   "execution_count": null,
   "metadata": {},
   "outputs": [],
   "source": [
    "universe = alpha.alpha131(alpha.df)"
   ]
  },
  {
   "cell_type": "code",
   "execution_count": null,
   "metadata": {},
   "outputs": [],
   "source": [
    "universe = alpha.alpha_cus002(alpha.df)"
   ]
  },
  {
   "cell_type": "code",
   "execution_count": null,
   "metadata": {},
   "outputs": [],
   "source": [
    "universe = alpha.alpha_cus001(alpha.df)"
   ]
  },
  {
   "cell_type": "code",
   "execution_count": null,
   "metadata": {},
   "outputs": [],
   "source": [
    "universe = alpha.alpha040(alpha.df)"
   ]
  },
  {
   "cell_type": "code",
   "execution_count": null,
   "metadata": {},
   "outputs": [],
   "source": [
    "universe = alpha.alpha075(alpha.df)"
   ]
  },
  {
   "cell_type": "code",
   "execution_count": null,
   "metadata": {},
   "outputs": [],
   "source": [
    "universe = alpha.alpha190(alpha.df)"
   ]
  },
  {
   "cell_type": "code",
   "execution_count": null,
   "metadata": {},
   "outputs": [],
   "source": [
    "universe = alpha.alpha176(alpha.df)"
   ]
  },
  {
   "cell_type": "code",
   "execution_count": null,
   "metadata": {},
   "outputs": [],
   "source": [
    "universe = alpha.alpha119(alpha.df)"
   ]
  },
  {
   "cell_type": "code",
   "execution_count": null,
   "metadata": {},
   "outputs": [],
   "source": [
    "universe = alpha.alpha149(alpha.df)"
   ]
  },
  {
   "cell_type": "markdown",
   "metadata": {},
   "source": [
    "## Factor Evaluate"
   ]
  },
  {
   "cell_type": "code",
   "execution_count": null,
   "metadata": {},
   "outputs": [],
   "source": [
    "tmp = universe.copy(deep=True)\n",
    "tmp['close'] = tmp.groupby('ts_code')['close'].shift(-5)\n",
    "all_pricing = tmp.reset_index().pivot(index='date', columns='ts_code', values='close')\n",
    "all_pricing.head()"
   ]
  },
  {
   "cell_type": "code",
   "execution_count": null,
   "metadata": {},
   "outputs": [],
   "source": [
    "import alphalens as al\n",
    "from scipy.stats import zscore\n",
    "import project_helper as ph\n",
    "\n",
    "def show_sample_results(factors_with_alpha, features, pricing=all_pricing, holding_time=5):\n",
    "    factors_with_alpha = factors_with_alpha[features]\n",
    "    \n",
    "    # Setup data for AlphaLens\n",
    "    print('Cleaning Data...\\n')\n",
    "    factor_data = ph.build_factor_data(factors_with_alpha, pricing, holding_time=holding_time)\n",
    "    print('\\n-----------------------\\n')\n",
    "    \n",
    "    # Calculate Factor Returns and Sharpe Ratio\n",
    "    factor_returns = ph.get_factor_returns(factor_data)\n",
    "    sharpe_ratio = ph.sharpe_ratio(factor_returns)\n",
    "    \n",
    "    # Show Results\n",
    "    print('             Sharpe Ratios')\n",
    "    print(sharpe_ratio.round(2))\n",
    "    ph.plot_factor_returns(factor_returns)\n",
    "    ph.plot_factor_rank_autocorrelation(factor_data)"
   ]
  },
  {
   "cell_type": "code",
   "execution_count": null,
   "metadata": {},
   "outputs": [],
   "source": [
    "factor_names = [\n",
    "            'volume','alpha_030', 'alpha_075','alpha_190', 'alpha_176', 'alpha_149', 'alpha_119'\n",
    "            ]\n",
    "\n",
    "all_factors = universe.copy(deep=True)[factor_names + ['trade_date','ts_code']]\n",
    "all_factors = all_factors.fillna(0.)\n",
    "all_factors = all_factors[~all_factors.isin([np.inf, -np.inf]).any(1)]\n",
    "all_factors.reset_index(drop=True, inplace=True)\n",
    "all_factors['date'] = pd.to_datetime(all_factors['trade_date'], format='%Y%m%d')\n",
    "all_factors = all_factors.set_index(['date','ts_code']).sort_values(by=['date'])\n",
    "print(all_factors.shape)"
   ]
  },
  {
   "cell_type": "code",
   "execution_count": null,
   "metadata": {},
   "outputs": [],
   "source": [
    "show_sample_results(all_factors, factor_names, pricing=all_pricing, holding_time=5)"
   ]
  },
  {
   "cell_type": "code",
   "execution_count": null,
   "metadata": {},
   "outputs": [],
   "source": [
    "tmp = universe.copy(deep=True)\n",
    "tmp['close'] = tmp.groupby('ts_code')['close'].shift(-2)\n",
    "all_pricing = tmp.reset_index().pivot(index='date', columns='ts_code', values='close')\n",
    "all_pricing.head()"
   ]
  },
  {
   "cell_type": "code",
   "execution_count": null,
   "metadata": {},
   "outputs": [],
   "source": [
    "factor_names = [\n",
    "            'volume','alpha_cus001', 'alpha_cus002', 'alpha_040',  'alpha_131',\n",
    "            ]\n",
    "\n",
    "all_factors = universe.copy(deep=True)[factor_names + ['trade_date','ts_code']]\n",
    "all_factors = all_factors.fillna(0.)\n",
    "all_factors = all_factors[~all_factors.isin([np.inf, -np.inf]).any(1)]\n",
    "all_factors.reset_index(drop=True, inplace=True)\n",
    "all_factors['date'] = pd.to_datetime(all_factors['trade_date'], format='%Y%m%d')\n",
    "all_factors = all_factors.set_index(['date','ts_code']).sort_values(by=['date'])\n",
    "print(all_factors.shape)"
   ]
  },
  {
   "cell_type": "code",
   "execution_count": null,
   "metadata": {},
   "outputs": [],
   "source": [
    "show_sample_results(all_factors, factor_names, pricing=all_pricing, holding_time=5)"
   ]
  },
  {
   "cell_type": "markdown",
   "metadata": {},
   "source": [
    "## Check Sigle Factor"
   ]
  },
  {
   "cell_type": "code",
   "execution_count": null,
   "metadata": {},
   "outputs": [],
   "source": [
    "universe.loc[universe['alpha_cus002'].isnull()==False].sort_values(by=['alpha_cus002']).head(10)"
   ]
  },
  {
   "cell_type": "code",
   "execution_count": null,
   "metadata": {},
   "outputs": [],
   "source": [
    "universe.ts_code.unique()"
   ]
  },
  {
   "cell_type": "code",
   "execution_count": null,
   "metadata": {},
   "outputs": [],
   "source": [
    "### benchmark_close.plot()\n",
    "#benchmark_open.plot()\n",
    "name = 'alpha_040'\n",
    "# def percent_(df, name):\n",
    "#     #df[name] = np.where(df[name]>0, df[name]/df[name].max(), df[name]/df[name].min())\n",
    "#     return df\n",
    "universe_plot = universe.copy()\n",
    "#universe_plot[[name]] = universe_plot.groupby('trade_date')[[name]].rank(pct=True)\n",
    "universe_plot[[name]] = universe_plot.groupby('trade_date')[[name]].fillna(0.).apply(zscore)\n",
    "#universe_plot[[name]] = (universe_plot[[name]] - 0.5) * 2\n",
    "#universe_plot[name] = universe_plot.groupby('ts_code')[name].apply(lambda x: x/x.rolling(12).max())\n",
    "#300533.SZ\n",
    "#'002826.SZ'\n",
    "tmp = universe_plot.loc[(universe_plot.ts_code=='603538.SH') & (universe_plot.trade_date>20180301)][[name,'close']]\n",
    "#tmp[['close',name]] = tmp[['close', name]].apply(zscore)\n",
    "tmp[['close']] = tmp[['close']].apply(zscore)\n",
    "tmp['close'] = tmp['close'].shift(-5)\n",
    "#tmp['log-ret'] = tmp['log-ret'].shift(-5)\n",
    "\n",
    "tmp.plot(title=name, grid=True)\n",
    "#tmp['close'].rank(method='min', pct=True).plot()"
   ]
  },
  {
   "cell_type": "code",
   "execution_count": null,
   "metadata": {},
   "outputs": [],
   "source": [
    "universe.head()"
   ]
  },
  {
   "cell_type": "code",
   "execution_count": null,
   "metadata": {},
   "outputs": [],
   "source": [
    "\n",
    "universe['alpha_119'].hist()"
   ]
  },
  {
   "cell_type": "code",
   "execution_count": null,
   "metadata": {},
   "outputs": [],
   "source": [
    "universe.alpha_075.mean()"
   ]
  },
  {
   "cell_type": "code",
   "execution_count": null,
   "metadata": {},
   "outputs": [],
   "source": []
  }
 ],
 "metadata": {
  "kernelspec": {
   "display_name": "py37",
   "language": "python",
   "name": "py37"
  },
  "language_info": {
   "codemirror_mode": {
    "name": "ipython",
    "version": 3
   },
   "file_extension": ".py",
   "mimetype": "text/x-python",
   "name": "python",
   "nbconvert_exporter": "python",
   "pygments_lexer": "ipython3",
   "version": "3.7.12"
  }
 },
 "nbformat": 4,
 "nbformat_minor": 5
}
